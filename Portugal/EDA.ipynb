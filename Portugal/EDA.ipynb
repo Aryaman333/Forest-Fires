{
 "cells": [
  {
   "cell_type": "markdown",
   "id": "6e27da1f-57e5-4280-9e50-047ada4583e7",
   "metadata": {},
   "source": [
    "# Exploratory Data Analysis "
   ]
  },
  {
   "cell_type": "code",
   "execution_count": 1,
   "id": "cf9dc4b8-1224-4370-949f-39c7b039a5e7",
   "metadata": {},
   "outputs": [],
   "source": [
    "import pandas as pd\n",
    "import numpy as np\n",
    "import altair as alt\n",
    "from sklearn.model_selection import train_test_split\n",
    "import plotly.express as px\n",
    "\n",
    "# alt.renderers.enable(\"mimetype\")"
   ]
  },
  {
   "cell_type": "code",
   "execution_count": 2,
   "id": "f76d567a-9912-4733-87f3-9ba4d698ef6a",
   "metadata": {},
   "outputs": [
    {
     "data": {
      "text/html": [
       "<div>\n",
       "<style scoped>\n",
       "    .dataframe tbody tr th:only-of-type {\n",
       "        vertical-align: middle;\n",
       "    }\n",
       "\n",
       "    .dataframe tbody tr th {\n",
       "        vertical-align: top;\n",
       "    }\n",
       "\n",
       "    .dataframe thead th {\n",
       "        text-align: right;\n",
       "    }\n",
       "</style>\n",
       "<table border=\"1\" class=\"dataframe\">\n",
       "  <thead>\n",
       "    <tr style=\"text-align: right;\">\n",
       "      <th></th>\n",
       "      <th>X</th>\n",
       "      <th>Y</th>\n",
       "      <th>month</th>\n",
       "      <th>day</th>\n",
       "      <th>FFMC</th>\n",
       "      <th>DMC</th>\n",
       "      <th>DC</th>\n",
       "      <th>ISI</th>\n",
       "      <th>temp</th>\n",
       "      <th>RH</th>\n",
       "      <th>wind</th>\n",
       "      <th>rain</th>\n",
       "      <th>area</th>\n",
       "    </tr>\n",
       "  </thead>\n",
       "  <tbody>\n",
       "    <tr>\n",
       "      <th>0</th>\n",
       "      <td>7</td>\n",
       "      <td>5</td>\n",
       "      <td>mar</td>\n",
       "      <td>fri</td>\n",
       "      <td>86.2</td>\n",
       "      <td>26.2</td>\n",
       "      <td>94.3</td>\n",
       "      <td>5.1</td>\n",
       "      <td>8.2</td>\n",
       "      <td>51</td>\n",
       "      <td>6.7</td>\n",
       "      <td>0.0</td>\n",
       "      <td>0.00</td>\n",
       "    </tr>\n",
       "    <tr>\n",
       "      <th>1</th>\n",
       "      <td>7</td>\n",
       "      <td>4</td>\n",
       "      <td>oct</td>\n",
       "      <td>tue</td>\n",
       "      <td>90.6</td>\n",
       "      <td>35.4</td>\n",
       "      <td>669.1</td>\n",
       "      <td>6.7</td>\n",
       "      <td>18.0</td>\n",
       "      <td>33</td>\n",
       "      <td>0.9</td>\n",
       "      <td>0.0</td>\n",
       "      <td>0.00</td>\n",
       "    </tr>\n",
       "    <tr>\n",
       "      <th>2</th>\n",
       "      <td>7</td>\n",
       "      <td>4</td>\n",
       "      <td>oct</td>\n",
       "      <td>sat</td>\n",
       "      <td>90.6</td>\n",
       "      <td>43.7</td>\n",
       "      <td>686.9</td>\n",
       "      <td>6.7</td>\n",
       "      <td>14.6</td>\n",
       "      <td>33</td>\n",
       "      <td>1.3</td>\n",
       "      <td>0.0</td>\n",
       "      <td>0.00</td>\n",
       "    </tr>\n",
       "    <tr>\n",
       "      <th>3</th>\n",
       "      <td>8</td>\n",
       "      <td>6</td>\n",
       "      <td>mar</td>\n",
       "      <td>fri</td>\n",
       "      <td>91.7</td>\n",
       "      <td>33.3</td>\n",
       "      <td>77.5</td>\n",
       "      <td>9.0</td>\n",
       "      <td>8.3</td>\n",
       "      <td>97</td>\n",
       "      <td>4.0</td>\n",
       "      <td>0.2</td>\n",
       "      <td>0.00</td>\n",
       "    </tr>\n",
       "    <tr>\n",
       "      <th>4</th>\n",
       "      <td>8</td>\n",
       "      <td>6</td>\n",
       "      <td>mar</td>\n",
       "      <td>sun</td>\n",
       "      <td>89.3</td>\n",
       "      <td>51.3</td>\n",
       "      <td>102.2</td>\n",
       "      <td>9.6</td>\n",
       "      <td>11.4</td>\n",
       "      <td>99</td>\n",
       "      <td>1.8</td>\n",
       "      <td>0.0</td>\n",
       "      <td>0.00</td>\n",
       "    </tr>\n",
       "    <tr>\n",
       "      <th>...</th>\n",
       "      <td>...</td>\n",
       "      <td>...</td>\n",
       "      <td>...</td>\n",
       "      <td>...</td>\n",
       "      <td>...</td>\n",
       "      <td>...</td>\n",
       "      <td>...</td>\n",
       "      <td>...</td>\n",
       "      <td>...</td>\n",
       "      <td>...</td>\n",
       "      <td>...</td>\n",
       "      <td>...</td>\n",
       "      <td>...</td>\n",
       "    </tr>\n",
       "    <tr>\n",
       "      <th>512</th>\n",
       "      <td>4</td>\n",
       "      <td>3</td>\n",
       "      <td>aug</td>\n",
       "      <td>sun</td>\n",
       "      <td>81.6</td>\n",
       "      <td>56.7</td>\n",
       "      <td>665.6</td>\n",
       "      <td>1.9</td>\n",
       "      <td>27.8</td>\n",
       "      <td>32</td>\n",
       "      <td>2.7</td>\n",
       "      <td>0.0</td>\n",
       "      <td>6.44</td>\n",
       "    </tr>\n",
       "    <tr>\n",
       "      <th>513</th>\n",
       "      <td>2</td>\n",
       "      <td>4</td>\n",
       "      <td>aug</td>\n",
       "      <td>sun</td>\n",
       "      <td>81.6</td>\n",
       "      <td>56.7</td>\n",
       "      <td>665.6</td>\n",
       "      <td>1.9</td>\n",
       "      <td>21.9</td>\n",
       "      <td>71</td>\n",
       "      <td>5.8</td>\n",
       "      <td>0.0</td>\n",
       "      <td>54.29</td>\n",
       "    </tr>\n",
       "    <tr>\n",
       "      <th>514</th>\n",
       "      <td>7</td>\n",
       "      <td>4</td>\n",
       "      <td>aug</td>\n",
       "      <td>sun</td>\n",
       "      <td>81.6</td>\n",
       "      <td>56.7</td>\n",
       "      <td>665.6</td>\n",
       "      <td>1.9</td>\n",
       "      <td>21.2</td>\n",
       "      <td>70</td>\n",
       "      <td>6.7</td>\n",
       "      <td>0.0</td>\n",
       "      <td>11.16</td>\n",
       "    </tr>\n",
       "    <tr>\n",
       "      <th>515</th>\n",
       "      <td>1</td>\n",
       "      <td>4</td>\n",
       "      <td>aug</td>\n",
       "      <td>sat</td>\n",
       "      <td>94.4</td>\n",
       "      <td>146.0</td>\n",
       "      <td>614.7</td>\n",
       "      <td>11.3</td>\n",
       "      <td>25.6</td>\n",
       "      <td>42</td>\n",
       "      <td>4.0</td>\n",
       "      <td>0.0</td>\n",
       "      <td>0.00</td>\n",
       "    </tr>\n",
       "    <tr>\n",
       "      <th>516</th>\n",
       "      <td>6</td>\n",
       "      <td>3</td>\n",
       "      <td>nov</td>\n",
       "      <td>tue</td>\n",
       "      <td>79.5</td>\n",
       "      <td>3.0</td>\n",
       "      <td>106.7</td>\n",
       "      <td>1.1</td>\n",
       "      <td>11.8</td>\n",
       "      <td>31</td>\n",
       "      <td>4.5</td>\n",
       "      <td>0.0</td>\n",
       "      <td>0.00</td>\n",
       "    </tr>\n",
       "  </tbody>\n",
       "</table>\n",
       "<p>517 rows × 13 columns</p>\n",
       "</div>"
      ],
      "text/plain": [
       "     X  Y month  day  FFMC    DMC     DC   ISI  temp  RH  wind  rain   area\n",
       "0    7  5   mar  fri  86.2   26.2   94.3   5.1   8.2  51   6.7   0.0   0.00\n",
       "1    7  4   oct  tue  90.6   35.4  669.1   6.7  18.0  33   0.9   0.0   0.00\n",
       "2    7  4   oct  sat  90.6   43.7  686.9   6.7  14.6  33   1.3   0.0   0.00\n",
       "3    8  6   mar  fri  91.7   33.3   77.5   9.0   8.3  97   4.0   0.2   0.00\n",
       "4    8  6   mar  sun  89.3   51.3  102.2   9.6  11.4  99   1.8   0.0   0.00\n",
       "..  .. ..   ...  ...   ...    ...    ...   ...   ...  ..   ...   ...    ...\n",
       "512  4  3   aug  sun  81.6   56.7  665.6   1.9  27.8  32   2.7   0.0   6.44\n",
       "513  2  4   aug  sun  81.6   56.7  665.6   1.9  21.9  71   5.8   0.0  54.29\n",
       "514  7  4   aug  sun  81.6   56.7  665.6   1.9  21.2  70   6.7   0.0  11.16\n",
       "515  1  4   aug  sat  94.4  146.0  614.7  11.3  25.6  42   4.0   0.0   0.00\n",
       "516  6  3   nov  tue  79.5    3.0  106.7   1.1  11.8  31   4.5   0.0   0.00\n",
       "\n",
       "[517 rows x 13 columns]"
      ]
     },
     "execution_count": 2,
     "metadata": {},
     "output_type": "execute_result"
    }
   ],
   "source": [
    "data_portugal = pd.read_csv(\"C://Projects//Forest-Fires//Portugal//data//forestfires.csv\")\n",
    "data_portugal"
   ]
  },
  {
   "cell_type": "code",
   "execution_count": 3,
   "id": "aa21c112-d5b2-4f85-861a-24bcd846ba52",
   "metadata": {},
   "outputs": [
    {
     "data": {
      "text/plain": [
       "(517, 13)"
      ]
     },
     "execution_count": 3,
     "metadata": {},
     "output_type": "execute_result"
    }
   ],
   "source": [
    "data_portugal.shape"
   ]
  },
  {
   "cell_type": "code",
   "execution_count": 4,
   "id": "fef17d3c",
   "metadata": {},
   "outputs": [],
   "source": [
    "df_portugal = data_portugal.drop(['day','month'],axis = 1)"
   ]
  },
  {
   "cell_type": "code",
   "execution_count": 5,
   "id": "1cc7b283-e067-4ceb-8e0a-5b65df2b3089",
   "metadata": {},
   "outputs": [
    {
     "name": "stdout",
     "output_type": "stream",
     "text": [
      "<class 'pandas.core.frame.DataFrame'>\n",
      "RangeIndex: 517 entries, 0 to 516\n",
      "Data columns (total 13 columns):\n",
      " #   Column  Non-Null Count  Dtype  \n",
      "---  ------  --------------  -----  \n",
      " 0   X       517 non-null    int64  \n",
      " 1   Y       517 non-null    int64  \n",
      " 2   month   517 non-null    object \n",
      " 3   day     517 non-null    object \n",
      " 4   FFMC    517 non-null    float64\n",
      " 5   DMC     517 non-null    float64\n",
      " 6   DC      517 non-null    float64\n",
      " 7   ISI     517 non-null    float64\n",
      " 8   temp    517 non-null    float64\n",
      " 9   RH      517 non-null    int64  \n",
      " 10  wind    517 non-null    float64\n",
      " 11  rain    517 non-null    float64\n",
      " 12  area    517 non-null    float64\n",
      "dtypes: float64(8), int64(3), object(2)\n",
      "memory usage: 52.6+ KB\n"
     ]
    }
   ],
   "source": [
    "data_portugal.info()"
   ]
  },
  {
   "cell_type": "code",
   "execution_count": 6,
   "id": "d61125b2-e64f-43a1-a4ff-3cf047d23b36",
   "metadata": {},
   "outputs": [
    {
     "data": {
      "text/plain": [
       "X        0\n",
       "Y        0\n",
       "month    0\n",
       "day      0\n",
       "FFMC     0\n",
       "DMC      0\n",
       "DC       0\n",
       "ISI      0\n",
       "temp     0\n",
       "RH       0\n",
       "wind     0\n",
       "rain     0\n",
       "area     0\n",
       "dtype: int64"
      ]
     },
     "execution_count": 6,
     "metadata": {},
     "output_type": "execute_result"
    }
   ],
   "source": [
    "data_portugal.isnull().sum()"
   ]
  },
  {
   "cell_type": "code",
   "execution_count": 7,
   "id": "fef7636b-1294-4f9a-8657-815e4eb4d8c7",
   "metadata": {},
   "outputs": [
    {
     "data": {
      "text/html": [
       "<div>\n",
       "<style scoped>\n",
       "    .dataframe tbody tr th:only-of-type {\n",
       "        vertical-align: middle;\n",
       "    }\n",
       "\n",
       "    .dataframe tbody tr th {\n",
       "        vertical-align: top;\n",
       "    }\n",
       "\n",
       "    .dataframe thead th {\n",
       "        text-align: right;\n",
       "    }\n",
       "</style>\n",
       "<table border=\"1\" class=\"dataframe\">\n",
       "  <thead>\n",
       "    <tr style=\"text-align: right;\">\n",
       "      <th></th>\n",
       "      <th>X</th>\n",
       "      <th>Y</th>\n",
       "      <th>month</th>\n",
       "      <th>day</th>\n",
       "      <th>FFMC</th>\n",
       "      <th>DMC</th>\n",
       "      <th>DC</th>\n",
       "      <th>ISI</th>\n",
       "      <th>temp</th>\n",
       "      <th>RH</th>\n",
       "      <th>wind</th>\n",
       "      <th>rain</th>\n",
       "      <th>area</th>\n",
       "    </tr>\n",
       "  </thead>\n",
       "  <tbody>\n",
       "    <tr>\n",
       "      <th>0</th>\n",
       "      <td>7</td>\n",
       "      <td>5</td>\n",
       "      <td>mar</td>\n",
       "      <td>fri</td>\n",
       "      <td>86.2</td>\n",
       "      <td>26.2</td>\n",
       "      <td>94.3</td>\n",
       "      <td>5.1</td>\n",
       "      <td>8.2</td>\n",
       "      <td>51</td>\n",
       "      <td>6.7</td>\n",
       "      <td>0.0</td>\n",
       "      <td>0.0</td>\n",
       "    </tr>\n",
       "    <tr>\n",
       "      <th>1</th>\n",
       "      <td>7</td>\n",
       "      <td>4</td>\n",
       "      <td>oct</td>\n",
       "      <td>tue</td>\n",
       "      <td>90.6</td>\n",
       "      <td>35.4</td>\n",
       "      <td>669.1</td>\n",
       "      <td>6.7</td>\n",
       "      <td>18.0</td>\n",
       "      <td>33</td>\n",
       "      <td>0.9</td>\n",
       "      <td>0.0</td>\n",
       "      <td>0.0</td>\n",
       "    </tr>\n",
       "    <tr>\n",
       "      <th>2</th>\n",
       "      <td>7</td>\n",
       "      <td>4</td>\n",
       "      <td>oct</td>\n",
       "      <td>sat</td>\n",
       "      <td>90.6</td>\n",
       "      <td>43.7</td>\n",
       "      <td>686.9</td>\n",
       "      <td>6.7</td>\n",
       "      <td>14.6</td>\n",
       "      <td>33</td>\n",
       "      <td>1.3</td>\n",
       "      <td>0.0</td>\n",
       "      <td>0.0</td>\n",
       "    </tr>\n",
       "    <tr>\n",
       "      <th>3</th>\n",
       "      <td>8</td>\n",
       "      <td>6</td>\n",
       "      <td>mar</td>\n",
       "      <td>fri</td>\n",
       "      <td>91.7</td>\n",
       "      <td>33.3</td>\n",
       "      <td>77.5</td>\n",
       "      <td>9.0</td>\n",
       "      <td>8.3</td>\n",
       "      <td>97</td>\n",
       "      <td>4.0</td>\n",
       "      <td>0.2</td>\n",
       "      <td>0.0</td>\n",
       "    </tr>\n",
       "    <tr>\n",
       "      <th>4</th>\n",
       "      <td>8</td>\n",
       "      <td>6</td>\n",
       "      <td>mar</td>\n",
       "      <td>sun</td>\n",
       "      <td>89.3</td>\n",
       "      <td>51.3</td>\n",
       "      <td>102.2</td>\n",
       "      <td>9.6</td>\n",
       "      <td>11.4</td>\n",
       "      <td>99</td>\n",
       "      <td>1.8</td>\n",
       "      <td>0.0</td>\n",
       "      <td>0.0</td>\n",
       "    </tr>\n",
       "  </tbody>\n",
       "</table>\n",
       "</div>"
      ],
      "text/plain": [
       "   X  Y month  day  FFMC   DMC     DC  ISI  temp  RH  wind  rain  area\n",
       "0  7  5   mar  fri  86.2  26.2   94.3  5.1   8.2  51   6.7   0.0   0.0\n",
       "1  7  4   oct  tue  90.6  35.4  669.1  6.7  18.0  33   0.9   0.0   0.0\n",
       "2  7  4   oct  sat  90.6  43.7  686.9  6.7  14.6  33   1.3   0.0   0.0\n",
       "3  8  6   mar  fri  91.7  33.3   77.5  9.0   8.3  97   4.0   0.2   0.0\n",
       "4  8  6   mar  sun  89.3  51.3  102.2  9.6  11.4  99   1.8   0.0   0.0"
      ]
     },
     "execution_count": 7,
     "metadata": {},
     "output_type": "execute_result"
    }
   ],
   "source": [
    "data_portugal.head()"
   ]
  },
  {
   "cell_type": "code",
   "execution_count": 8,
   "id": "b3a81ec1-5536-4636-9fb3-9b30497c698e",
   "metadata": {},
   "outputs": [],
   "source": [
    "train_set, test_set = train_test_split(data_portugal, test_size = 0.2, random_state = 123)"
   ]
  },
  {
   "cell_type": "code",
   "execution_count": 9,
   "id": "61ac5254-cc6b-4f36-841b-d9c1b16d8f3b",
   "metadata": {},
   "outputs": [
    {
     "data": {
      "text/plain": [
       "(413, 13)"
      ]
     },
     "execution_count": 9,
     "metadata": {},
     "output_type": "execute_result"
    }
   ],
   "source": [
    "train_set.shape"
   ]
  },
  {
   "cell_type": "code",
   "execution_count": 10,
   "id": "19724306-0387-4ce4-b609-0611915c1e65",
   "metadata": {},
   "outputs": [
    {
     "data": {
      "text/plain": [
       "X\n",
       "6    74\n",
       "4    71\n",
       "2    56\n",
       "7    49\n",
       "8    46\n",
       "3    46\n",
       "1    40\n",
       "5    24\n",
       "9     7\n",
       "Name: count, dtype: int64"
      ]
     },
     "execution_count": 10,
     "metadata": {},
     "output_type": "execute_result"
    }
   ],
   "source": [
    "train_set[\"X\"].value_counts()"
   ]
  },
  {
   "cell_type": "code",
   "execution_count": 11,
   "id": "4b1d5ae6-a71f-421b-85aa-3ea9cdf200c0",
   "metadata": {},
   "outputs": [
    {
     "data": {
      "text/plain": [
       "Y\n",
       "4    164\n",
       "5    104\n",
       "6     53\n",
       "3     52\n",
       "2     37\n",
       "9      2\n",
       "8      1\n",
       "Name: count, dtype: int64"
      ]
     },
     "execution_count": 11,
     "metadata": {},
     "output_type": "execute_result"
    }
   ],
   "source": [
    "train_set[\"Y\"].value_counts() "
   ]
  },
  {
   "cell_type": "code",
   "execution_count": 12,
   "id": "989dabc8-66e9-4c32-9acd-7d5d9e5215ee",
   "metadata": {},
   "outputs": [
    {
     "data": {
      "text/plain": [
       "month\n",
       "aug    149\n",
       "sep    138\n",
       "mar     45\n",
       "jul     22\n",
       "feb     17\n",
       "jun     13\n",
       "oct     12\n",
       "apr      8\n",
       "dec      6\n",
       "jan      1\n",
       "nov      1\n",
       "may      1\n",
       "Name: count, dtype: int64"
      ]
     },
     "execution_count": 12,
     "metadata": {},
     "output_type": "execute_result"
    }
   ],
   "source": [
    "train_set[\"month\"].value_counts() "
   ]
  },
  {
   "cell_type": "code",
   "execution_count": 13,
   "id": "fd1e221c-778a-4c5f-b000-ff967b3535cd",
   "metadata": {},
   "outputs": [
    {
     "data": {
      "text/plain": [
       "day\n",
       "sun    73\n",
       "fri    70\n",
       "sat    69\n",
       "mon    57\n",
       "thu    51\n",
       "tue    48\n",
       "wed    45\n",
       "Name: count, dtype: int64"
      ]
     },
     "execution_count": 13,
     "metadata": {},
     "output_type": "execute_result"
    }
   ],
   "source": [
    "train_set[\"day\"].value_counts()"
   ]
  },
  {
   "cell_type": "code",
   "execution_count": 14,
   "id": "63e51c99-3a98-4aa5-ba36-186a3712431c",
   "metadata": {},
   "outputs": [
    {
     "data": {
      "text/html": [
       "<div>\n",
       "<style scoped>\n",
       "    .dataframe tbody tr th:only-of-type {\n",
       "        vertical-align: middle;\n",
       "    }\n",
       "\n",
       "    .dataframe tbody tr th {\n",
       "        vertical-align: top;\n",
       "    }\n",
       "\n",
       "    .dataframe thead th {\n",
       "        text-align: right;\n",
       "    }\n",
       "</style>\n",
       "<table border=\"1\" class=\"dataframe\">\n",
       "  <thead>\n",
       "    <tr style=\"text-align: right;\">\n",
       "      <th></th>\n",
       "      <th>X</th>\n",
       "      <th>Y</th>\n",
       "      <th>FFMC</th>\n",
       "      <th>DMC</th>\n",
       "      <th>DC</th>\n",
       "      <th>ISI</th>\n",
       "      <th>temp</th>\n",
       "      <th>RH</th>\n",
       "      <th>wind</th>\n",
       "      <th>rain</th>\n",
       "      <th>area</th>\n",
       "    </tr>\n",
       "  </thead>\n",
       "  <tbody>\n",
       "    <tr>\n",
       "      <th>count</th>\n",
       "      <td>413.000000</td>\n",
       "      <td>413.000000</td>\n",
       "      <td>413.000000</td>\n",
       "      <td>413.000000</td>\n",
       "      <td>413.000000</td>\n",
       "      <td>413.000000</td>\n",
       "      <td>413.000000</td>\n",
       "      <td>413.000000</td>\n",
       "      <td>413.000000</td>\n",
       "      <td>413.000000</td>\n",
       "      <td>413.000000</td>\n",
       "    </tr>\n",
       "    <tr>\n",
       "      <th>mean</th>\n",
       "      <td>4.629540</td>\n",
       "      <td>4.237288</td>\n",
       "      <td>90.771429</td>\n",
       "      <td>109.854237</td>\n",
       "      <td>546.031235</td>\n",
       "      <td>8.971671</td>\n",
       "      <td>18.819613</td>\n",
       "      <td>44.353511</td>\n",
       "      <td>4.085714</td>\n",
       "      <td>0.026634</td>\n",
       "      <td>13.868329</td>\n",
       "    </tr>\n",
       "    <tr>\n",
       "      <th>std</th>\n",
       "      <td>2.278178</td>\n",
       "      <td>1.164551</td>\n",
       "      <td>4.655424</td>\n",
       "      <td>63.576254</td>\n",
       "      <td>251.835608</td>\n",
       "      <td>4.581362</td>\n",
       "      <td>5.789594</td>\n",
       "      <td>16.476107</td>\n",
       "      <td>1.813679</td>\n",
       "      <td>0.330882</td>\n",
       "      <td>69.842730</td>\n",
       "    </tr>\n",
       "    <tr>\n",
       "      <th>min</th>\n",
       "      <td>1.000000</td>\n",
       "      <td>2.000000</td>\n",
       "      <td>50.400000</td>\n",
       "      <td>2.400000</td>\n",
       "      <td>7.900000</td>\n",
       "      <td>0.400000</td>\n",
       "      <td>4.200000</td>\n",
       "      <td>15.000000</td>\n",
       "      <td>0.400000</td>\n",
       "      <td>0.000000</td>\n",
       "      <td>0.000000</td>\n",
       "    </tr>\n",
       "    <tr>\n",
       "      <th>25%</th>\n",
       "      <td>3.000000</td>\n",
       "      <td>4.000000</td>\n",
       "      <td>90.200000</td>\n",
       "      <td>61.100000</td>\n",
       "      <td>433.300000</td>\n",
       "      <td>6.400000</td>\n",
       "      <td>15.400000</td>\n",
       "      <td>33.000000</td>\n",
       "      <td>2.700000</td>\n",
       "      <td>0.000000</td>\n",
       "      <td>0.000000</td>\n",
       "    </tr>\n",
       "    <tr>\n",
       "      <th>50%</th>\n",
       "      <td>4.000000</td>\n",
       "      <td>4.000000</td>\n",
       "      <td>91.700000</td>\n",
       "      <td>108.000000</td>\n",
       "      <td>664.500000</td>\n",
       "      <td>8.400000</td>\n",
       "      <td>19.300000</td>\n",
       "      <td>42.000000</td>\n",
       "      <td>4.000000</td>\n",
       "      <td>0.000000</td>\n",
       "      <td>0.520000</td>\n",
       "    </tr>\n",
       "    <tr>\n",
       "      <th>75%</th>\n",
       "      <td>6.000000</td>\n",
       "      <td>5.000000</td>\n",
       "      <td>92.900000</td>\n",
       "      <td>141.300000</td>\n",
       "      <td>713.900000</td>\n",
       "      <td>10.700000</td>\n",
       "      <td>22.900000</td>\n",
       "      <td>53.000000</td>\n",
       "      <td>5.400000</td>\n",
       "      <td>0.000000</td>\n",
       "      <td>6.580000</td>\n",
       "    </tr>\n",
       "    <tr>\n",
       "      <th>max</th>\n",
       "      <td>9.000000</td>\n",
       "      <td>9.000000</td>\n",
       "      <td>96.200000</td>\n",
       "      <td>291.300000</td>\n",
       "      <td>860.600000</td>\n",
       "      <td>56.100000</td>\n",
       "      <td>33.300000</td>\n",
       "      <td>99.000000</td>\n",
       "      <td>9.400000</td>\n",
       "      <td>6.400000</td>\n",
       "      <td>1090.840000</td>\n",
       "    </tr>\n",
       "  </tbody>\n",
       "</table>\n",
       "</div>"
      ],
      "text/plain": [
       "                X           Y        FFMC         DMC          DC         ISI  \\\n",
       "count  413.000000  413.000000  413.000000  413.000000  413.000000  413.000000   \n",
       "mean     4.629540    4.237288   90.771429  109.854237  546.031235    8.971671   \n",
       "std      2.278178    1.164551    4.655424   63.576254  251.835608    4.581362   \n",
       "min      1.000000    2.000000   50.400000    2.400000    7.900000    0.400000   \n",
       "25%      3.000000    4.000000   90.200000   61.100000  433.300000    6.400000   \n",
       "50%      4.000000    4.000000   91.700000  108.000000  664.500000    8.400000   \n",
       "75%      6.000000    5.000000   92.900000  141.300000  713.900000   10.700000   \n",
       "max      9.000000    9.000000   96.200000  291.300000  860.600000   56.100000   \n",
       "\n",
       "             temp          RH        wind        rain         area  \n",
       "count  413.000000  413.000000  413.000000  413.000000   413.000000  \n",
       "mean    18.819613   44.353511    4.085714    0.026634    13.868329  \n",
       "std      5.789594   16.476107    1.813679    0.330882    69.842730  \n",
       "min      4.200000   15.000000    0.400000    0.000000     0.000000  \n",
       "25%     15.400000   33.000000    2.700000    0.000000     0.000000  \n",
       "50%     19.300000   42.000000    4.000000    0.000000     0.520000  \n",
       "75%     22.900000   53.000000    5.400000    0.000000     6.580000  \n",
       "max     33.300000   99.000000    9.400000    6.400000  1090.840000  "
      ]
     },
     "execution_count": 14,
     "metadata": {},
     "output_type": "execute_result"
    }
   ],
   "source": [
    "train_set.describe()"
   ]
  },
  {
   "cell_type": "code",
   "execution_count": 15,
   "id": "ca492350-21a9-477d-9ebd-d99c65c0e072",
   "metadata": {},
   "outputs": [
    {
     "data": {
      "text/html": [
       "<div>\n",
       "<style scoped>\n",
       "    .dataframe tbody tr th:only-of-type {\n",
       "        vertical-align: middle;\n",
       "    }\n",
       "\n",
       "    .dataframe tbody tr th {\n",
       "        vertical-align: top;\n",
       "    }\n",
       "\n",
       "    .dataframe thead th {\n",
       "        text-align: right;\n",
       "    }\n",
       "</style>\n",
       "<table border=\"1\" class=\"dataframe\">\n",
       "  <thead>\n",
       "    <tr style=\"text-align: right;\">\n",
       "      <th></th>\n",
       "      <th>X</th>\n",
       "      <th>Y</th>\n",
       "      <th>FFMC</th>\n",
       "      <th>DMC</th>\n",
       "      <th>DC</th>\n",
       "      <th>ISI</th>\n",
       "      <th>temp</th>\n",
       "      <th>RH</th>\n",
       "      <th>wind</th>\n",
       "      <th>rain</th>\n",
       "      <th>area</th>\n",
       "    </tr>\n",
       "  </thead>\n",
       "  <tbody>\n",
       "    <tr>\n",
       "      <th>X</th>\n",
       "      <td>1.000000</td>\n",
       "      <td>0.492705</td>\n",
       "      <td>-0.059573</td>\n",
       "      <td>-0.079860</td>\n",
       "      <td>-0.072543</td>\n",
       "      <td>-0.010799</td>\n",
       "      <td>-0.051083</td>\n",
       "      <td>0.065841</td>\n",
       "      <td>0.026846</td>\n",
       "      <td>0.109536</td>\n",
       "      <td>0.060499</td>\n",
       "    </tr>\n",
       "    <tr>\n",
       "      <th>Y</th>\n",
       "      <td>0.492705</td>\n",
       "      <td>1.000000</td>\n",
       "      <td>-0.009635</td>\n",
       "      <td>0.004525</td>\n",
       "      <td>-0.105404</td>\n",
       "      <td>-0.013202</td>\n",
       "      <td>-0.040541</td>\n",
       "      <td>0.050028</td>\n",
       "      <td>-0.008629</td>\n",
       "      <td>0.079107</td>\n",
       "      <td>0.046018</td>\n",
       "    </tr>\n",
       "    <tr>\n",
       "      <th>FFMC</th>\n",
       "      <td>-0.059573</td>\n",
       "      <td>-0.009635</td>\n",
       "      <td>1.000000</td>\n",
       "      <td>0.511437</td>\n",
       "      <td>0.263049</td>\n",
       "      <td>0.783566</td>\n",
       "      <td>0.594765</td>\n",
       "      <td>-0.319549</td>\n",
       "      <td>-0.035399</td>\n",
       "      <td>0.097398</td>\n",
       "      <td>0.025300</td>\n",
       "    </tr>\n",
       "    <tr>\n",
       "      <th>DMC</th>\n",
       "      <td>-0.079860</td>\n",
       "      <td>0.004525</td>\n",
       "      <td>0.511437</td>\n",
       "      <td>1.000000</td>\n",
       "      <td>0.558791</td>\n",
       "      <td>0.425159</td>\n",
       "      <td>0.502963</td>\n",
       "      <td>0.034604</td>\n",
       "      <td>-0.110436</td>\n",
       "      <td>0.120555</td>\n",
       "      <td>0.071920</td>\n",
       "    </tr>\n",
       "    <tr>\n",
       "      <th>DC</th>\n",
       "      <td>-0.072543</td>\n",
       "      <td>-0.105404</td>\n",
       "      <td>0.263049</td>\n",
       "      <td>0.558791</td>\n",
       "      <td>1.000000</td>\n",
       "      <td>0.103832</td>\n",
       "      <td>0.308746</td>\n",
       "      <td>0.025869</td>\n",
       "      <td>-0.205825</td>\n",
       "      <td>0.008048</td>\n",
       "      <td>0.061633</td>\n",
       "    </tr>\n",
       "    <tr>\n",
       "      <th>ISI</th>\n",
       "      <td>-0.010799</td>\n",
       "      <td>-0.013202</td>\n",
       "      <td>0.783566</td>\n",
       "      <td>0.425159</td>\n",
       "      <td>0.103832</td>\n",
       "      <td>1.000000</td>\n",
       "      <td>0.416404</td>\n",
       "      <td>-0.177498</td>\n",
       "      <td>0.135586</td>\n",
       "      <td>0.117454</td>\n",
       "      <td>0.012496</td>\n",
       "    </tr>\n",
       "    <tr>\n",
       "      <th>temp</th>\n",
       "      <td>-0.051083</td>\n",
       "      <td>-0.040541</td>\n",
       "      <td>0.594765</td>\n",
       "      <td>0.502963</td>\n",
       "      <td>0.308746</td>\n",
       "      <td>0.416404</td>\n",
       "      <td>1.000000</td>\n",
       "      <td>-0.517636</td>\n",
       "      <td>-0.179908</td>\n",
       "      <td>0.026024</td>\n",
       "      <td>0.078696</td>\n",
       "    </tr>\n",
       "    <tr>\n",
       "      <th>RH</th>\n",
       "      <td>0.065841</td>\n",
       "      <td>0.050028</td>\n",
       "      <td>-0.319549</td>\n",
       "      <td>0.034604</td>\n",
       "      <td>0.025869</td>\n",
       "      <td>-0.177498</td>\n",
       "      <td>-0.517636</td>\n",
       "      <td>1.000000</td>\n",
       "      <td>0.037157</td>\n",
       "      <td>0.181059</td>\n",
       "      <td>-0.024221</td>\n",
       "    </tr>\n",
       "    <tr>\n",
       "      <th>wind</th>\n",
       "      <td>0.026846</td>\n",
       "      <td>-0.008629</td>\n",
       "      <td>-0.035399</td>\n",
       "      <td>-0.110436</td>\n",
       "      <td>-0.205825</td>\n",
       "      <td>0.135586</td>\n",
       "      <td>-0.179908</td>\n",
       "      <td>0.037157</td>\n",
       "      <td>1.000000</td>\n",
       "      <td>0.120509</td>\n",
       "      <td>0.053196</td>\n",
       "    </tr>\n",
       "    <tr>\n",
       "      <th>rain</th>\n",
       "      <td>0.109536</td>\n",
       "      <td>0.079107</td>\n",
       "      <td>0.097398</td>\n",
       "      <td>0.120555</td>\n",
       "      <td>0.008048</td>\n",
       "      <td>0.117454</td>\n",
       "      <td>0.026024</td>\n",
       "      <td>0.181059</td>\n",
       "      <td>0.120509</td>\n",
       "      <td>1.000000</td>\n",
       "      <td>-0.064073</td>\n",
       "    </tr>\n",
       "    <tr>\n",
       "      <th>area</th>\n",
       "      <td>0.060499</td>\n",
       "      <td>0.046018</td>\n",
       "      <td>0.025300</td>\n",
       "      <td>0.071920</td>\n",
       "      <td>0.061633</td>\n",
       "      <td>0.012496</td>\n",
       "      <td>0.078696</td>\n",
       "      <td>-0.024221</td>\n",
       "      <td>0.053196</td>\n",
       "      <td>-0.064073</td>\n",
       "      <td>1.000000</td>\n",
       "    </tr>\n",
       "  </tbody>\n",
       "</table>\n",
       "</div>"
      ],
      "text/plain": [
       "             X         Y      FFMC       DMC        DC       ISI      temp  \\\n",
       "X     1.000000  0.492705 -0.059573 -0.079860 -0.072543 -0.010799 -0.051083   \n",
       "Y     0.492705  1.000000 -0.009635  0.004525 -0.105404 -0.013202 -0.040541   \n",
       "FFMC -0.059573 -0.009635  1.000000  0.511437  0.263049  0.783566  0.594765   \n",
       "DMC  -0.079860  0.004525  0.511437  1.000000  0.558791  0.425159  0.502963   \n",
       "DC   -0.072543 -0.105404  0.263049  0.558791  1.000000  0.103832  0.308746   \n",
       "ISI  -0.010799 -0.013202  0.783566  0.425159  0.103832  1.000000  0.416404   \n",
       "temp -0.051083 -0.040541  0.594765  0.502963  0.308746  0.416404  1.000000   \n",
       "RH    0.065841  0.050028 -0.319549  0.034604  0.025869 -0.177498 -0.517636   \n",
       "wind  0.026846 -0.008629 -0.035399 -0.110436 -0.205825  0.135586 -0.179908   \n",
       "rain  0.109536  0.079107  0.097398  0.120555  0.008048  0.117454  0.026024   \n",
       "area  0.060499  0.046018  0.025300  0.071920  0.061633  0.012496  0.078696   \n",
       "\n",
       "            RH      wind      rain      area  \n",
       "X     0.065841  0.026846  0.109536  0.060499  \n",
       "Y     0.050028 -0.008629  0.079107  0.046018  \n",
       "FFMC -0.319549 -0.035399  0.097398  0.025300  \n",
       "DMC   0.034604 -0.110436  0.120555  0.071920  \n",
       "DC    0.025869 -0.205825  0.008048  0.061633  \n",
       "ISI  -0.177498  0.135586  0.117454  0.012496  \n",
       "temp -0.517636 -0.179908  0.026024  0.078696  \n",
       "RH    1.000000  0.037157  0.181059 -0.024221  \n",
       "wind  0.037157  1.000000  0.120509  0.053196  \n",
       "rain  0.181059  0.120509  1.000000 -0.064073  \n",
       "area -0.024221  0.053196 -0.064073  1.000000  "
      ]
     },
     "execution_count": 15,
     "metadata": {},
     "output_type": "execute_result"
    }
   ],
   "source": [
    "df_portugal.corr(method = 'spearman') "
   ]
  },
  {
   "cell_type": "markdown",
   "id": "09ba3147",
   "metadata": {},
   "source": [
    "Our target variable area is highly skewed towards zero"
   ]
  },
  {
   "cell_type": "code",
   "execution_count": 16,
   "id": "f470224b",
   "metadata": {},
   "outputs": [
    {
     "data": {
      "application/vnd.plotly.v1+json": {
       "config": {
        "plotlyServerURL": "https://plot.ly"
       },
       "data": [
        {
         "alignmentgroup": "True",
         "bingroup": "x",
         "hovertemplate": "Area=%{x}<br>count=%{y}<extra></extra>",
         "legendgroup": "",
         "marker": {
          "color": "#636efa",
          "pattern": {
           "shape": ""
          }
         },
         "name": "",
         "nbinsx": 13,
         "offsetgroup": "",
         "orientation": "v",
         "showlegend": false,
         "type": "histogram",
         "x": [
          0,
          0,
          0,
          0,
          0,
          0,
          1.63,
          2.21,
          26,
          34.36,
          0,
          1.56,
          23.41,
          0,
          0,
          0,
          0,
          28.74,
          8.68,
          2.07,
          0,
          0,
          30.18,
          0,
          0,
          1.94,
          3.35,
          13.05,
          17.85,
          0,
          1.19,
          4.88,
          0.61,
          2.93,
          0.33,
          61.13,
          0,
          2.01,
          7.31,
          9.96,
          0,
          0,
          0,
          0,
          2.74,
          8.71,
          0,
          0,
          28.19,
          0.21,
          0,
          3.63,
          0,
          1.69,
          12.1,
          0,
          37.02,
          0,
          8.24,
          58.3,
          200.94,
          0,
          3.95,
          0,
          7.4,
          2.18,
          6.43,
          0.72,
          35.88,
          26.13,
          49.37,
          0,
          0,
          0.96,
          2.35,
          26.43,
          0,
          0.41,
          3.09,
          8.31,
          0,
          4.53,
          1.94,
          0,
          95.18,
          71.3,
          6.84,
          2.14,
          0,
          24.24,
          2.47,
          0,
          11.19,
          13.7,
          0,
          0,
          0,
          11.16,
          0,
          0.77,
          0,
          5.8,
          1.63,
          2.64,
          1.26,
          0,
          56.04,
          3.2,
          10.08,
          7.8,
          0,
          0,
          0,
          0,
          0,
          0,
          0,
          0,
          3.18,
          16.33,
          6.04,
          0,
          0,
          0,
          2.17,
          0,
          0,
          0,
          0,
          30.32,
          0,
          0,
          3.07,
          0.9,
          7.36,
          10.73,
          4.96,
          2.29,
          0.52,
          1.95,
          0.09,
          0,
          0,
          24.23,
          1.94,
          6.44,
          0,
          0,
          40.54,
          0,
          0,
          0,
          31.72,
          0,
          196.48,
          278.53,
          0,
          0.71,
          0,
          1.43,
          0,
          0,
          0,
          0,
          0,
          0,
          12.18,
          0,
          0,
          0,
          3.32,
          0,
          0,
          103.39,
          43.32,
          0,
          0,
          32.07,
          2.51,
          49.59,
          0,
          0,
          7.02,
          0,
          0.76,
          0,
          2.13,
          0,
          0,
          6.61,
          86.45,
          5.39,
          14.68,
          31.86,
          9.77,
          39.35,
          0,
          64.1,
          0,
          0,
          0,
          17.2,
          0,
          0,
          1.9,
          10.01,
          0,
          0,
          42.87,
          0,
          0,
          0,
          5.83,
          0,
          8.59,
          0,
          1.1,
          24.77,
          7.3,
          0,
          11.22,
          0,
          746.28,
          10.02,
          0,
          10.82,
          3.5,
          0,
          0,
          0,
          6.43,
          0,
          0,
          0,
          11.06,
          28.66,
          1090.84,
          0,
          0,
          0,
          0,
          0,
          2.55,
          0.75,
          0.68,
          0.24,
          4.4,
          11.06,
          0,
          1.46,
          3.71,
          0,
          4.95,
          0,
          0,
          15.45,
          0,
          0,
          0,
          0.68,
          0,
          1.29,
          4.41,
          5.65,
          0.55,
          0,
          3.19,
          5.18,
          0,
          2.18,
          10.34,
          0,
          7.21,
          0,
          1.64,
          4.42,
          8.02,
          3.52,
          0.9,
          0,
          0,
          0,
          0,
          0,
          1.09,
          0,
          0,
          0,
          9.41,
          70.32,
          0,
          13.06,
          6.58,
          1.75,
          6.57,
          0,
          0.47,
          11.24,
          174.63,
          0,
          0,
          0.79,
          4.25,
          36.85,
          0,
          1.38,
          51.78,
          0,
          5.97,
          0,
          1.12,
          0.43,
          0,
          0,
          0,
          0,
          0,
          105.66,
          0,
          0,
          0,
          0,
          0,
          2,
          0,
          0,
          6.83,
          0,
          7.19,
          0,
          0,
          8.12,
          2.87,
          0,
          0.52,
          9.96,
          46.7,
          1.46,
          0,
          0,
          0,
          0,
          1.64,
          0,
          2.14,
          9.27,
          0.95,
          14.57,
          22.03,
          0,
          1.58,
          2.44,
          15.64,
          0,
          0,
          0,
          0,
          2.53,
          0,
          0,
          4.62,
          3.71,
          0,
          27.35,
          1.72,
          0,
          5.33,
          0,
          7.73,
          0,
          3.94,
          0,
          4.61,
          0,
          0,
          0,
          54.29,
          0,
          3.93,
          0,
          9.71,
          14.29,
          0,
          0,
          19.23,
          1.95,
          185.76,
          1.52,
          0,
          1.47,
          0,
          0,
          37.71,
          0,
          0,
          0,
          0,
          0,
          0,
          0,
          48.55,
          28.66,
          0,
          0,
          0,
          0,
          0,
          88.49,
          0,
          1.01,
          5.86,
          20.03,
          0.43
         ],
         "xaxis": "x",
         "yaxis": "y"
        }
       ],
       "layout": {
        "barmode": "relative",
        "height": 400,
        "legend": {
         "tracegroupgap": 0
        },
        "template": {
         "data": {
          "bar": [
           {
            "error_x": {
             "color": "#2a3f5f"
            },
            "error_y": {
             "color": "#2a3f5f"
            },
            "marker": {
             "line": {
              "color": "#E5ECF6",
              "width": 0.5
             },
             "pattern": {
              "fillmode": "overlay",
              "size": 10,
              "solidity": 0.2
             }
            },
            "type": "bar"
           }
          ],
          "barpolar": [
           {
            "marker": {
             "line": {
              "color": "#E5ECF6",
              "width": 0.5
             },
             "pattern": {
              "fillmode": "overlay",
              "size": 10,
              "solidity": 0.2
             }
            },
            "type": "barpolar"
           }
          ],
          "carpet": [
           {
            "aaxis": {
             "endlinecolor": "#2a3f5f",
             "gridcolor": "white",
             "linecolor": "white",
             "minorgridcolor": "white",
             "startlinecolor": "#2a3f5f"
            },
            "baxis": {
             "endlinecolor": "#2a3f5f",
             "gridcolor": "white",
             "linecolor": "white",
             "minorgridcolor": "white",
             "startlinecolor": "#2a3f5f"
            },
            "type": "carpet"
           }
          ],
          "choropleth": [
           {
            "colorbar": {
             "outlinewidth": 0,
             "ticks": ""
            },
            "type": "choropleth"
           }
          ],
          "contour": [
           {
            "colorbar": {
             "outlinewidth": 0,
             "ticks": ""
            },
            "colorscale": [
             [
              0,
              "#0d0887"
             ],
             [
              0.1111111111111111,
              "#46039f"
             ],
             [
              0.2222222222222222,
              "#7201a8"
             ],
             [
              0.3333333333333333,
              "#9c179e"
             ],
             [
              0.4444444444444444,
              "#bd3786"
             ],
             [
              0.5555555555555556,
              "#d8576b"
             ],
             [
              0.6666666666666666,
              "#ed7953"
             ],
             [
              0.7777777777777778,
              "#fb9f3a"
             ],
             [
              0.8888888888888888,
              "#fdca26"
             ],
             [
              1,
              "#f0f921"
             ]
            ],
            "type": "contour"
           }
          ],
          "contourcarpet": [
           {
            "colorbar": {
             "outlinewidth": 0,
             "ticks": ""
            },
            "type": "contourcarpet"
           }
          ],
          "heatmap": [
           {
            "colorbar": {
             "outlinewidth": 0,
             "ticks": ""
            },
            "colorscale": [
             [
              0,
              "#0d0887"
             ],
             [
              0.1111111111111111,
              "#46039f"
             ],
             [
              0.2222222222222222,
              "#7201a8"
             ],
             [
              0.3333333333333333,
              "#9c179e"
             ],
             [
              0.4444444444444444,
              "#bd3786"
             ],
             [
              0.5555555555555556,
              "#d8576b"
             ],
             [
              0.6666666666666666,
              "#ed7953"
             ],
             [
              0.7777777777777778,
              "#fb9f3a"
             ],
             [
              0.8888888888888888,
              "#fdca26"
             ],
             [
              1,
              "#f0f921"
             ]
            ],
            "type": "heatmap"
           }
          ],
          "heatmapgl": [
           {
            "colorbar": {
             "outlinewidth": 0,
             "ticks": ""
            },
            "colorscale": [
             [
              0,
              "#0d0887"
             ],
             [
              0.1111111111111111,
              "#46039f"
             ],
             [
              0.2222222222222222,
              "#7201a8"
             ],
             [
              0.3333333333333333,
              "#9c179e"
             ],
             [
              0.4444444444444444,
              "#bd3786"
             ],
             [
              0.5555555555555556,
              "#d8576b"
             ],
             [
              0.6666666666666666,
              "#ed7953"
             ],
             [
              0.7777777777777778,
              "#fb9f3a"
             ],
             [
              0.8888888888888888,
              "#fdca26"
             ],
             [
              1,
              "#f0f921"
             ]
            ],
            "type": "heatmapgl"
           }
          ],
          "histogram": [
           {
            "marker": {
             "pattern": {
              "fillmode": "overlay",
              "size": 10,
              "solidity": 0.2
             }
            },
            "type": "histogram"
           }
          ],
          "histogram2d": [
           {
            "colorbar": {
             "outlinewidth": 0,
             "ticks": ""
            },
            "colorscale": [
             [
              0,
              "#0d0887"
             ],
             [
              0.1111111111111111,
              "#46039f"
             ],
             [
              0.2222222222222222,
              "#7201a8"
             ],
             [
              0.3333333333333333,
              "#9c179e"
             ],
             [
              0.4444444444444444,
              "#bd3786"
             ],
             [
              0.5555555555555556,
              "#d8576b"
             ],
             [
              0.6666666666666666,
              "#ed7953"
             ],
             [
              0.7777777777777778,
              "#fb9f3a"
             ],
             [
              0.8888888888888888,
              "#fdca26"
             ],
             [
              1,
              "#f0f921"
             ]
            ],
            "type": "histogram2d"
           }
          ],
          "histogram2dcontour": [
           {
            "colorbar": {
             "outlinewidth": 0,
             "ticks": ""
            },
            "colorscale": [
             [
              0,
              "#0d0887"
             ],
             [
              0.1111111111111111,
              "#46039f"
             ],
             [
              0.2222222222222222,
              "#7201a8"
             ],
             [
              0.3333333333333333,
              "#9c179e"
             ],
             [
              0.4444444444444444,
              "#bd3786"
             ],
             [
              0.5555555555555556,
              "#d8576b"
             ],
             [
              0.6666666666666666,
              "#ed7953"
             ],
             [
              0.7777777777777778,
              "#fb9f3a"
             ],
             [
              0.8888888888888888,
              "#fdca26"
             ],
             [
              1,
              "#f0f921"
             ]
            ],
            "type": "histogram2dcontour"
           }
          ],
          "mesh3d": [
           {
            "colorbar": {
             "outlinewidth": 0,
             "ticks": ""
            },
            "type": "mesh3d"
           }
          ],
          "parcoords": [
           {
            "line": {
             "colorbar": {
              "outlinewidth": 0,
              "ticks": ""
             }
            },
            "type": "parcoords"
           }
          ],
          "pie": [
           {
            "automargin": true,
            "type": "pie"
           }
          ],
          "scatter": [
           {
            "fillpattern": {
             "fillmode": "overlay",
             "size": 10,
             "solidity": 0.2
            },
            "type": "scatter"
           }
          ],
          "scatter3d": [
           {
            "line": {
             "colorbar": {
              "outlinewidth": 0,
              "ticks": ""
             }
            },
            "marker": {
             "colorbar": {
              "outlinewidth": 0,
              "ticks": ""
             }
            },
            "type": "scatter3d"
           }
          ],
          "scattercarpet": [
           {
            "marker": {
             "colorbar": {
              "outlinewidth": 0,
              "ticks": ""
             }
            },
            "type": "scattercarpet"
           }
          ],
          "scattergeo": [
           {
            "marker": {
             "colorbar": {
              "outlinewidth": 0,
              "ticks": ""
             }
            },
            "type": "scattergeo"
           }
          ],
          "scattergl": [
           {
            "marker": {
             "colorbar": {
              "outlinewidth": 0,
              "ticks": ""
             }
            },
            "type": "scattergl"
           }
          ],
          "scattermapbox": [
           {
            "marker": {
             "colorbar": {
              "outlinewidth": 0,
              "ticks": ""
             }
            },
            "type": "scattermapbox"
           }
          ],
          "scatterpolar": [
           {
            "marker": {
             "colorbar": {
              "outlinewidth": 0,
              "ticks": ""
             }
            },
            "type": "scatterpolar"
           }
          ],
          "scatterpolargl": [
           {
            "marker": {
             "colorbar": {
              "outlinewidth": 0,
              "ticks": ""
             }
            },
            "type": "scatterpolargl"
           }
          ],
          "scatterternary": [
           {
            "marker": {
             "colorbar": {
              "outlinewidth": 0,
              "ticks": ""
             }
            },
            "type": "scatterternary"
           }
          ],
          "surface": [
           {
            "colorbar": {
             "outlinewidth": 0,
             "ticks": ""
            },
            "colorscale": [
             [
              0,
              "#0d0887"
             ],
             [
              0.1111111111111111,
              "#46039f"
             ],
             [
              0.2222222222222222,
              "#7201a8"
             ],
             [
              0.3333333333333333,
              "#9c179e"
             ],
             [
              0.4444444444444444,
              "#bd3786"
             ],
             [
              0.5555555555555556,
              "#d8576b"
             ],
             [
              0.6666666666666666,
              "#ed7953"
             ],
             [
              0.7777777777777778,
              "#fb9f3a"
             ],
             [
              0.8888888888888888,
              "#fdca26"
             ],
             [
              1,
              "#f0f921"
             ]
            ],
            "type": "surface"
           }
          ],
          "table": [
           {
            "cells": {
             "fill": {
              "color": "#EBF0F8"
             },
             "line": {
              "color": "white"
             }
            },
            "header": {
             "fill": {
              "color": "#C8D4E3"
             },
             "line": {
              "color": "white"
             }
            },
            "type": "table"
           }
          ]
         },
         "layout": {
          "annotationdefaults": {
           "arrowcolor": "#2a3f5f",
           "arrowhead": 0,
           "arrowwidth": 1
          },
          "autotypenumbers": "strict",
          "coloraxis": {
           "colorbar": {
            "outlinewidth": 0,
            "ticks": ""
           }
          },
          "colorscale": {
           "diverging": [
            [
             0,
             "#8e0152"
            ],
            [
             0.1,
             "#c51b7d"
            ],
            [
             0.2,
             "#de77ae"
            ],
            [
             0.3,
             "#f1b6da"
            ],
            [
             0.4,
             "#fde0ef"
            ],
            [
             0.5,
             "#f7f7f7"
            ],
            [
             0.6,
             "#e6f5d0"
            ],
            [
             0.7,
             "#b8e186"
            ],
            [
             0.8,
             "#7fbc41"
            ],
            [
             0.9,
             "#4d9221"
            ],
            [
             1,
             "#276419"
            ]
           ],
           "sequential": [
            [
             0,
             "#0d0887"
            ],
            [
             0.1111111111111111,
             "#46039f"
            ],
            [
             0.2222222222222222,
             "#7201a8"
            ],
            [
             0.3333333333333333,
             "#9c179e"
            ],
            [
             0.4444444444444444,
             "#bd3786"
            ],
            [
             0.5555555555555556,
             "#d8576b"
            ],
            [
             0.6666666666666666,
             "#ed7953"
            ],
            [
             0.7777777777777778,
             "#fb9f3a"
            ],
            [
             0.8888888888888888,
             "#fdca26"
            ],
            [
             1,
             "#f0f921"
            ]
           ],
           "sequentialminus": [
            [
             0,
             "#0d0887"
            ],
            [
             0.1111111111111111,
             "#46039f"
            ],
            [
             0.2222222222222222,
             "#7201a8"
            ],
            [
             0.3333333333333333,
             "#9c179e"
            ],
            [
             0.4444444444444444,
             "#bd3786"
            ],
            [
             0.5555555555555556,
             "#d8576b"
            ],
            [
             0.6666666666666666,
             "#ed7953"
            ],
            [
             0.7777777777777778,
             "#fb9f3a"
            ],
            [
             0.8888888888888888,
             "#fdca26"
            ],
            [
             1,
             "#f0f921"
            ]
           ]
          },
          "colorway": [
           "#636efa",
           "#EF553B",
           "#00cc96",
           "#ab63fa",
           "#FFA15A",
           "#19d3f3",
           "#FF6692",
           "#B6E880",
           "#FF97FF",
           "#FECB52"
          ],
          "font": {
           "color": "#2a3f5f"
          },
          "geo": {
           "bgcolor": "white",
           "lakecolor": "white",
           "landcolor": "#E5ECF6",
           "showlakes": true,
           "showland": true,
           "subunitcolor": "white"
          },
          "hoverlabel": {
           "align": "left"
          },
          "hovermode": "closest",
          "mapbox": {
           "style": "light"
          },
          "paper_bgcolor": "white",
          "plot_bgcolor": "#E5ECF6",
          "polar": {
           "angularaxis": {
            "gridcolor": "white",
            "linecolor": "white",
            "ticks": ""
           },
           "bgcolor": "#E5ECF6",
           "radialaxis": {
            "gridcolor": "white",
            "linecolor": "white",
            "ticks": ""
           }
          },
          "scene": {
           "xaxis": {
            "backgroundcolor": "#E5ECF6",
            "gridcolor": "white",
            "gridwidth": 2,
            "linecolor": "white",
            "showbackground": true,
            "ticks": "",
            "zerolinecolor": "white"
           },
           "yaxis": {
            "backgroundcolor": "#E5ECF6",
            "gridcolor": "white",
            "gridwidth": 2,
            "linecolor": "white",
            "showbackground": true,
            "ticks": "",
            "zerolinecolor": "white"
           },
           "zaxis": {
            "backgroundcolor": "#E5ECF6",
            "gridcolor": "white",
            "gridwidth": 2,
            "linecolor": "white",
            "showbackground": true,
            "ticks": "",
            "zerolinecolor": "white"
           }
          },
          "shapedefaults": {
           "line": {
            "color": "#2a3f5f"
           }
          },
          "ternary": {
           "aaxis": {
            "gridcolor": "white",
            "linecolor": "white",
            "ticks": ""
           },
           "baxis": {
            "gridcolor": "white",
            "linecolor": "white",
            "ticks": ""
           },
           "bgcolor": "#E5ECF6",
           "caxis": {
            "gridcolor": "white",
            "linecolor": "white",
            "ticks": ""
           }
          },
          "title": {
           "x": 0.05
          },
          "xaxis": {
           "automargin": true,
           "gridcolor": "white",
           "linecolor": "white",
           "ticks": "",
           "title": {
            "standoff": 15
           },
           "zerolinecolor": "white",
           "zerolinewidth": 2
          },
          "yaxis": {
           "automargin": true,
           "gridcolor": "white",
           "linecolor": "white",
           "ticks": "",
           "title": {
            "standoff": 15
           },
           "zerolinecolor": "white",
           "zerolinewidth": 2
          }
         }
        },
        "title": {
         "text": "Distribution of Area"
        },
        "width": 600,
        "xaxis": {
         "anchor": "y",
         "domain": [
          0,
          1
         ],
         "title": {
          "text": "Area"
         }
        },
        "yaxis": {
         "anchor": "x",
         "domain": [
          0,
          1
         ],
         "title": {
          "text": "count"
         }
        }
       }
      }
     },
     "metadata": {},
     "output_type": "display_data"
    }
   ],
   "source": [
    "fig = px.histogram(\n",
    "    train_set,\n",
    "    x=\"area\",\n",
    "    nbins=13, \n",
    "    title=\"Distribution of Area\",\n",
    "    labels={\"area\": \"Area\"}\n",
    ")\n",
    "fig.update_layout(\n",
    "    width=600, \n",
    "    height=400   \n",
    ")\n",
    "fig.show()"
   ]
  },
  {
   "cell_type": "markdown",
   "id": "1b14cf59",
   "metadata": {},
   "source": [
    "Applying log transformation to deal with skewness"
   ]
  },
  {
   "cell_type": "code",
   "execution_count": 17,
   "id": "d045f5b8",
   "metadata": {},
   "outputs": [
    {
     "data": {
      "application/vnd.plotly.v1+json": {
       "config": {
        "plotlyServerURL": "https://plot.ly"
       },
       "data": [
        {
         "alignmentgroup": "True",
         "bingroup": "x",
         "hovertemplate": "Area Burnt (Log Scale)=%{x}<br>count=%{y}<extra></extra>",
         "legendgroup": "",
         "marker": {
          "color": "#636efa",
          "pattern": {
           "shape": ""
          }
         },
         "name": "",
         "nbinsx": 20,
         "offsetgroup": "",
         "orientation": "v",
         "showlegend": false,
         "type": "histogram",
         "x": [
          null,
          null,
          null,
          null,
          null,
          null,
          0.4885800148186709,
          0.7929925155296614,
          3.258096538021482,
          3.536893097116055,
          null,
          0.44468582126144574,
          3.1531632815028194,
          null,
          null,
          null,
          null,
          3.358289880650879,
          2.1610215286722587,
          0.7275486072772777,
          null,
          null,
          3.407179453339703,
          null,
          null,
          0.6626879730752367,
          1.208960345836975,
          2.5687881337687024,
          2.8820035082256483,
          null,
          0.17395330712343798,
          1.5851452198650557,
          -0.4942963218147801,
          1.075002423028976,
          -1.1086626245216111,
          4.113002744040634,
          null,
          0.6981347220709843,
          1.9892432737616872,
          2.298577071596507,
          null,
          null,
          null,
          null,
          1.007957920399979,
          2.1644717908644115,
          null,
          null,
          3.338967305126021,
          -1.5606477482646683,
          null,
          1.2892326482767593,
          null,
          0.5247285289349821,
          2.4932054526026954,
          null,
          3.6114583071453517,
          null,
          2.1090003439213802,
          4.065602093356446,
          5.303006356034168,
          null,
          1.3737155789130306,
          null,
          2.0014800002101243,
          0.7793248768009977,
          1.860974538249528,
          -0.3285040669720361,
          3.5801800371905954,
          3.263084079532521,
          3.8993429522707714,
          null,
          null,
          -0.040821994520255166,
          0.8544153281560676,
          3.2744997286161976,
          null,
          -0.8915981192837836,
          1.128171090909654,
          2.1174596088673567,
          null,
          1.5107219394949427,
          0.6626879730752367,
          null,
          4.555769835692964,
          4.26689632742025,
          1.922787731634459,
          0.7608058290337602,
          null,
          3.1880041612011136,
          0.9042181506398859,
          null,
          2.4150205223238337,
          2.617395832834079,
          null,
          null,
          null,
          2.412335956953165,
          null,
          -0.2613647641344075,
          null,
          1.7578579175523736,
          0.4885800148186709,
          0.9707789171582248,
          0.23111172096338664,
          null,
          4.0260657214688065,
          1.1631508098056809,
          2.3105532626432224,
          2.0541237336955462,
          null,
          null,
          null,
          null,
          null,
          null,
          null,
          null,
          1.1568811967920856,
          2.7930039069823738,
          1.7984040119467235,
          null,
          null,
          null,
          0.7747271675523681,
          null,
          null,
          null,
          null,
          3.411807560774171,
          null,
          null,
          1.1216775615991057,
          -0.10536051565782628,
          1.9960599327407849,
          2.373043556642607,
          1.601405740736836,
          0.8285518175661483,
          -0.6539264674066639,
          0.6678293725756554,
          -2.4079456086518722,
          null,
          null,
          3.1875915348284343,
          0.6626879730752367,
          1.8625285401162623,
          null,
          null,
          3.702289141023854,
          null,
          null,
          null,
          3.456947396766647,
          null,
          5.280560644958777,
          5.629525773494151,
          null,
          -0.342490308946776,
          null,
          0.3576744442718159,
          null,
          null,
          null,
          null,
          null,
          null,
          2.4997952622817508,
          null,
          null,
          null,
          1.199964782928397,
          null,
          null,
          4.638508245598602,
          3.76861442213279,
          null,
          null,
          3.4679210137050633,
          0.9202827531436925,
          3.9037892005010426,
          null,
          null,
          1.9487632180377197,
          null,
          -0.2744368457017603,
          null,
          0.7561219797213337,
          null,
          null,
          1.888583653863595,
          4.4595662121293,
          1.6845453849209058,
          2.6864860231863696,
          3.4613513044819024,
          2.2793164660546914,
          3.6724959748634123,
          null,
          4.160444363926624,
          null,
          null,
          null,
          2.8449093838194073,
          null,
          null,
          0.6418538861723947,
          2.303584593327129,
          null,
          null,
          3.7581722806098856,
          null,
          null,
          null,
          1.763017000362401,
          null,
          2.150598735996164,
          null,
          0.09531017980432493,
          3.209633243501268,
          1.9878743481543455,
          null,
          2.4176979000945504,
          null,
          6.615100864903798,
          2.3045830956567186,
          null,
          2.3813962734183356,
          1.252762968495368,
          null,
          null,
          null,
          1.860974538249528,
          null,
          null,
          null,
          2.403334996094189,
          3.3555024224000256,
          6.9947033206327935,
          null,
          null,
          null,
          null,
          null,
          0.9360933591703348,
          -0.2876820724517809,
          -0.3856624808119846,
          -1.4271163556401458,
          1.4816045409242156,
          2.403334996094189,
          null,
          0.37843643572024505,
          1.3110318766193438,
          null,
          1.599387576580599,
          null,
          null,
          2.7376090033437546,
          null,
          null,
          null,
          -0.3856624808119846,
          null,
          0.25464221837358075,
          1.4838746894587547,
          1.7316555451583497,
          -0.5978370007556204,
          null,
          1.1600209167967532,
          1.6448050562713916,
          null,
          0.7793248768009977,
          2.336019869080283,
          null,
          1.9754689512968577,
          null,
          0.494696241836107,
          1.4861396960896067,
          2.081938421878423,
          1.2584609896100056,
          -0.10536051565782628,
          null,
          null,
          null,
          null,
          null,
          0.08617769624105241,
          null,
          null,
          null,
          2.2417729535972883,
          4.253056253376921,
          null,
          2.569554123848285,
          1.884034745337226,
          0.5596157879354227,
          1.8825138324965192,
          null,
          -0.7550225842780328,
          2.419478844465545,
          5.162669449951753,
          null,
          null,
          -0.23572233352106983,
          1.4469189829363254,
          3.6068556186353455,
          null,
          0.3220834991691132,
          3.947003974323392,
          null,
          1.7867469274045107,
          null,
          0.11332868530700327,
          -0.843970070294529,
          null,
          null,
          null,
          null,
          null,
          4.6602263917361695,
          null,
          null,
          null,
          null,
          null,
          0.6931471805599453,
          null,
          null,
          1.9213246735826988,
          null,
          1.9726911717329554,
          null,
          null,
          2.0943301541735866,
          1.0543120297715298,
          null,
          -0.6539264674066639,
          2.298577071596507,
          3.8437441646748516,
          0.37843643572024505,
          null,
          null,
          null,
          null,
          0.494696241836107,
          null,
          0.7608058290337602,
          2.2267833795777636,
          -0.05129329438755058,
          2.6789646202071133,
          3.092405160814252,
          null,
          0.4574248470388755,
          0.8919980393051105,
          2.7498317351171653,
          null,
          null,
          null,
          null,
          0.9282193027394288,
          null,
          null,
          1.5303947050936475,
          1.3110318766193438,
          null,
          3.3087165288679903,
          0.5423242908253617,
          null,
          1.673351238177753,
          null,
          2.0451088625993306,
          null,
          1.3711807233098425,
          null,
          1.5282278570085572,
          null,
          null,
          null,
          3.9943400479173596,
          null,
          1.3686394258811698,
          null,
          2.2731562823032334,
          2.659559991941776,
          null,
          null,
          2.9564715596006885,
          0.6678293725756554,
          5.224455517949582,
          0.41871033485818504,
          null,
          0.3852624007906449,
          null,
          null,
          3.6299253112702656,
          null,
          null,
          null,
          null,
          null,
          null,
          null,
          3.882594194737334,
          3.3555024224000256,
          null,
          null,
          null,
          null,
          null,
          4.482889551279259,
          null,
          0.009950330853168092,
          1.7681496035889213,
          2.997231149677727,
          -0.843970070294529
         ],
         "xaxis": "x",
         "yaxis": "y"
        }
       ],
       "layout": {
        "barmode": "relative",
        "height": 500,
        "legend": {
         "tracegroupgap": 0
        },
        "template": {
         "data": {
          "bar": [
           {
            "error_x": {
             "color": "#2a3f5f"
            },
            "error_y": {
             "color": "#2a3f5f"
            },
            "marker": {
             "line": {
              "color": "#E5ECF6",
              "width": 0.5
             },
             "pattern": {
              "fillmode": "overlay",
              "size": 10,
              "solidity": 0.2
             }
            },
            "type": "bar"
           }
          ],
          "barpolar": [
           {
            "marker": {
             "line": {
              "color": "#E5ECF6",
              "width": 0.5
             },
             "pattern": {
              "fillmode": "overlay",
              "size": 10,
              "solidity": 0.2
             }
            },
            "type": "barpolar"
           }
          ],
          "carpet": [
           {
            "aaxis": {
             "endlinecolor": "#2a3f5f",
             "gridcolor": "white",
             "linecolor": "white",
             "minorgridcolor": "white",
             "startlinecolor": "#2a3f5f"
            },
            "baxis": {
             "endlinecolor": "#2a3f5f",
             "gridcolor": "white",
             "linecolor": "white",
             "minorgridcolor": "white",
             "startlinecolor": "#2a3f5f"
            },
            "type": "carpet"
           }
          ],
          "choropleth": [
           {
            "colorbar": {
             "outlinewidth": 0,
             "ticks": ""
            },
            "type": "choropleth"
           }
          ],
          "contour": [
           {
            "colorbar": {
             "outlinewidth": 0,
             "ticks": ""
            },
            "colorscale": [
             [
              0,
              "#0d0887"
             ],
             [
              0.1111111111111111,
              "#46039f"
             ],
             [
              0.2222222222222222,
              "#7201a8"
             ],
             [
              0.3333333333333333,
              "#9c179e"
             ],
             [
              0.4444444444444444,
              "#bd3786"
             ],
             [
              0.5555555555555556,
              "#d8576b"
             ],
             [
              0.6666666666666666,
              "#ed7953"
             ],
             [
              0.7777777777777778,
              "#fb9f3a"
             ],
             [
              0.8888888888888888,
              "#fdca26"
             ],
             [
              1,
              "#f0f921"
             ]
            ],
            "type": "contour"
           }
          ],
          "contourcarpet": [
           {
            "colorbar": {
             "outlinewidth": 0,
             "ticks": ""
            },
            "type": "contourcarpet"
           }
          ],
          "heatmap": [
           {
            "colorbar": {
             "outlinewidth": 0,
             "ticks": ""
            },
            "colorscale": [
             [
              0,
              "#0d0887"
             ],
             [
              0.1111111111111111,
              "#46039f"
             ],
             [
              0.2222222222222222,
              "#7201a8"
             ],
             [
              0.3333333333333333,
              "#9c179e"
             ],
             [
              0.4444444444444444,
              "#bd3786"
             ],
             [
              0.5555555555555556,
              "#d8576b"
             ],
             [
              0.6666666666666666,
              "#ed7953"
             ],
             [
              0.7777777777777778,
              "#fb9f3a"
             ],
             [
              0.8888888888888888,
              "#fdca26"
             ],
             [
              1,
              "#f0f921"
             ]
            ],
            "type": "heatmap"
           }
          ],
          "heatmapgl": [
           {
            "colorbar": {
             "outlinewidth": 0,
             "ticks": ""
            },
            "colorscale": [
             [
              0,
              "#0d0887"
             ],
             [
              0.1111111111111111,
              "#46039f"
             ],
             [
              0.2222222222222222,
              "#7201a8"
             ],
             [
              0.3333333333333333,
              "#9c179e"
             ],
             [
              0.4444444444444444,
              "#bd3786"
             ],
             [
              0.5555555555555556,
              "#d8576b"
             ],
             [
              0.6666666666666666,
              "#ed7953"
             ],
             [
              0.7777777777777778,
              "#fb9f3a"
             ],
             [
              0.8888888888888888,
              "#fdca26"
             ],
             [
              1,
              "#f0f921"
             ]
            ],
            "type": "heatmapgl"
           }
          ],
          "histogram": [
           {
            "marker": {
             "pattern": {
              "fillmode": "overlay",
              "size": 10,
              "solidity": 0.2
             }
            },
            "type": "histogram"
           }
          ],
          "histogram2d": [
           {
            "colorbar": {
             "outlinewidth": 0,
             "ticks": ""
            },
            "colorscale": [
             [
              0,
              "#0d0887"
             ],
             [
              0.1111111111111111,
              "#46039f"
             ],
             [
              0.2222222222222222,
              "#7201a8"
             ],
             [
              0.3333333333333333,
              "#9c179e"
             ],
             [
              0.4444444444444444,
              "#bd3786"
             ],
             [
              0.5555555555555556,
              "#d8576b"
             ],
             [
              0.6666666666666666,
              "#ed7953"
             ],
             [
              0.7777777777777778,
              "#fb9f3a"
             ],
             [
              0.8888888888888888,
              "#fdca26"
             ],
             [
              1,
              "#f0f921"
             ]
            ],
            "type": "histogram2d"
           }
          ],
          "histogram2dcontour": [
           {
            "colorbar": {
             "outlinewidth": 0,
             "ticks": ""
            },
            "colorscale": [
             [
              0,
              "#0d0887"
             ],
             [
              0.1111111111111111,
              "#46039f"
             ],
             [
              0.2222222222222222,
              "#7201a8"
             ],
             [
              0.3333333333333333,
              "#9c179e"
             ],
             [
              0.4444444444444444,
              "#bd3786"
             ],
             [
              0.5555555555555556,
              "#d8576b"
             ],
             [
              0.6666666666666666,
              "#ed7953"
             ],
             [
              0.7777777777777778,
              "#fb9f3a"
             ],
             [
              0.8888888888888888,
              "#fdca26"
             ],
             [
              1,
              "#f0f921"
             ]
            ],
            "type": "histogram2dcontour"
           }
          ],
          "mesh3d": [
           {
            "colorbar": {
             "outlinewidth": 0,
             "ticks": ""
            },
            "type": "mesh3d"
           }
          ],
          "parcoords": [
           {
            "line": {
             "colorbar": {
              "outlinewidth": 0,
              "ticks": ""
             }
            },
            "type": "parcoords"
           }
          ],
          "pie": [
           {
            "automargin": true,
            "type": "pie"
           }
          ],
          "scatter": [
           {
            "fillpattern": {
             "fillmode": "overlay",
             "size": 10,
             "solidity": 0.2
            },
            "type": "scatter"
           }
          ],
          "scatter3d": [
           {
            "line": {
             "colorbar": {
              "outlinewidth": 0,
              "ticks": ""
             }
            },
            "marker": {
             "colorbar": {
              "outlinewidth": 0,
              "ticks": ""
             }
            },
            "type": "scatter3d"
           }
          ],
          "scattercarpet": [
           {
            "marker": {
             "colorbar": {
              "outlinewidth": 0,
              "ticks": ""
             }
            },
            "type": "scattercarpet"
           }
          ],
          "scattergeo": [
           {
            "marker": {
             "colorbar": {
              "outlinewidth": 0,
              "ticks": ""
             }
            },
            "type": "scattergeo"
           }
          ],
          "scattergl": [
           {
            "marker": {
             "colorbar": {
              "outlinewidth": 0,
              "ticks": ""
             }
            },
            "type": "scattergl"
           }
          ],
          "scattermapbox": [
           {
            "marker": {
             "colorbar": {
              "outlinewidth": 0,
              "ticks": ""
             }
            },
            "type": "scattermapbox"
           }
          ],
          "scatterpolar": [
           {
            "marker": {
             "colorbar": {
              "outlinewidth": 0,
              "ticks": ""
             }
            },
            "type": "scatterpolar"
           }
          ],
          "scatterpolargl": [
           {
            "marker": {
             "colorbar": {
              "outlinewidth": 0,
              "ticks": ""
             }
            },
            "type": "scatterpolargl"
           }
          ],
          "scatterternary": [
           {
            "marker": {
             "colorbar": {
              "outlinewidth": 0,
              "ticks": ""
             }
            },
            "type": "scatterternary"
           }
          ],
          "surface": [
           {
            "colorbar": {
             "outlinewidth": 0,
             "ticks": ""
            },
            "colorscale": [
             [
              0,
              "#0d0887"
             ],
             [
              0.1111111111111111,
              "#46039f"
             ],
             [
              0.2222222222222222,
              "#7201a8"
             ],
             [
              0.3333333333333333,
              "#9c179e"
             ],
             [
              0.4444444444444444,
              "#bd3786"
             ],
             [
              0.5555555555555556,
              "#d8576b"
             ],
             [
              0.6666666666666666,
              "#ed7953"
             ],
             [
              0.7777777777777778,
              "#fb9f3a"
             ],
             [
              0.8888888888888888,
              "#fdca26"
             ],
             [
              1,
              "#f0f921"
             ]
            ],
            "type": "surface"
           }
          ],
          "table": [
           {
            "cells": {
             "fill": {
              "color": "#EBF0F8"
             },
             "line": {
              "color": "white"
             }
            },
            "header": {
             "fill": {
              "color": "#C8D4E3"
             },
             "line": {
              "color": "white"
             }
            },
            "type": "table"
           }
          ]
         },
         "layout": {
          "annotationdefaults": {
           "arrowcolor": "#2a3f5f",
           "arrowhead": 0,
           "arrowwidth": 1
          },
          "autotypenumbers": "strict",
          "coloraxis": {
           "colorbar": {
            "outlinewidth": 0,
            "ticks": ""
           }
          },
          "colorscale": {
           "diverging": [
            [
             0,
             "#8e0152"
            ],
            [
             0.1,
             "#c51b7d"
            ],
            [
             0.2,
             "#de77ae"
            ],
            [
             0.3,
             "#f1b6da"
            ],
            [
             0.4,
             "#fde0ef"
            ],
            [
             0.5,
             "#f7f7f7"
            ],
            [
             0.6,
             "#e6f5d0"
            ],
            [
             0.7,
             "#b8e186"
            ],
            [
             0.8,
             "#7fbc41"
            ],
            [
             0.9,
             "#4d9221"
            ],
            [
             1,
             "#276419"
            ]
           ],
           "sequential": [
            [
             0,
             "#0d0887"
            ],
            [
             0.1111111111111111,
             "#46039f"
            ],
            [
             0.2222222222222222,
             "#7201a8"
            ],
            [
             0.3333333333333333,
             "#9c179e"
            ],
            [
             0.4444444444444444,
             "#bd3786"
            ],
            [
             0.5555555555555556,
             "#d8576b"
            ],
            [
             0.6666666666666666,
             "#ed7953"
            ],
            [
             0.7777777777777778,
             "#fb9f3a"
            ],
            [
             0.8888888888888888,
             "#fdca26"
            ],
            [
             1,
             "#f0f921"
            ]
           ],
           "sequentialminus": [
            [
             0,
             "#0d0887"
            ],
            [
             0.1111111111111111,
             "#46039f"
            ],
            [
             0.2222222222222222,
             "#7201a8"
            ],
            [
             0.3333333333333333,
             "#9c179e"
            ],
            [
             0.4444444444444444,
             "#bd3786"
            ],
            [
             0.5555555555555556,
             "#d8576b"
            ],
            [
             0.6666666666666666,
             "#ed7953"
            ],
            [
             0.7777777777777778,
             "#fb9f3a"
            ],
            [
             0.8888888888888888,
             "#fdca26"
            ],
            [
             1,
             "#f0f921"
            ]
           ]
          },
          "colorway": [
           "#636efa",
           "#EF553B",
           "#00cc96",
           "#ab63fa",
           "#FFA15A",
           "#19d3f3",
           "#FF6692",
           "#B6E880",
           "#FF97FF",
           "#FECB52"
          ],
          "font": {
           "color": "#2a3f5f"
          },
          "geo": {
           "bgcolor": "white",
           "lakecolor": "white",
           "landcolor": "#E5ECF6",
           "showlakes": true,
           "showland": true,
           "subunitcolor": "white"
          },
          "hoverlabel": {
           "align": "left"
          },
          "hovermode": "closest",
          "mapbox": {
           "style": "light"
          },
          "paper_bgcolor": "white",
          "plot_bgcolor": "#E5ECF6",
          "polar": {
           "angularaxis": {
            "gridcolor": "white",
            "linecolor": "white",
            "ticks": ""
           },
           "bgcolor": "#E5ECF6",
           "radialaxis": {
            "gridcolor": "white",
            "linecolor": "white",
            "ticks": ""
           }
          },
          "scene": {
           "xaxis": {
            "backgroundcolor": "#E5ECF6",
            "gridcolor": "white",
            "gridwidth": 2,
            "linecolor": "white",
            "showbackground": true,
            "ticks": "",
            "zerolinecolor": "white"
           },
           "yaxis": {
            "backgroundcolor": "#E5ECF6",
            "gridcolor": "white",
            "gridwidth": 2,
            "linecolor": "white",
            "showbackground": true,
            "ticks": "",
            "zerolinecolor": "white"
           },
           "zaxis": {
            "backgroundcolor": "#E5ECF6",
            "gridcolor": "white",
            "gridwidth": 2,
            "linecolor": "white",
            "showbackground": true,
            "ticks": "",
            "zerolinecolor": "white"
           }
          },
          "shapedefaults": {
           "line": {
            "color": "#2a3f5f"
           }
          },
          "ternary": {
           "aaxis": {
            "gridcolor": "white",
            "linecolor": "white",
            "ticks": ""
           },
           "baxis": {
            "gridcolor": "white",
            "linecolor": "white",
            "ticks": ""
           },
           "bgcolor": "#E5ECF6",
           "caxis": {
            "gridcolor": "white",
            "linecolor": "white",
            "ticks": ""
           }
          },
          "title": {
           "x": 0.05
          },
          "xaxis": {
           "automargin": true,
           "gridcolor": "white",
           "linecolor": "white",
           "ticks": "",
           "title": {
            "standoff": 15
           },
           "zerolinecolor": "white",
           "zerolinewidth": 2
          },
          "yaxis": {
           "automargin": true,
           "gridcolor": "white",
           "linecolor": "white",
           "ticks": "",
           "title": {
            "standoff": 15
           },
           "zerolinecolor": "white",
           "zerolinewidth": 2
          }
         }
        },
        "title": {
         "text": "Area Burnt (After Log Transformation)"
        },
        "width": 1000,
        "xaxis": {
         "anchor": "y",
         "domain": [
          0,
          1
         ],
         "title": {
          "text": "Area Burnt (Log Scale)"
         }
        },
        "yaxis": {
         "anchor": "x",
         "domain": [
          0,
          1
         ],
         "title": {
          "text": "count"
         }
        }
       }
      }
     },
     "metadata": {},
     "output_type": "display_data"
    }
   ],
   "source": [
    "train_set[\"log_area\"] = train_set[\"area\"].replace(0, np.nan).apply(np.log)\n",
    "fig = px.histogram(\n",
    "    train_set,\n",
    "    x=\"log_area\",\n",
    "    nbins=20,\n",
    "    title=\"Area Burnt (After Log Transformation)\",\n",
    "    labels={\"log_area\": \"Area Burnt (Log Scale)\"},\n",
    ")\n",
    "fig.update_layout(\n",
    "    width=1000, \n",
    "    height=500  \n",
    ")\n",
    "fig.show()"
   ]
  },
  {
   "cell_type": "code",
   "execution_count": 18,
   "id": "3e497550-82ba-4ddf-ac5a-19cd26c750d9",
   "metadata": {},
   "outputs": [
    {
     "data": {
      "application/vnd.plotly.v1+json": {
       "config": {
        "plotlyServerURL": "https://plot.ly"
       },
       "data": [
        {
         "alignmentgroup": "True",
         "hovertemplate": "Day of Week=%{y}<br>Area Burnt (Square Root Transformation)=%{x}<extra></extra>",
         "legendgroup": "sun",
         "marker": {
          "color": "#636efa"
         },
         "name": "sun",
         "notched": false,
         "offsetgroup": "sun",
         "orientation": "h",
         "showlegend": true,
         "type": "box",
         "x": [
          0,
          1.4866068747318506,
          0,
          1.2489995996796797,
          0,
          0,
          3.6124783736376886,
          7.818567643756752,
          1.4177446878757824,
          1.6552945357246849,
          1.905255888325765,
          3.478505426185217,
          0,
          2.870540018881465,
          5.141011573610781,
          0.6403124237432849,
          9.756023780208821,
          0,
          3.340658617698013,
          1.7888543819998317,
          0,
          0,
          0,
          2.7129319932501073,
          0.3,
          2.5377155080899043,
          0,
          0,
          0,
          0,
          14.017132374348185,
          0,
          0,
          0,
          5.6630380539071075,
          0.8717797887081347,
          0,
          0,
          8.006247560499238,
          0,
          0,
          0,
          0,
          0,
          0,
          3.3256578296631782,
          1.9261360284258222,
          1.1357816691600546,
          0,
          2.2759613353482084,
          0,
          0,
          0.9486832980505138,
          0,
          0,
          7.195832127002408,
          0,
          0,
          0,
          2.6814175355583845,
          0,
          1.6941074346097416,
          0,
          1.5620499351813308,
          2.3086792761230392,
          0,
          0,
          7.368174807915458,
          3.7802116342871597,
          0,
          6.967783004657938,
          0,
          0
         ],
         "x0": " ",
         "xaxis": "x",
         "y": [
          "sun",
          "sun",
          "sun",
          "sun",
          "sun",
          "sun",
          "sun",
          "sun",
          "sun",
          "sun",
          "sun",
          "sun",
          "sun",
          "sun",
          "sun",
          "sun",
          "sun",
          "sun",
          "sun",
          "sun",
          "sun",
          "sun",
          "sun",
          "sun",
          "sun",
          "sun",
          "sun",
          "sun",
          "sun",
          "sun",
          "sun",
          "sun",
          "sun",
          "sun",
          "sun",
          "sun",
          "sun",
          "sun",
          "sun",
          "sun",
          "sun",
          "sun",
          "sun",
          "sun",
          "sun",
          "sun",
          "sun",
          "sun",
          "sun",
          "sun",
          "sun",
          "sun",
          "sun",
          "sun",
          "sun",
          "sun",
          "sun",
          "sun",
          "sun",
          "sun",
          "sun",
          "sun",
          "sun",
          "sun",
          "sun",
          "sun",
          "sun",
          "sun",
          "sun",
          "sun",
          "sun",
          "sun",
          "sun"
         ],
         "y0": " ",
         "yaxis": "y"
        },
        {
         "alignmentgroup": "True",
         "hovertemplate": "Day of Week=%{y}<br>Area Burnt (Square Root Transformation)=%{x}<extra></extra>",
         "legendgroup": "sat",
         "marker": {
          "color": "#EF553B"
         },
         "name": "sat",
         "notched": false,
         "offsetgroup": "sat",
         "orientation": "h",
         "showlegend": true,
         "type": "box",
         "x": [
          0,
          0,
          5.0990195135927845,
          0,
          1.3928388277184118,
          0,
          7.635443667528429,
          14.175330683973478,
          1.9874606914351791,
          0,
          2.7202941017470885,
          2.535744466621193,
          0.848528137423857,
          0,
          2.1283796653792764,
          8.44393273303382,
          2.615339366124404,
          0,
          0,
          0,
          0,
          2.227105745132009,
          1.396424004376894,
          0,
          0,
          4.922397789695587,
          1.3928388277184118,
          0.8426149773176358,
          1.1958260743101399,
          0,
          0,
          3.4899856733230297,
          0,
          1.8220867158288598,
          0,
          0,
          6.272957835024878,
          0,
          0,
          2.930870177950569,
          3.3496268448888453,
          1.8708286933869707,
          0,
          0,
          5.3535035257296695,
          33.027867021653094,
          0,
          0.8246211251235321,
          0,
          3.930648801406709,
          2.831960451701259,
          0,
          8.38570211729465,
          0,
          2.565151067676132,
          13.214764470091776,
          1.174734012447073,
          0,
          0,
          0,
          1.2083045973594573,
          0,
          3.954743986657038,
          0,
          0,
          0,
          0,
          0,
          5.3535035257296695
         ],
         "x0": " ",
         "xaxis": "x",
         "y": [
          "sat",
          "sat",
          "sat",
          "sat",
          "sat",
          "sat",
          "sat",
          "sat",
          "sat",
          "sat",
          "sat",
          "sat",
          "sat",
          "sat",
          "sat",
          "sat",
          "sat",
          "sat",
          "sat",
          "sat",
          "sat",
          "sat",
          "sat",
          "sat",
          "sat",
          "sat",
          "sat",
          "sat",
          "sat",
          "sat",
          "sat",
          "sat",
          "sat",
          "sat",
          "sat",
          "sat",
          "sat",
          "sat",
          "sat",
          "sat",
          "sat",
          "sat",
          "sat",
          "sat",
          "sat",
          "sat",
          "sat",
          "sat",
          "sat",
          "sat",
          "sat",
          "sat",
          "sat",
          "sat",
          "sat",
          "sat",
          "sat",
          "sat",
          "sat",
          "sat",
          "sat",
          "sat",
          "sat",
          "sat",
          "sat",
          "sat",
          "sat",
          "sat",
          "sat"
         ],
         "y0": " ",
         "yaxis": "y"
        },
        {
         "alignmentgroup": "True",
         "hovertemplate": "Day of Week=%{y}<br>Area Burnt (Square Root Transformation)=%{x}<extra></extra>",
         "legendgroup": "wed",
         "marker": {
          "color": "#00cc96"
         },
         "name": "wed",
         "notched": false,
         "offsetgroup": "wed",
         "orientation": "h",
         "showlegend": true,
         "type": "box",
         "x": [
          0,
          2.209072203437452,
          0,
          0,
          0.458257569495584,
          0,
          0,
          1.5716233645501712,
          3.345145736735546,
          3.7013511046643495,
          0.8774964387392122,
          0,
          1.2767145334803705,
          2.4576411454889016,
          0,
          0,
          1.5132745950421556,
          5.632051136131489,
          0,
          0,
          1.5842979517754858,
          7.042016756583302,
          1.0488088481701516,
          0,
          2.535744466621193,
          0,
          0.8660254037844386,
          0.4898979485566356,
          0.8246211251235321,
          0.7416198487095663,
          0,
          3.0675723300355937,
          0,
          0,
          0,
          0,
          1.2806248474865698,
          1.2569805089976536,
          2.7802877548915688,
          1.396424004376894,
          13.629380029920656,
          6.140846847137616,
          0,
          9.406912352095134,
          2.420743687382041
         ],
         "x0": " ",
         "xaxis": "x",
         "y": [
          "wed",
          "wed",
          "wed",
          "wed",
          "wed",
          "wed",
          "wed",
          "wed",
          "wed",
          "wed",
          "wed",
          "wed",
          "wed",
          "wed",
          "wed",
          "wed",
          "wed",
          "wed",
          "wed",
          "wed",
          "wed",
          "wed",
          "wed",
          "wed",
          "wed",
          "wed",
          "wed",
          "wed",
          "wed",
          "wed",
          "wed",
          "wed",
          "wed",
          "wed",
          "wed",
          "wed",
          "wed",
          "wed",
          "wed",
          "wed",
          "wed",
          "wed",
          "wed",
          "wed",
          "wed"
         ],
         "y0": " ",
         "yaxis": "y"
        },
        {
         "alignmentgroup": "True",
         "hovertemplate": "Day of Week=%{y}<br>Area Burnt (Square Root Transformation)=%{x}<extra></extra>",
         "legendgroup": "thu",
         "marker": {
          "color": "#ab63fa"
         },
         "name": "thu",
         "notched": false,
         "offsetgroup": "thu",
         "orientation": "h",
         "showlegend": true,
         "type": "box",
         "x": [
          0,
          0,
          5.861740355901138,
          4.838388161361178,
          0,
          2.946183972531247,
          0,
          1.4628738838327795,
          2.4083189157584592,
          3.1749015732775088,
          4.04103947023535,
          0,
          0.9486832980505138,
          0,
          0,
          2.570992026436488,
          0,
          0,
          1.378404875209022,
          6.54751861394834,
          0,
          27.318125850797305,
          0,
          0,
          0,
          3.3256578296631782,
          1.5968719422671311,
          2.224859546128699,
          0,
          0,
          2.1,
          1.786057109949175,
          1.47648230602334,
          3.215587038162705,
          2.6851443164195103,
          2.1023796041628637,
          0,
          0,
          0,
          1.0583005244258363,
          0,
          0,
          0,
          3.817066936798463,
          0,
          2.147091055358389,
          0,
          1.2328828005937953,
          0,
          0,
          1.004987562112089
         ],
         "x0": " ",
         "xaxis": "x",
         "y": [
          "thu",
          "thu",
          "thu",
          "thu",
          "thu",
          "thu",
          "thu",
          "thu",
          "thu",
          "thu",
          "thu",
          "thu",
          "thu",
          "thu",
          "thu",
          "thu",
          "thu",
          "thu",
          "thu",
          "thu",
          "thu",
          "thu",
          "thu",
          "thu",
          "thu",
          "thu",
          "thu",
          "thu",
          "thu",
          "thu",
          "thu",
          "thu",
          "thu",
          "thu",
          "thu",
          "thu",
          "thu",
          "thu",
          "thu",
          "thu",
          "thu",
          "thu",
          "thu",
          "thu",
          "thu",
          "thu",
          "thu",
          "thu",
          "thu",
          "thu",
          "thu"
         ],
         "y0": " ",
         "yaxis": "y"
        },
        {
         "alignmentgroup": "True",
         "hovertemplate": "Day of Week=%{y}<br>Area Burnt (Square Root Transformation)=%{x}<extra></extra>",
         "legendgroup": "mon",
         "marker": {
          "color": "#FFA15A"
         },
         "name": "mon",
         "notched": false,
         "offsetgroup": "mon",
         "orientation": "h",
         "showlegend": true,
         "type": "box",
         "x": [
          1.2767145334803705,
          1.4387494569938157,
          1.8303005217723127,
          4.224926034855522,
          0,
          0,
          0,
          0,
          5.309425580983314,
          0,
          1.47648230602334,
          7.026378868236469,
          0,
          1.5329709716755893,
          0,
          1.3928388277184118,
          0,
          7.4859869088851605,
          1.783255450012701,
          0,
          5.506359959174482,
          1.752141546793523,
          3.27566787083184,
          16.68921807635097,
          0,
          0,
          1.4594519519326423,
          5.644466316668034,
          3.1256999216175565,
          0,
          2.414539293529927,
          2.701851217221259,
          0,
          0,
          0,
          1.876166303929372,
          0,
          0,
          0,
          0.6855654600401044,
          6.070420084310475,
          0,
          2.613426869074396,
          3.1559467676119,
          0.9746794344808963,
          4.693612681080534,
          0,
          0,
          0,
          5.229722745997153,
          1.982422760159901,
          0,
          1.2124355652982142,
          0,
          0,
          0,
          0
         ],
         "x0": " ",
         "xaxis": "x",
         "y": [
          "mon",
          "mon",
          "mon",
          "mon",
          "mon",
          "mon",
          "mon",
          "mon",
          "mon",
          "mon",
          "mon",
          "mon",
          "mon",
          "mon",
          "mon",
          "mon",
          "mon",
          "mon",
          "mon",
          "mon",
          "mon",
          "mon",
          "mon",
          "mon",
          "mon",
          "mon",
          "mon",
          "mon",
          "mon",
          "mon",
          "mon",
          "mon",
          "mon",
          "mon",
          "mon",
          "mon",
          "mon",
          "mon",
          "mon",
          "mon",
          "mon",
          "mon",
          "mon",
          "mon",
          "mon",
          "mon",
          "mon",
          "mon",
          "mon",
          "mon",
          "mon",
          "mon",
          "mon",
          "mon",
          "mon",
          "mon",
          "mon"
         ],
         "y0": " ",
         "yaxis": "y"
        },
        {
         "alignmentgroup": "True",
         "hovertemplate": "Day of Week=%{y}<br>Area Burnt (Square Root Transformation)=%{x}<extra></extra>",
         "legendgroup": "tue",
         "marker": {
          "color": "#19d3f3"
         },
         "name": "tue",
         "notched": false,
         "offsetgroup": "tue",
         "orientation": "h",
         "showlegend": true,
         "type": "box",
         "x": [
          0,
          1.711724276862369,
          2.951270912674741,
          0,
          0.9797958971132712,
          1.7578395831246945,
          0,
          0,
          0,
          6.367102951892642,
          0,
          0,
          10.168087332433766,
          0,
          2.649528259898354,
          9.297849213662266,
          2.32163735324878,
          3.8314488121336034,
          4.147288270665544,
          3.163858403911275,
          0,
          4.976946855251722,
          3.2893768406797053,
          0,
          2.0976176963403033,
          0,
          0,
          2.3769728648009427,
          1.3228756555322954,
          2.563201123595259,
          3.352610922848042,
          0.8888194417315589,
          0.6557438524302001,
          0,
          10.279105019407089,
          0,
          0,
          1.4142135623730951,
          0.7211102550927979,
          6.833739825307955,
          1.4628738838327795,
          3.0446674695276656,
          0,
          0,
          0,
          0,
          0,
          4.47548880012005
         ],
         "x0": " ",
         "xaxis": "x",
         "y": [
          "tue",
          "tue",
          "tue",
          "tue",
          "tue",
          "tue",
          "tue",
          "tue",
          "tue",
          "tue",
          "tue",
          "tue",
          "tue",
          "tue",
          "tue",
          "tue",
          "tue",
          "tue",
          "tue",
          "tue",
          "tue",
          "tue",
          "tue",
          "tue",
          "tue",
          "tue",
          "tue",
          "tue",
          "tue",
          "tue",
          "tue",
          "tue",
          "tue",
          "tue",
          "tue",
          "tue",
          "tue",
          "tue",
          "tue",
          "tue",
          "tue",
          "tue",
          "tue",
          "tue",
          "tue",
          "tue",
          "tue",
          "tue"
         ],
         "y0": " ",
         "yaxis": "y"
        },
        {
         "alignmentgroup": "True",
         "hovertemplate": "Day of Week=%{y}<br>Area Burnt (Square Root Transformation)=%{x}<extra></extra>",
         "legendgroup": "fri",
         "marker": {
          "color": "#FF6692"
         },
         "name": "fri",
         "notched": false,
         "offsetgroup": "fri",
         "orientation": "h",
         "showlegend": true,
         "type": "box",
         "x": [
          0,
          5.360970061472083,
          0,
          5.493632677928148,
          0,
          1.0908712114635715,
          0.7810249675906654,
          0.5744562646538028,
          2.7037011669191546,
          3.1559467676119,
          0,
          1.3,
          6.084406298070503,
          0,
          5.989991652748775,
          5.111751167652823,
          2.882707061079915,
          4.923413450036469,
          0,
          0,
          1.624807680927192,
          1.1224972160321824,
          2.792848008753788,
          0,
          0,
          0,
          0,
          0,
          1.4730919862656235,
          0,
          0.7211102550927979,
          0,
          0,
          0,
          0,
          6.581793068761733,
          0,
          0,
          0,
          0,
          3.1654383582688825,
          0,
          0,
          1.2083045973594573,
          1.2806248474865698,
          1.044030650891055,
          0,
          3.6138621999185303,
          2.0615528128088303,
          2.4433583445741234,
          0,
          0,
          0,
          2.8495613697550013,
          0,
          0,
          1.5905973720586866,
          0,
          2.149418526020468,
          1.9261360284258222,
          1.3114877048604001,
          0,
          0,
          1.9849433241279208,
          3.116087290176577,
          0,
          4.38520238985614,
          0,
          0,
          0.6557438524302001
         ],
         "x0": " ",
         "xaxis": "x",
         "y": [
          "fri",
          "fri",
          "fri",
          "fri",
          "fri",
          "fri",
          "fri",
          "fri",
          "fri",
          "fri",
          "fri",
          "fri",
          "fri",
          "fri",
          "fri",
          "fri",
          "fri",
          "fri",
          "fri",
          "fri",
          "fri",
          "fri",
          "fri",
          "fri",
          "fri",
          "fri",
          "fri",
          "fri",
          "fri",
          "fri",
          "fri",
          "fri",
          "fri",
          "fri",
          "fri",
          "fri",
          "fri",
          "fri",
          "fri",
          "fri",
          "fri",
          "fri",
          "fri",
          "fri",
          "fri",
          "fri",
          "fri",
          "fri",
          "fri",
          "fri",
          "fri",
          "fri",
          "fri",
          "fri",
          "fri",
          "fri",
          "fri",
          "fri",
          "fri",
          "fri",
          "fri",
          "fri",
          "fri",
          "fri",
          "fri",
          "fri",
          "fri",
          "fri",
          "fri",
          "fri"
         ],
         "y0": " ",
         "yaxis": "y"
        }
       ],
       "layout": {
        "boxmode": "overlay",
        "height": 450,
        "legend": {
         "title": {
          "text": "Day of Week"
         },
         "tracegroupgap": 0
        },
        "template": {
         "data": {
          "bar": [
           {
            "error_x": {
             "color": "#2a3f5f"
            },
            "error_y": {
             "color": "#2a3f5f"
            },
            "marker": {
             "line": {
              "color": "#E5ECF6",
              "width": 0.5
             },
             "pattern": {
              "fillmode": "overlay",
              "size": 10,
              "solidity": 0.2
             }
            },
            "type": "bar"
           }
          ],
          "barpolar": [
           {
            "marker": {
             "line": {
              "color": "#E5ECF6",
              "width": 0.5
             },
             "pattern": {
              "fillmode": "overlay",
              "size": 10,
              "solidity": 0.2
             }
            },
            "type": "barpolar"
           }
          ],
          "carpet": [
           {
            "aaxis": {
             "endlinecolor": "#2a3f5f",
             "gridcolor": "white",
             "linecolor": "white",
             "minorgridcolor": "white",
             "startlinecolor": "#2a3f5f"
            },
            "baxis": {
             "endlinecolor": "#2a3f5f",
             "gridcolor": "white",
             "linecolor": "white",
             "minorgridcolor": "white",
             "startlinecolor": "#2a3f5f"
            },
            "type": "carpet"
           }
          ],
          "choropleth": [
           {
            "colorbar": {
             "outlinewidth": 0,
             "ticks": ""
            },
            "type": "choropleth"
           }
          ],
          "contour": [
           {
            "colorbar": {
             "outlinewidth": 0,
             "ticks": ""
            },
            "colorscale": [
             [
              0,
              "#0d0887"
             ],
             [
              0.1111111111111111,
              "#46039f"
             ],
             [
              0.2222222222222222,
              "#7201a8"
             ],
             [
              0.3333333333333333,
              "#9c179e"
             ],
             [
              0.4444444444444444,
              "#bd3786"
             ],
             [
              0.5555555555555556,
              "#d8576b"
             ],
             [
              0.6666666666666666,
              "#ed7953"
             ],
             [
              0.7777777777777778,
              "#fb9f3a"
             ],
             [
              0.8888888888888888,
              "#fdca26"
             ],
             [
              1,
              "#f0f921"
             ]
            ],
            "type": "contour"
           }
          ],
          "contourcarpet": [
           {
            "colorbar": {
             "outlinewidth": 0,
             "ticks": ""
            },
            "type": "contourcarpet"
           }
          ],
          "heatmap": [
           {
            "colorbar": {
             "outlinewidth": 0,
             "ticks": ""
            },
            "colorscale": [
             [
              0,
              "#0d0887"
             ],
             [
              0.1111111111111111,
              "#46039f"
             ],
             [
              0.2222222222222222,
              "#7201a8"
             ],
             [
              0.3333333333333333,
              "#9c179e"
             ],
             [
              0.4444444444444444,
              "#bd3786"
             ],
             [
              0.5555555555555556,
              "#d8576b"
             ],
             [
              0.6666666666666666,
              "#ed7953"
             ],
             [
              0.7777777777777778,
              "#fb9f3a"
             ],
             [
              0.8888888888888888,
              "#fdca26"
             ],
             [
              1,
              "#f0f921"
             ]
            ],
            "type": "heatmap"
           }
          ],
          "heatmapgl": [
           {
            "colorbar": {
             "outlinewidth": 0,
             "ticks": ""
            },
            "colorscale": [
             [
              0,
              "#0d0887"
             ],
             [
              0.1111111111111111,
              "#46039f"
             ],
             [
              0.2222222222222222,
              "#7201a8"
             ],
             [
              0.3333333333333333,
              "#9c179e"
             ],
             [
              0.4444444444444444,
              "#bd3786"
             ],
             [
              0.5555555555555556,
              "#d8576b"
             ],
             [
              0.6666666666666666,
              "#ed7953"
             ],
             [
              0.7777777777777778,
              "#fb9f3a"
             ],
             [
              0.8888888888888888,
              "#fdca26"
             ],
             [
              1,
              "#f0f921"
             ]
            ],
            "type": "heatmapgl"
           }
          ],
          "histogram": [
           {
            "marker": {
             "pattern": {
              "fillmode": "overlay",
              "size": 10,
              "solidity": 0.2
             }
            },
            "type": "histogram"
           }
          ],
          "histogram2d": [
           {
            "colorbar": {
             "outlinewidth": 0,
             "ticks": ""
            },
            "colorscale": [
             [
              0,
              "#0d0887"
             ],
             [
              0.1111111111111111,
              "#46039f"
             ],
             [
              0.2222222222222222,
              "#7201a8"
             ],
             [
              0.3333333333333333,
              "#9c179e"
             ],
             [
              0.4444444444444444,
              "#bd3786"
             ],
             [
              0.5555555555555556,
              "#d8576b"
             ],
             [
              0.6666666666666666,
              "#ed7953"
             ],
             [
              0.7777777777777778,
              "#fb9f3a"
             ],
             [
              0.8888888888888888,
              "#fdca26"
             ],
             [
              1,
              "#f0f921"
             ]
            ],
            "type": "histogram2d"
           }
          ],
          "histogram2dcontour": [
           {
            "colorbar": {
             "outlinewidth": 0,
             "ticks": ""
            },
            "colorscale": [
             [
              0,
              "#0d0887"
             ],
             [
              0.1111111111111111,
              "#46039f"
             ],
             [
              0.2222222222222222,
              "#7201a8"
             ],
             [
              0.3333333333333333,
              "#9c179e"
             ],
             [
              0.4444444444444444,
              "#bd3786"
             ],
             [
              0.5555555555555556,
              "#d8576b"
             ],
             [
              0.6666666666666666,
              "#ed7953"
             ],
             [
              0.7777777777777778,
              "#fb9f3a"
             ],
             [
              0.8888888888888888,
              "#fdca26"
             ],
             [
              1,
              "#f0f921"
             ]
            ],
            "type": "histogram2dcontour"
           }
          ],
          "mesh3d": [
           {
            "colorbar": {
             "outlinewidth": 0,
             "ticks": ""
            },
            "type": "mesh3d"
           }
          ],
          "parcoords": [
           {
            "line": {
             "colorbar": {
              "outlinewidth": 0,
              "ticks": ""
             }
            },
            "type": "parcoords"
           }
          ],
          "pie": [
           {
            "automargin": true,
            "type": "pie"
           }
          ],
          "scatter": [
           {
            "fillpattern": {
             "fillmode": "overlay",
             "size": 10,
             "solidity": 0.2
            },
            "type": "scatter"
           }
          ],
          "scatter3d": [
           {
            "line": {
             "colorbar": {
              "outlinewidth": 0,
              "ticks": ""
             }
            },
            "marker": {
             "colorbar": {
              "outlinewidth": 0,
              "ticks": ""
             }
            },
            "type": "scatter3d"
           }
          ],
          "scattercarpet": [
           {
            "marker": {
             "colorbar": {
              "outlinewidth": 0,
              "ticks": ""
             }
            },
            "type": "scattercarpet"
           }
          ],
          "scattergeo": [
           {
            "marker": {
             "colorbar": {
              "outlinewidth": 0,
              "ticks": ""
             }
            },
            "type": "scattergeo"
           }
          ],
          "scattergl": [
           {
            "marker": {
             "colorbar": {
              "outlinewidth": 0,
              "ticks": ""
             }
            },
            "type": "scattergl"
           }
          ],
          "scattermapbox": [
           {
            "marker": {
             "colorbar": {
              "outlinewidth": 0,
              "ticks": ""
             }
            },
            "type": "scattermapbox"
           }
          ],
          "scatterpolar": [
           {
            "marker": {
             "colorbar": {
              "outlinewidth": 0,
              "ticks": ""
             }
            },
            "type": "scatterpolar"
           }
          ],
          "scatterpolargl": [
           {
            "marker": {
             "colorbar": {
              "outlinewidth": 0,
              "ticks": ""
             }
            },
            "type": "scatterpolargl"
           }
          ],
          "scatterternary": [
           {
            "marker": {
             "colorbar": {
              "outlinewidth": 0,
              "ticks": ""
             }
            },
            "type": "scatterternary"
           }
          ],
          "surface": [
           {
            "colorbar": {
             "outlinewidth": 0,
             "ticks": ""
            },
            "colorscale": [
             [
              0,
              "#0d0887"
             ],
             [
              0.1111111111111111,
              "#46039f"
             ],
             [
              0.2222222222222222,
              "#7201a8"
             ],
             [
              0.3333333333333333,
              "#9c179e"
             ],
             [
              0.4444444444444444,
              "#bd3786"
             ],
             [
              0.5555555555555556,
              "#d8576b"
             ],
             [
              0.6666666666666666,
              "#ed7953"
             ],
             [
              0.7777777777777778,
              "#fb9f3a"
             ],
             [
              0.8888888888888888,
              "#fdca26"
             ],
             [
              1,
              "#f0f921"
             ]
            ],
            "type": "surface"
           }
          ],
          "table": [
           {
            "cells": {
             "fill": {
              "color": "#EBF0F8"
             },
             "line": {
              "color": "white"
             }
            },
            "header": {
             "fill": {
              "color": "#C8D4E3"
             },
             "line": {
              "color": "white"
             }
            },
            "type": "table"
           }
          ]
         },
         "layout": {
          "annotationdefaults": {
           "arrowcolor": "#2a3f5f",
           "arrowhead": 0,
           "arrowwidth": 1
          },
          "autotypenumbers": "strict",
          "coloraxis": {
           "colorbar": {
            "outlinewidth": 0,
            "ticks": ""
           }
          },
          "colorscale": {
           "diverging": [
            [
             0,
             "#8e0152"
            ],
            [
             0.1,
             "#c51b7d"
            ],
            [
             0.2,
             "#de77ae"
            ],
            [
             0.3,
             "#f1b6da"
            ],
            [
             0.4,
             "#fde0ef"
            ],
            [
             0.5,
             "#f7f7f7"
            ],
            [
             0.6,
             "#e6f5d0"
            ],
            [
             0.7,
             "#b8e186"
            ],
            [
             0.8,
             "#7fbc41"
            ],
            [
             0.9,
             "#4d9221"
            ],
            [
             1,
             "#276419"
            ]
           ],
           "sequential": [
            [
             0,
             "#0d0887"
            ],
            [
             0.1111111111111111,
             "#46039f"
            ],
            [
             0.2222222222222222,
             "#7201a8"
            ],
            [
             0.3333333333333333,
             "#9c179e"
            ],
            [
             0.4444444444444444,
             "#bd3786"
            ],
            [
             0.5555555555555556,
             "#d8576b"
            ],
            [
             0.6666666666666666,
             "#ed7953"
            ],
            [
             0.7777777777777778,
             "#fb9f3a"
            ],
            [
             0.8888888888888888,
             "#fdca26"
            ],
            [
             1,
             "#f0f921"
            ]
           ],
           "sequentialminus": [
            [
             0,
             "#0d0887"
            ],
            [
             0.1111111111111111,
             "#46039f"
            ],
            [
             0.2222222222222222,
             "#7201a8"
            ],
            [
             0.3333333333333333,
             "#9c179e"
            ],
            [
             0.4444444444444444,
             "#bd3786"
            ],
            [
             0.5555555555555556,
             "#d8576b"
            ],
            [
             0.6666666666666666,
             "#ed7953"
            ],
            [
             0.7777777777777778,
             "#fb9f3a"
            ],
            [
             0.8888888888888888,
             "#fdca26"
            ],
            [
             1,
             "#f0f921"
            ]
           ]
          },
          "colorway": [
           "#636efa",
           "#EF553B",
           "#00cc96",
           "#ab63fa",
           "#FFA15A",
           "#19d3f3",
           "#FF6692",
           "#B6E880",
           "#FF97FF",
           "#FECB52"
          ],
          "font": {
           "color": "#2a3f5f"
          },
          "geo": {
           "bgcolor": "white",
           "lakecolor": "white",
           "landcolor": "#E5ECF6",
           "showlakes": true,
           "showland": true,
           "subunitcolor": "white"
          },
          "hoverlabel": {
           "align": "left"
          },
          "hovermode": "closest",
          "mapbox": {
           "style": "light"
          },
          "paper_bgcolor": "white",
          "plot_bgcolor": "#E5ECF6",
          "polar": {
           "angularaxis": {
            "gridcolor": "white",
            "linecolor": "white",
            "ticks": ""
           },
           "bgcolor": "#E5ECF6",
           "radialaxis": {
            "gridcolor": "white",
            "linecolor": "white",
            "ticks": ""
           }
          },
          "scene": {
           "xaxis": {
            "backgroundcolor": "#E5ECF6",
            "gridcolor": "white",
            "gridwidth": 2,
            "linecolor": "white",
            "showbackground": true,
            "ticks": "",
            "zerolinecolor": "white"
           },
           "yaxis": {
            "backgroundcolor": "#E5ECF6",
            "gridcolor": "white",
            "gridwidth": 2,
            "linecolor": "white",
            "showbackground": true,
            "ticks": "",
            "zerolinecolor": "white"
           },
           "zaxis": {
            "backgroundcolor": "#E5ECF6",
            "gridcolor": "white",
            "gridwidth": 2,
            "linecolor": "white",
            "showbackground": true,
            "ticks": "",
            "zerolinecolor": "white"
           }
          },
          "shapedefaults": {
           "line": {
            "color": "#2a3f5f"
           }
          },
          "ternary": {
           "aaxis": {
            "gridcolor": "white",
            "linecolor": "white",
            "ticks": ""
           },
           "baxis": {
            "gridcolor": "white",
            "linecolor": "white",
            "ticks": ""
           },
           "bgcolor": "#E5ECF6",
           "caxis": {
            "gridcolor": "white",
            "linecolor": "white",
            "ticks": ""
           }
          },
          "title": {
           "x": 0.05
          },
          "xaxis": {
           "automargin": true,
           "gridcolor": "white",
           "linecolor": "white",
           "ticks": "",
           "title": {
            "standoff": 15
           },
           "zerolinecolor": "white",
           "zerolinewidth": 2
          },
          "yaxis": {
           "automargin": true,
           "gridcolor": "white",
           "linecolor": "white",
           "ticks": "",
           "title": {
            "standoff": 15
           },
           "zerolinecolor": "white",
           "zerolinewidth": 2
          }
         }
        },
        "title": {
         "text": "Area Burnt (Square Root Transformation) by Day of Week"
        },
        "width": 750,
        "xaxis": {
         "anchor": "y",
         "domain": [
          0,
          1
         ],
         "title": {
          "text": "Area Burnt (Square Root Transformation)"
         }
        },
        "yaxis": {
         "anchor": "x",
         "categoryarray": [
          "fri",
          "tue",
          "mon",
          "thu",
          "wed",
          "sat",
          "sun"
         ],
         "categoryorder": "array",
         "domain": [
          0,
          1
         ],
         "title": {
          "text": "Day of Week"
         }
        }
       }
      }
     },
     "metadata": {},
     "output_type": "display_data"
    }
   ],
   "source": [
    "train_set[\"sqrt_area\"] = train_set[\"area\"].apply(np.sqrt)\n",
    "fig = px.box(\n",
    "    train_set,\n",
    "    x=\"sqrt_area\",\n",
    "    y=\"day\",\n",
    "    color=\"day\",\n",
    "    title=\"Area Burnt (Square Root Transformation) by Day of Week\",\n",
    "    labels={\n",
    "        \"sqrt_area\": \"Area Burnt (Square Root Transformation)\",\n",
    "        \"day\": \"Day of Week\"\n",
    "    }\n",
    ")\n",
    "fig.update_layout(\n",
    "    width=750,\n",
    "    height=450\n",
    ")\n",
    "fig.show()"
   ]
  },
  {
   "cell_type": "code",
   "execution_count": 19,
   "id": "9fe01197",
   "metadata": {},
   "outputs": [
    {
     "data": {
      "text/plain": [
       "Index(['X', 'Y', 'month', 'day', 'FFMC', 'DMC', 'DC', 'ISI', 'temp', 'RH',\n",
       "       'wind', 'rain', 'area', 'log_area', 'sqrt_area'],\n",
       "      dtype='object')"
      ]
     },
     "execution_count": 19,
     "metadata": {},
     "output_type": "execute_result"
    }
   ],
   "source": [
    "train_set.columns"
   ]
  },
  {
   "cell_type": "markdown",
   "id": "24715b89",
   "metadata": {},
   "source": [
    "Some months like may, november, and jan have zero observations"
   ]
  },
  {
   "cell_type": "code",
   "execution_count": 20,
   "id": "e5bcca3b-6412-4ad0-bcfc-7fa96399988a",
   "metadata": {},
   "outputs": [
    {
     "data": {
      "application/vnd.plotly.v1+json": {
       "config": {
        "plotlyServerURL": "https://plot.ly"
       },
       "data": [
        {
         "alignmentgroup": "True",
         "hovertemplate": "month=%{y}<br>Area Burnt (Square Root Transformation)=%{x}<extra></extra>",
         "legendgroup": "jul",
         "marker": {
          "color": "#636efa"
         },
         "name": "jul",
         "notched": false,
         "offsetgroup": "jul",
         "orientation": "h",
         "showlegend": true,
         "type": "box",
         "x": [
          0,
          1.2767145334803705,
          1.4866068747318506,
          6.084406298070503,
          0,
          1.624807680927192,
          0,
          2.7129319932501073,
          16.68921807635097,
          0.8426149773176358,
          1.1958260743101399,
          0,
          2.649528259898354,
          9.297849213662266,
          0,
          0,
          2.563201123595259,
          0,
          0,
          2.7802877548915688,
          0,
          0
         ],
         "x0": " ",
         "xaxis": "x",
         "y": [
          "jul",
          "jul",
          "jul",
          "jul",
          "jul",
          "jul",
          "jul",
          "jul",
          "jul",
          "jul",
          "jul",
          "jul",
          "jul",
          "jul",
          "jul",
          "jul",
          "jul",
          "jul",
          "jul",
          "jul",
          "jul",
          "jul"
         ],
         "y0": " ",
         "yaxis": "y"
        },
        {
         "alignmentgroup": "True",
         "hovertemplate": "month=%{y}<br>Area Burnt (Square Root Transformation)=%{x}<extra></extra>",
         "legendgroup": "aug",
         "marker": {
          "color": "#EF553B"
         },
         "name": "aug",
         "notched": false,
         "offsetgroup": "aug",
         "orientation": "h",
         "showlegend": true,
         "type": "box",
         "x": [
          0,
          0,
          0,
          0,
          5.0990195135927845,
          0,
          1.2489995996796797,
          0,
          5.360970061472083,
          2.946183972531247,
          1.4387494569938157,
          0,
          0,
          0.7810249675906654,
          0,
          1.6552945357246849,
          2.951270912674741,
          0,
          0.458257569495584,
          0,
          1.905255888325765,
          0,
          0,
          7.635443667528429,
          2.535744466621193,
          0,
          0,
          1.5329709716755893,
          5.141011573610781,
          0,
          1.7578395831246945,
          2.1283796653792764,
          8.44393273303382,
          0,
          1.5716233645501712,
          0,
          0,
          3.340658617698013,
          0.8774964387392122,
          2.4083189157584592,
          1.2767145334803705,
          0,
          1.7888543819998317,
          0,
          0,
          0,
          0,
          4.04103947023535,
          0,
          1.4730919862656235,
          0,
          0,
          0.9486832980505138,
          2.227105745132009,
          1.5132745950421556,
          0.3,
          0,
          0,
          1.3928388277184118,
          2.5377155080899043,
          0,
          6.367102951892642,
          0,
          0,
          14.017132374348185,
          0,
          0,
          0,
          0,
          3.4899856733230297,
          1.8220867158288598,
          6.581793068761733,
          0,
          5.6630380539071075,
          1.5842979517754858,
          7.042016756583302,
          0,
          0,
          0.8717797887081347,
          0,
          3.8314488121336034,
          1.378404875209022,
          3.163858403911275,
          0,
          6.54751861394834,
          0,
          0,
          2.930870177950569,
          0,
          27.318125850797305,
          3.1654383582688825,
          0,
          3.2893768406797053,
          1.8708286933869707,
          0,
          2.535744466621193,
          0,
          1.5968719422671311,
          0.8660254037844386,
          0.8246211251235321,
          0.4898979485566356,
          2.0976176963403033,
          0,
          0,
          3.930648801406709,
          0.8246211251235321,
          0,
          1.1357816691600546,
          0.7416198487095663,
          3.215587038162705,
          0,
          2.831960451701259,
          0,
          13.214764470091776,
          0.8888194417315589,
          2.0615528128088303,
          0,
          1.174734012447073,
          0,
          0,
          0,
          1.4142135623730951,
          0,
          1.6941074346097416,
          0,
          0.7211102550927979,
          6.833739825307955,
          0,
          1.2806248474865698,
          0,
          3.0446674695276656,
          1.5620499351813308,
          0,
          0,
          0,
          0,
          0,
          0,
          0,
          7.368174807915458,
          3.116087290176577,
          1.396424004376894,
          13.629380029920656,
          1.2328828005937953,
          0,
          0,
          0,
          2.420743687382041,
          0.6557438524302001
         ],
         "x0": " ",
         "xaxis": "x",
         "y": [
          "aug",
          "aug",
          "aug",
          "aug",
          "aug",
          "aug",
          "aug",
          "aug",
          "aug",
          "aug",
          "aug",
          "aug",
          "aug",
          "aug",
          "aug",
          "aug",
          "aug",
          "aug",
          "aug",
          "aug",
          "aug",
          "aug",
          "aug",
          "aug",
          "aug",
          "aug",
          "aug",
          "aug",
          "aug",
          "aug",
          "aug",
          "aug",
          "aug",
          "aug",
          "aug",
          "aug",
          "aug",
          "aug",
          "aug",
          "aug",
          "aug",
          "aug",
          "aug",
          "aug",
          "aug",
          "aug",
          "aug",
          "aug",
          "aug",
          "aug",
          "aug",
          "aug",
          "aug",
          "aug",
          "aug",
          "aug",
          "aug",
          "aug",
          "aug",
          "aug",
          "aug",
          "aug",
          "aug",
          "aug",
          "aug",
          "aug",
          "aug",
          "aug",
          "aug",
          "aug",
          "aug",
          "aug",
          "aug",
          "aug",
          "aug",
          "aug",
          "aug",
          "aug",
          "aug",
          "aug",
          "aug",
          "aug",
          "aug",
          "aug",
          "aug",
          "aug",
          "aug",
          "aug",
          "aug",
          "aug",
          "aug",
          "aug",
          "aug",
          "aug",
          "aug",
          "aug",
          "aug",
          "aug",
          "aug",
          "aug",
          "aug",
          "aug",
          "aug",
          "aug",
          "aug",
          "aug",
          "aug",
          "aug",
          "aug",
          "aug",
          "aug",
          "aug",
          "aug",
          "aug",
          "aug",
          "aug",
          "aug",
          "aug",
          "aug",
          "aug",
          "aug",
          "aug",
          "aug",
          "aug",
          "aug",
          "aug",
          "aug",
          "aug",
          "aug",
          "aug",
          "aug",
          "aug",
          "aug",
          "aug",
          "aug",
          "aug",
          "aug",
          "aug",
          "aug",
          "aug",
          "aug",
          "aug",
          "aug",
          "aug",
          "aug",
          "aug",
          "aug",
          "aug",
          "aug"
         ],
         "y0": " ",
         "yaxis": "y"
        },
        {
         "alignmentgroup": "True",
         "hovertemplate": "month=%{y}<br>Area Burnt (Square Root Transformation)=%{x}<extra></extra>",
         "legendgroup": "sep",
         "marker": {
          "color": "#00cc96"
         },
         "name": "sep",
         "notched": false,
         "offsetgroup": "sep",
         "orientation": "h",
         "showlegend": true,
         "type": "box",
         "x": [
          0,
          5.861740355901138,
          4.838388161361178,
          0,
          0,
          0,
          5.493632677928148,
          2.209072203437452,
          1.711724276862369,
          0.5744562646538028,
          1.4177446878757824,
          2.7037011669191546,
          3.1559467676119,
          0,
          0,
          0,
          5.309425580983314,
          1.3,
          14.175330683973478,
          1.9874606914351791,
          1.47648230602334,
          0.848528137423857,
          5.989991652748775,
          5.111751167652823,
          0.9797958971132712,
          0.6403124237432849,
          0,
          0,
          9.756023780208821,
          0,
          1.1224972160321824,
          7.4859869088851605,
          2.792848008753788,
          0,
          2.4576411454889016,
          0,
          0,
          0,
          5.506359959174482,
          1.752141546793523,
          0.7211102550927979,
          1.396424004376894,
          5.632051136131489,
          0,
          0,
          0,
          0,
          10.168087332433766,
          0,
          0,
          1.4594519519326423,
          0,
          6.272957835024878,
          0,
          8.006247560499238,
          0,
          0,
          4.147288270665544,
          0,
          0,
          0,
          2.414539293529927,
          2.701851217221259,
          0,
          3.3496268448888453,
          0,
          0,
          3.3256578296631782,
          33.027867021653094,
          0,
          0,
          3.3256578296631782,
          1.2083045973594573,
          1.9261360284258222,
          2.224859546128699,
          0,
          2.1,
          2.3769728648009427,
          0,
          2.2759613353482084,
          1.47648230602334,
          2.6851443164195103,
          1.2806248474865698,
          2.1023796041628637,
          0,
          0,
          0,
          0,
          1.044030650891055,
          0,
          3.0675723300355937,
          3.6138621999185303,
          2.565151067676132,
          1.3228756555322954,
          0,
          0.6855654600401044,
          3.352610922848042,
          0,
          0,
          2.4433583445741234,
          0,
          1.0583005244258363,
          0.6557438524302001,
          0,
          0,
          0,
          10.279105019407089,
          0,
          0,
          0,
          2.8495613697550013,
          1.2083045973594573,
          3.817066936798463,
          1.2569805089976536,
          3.954743986657038,
          0,
          1.9261360284258222,
          1.3114877048604001,
          0,
          2.3086792761230392,
          0,
          1.9849433241279208,
          1.982422760159901,
          3.7802116342871597,
          0,
          0,
          4.38520238985614,
          0,
          1.2124355652982142,
          6.140846847137616,
          0,
          0,
          0,
          6.967783004657938,
          0,
          9.406912352095134,
          1.004987562112089,
          4.47548880012005
         ],
         "x0": " ",
         "xaxis": "x",
         "y": [
          "sep",
          "sep",
          "sep",
          "sep",
          "sep",
          "sep",
          "sep",
          "sep",
          "sep",
          "sep",
          "sep",
          "sep",
          "sep",
          "sep",
          "sep",
          "sep",
          "sep",
          "sep",
          "sep",
          "sep",
          "sep",
          "sep",
          "sep",
          "sep",
          "sep",
          "sep",
          "sep",
          "sep",
          "sep",
          "sep",
          "sep",
          "sep",
          "sep",
          "sep",
          "sep",
          "sep",
          "sep",
          "sep",
          "sep",
          "sep",
          "sep",
          "sep",
          "sep",
          "sep",
          "sep",
          "sep",
          "sep",
          "sep",
          "sep",
          "sep",
          "sep",
          "sep",
          "sep",
          "sep",
          "sep",
          "sep",
          "sep",
          "sep",
          "sep",
          "sep",
          "sep",
          "sep",
          "sep",
          "sep",
          "sep",
          "sep",
          "sep",
          "sep",
          "sep",
          "sep",
          "sep",
          "sep",
          "sep",
          "sep",
          "sep",
          "sep",
          "sep",
          "sep",
          "sep",
          "sep",
          "sep",
          "sep",
          "sep",
          "sep",
          "sep",
          "sep",
          "sep",
          "sep",
          "sep",
          "sep",
          "sep",
          "sep",
          "sep",
          "sep",
          "sep",
          "sep",
          "sep",
          "sep",
          "sep",
          "sep",
          "sep",
          "sep",
          "sep",
          "sep",
          "sep",
          "sep",
          "sep",
          "sep",
          "sep",
          "sep",
          "sep",
          "sep",
          "sep",
          "sep",
          "sep",
          "sep",
          "sep",
          "sep",
          "sep",
          "sep",
          "sep",
          "sep",
          "sep",
          "sep",
          "sep",
          "sep",
          "sep",
          "sep",
          "sep",
          "sep",
          "sep",
          "sep",
          "sep",
          "sep",
          "sep",
          "sep",
          "sep",
          "sep"
         ],
         "y0": " ",
         "yaxis": "y"
        },
        {
         "alignmentgroup": "True",
         "hovertemplate": "month=%{y}<br>Area Burnt (Square Root Transformation)=%{x}<extra></extra>",
         "legendgroup": "feb",
         "marker": {
          "color": "#ab63fa"
         },
         "name": "feb",
         "notched": false,
         "offsetgroup": "feb",
         "orientation": "h",
         "showlegend": true,
         "type": "box",
         "x": [
          0,
          3.6124783736376886,
          2.615339366124404,
          4.923413450036469,
          0,
          2.32163735324878,
          1.0488088481701516,
          0,
          0,
          0,
          7.195832127002408,
          3.1559467676119,
          1.4628738838327795,
          0,
          0,
          2.149418526020468,
          0
         ],
         "x0": " ",
         "xaxis": "x",
         "y": [
          "feb",
          "feb",
          "feb",
          "feb",
          "feb",
          "feb",
          "feb",
          "feb",
          "feb",
          "feb",
          "feb",
          "feb",
          "feb",
          "feb",
          "feb",
          "feb",
          "feb"
         ],
         "y0": " ",
         "yaxis": "y"
        },
        {
         "alignmentgroup": "True",
         "hovertemplate": "month=%{y}<br>Area Burnt (Square Root Transformation)=%{x}<extra></extra>",
         "legendgroup": "mar",
         "marker": {
          "color": "#FFA15A"
         },
         "name": "mar",
         "notched": false,
         "offsetgroup": "mar",
         "orientation": "h",
         "showlegend": true,
         "type": "box",
         "x": [
          0,
          0,
          1.3928388277184118,
          0,
          3.478505426185217,
          2.870540018881465,
          2.7202941017470885,
          2.882707061079915,
          1.4628738838327795,
          0,
          0,
          1.783255450012701,
          0,
          0,
          0,
          0,
          0,
          2.570992026436488,
          5.644466316668034,
          0,
          0,
          0,
          0,
          0,
          5.3535035257296695,
          0,
          0,
          0,
          0,
          6.070420084310475,
          0,
          0,
          0,
          2.6814175355583845,
          0,
          0.9746794344808963,
          0,
          1.5905973720586866,
          0,
          5.229722745997153,
          0,
          0,
          0,
          5.3535035257296695,
          0
         ],
         "x0": " ",
         "xaxis": "x",
         "y": [
          "mar",
          "mar",
          "mar",
          "mar",
          "mar",
          "mar",
          "mar",
          "mar",
          "mar",
          "mar",
          "mar",
          "mar",
          "mar",
          "mar",
          "mar",
          "mar",
          "mar",
          "mar",
          "mar",
          "mar",
          "mar",
          "mar",
          "mar",
          "mar",
          "mar",
          "mar",
          "mar",
          "mar",
          "mar",
          "mar",
          "mar",
          "mar",
          "mar",
          "mar",
          "mar",
          "mar",
          "mar",
          "mar",
          "mar",
          "mar",
          "mar",
          "mar",
          "mar",
          "mar",
          "mar"
         ],
         "y0": " ",
         "yaxis": "y"
        },
        {
         "alignmentgroup": "True",
         "hovertemplate": "month=%{y}<br>Area Burnt (Square Root Transformation)=%{x}<extra></extra>",
         "legendgroup": "apr",
         "marker": {
          "color": "#19d3f3"
         },
         "name": "apr",
         "notched": false,
         "offsetgroup": "apr",
         "orientation": "h",
         "showlegend": true,
         "type": "box",
         "x": [
          1.8303005217723127,
          7.818567643756752,
          0,
          0,
          0,
          0,
          0,
          2.147091055358389
         ],
         "x0": " ",
         "xaxis": "x",
         "y": [
          "apr",
          "apr",
          "apr",
          "apr",
          "apr",
          "apr",
          "apr",
          "apr"
         ],
         "y0": " ",
         "yaxis": "y"
        },
        {
         "alignmentgroup": "True",
         "hovertemplate": "month=%{y}<br>Area Burnt (Square Root Transformation)=%{x}<extra></extra>",
         "legendgroup": "dec",
         "marker": {
          "color": "#FF6692"
         },
         "name": "dec",
         "notched": false,
         "offsetgroup": "dec",
         "orientation": "h",
         "showlegend": true,
         "type": "box",
         "x": [
          4.224926034855522,
          3.345145736735546,
          3.27566787083184,
          3.1256999216175565,
          4.976946855251722,
          4.693612681080534
         ],
         "x0": " ",
         "xaxis": "x",
         "y": [
          "dec",
          "dec",
          "dec",
          "dec",
          "dec",
          "dec"
         ],
         "y0": " ",
         "yaxis": "y"
        },
        {
         "alignmentgroup": "True",
         "hovertemplate": "month=%{y}<br>Area Burnt (Square Root Transformation)=%{x}<extra></extra>",
         "legendgroup": "jun",
         "marker": {
          "color": "#B6E880"
         },
         "name": "jun",
         "notched": false,
         "offsetgroup": "jun",
         "orientation": "h",
         "showlegend": true,
         "type": "box",
         "x": [
          1.0908712114635715,
          0,
          0,
          1.3928388277184118,
          3.1749015732775088,
          0,
          0,
          1.786057109949175,
          0,
          1.876166303929372,
          0.9486832980505138,
          0,
          8.38570211729465
         ],
         "x0": " ",
         "xaxis": "x",
         "y": [
          "jun",
          "jun",
          "jun",
          "jun",
          "jun",
          "jun",
          "jun",
          "jun",
          "jun",
          "jun",
          "jun",
          "jun",
          "jun"
         ],
         "y0": " ",
         "yaxis": "y"
        },
        {
         "alignmentgroup": "True",
         "hovertemplate": "month=%{y}<br>Area Burnt (Square Root Transformation)=%{x}<extra></extra>",
         "legendgroup": "jan",
         "marker": {
          "color": "#FF97FF"
         },
         "name": "jan",
         "notched": false,
         "offsetgroup": "jan",
         "orientation": "h",
         "showlegend": true,
         "type": "box",
         "x": [
          0
         ],
         "x0": " ",
         "xaxis": "x",
         "y": [
          "jan"
         ],
         "y0": " ",
         "yaxis": "y"
        },
        {
         "alignmentgroup": "True",
         "hovertemplate": "month=%{y}<br>Area Burnt (Square Root Transformation)=%{x}<extra></extra>",
         "legendgroup": "oct",
         "marker": {
          "color": "#FECB52"
         },
         "name": "oct",
         "notched": false,
         "offsetgroup": "oct",
         "orientation": "h",
         "showlegend": true,
         "type": "box",
         "x": [
          7.026378868236469,
          0,
          3.7013511046643495,
          0,
          0,
          4.922397789695587,
          0,
          2.613426869074396,
          0,
          0,
          0,
          0
         ],
         "x0": " ",
         "xaxis": "x",
         "y": [
          "oct",
          "oct",
          "oct",
          "oct",
          "oct",
          "oct",
          "oct",
          "oct",
          "oct",
          "oct",
          "oct",
          "oct"
         ],
         "y0": " ",
         "yaxis": "y"
        },
        {
         "alignmentgroup": "True",
         "hovertemplate": "month=%{y}<br>Area Burnt (Square Root Transformation)=%{x}<extra></extra>",
         "legendgroup": "nov",
         "marker": {
          "color": "#636efa"
         },
         "name": "nov",
         "notched": false,
         "offsetgroup": "nov",
         "orientation": "h",
         "showlegend": true,
         "type": "box",
         "x": [
          0
         ],
         "x0": " ",
         "xaxis": "x",
         "y": [
          "nov"
         ],
         "y0": " ",
         "yaxis": "y"
        },
        {
         "alignmentgroup": "True",
         "hovertemplate": "month=%{y}<br>Area Burnt (Square Root Transformation)=%{x}<extra></extra>",
         "legendgroup": "may",
         "marker": {
          "color": "#EF553B"
         },
         "name": "may",
         "notched": false,
         "offsetgroup": "may",
         "orientation": "h",
         "showlegend": true,
         "type": "box",
         "x": [
          0
         ],
         "x0": " ",
         "xaxis": "x",
         "y": [
          "may"
         ],
         "y0": " ",
         "yaxis": "y"
        }
       ],
       "layout": {
        "boxmode": "overlay",
        "height": 450,
        "legend": {
         "title": {
          "text": "month"
         },
         "tracegroupgap": 0
        },
        "template": {
         "data": {
          "bar": [
           {
            "error_x": {
             "color": "#2a3f5f"
            },
            "error_y": {
             "color": "#2a3f5f"
            },
            "marker": {
             "line": {
              "color": "#E5ECF6",
              "width": 0.5
             },
             "pattern": {
              "fillmode": "overlay",
              "size": 10,
              "solidity": 0.2
             }
            },
            "type": "bar"
           }
          ],
          "barpolar": [
           {
            "marker": {
             "line": {
              "color": "#E5ECF6",
              "width": 0.5
             },
             "pattern": {
              "fillmode": "overlay",
              "size": 10,
              "solidity": 0.2
             }
            },
            "type": "barpolar"
           }
          ],
          "carpet": [
           {
            "aaxis": {
             "endlinecolor": "#2a3f5f",
             "gridcolor": "white",
             "linecolor": "white",
             "minorgridcolor": "white",
             "startlinecolor": "#2a3f5f"
            },
            "baxis": {
             "endlinecolor": "#2a3f5f",
             "gridcolor": "white",
             "linecolor": "white",
             "minorgridcolor": "white",
             "startlinecolor": "#2a3f5f"
            },
            "type": "carpet"
           }
          ],
          "choropleth": [
           {
            "colorbar": {
             "outlinewidth": 0,
             "ticks": ""
            },
            "type": "choropleth"
           }
          ],
          "contour": [
           {
            "colorbar": {
             "outlinewidth": 0,
             "ticks": ""
            },
            "colorscale": [
             [
              0,
              "#0d0887"
             ],
             [
              0.1111111111111111,
              "#46039f"
             ],
             [
              0.2222222222222222,
              "#7201a8"
             ],
             [
              0.3333333333333333,
              "#9c179e"
             ],
             [
              0.4444444444444444,
              "#bd3786"
             ],
             [
              0.5555555555555556,
              "#d8576b"
             ],
             [
              0.6666666666666666,
              "#ed7953"
             ],
             [
              0.7777777777777778,
              "#fb9f3a"
             ],
             [
              0.8888888888888888,
              "#fdca26"
             ],
             [
              1,
              "#f0f921"
             ]
            ],
            "type": "contour"
           }
          ],
          "contourcarpet": [
           {
            "colorbar": {
             "outlinewidth": 0,
             "ticks": ""
            },
            "type": "contourcarpet"
           }
          ],
          "heatmap": [
           {
            "colorbar": {
             "outlinewidth": 0,
             "ticks": ""
            },
            "colorscale": [
             [
              0,
              "#0d0887"
             ],
             [
              0.1111111111111111,
              "#46039f"
             ],
             [
              0.2222222222222222,
              "#7201a8"
             ],
             [
              0.3333333333333333,
              "#9c179e"
             ],
             [
              0.4444444444444444,
              "#bd3786"
             ],
             [
              0.5555555555555556,
              "#d8576b"
             ],
             [
              0.6666666666666666,
              "#ed7953"
             ],
             [
              0.7777777777777778,
              "#fb9f3a"
             ],
             [
              0.8888888888888888,
              "#fdca26"
             ],
             [
              1,
              "#f0f921"
             ]
            ],
            "type": "heatmap"
           }
          ],
          "heatmapgl": [
           {
            "colorbar": {
             "outlinewidth": 0,
             "ticks": ""
            },
            "colorscale": [
             [
              0,
              "#0d0887"
             ],
             [
              0.1111111111111111,
              "#46039f"
             ],
             [
              0.2222222222222222,
              "#7201a8"
             ],
             [
              0.3333333333333333,
              "#9c179e"
             ],
             [
              0.4444444444444444,
              "#bd3786"
             ],
             [
              0.5555555555555556,
              "#d8576b"
             ],
             [
              0.6666666666666666,
              "#ed7953"
             ],
             [
              0.7777777777777778,
              "#fb9f3a"
             ],
             [
              0.8888888888888888,
              "#fdca26"
             ],
             [
              1,
              "#f0f921"
             ]
            ],
            "type": "heatmapgl"
           }
          ],
          "histogram": [
           {
            "marker": {
             "pattern": {
              "fillmode": "overlay",
              "size": 10,
              "solidity": 0.2
             }
            },
            "type": "histogram"
           }
          ],
          "histogram2d": [
           {
            "colorbar": {
             "outlinewidth": 0,
             "ticks": ""
            },
            "colorscale": [
             [
              0,
              "#0d0887"
             ],
             [
              0.1111111111111111,
              "#46039f"
             ],
             [
              0.2222222222222222,
              "#7201a8"
             ],
             [
              0.3333333333333333,
              "#9c179e"
             ],
             [
              0.4444444444444444,
              "#bd3786"
             ],
             [
              0.5555555555555556,
              "#d8576b"
             ],
             [
              0.6666666666666666,
              "#ed7953"
             ],
             [
              0.7777777777777778,
              "#fb9f3a"
             ],
             [
              0.8888888888888888,
              "#fdca26"
             ],
             [
              1,
              "#f0f921"
             ]
            ],
            "type": "histogram2d"
           }
          ],
          "histogram2dcontour": [
           {
            "colorbar": {
             "outlinewidth": 0,
             "ticks": ""
            },
            "colorscale": [
             [
              0,
              "#0d0887"
             ],
             [
              0.1111111111111111,
              "#46039f"
             ],
             [
              0.2222222222222222,
              "#7201a8"
             ],
             [
              0.3333333333333333,
              "#9c179e"
             ],
             [
              0.4444444444444444,
              "#bd3786"
             ],
             [
              0.5555555555555556,
              "#d8576b"
             ],
             [
              0.6666666666666666,
              "#ed7953"
             ],
             [
              0.7777777777777778,
              "#fb9f3a"
             ],
             [
              0.8888888888888888,
              "#fdca26"
             ],
             [
              1,
              "#f0f921"
             ]
            ],
            "type": "histogram2dcontour"
           }
          ],
          "mesh3d": [
           {
            "colorbar": {
             "outlinewidth": 0,
             "ticks": ""
            },
            "type": "mesh3d"
           }
          ],
          "parcoords": [
           {
            "line": {
             "colorbar": {
              "outlinewidth": 0,
              "ticks": ""
             }
            },
            "type": "parcoords"
           }
          ],
          "pie": [
           {
            "automargin": true,
            "type": "pie"
           }
          ],
          "scatter": [
           {
            "fillpattern": {
             "fillmode": "overlay",
             "size": 10,
             "solidity": 0.2
            },
            "type": "scatter"
           }
          ],
          "scatter3d": [
           {
            "line": {
             "colorbar": {
              "outlinewidth": 0,
              "ticks": ""
             }
            },
            "marker": {
             "colorbar": {
              "outlinewidth": 0,
              "ticks": ""
             }
            },
            "type": "scatter3d"
           }
          ],
          "scattercarpet": [
           {
            "marker": {
             "colorbar": {
              "outlinewidth": 0,
              "ticks": ""
             }
            },
            "type": "scattercarpet"
           }
          ],
          "scattergeo": [
           {
            "marker": {
             "colorbar": {
              "outlinewidth": 0,
              "ticks": ""
             }
            },
            "type": "scattergeo"
           }
          ],
          "scattergl": [
           {
            "marker": {
             "colorbar": {
              "outlinewidth": 0,
              "ticks": ""
             }
            },
            "type": "scattergl"
           }
          ],
          "scattermapbox": [
           {
            "marker": {
             "colorbar": {
              "outlinewidth": 0,
              "ticks": ""
             }
            },
            "type": "scattermapbox"
           }
          ],
          "scatterpolar": [
           {
            "marker": {
             "colorbar": {
              "outlinewidth": 0,
              "ticks": ""
             }
            },
            "type": "scatterpolar"
           }
          ],
          "scatterpolargl": [
           {
            "marker": {
             "colorbar": {
              "outlinewidth": 0,
              "ticks": ""
             }
            },
            "type": "scatterpolargl"
           }
          ],
          "scatterternary": [
           {
            "marker": {
             "colorbar": {
              "outlinewidth": 0,
              "ticks": ""
             }
            },
            "type": "scatterternary"
           }
          ],
          "surface": [
           {
            "colorbar": {
             "outlinewidth": 0,
             "ticks": ""
            },
            "colorscale": [
             [
              0,
              "#0d0887"
             ],
             [
              0.1111111111111111,
              "#46039f"
             ],
             [
              0.2222222222222222,
              "#7201a8"
             ],
             [
              0.3333333333333333,
              "#9c179e"
             ],
             [
              0.4444444444444444,
              "#bd3786"
             ],
             [
              0.5555555555555556,
              "#d8576b"
             ],
             [
              0.6666666666666666,
              "#ed7953"
             ],
             [
              0.7777777777777778,
              "#fb9f3a"
             ],
             [
              0.8888888888888888,
              "#fdca26"
             ],
             [
              1,
              "#f0f921"
             ]
            ],
            "type": "surface"
           }
          ],
          "table": [
           {
            "cells": {
             "fill": {
              "color": "#EBF0F8"
             },
             "line": {
              "color": "white"
             }
            },
            "header": {
             "fill": {
              "color": "#C8D4E3"
             },
             "line": {
              "color": "white"
             }
            },
            "type": "table"
           }
          ]
         },
         "layout": {
          "annotationdefaults": {
           "arrowcolor": "#2a3f5f",
           "arrowhead": 0,
           "arrowwidth": 1
          },
          "autotypenumbers": "strict",
          "coloraxis": {
           "colorbar": {
            "outlinewidth": 0,
            "ticks": ""
           }
          },
          "colorscale": {
           "diverging": [
            [
             0,
             "#8e0152"
            ],
            [
             0.1,
             "#c51b7d"
            ],
            [
             0.2,
             "#de77ae"
            ],
            [
             0.3,
             "#f1b6da"
            ],
            [
             0.4,
             "#fde0ef"
            ],
            [
             0.5,
             "#f7f7f7"
            ],
            [
             0.6,
             "#e6f5d0"
            ],
            [
             0.7,
             "#b8e186"
            ],
            [
             0.8,
             "#7fbc41"
            ],
            [
             0.9,
             "#4d9221"
            ],
            [
             1,
             "#276419"
            ]
           ],
           "sequential": [
            [
             0,
             "#0d0887"
            ],
            [
             0.1111111111111111,
             "#46039f"
            ],
            [
             0.2222222222222222,
             "#7201a8"
            ],
            [
             0.3333333333333333,
             "#9c179e"
            ],
            [
             0.4444444444444444,
             "#bd3786"
            ],
            [
             0.5555555555555556,
             "#d8576b"
            ],
            [
             0.6666666666666666,
             "#ed7953"
            ],
            [
             0.7777777777777778,
             "#fb9f3a"
            ],
            [
             0.8888888888888888,
             "#fdca26"
            ],
            [
             1,
             "#f0f921"
            ]
           ],
           "sequentialminus": [
            [
             0,
             "#0d0887"
            ],
            [
             0.1111111111111111,
             "#46039f"
            ],
            [
             0.2222222222222222,
             "#7201a8"
            ],
            [
             0.3333333333333333,
             "#9c179e"
            ],
            [
             0.4444444444444444,
             "#bd3786"
            ],
            [
             0.5555555555555556,
             "#d8576b"
            ],
            [
             0.6666666666666666,
             "#ed7953"
            ],
            [
             0.7777777777777778,
             "#fb9f3a"
            ],
            [
             0.8888888888888888,
             "#fdca26"
            ],
            [
             1,
             "#f0f921"
            ]
           ]
          },
          "colorway": [
           "#636efa",
           "#EF553B",
           "#00cc96",
           "#ab63fa",
           "#FFA15A",
           "#19d3f3",
           "#FF6692",
           "#B6E880",
           "#FF97FF",
           "#FECB52"
          ],
          "font": {
           "color": "#2a3f5f"
          },
          "geo": {
           "bgcolor": "white",
           "lakecolor": "white",
           "landcolor": "#E5ECF6",
           "showlakes": true,
           "showland": true,
           "subunitcolor": "white"
          },
          "hoverlabel": {
           "align": "left"
          },
          "hovermode": "closest",
          "mapbox": {
           "style": "light"
          },
          "paper_bgcolor": "white",
          "plot_bgcolor": "#E5ECF6",
          "polar": {
           "angularaxis": {
            "gridcolor": "white",
            "linecolor": "white",
            "ticks": ""
           },
           "bgcolor": "#E5ECF6",
           "radialaxis": {
            "gridcolor": "white",
            "linecolor": "white",
            "ticks": ""
           }
          },
          "scene": {
           "xaxis": {
            "backgroundcolor": "#E5ECF6",
            "gridcolor": "white",
            "gridwidth": 2,
            "linecolor": "white",
            "showbackground": true,
            "ticks": "",
            "zerolinecolor": "white"
           },
           "yaxis": {
            "backgroundcolor": "#E5ECF6",
            "gridcolor": "white",
            "gridwidth": 2,
            "linecolor": "white",
            "showbackground": true,
            "ticks": "",
            "zerolinecolor": "white"
           },
           "zaxis": {
            "backgroundcolor": "#E5ECF6",
            "gridcolor": "white",
            "gridwidth": 2,
            "linecolor": "white",
            "showbackground": true,
            "ticks": "",
            "zerolinecolor": "white"
           }
          },
          "shapedefaults": {
           "line": {
            "color": "#2a3f5f"
           }
          },
          "ternary": {
           "aaxis": {
            "gridcolor": "white",
            "linecolor": "white",
            "ticks": ""
           },
           "baxis": {
            "gridcolor": "white",
            "linecolor": "white",
            "ticks": ""
           },
           "bgcolor": "#E5ECF6",
           "caxis": {
            "gridcolor": "white",
            "linecolor": "white",
            "ticks": ""
           }
          },
          "title": {
           "x": 0.05
          },
          "xaxis": {
           "automargin": true,
           "gridcolor": "white",
           "linecolor": "white",
           "ticks": "",
           "title": {
            "standoff": 15
           },
           "zerolinecolor": "white",
           "zerolinewidth": 2
          },
          "yaxis": {
           "automargin": true,
           "gridcolor": "white",
           "linecolor": "white",
           "ticks": "",
           "title": {
            "standoff": 15
           },
           "zerolinecolor": "white",
           "zerolinewidth": 2
          }
         }
        },
        "title": {
         "text": "Area Burnt (Square Root Transformation) by months"
        },
        "width": 750,
        "xaxis": {
         "anchor": "y",
         "domain": [
          0,
          1
         ],
         "title": {
          "text": "Area Burnt (Square Root Transformation)"
         }
        },
        "yaxis": {
         "anchor": "x",
         "categoryarray": [
          "may",
          "nov",
          "oct",
          "jan",
          "jun",
          "dec",
          "apr",
          "mar",
          "feb",
          "sep",
          "aug",
          "jul"
         ],
         "categoryorder": "array",
         "domain": [
          0,
          1
         ],
         "title": {
          "text": "month"
         }
        }
       }
      }
     },
     "metadata": {},
     "output_type": "display_data"
    }
   ],
   "source": [
    "train_set[\"sqrt_area\"] = train_set[\"area\"].apply(np.sqrt)\n",
    "fig = px.box(\n",
    "    train_set,\n",
    "    x=\"sqrt_area\",\n",
    "    y=\"month\",\n",
    "    color=\"month\",\n",
    "    title=\"Area Burnt (Square Root Transformation) by months\",\n",
    "    labels={\n",
    "        \"sqrt_area\": \"Area Burnt (Square Root Transformation)\",\n",
    "        \"month\": \"month\"\n",
    "    }\n",
    ")\n",
    "fig.update_layout(\n",
    "    width=750,\n",
    "    height=450\n",
    ")\n",
    "fig.show()"
   ]
  },
  {
   "cell_type": "markdown",
   "id": "8700d9bd",
   "metadata": {},
   "source": [
    "We map the months to a new variable season"
   ]
  },
  {
   "cell_type": "code",
   "execution_count": 21,
   "id": "1dbaf56f-19cc-4041-b40d-4809f797eb5c",
   "metadata": {},
   "outputs": [
    {
     "data": {
      "application/vnd.plotly.v1+json": {
       "config": {
        "plotlyServerURL": "https://plot.ly"
       },
       "data": [
        {
         "alignmentgroup": "True",
         "hovertemplate": "Season=%{y}<br>Area Burnt (Square Root Transformation)=%{x}<extra></extra>",
         "legendgroup": "summer",
         "marker": {
          "color": "#636efa"
         },
         "name": "summer",
         "notched": false,
         "offsetgroup": "summer",
         "orientation": "h",
         "showlegend": true,
         "type": "box",
         "x": [
          0,
          0,
          0,
          0,
          0,
          1.2767145334803705,
          1.4866068747318506,
          5.0990195135927845,
          0,
          1.2489995996796797,
          0,
          5.360970061472083,
          2.946183972531247,
          1.4387494569938157,
          0,
          0,
          1.0908712114635715,
          0.7810249675906654,
          0,
          0,
          0,
          1.6552945357246849,
          2.951270912674741,
          0,
          0.458257569495584,
          0,
          1.905255888325765,
          0,
          6.084406298070503,
          0,
          7.635443667528429,
          2.535744466621193,
          0,
          0,
          1.5329709716755893,
          5.141011573610781,
          0,
          1.7578395831246945,
          2.1283796653792764,
          1.3928388277184118,
          8.44393273303382,
          0,
          1.5716233645501712,
          0,
          0,
          0,
          3.340658617698013,
          0.8774964387392122,
          2.4083189157584592,
          1.2767145334803705,
          1.624807680927192,
          0,
          1.7888543819998317,
          3.1749015732775088,
          0,
          0,
          0,
          0,
          4.04103947023535,
          0,
          0,
          1.4730919862656235,
          0,
          0,
          0,
          0.9486832980505138,
          2.7129319932501073,
          2.227105745132009,
          1.5132745950421556,
          0.3,
          0,
          0,
          1.3928388277184118,
          2.5377155080899043,
          0,
          6.367102951892642,
          0,
          0,
          14.017132374348185,
          16.68921807635097,
          0.8426149773176358,
          0,
          1.1958260743101399,
          0,
          0,
          0,
          0,
          3.4899856733230297,
          1.8220867158288598,
          6.581793068761733,
          0,
          5.6630380539071075,
          1.5842979517754858,
          7.042016756583302,
          0,
          2.649528259898354,
          0,
          0.8717797887081347,
          0,
          9.297849213662266,
          3.8314488121336034,
          1.378404875209022,
          3.163858403911275,
          0,
          6.54751861394834,
          0,
          0,
          2.930870177950569,
          0,
          27.318125850797305,
          3.1654383582688825,
          0,
          3.2893768406797053,
          1.8708286933869707,
          0,
          0,
          2.535744466621193,
          0,
          0,
          1.5968719422671311,
          0.8660254037844386,
          0.8246211251235321,
          0.4898979485566356,
          2.0976176963403033,
          0,
          0,
          0,
          3.930648801406709,
          0.8246211251235321,
          0,
          1.1357816691600546,
          0.7416198487095663,
          1.786057109949175,
          0,
          3.215587038162705,
          0,
          2.831960451701259,
          1.876166303929372,
          0.9486832980505138,
          0,
          0,
          8.38570211729465,
          2.563201123595259,
          13.214764470091776,
          0.8888194417315589,
          2.0615528128088303,
          0,
          1.174734012447073,
          0,
          0,
          0,
          1.4142135623730951,
          0,
          1.6941074346097416,
          0,
          0.7211102550927979,
          6.833739825307955,
          0,
          0,
          1.2806248474865698,
          0,
          3.0446674695276656,
          1.5620499351813308,
          0,
          0,
          0,
          2.7802877548915688,
          0,
          0,
          0,
          0,
          0,
          7.368174807915458,
          3.116087290176577,
          1.396424004376894,
          13.629380029920656,
          1.2328828005937953,
          0,
          0,
          0,
          0,
          0,
          2.420743687382041,
          0.6557438524302001
         ],
         "x0": " ",
         "xaxis": "x",
         "y": [
          "summer",
          "summer",
          "summer",
          "summer",
          "summer",
          "summer",
          "summer",
          "summer",
          "summer",
          "summer",
          "summer",
          "summer",
          "summer",
          "summer",
          "summer",
          "summer",
          "summer",
          "summer",
          "summer",
          "summer",
          "summer",
          "summer",
          "summer",
          "summer",
          "summer",
          "summer",
          "summer",
          "summer",
          "summer",
          "summer",
          "summer",
          "summer",
          "summer",
          "summer",
          "summer",
          "summer",
          "summer",
          "summer",
          "summer",
          "summer",
          "summer",
          "summer",
          "summer",
          "summer",
          "summer",
          "summer",
          "summer",
          "summer",
          "summer",
          "summer",
          "summer",
          "summer",
          "summer",
          "summer",
          "summer",
          "summer",
          "summer",
          "summer",
          "summer",
          "summer",
          "summer",
          "summer",
          "summer",
          "summer",
          "summer",
          "summer",
          "summer",
          "summer",
          "summer",
          "summer",
          "summer",
          "summer",
          "summer",
          "summer",
          "summer",
          "summer",
          "summer",
          "summer",
          "summer",
          "summer",
          "summer",
          "summer",
          "summer",
          "summer",
          "summer",
          "summer",
          "summer",
          "summer",
          "summer",
          "summer",
          "summer",
          "summer",
          "summer",
          "summer",
          "summer",
          "summer",
          "summer",
          "summer",
          "summer",
          "summer",
          "summer",
          "summer",
          "summer",
          "summer",
          "summer",
          "summer",
          "summer",
          "summer",
          "summer",
          "summer",
          "summer",
          "summer",
          "summer",
          "summer",
          "summer",
          "summer",
          "summer",
          "summer",
          "summer",
          "summer",
          "summer",
          "summer",
          "summer",
          "summer",
          "summer",
          "summer",
          "summer",
          "summer",
          "summer",
          "summer",
          "summer",
          "summer",
          "summer",
          "summer",
          "summer",
          "summer",
          "summer",
          "summer",
          "summer",
          "summer",
          "summer",
          "summer",
          "summer",
          "summer",
          "summer",
          "summer",
          "summer",
          "summer",
          "summer",
          "summer",
          "summer",
          "summer",
          "summer",
          "summer",
          "summer",
          "summer",
          "summer",
          "summer",
          "summer",
          "summer",
          "summer",
          "summer",
          "summer",
          "summer",
          "summer",
          "summer",
          "summer",
          "summer",
          "summer",
          "summer",
          "summer",
          "summer",
          "summer",
          "summer",
          "summer",
          "summer",
          "summer",
          "summer",
          "summer",
          "summer",
          "summer",
          "summer",
          "summer",
          "summer"
         ],
         "y0": " ",
         "yaxis": "y"
        },
        {
         "alignmentgroup": "True",
         "hovertemplate": "Season=%{y}<br>Area Burnt (Square Root Transformation)=%{x}<extra></extra>",
         "legendgroup": "fall",
         "marker": {
          "color": "#EF553B"
         },
         "name": "fall",
         "notched": false,
         "offsetgroup": "fall",
         "orientation": "h",
         "showlegend": true,
         "type": "box",
         "x": [
          0,
          5.861740355901138,
          4.838388161361178,
          0,
          0,
          0,
          5.493632677928148,
          2.209072203437452,
          1.711724276862369,
          0.5744562646538028,
          1.4177446878757824,
          2.7037011669191546,
          3.1559467676119,
          0,
          0,
          0,
          5.309425580983314,
          1.3,
          14.175330683973478,
          1.9874606914351791,
          1.47648230602334,
          0.848528137423857,
          5.989991652748775,
          5.111751167652823,
          7.026378868236469,
          0.9797958971132712,
          0.6403124237432849,
          0,
          0,
          9.756023780208821,
          0,
          3.7013511046643495,
          0,
          1.1224972160321824,
          7.4859869088851605,
          2.792848008753788,
          0,
          0,
          2.4576411454889016,
          0,
          0,
          0,
          0,
          5.506359959174482,
          1.752141546793523,
          0.7211102550927979,
          1.396424004376894,
          4.922397789695587,
          5.632051136131489,
          0,
          0,
          0,
          0,
          10.168087332433766,
          0,
          0,
          1.4594519519326423,
          0,
          6.272957835024878,
          0,
          8.006247560499238,
          0,
          0,
          4.147288270665544,
          0,
          0,
          0,
          2.414539293529927,
          2.701851217221259,
          0,
          3.3496268448888453,
          0,
          0,
          3.3256578296631782,
          33.027867021653094,
          0,
          0,
          0,
          3.3256578296631782,
          1.2083045973594573,
          1.9261360284258222,
          2.224859546128699,
          0,
          2.1,
          2.3769728648009427,
          0,
          2.2759613353482084,
          1.47648230602334,
          2.6851443164195103,
          1.2806248474865698,
          2.1023796041628637,
          0,
          0,
          0,
          0,
          1.044030650891055,
          0,
          3.0675723300355937,
          3.6138621999185303,
          2.565151067676132,
          1.3228756555322954,
          0,
          0.6855654600401044,
          3.352610922848042,
          0,
          0,
          2.4433583445741234,
          0,
          1.0583005244258363,
          0.6557438524302001,
          0,
          0,
          0,
          10.279105019407089,
          0,
          0,
          2.613426869074396,
          0,
          0,
          0,
          2.8495613697550013,
          1.2083045973594573,
          3.817066936798463,
          1.2569805089976536,
          3.954743986657038,
          0,
          1.9261360284258222,
          1.3114877048604001,
          0,
          2.3086792761230392,
          0,
          1.9849433241279208,
          1.982422760159901,
          0,
          3.7802116342871597,
          0,
          0,
          4.38520238985614,
          0,
          1.2124355652982142,
          6.140846847137616,
          0,
          0,
          0,
          6.967783004657938,
          0,
          0,
          0,
          9.406912352095134,
          1.004987562112089,
          4.47548880012005
         ],
         "x0": " ",
         "xaxis": "x",
         "y": [
          "fall",
          "fall",
          "fall",
          "fall",
          "fall",
          "fall",
          "fall",
          "fall",
          "fall",
          "fall",
          "fall",
          "fall",
          "fall",
          "fall",
          "fall",
          "fall",
          "fall",
          "fall",
          "fall",
          "fall",
          "fall",
          "fall",
          "fall",
          "fall",
          "fall",
          "fall",
          "fall",
          "fall",
          "fall",
          "fall",
          "fall",
          "fall",
          "fall",
          "fall",
          "fall",
          "fall",
          "fall",
          "fall",
          "fall",
          "fall",
          "fall",
          "fall",
          "fall",
          "fall",
          "fall",
          "fall",
          "fall",
          "fall",
          "fall",
          "fall",
          "fall",
          "fall",
          "fall",
          "fall",
          "fall",
          "fall",
          "fall",
          "fall",
          "fall",
          "fall",
          "fall",
          "fall",
          "fall",
          "fall",
          "fall",
          "fall",
          "fall",
          "fall",
          "fall",
          "fall",
          "fall",
          "fall",
          "fall",
          "fall",
          "fall",
          "fall",
          "fall",
          "fall",
          "fall",
          "fall",
          "fall",
          "fall",
          "fall",
          "fall",
          "fall",
          "fall",
          "fall",
          "fall",
          "fall",
          "fall",
          "fall",
          "fall",
          "fall",
          "fall",
          "fall",
          "fall",
          "fall",
          "fall",
          "fall",
          "fall",
          "fall",
          "fall",
          "fall",
          "fall",
          "fall",
          "fall",
          "fall",
          "fall",
          "fall",
          "fall",
          "fall",
          "fall",
          "fall",
          "fall",
          "fall",
          "fall",
          "fall",
          "fall",
          "fall",
          "fall",
          "fall",
          "fall",
          "fall",
          "fall",
          "fall",
          "fall",
          "fall",
          "fall",
          "fall",
          "fall",
          "fall",
          "fall",
          "fall",
          "fall",
          "fall",
          "fall",
          "fall",
          "fall",
          "fall",
          "fall",
          "fall",
          "fall",
          "fall",
          "fall",
          "fall",
          "fall",
          "fall",
          "fall",
          "fall",
          "fall",
          "fall"
         ],
         "y0": " ",
         "yaxis": "y"
        },
        {
         "alignmentgroup": "True",
         "hovertemplate": "Season=%{y}<br>Area Burnt (Square Root Transformation)=%{x}<extra></extra>",
         "legendgroup": "winter",
         "marker": {
          "color": "#00cc96"
         },
         "name": "winter",
         "notched": false,
         "offsetgroup": "winter",
         "orientation": "h",
         "showlegend": true,
         "type": "box",
         "x": [
          0,
          3.6124783736376886,
          4.224926034855522,
          0,
          2.615339366124404,
          4.923413450036469,
          3.345145736735546,
          3.27566787083184,
          0,
          2.32163735324878,
          3.1256999216175565,
          1.0488088481701516,
          4.976946855251722,
          0,
          0,
          0,
          7.195832127002408,
          3.1559467676119,
          1.4628738838327795,
          4.693612681080534,
          0,
          0,
          2.149418526020468,
          0
         ],
         "x0": " ",
         "xaxis": "x",
         "y": [
          "winter",
          "winter",
          "winter",
          "winter",
          "winter",
          "winter",
          "winter",
          "winter",
          "winter",
          "winter",
          "winter",
          "winter",
          "winter",
          "winter",
          "winter",
          "winter",
          "winter",
          "winter",
          "winter",
          "winter",
          "winter",
          "winter",
          "winter",
          "winter"
         ],
         "y0": " ",
         "yaxis": "y"
        },
        {
         "alignmentgroup": "True",
         "hovertemplate": "Season=%{y}<br>Area Burnt (Square Root Transformation)=%{x}<extra></extra>",
         "legendgroup": "spring",
         "marker": {
          "color": "#ab63fa"
         },
         "name": "spring",
         "notched": false,
         "offsetgroup": "spring",
         "orientation": "h",
         "showlegend": true,
         "type": "box",
         "x": [
          0,
          0,
          1.3928388277184118,
          1.8303005217723127,
          7.818567643756752,
          0,
          3.478505426185217,
          2.870540018881465,
          0,
          2.7202941017470885,
          2.882707061079915,
          1.4628738838327795,
          0,
          0,
          0,
          1.783255450012701,
          0,
          0,
          0,
          0,
          0,
          0,
          0,
          2.570992026436488,
          5.644466316668034,
          0,
          0,
          0,
          0,
          0,
          5.3535035257296695,
          0,
          0,
          0,
          0,
          6.070420084310475,
          0,
          0,
          0,
          0,
          2.6814175355583845,
          0,
          0,
          0.9746794344808963,
          0,
          1.5905973720586866,
          0,
          5.229722745997153,
          2.147091055358389,
          0,
          0,
          0,
          5.3535035257296695,
          0
         ],
         "x0": " ",
         "xaxis": "x",
         "y": [
          "spring",
          "spring",
          "spring",
          "spring",
          "spring",
          "spring",
          "spring",
          "spring",
          "spring",
          "spring",
          "spring",
          "spring",
          "spring",
          "spring",
          "spring",
          "spring",
          "spring",
          "spring",
          "spring",
          "spring",
          "spring",
          "spring",
          "spring",
          "spring",
          "spring",
          "spring",
          "spring",
          "spring",
          "spring",
          "spring",
          "spring",
          "spring",
          "spring",
          "spring",
          "spring",
          "spring",
          "spring",
          "spring",
          "spring",
          "spring",
          "spring",
          "spring",
          "spring",
          "spring",
          "spring",
          "spring",
          "spring",
          "spring",
          "spring",
          "spring",
          "spring",
          "spring",
          "spring",
          "spring"
         ],
         "y0": " ",
         "yaxis": "y"
        }
       ],
       "layout": {
        "boxmode": "overlay",
        "height": 500,
        "legend": {
         "title": {
          "text": "Season"
         },
         "tracegroupgap": 0
        },
        "template": {
         "data": {
          "bar": [
           {
            "error_x": {
             "color": "#2a3f5f"
            },
            "error_y": {
             "color": "#2a3f5f"
            },
            "marker": {
             "line": {
              "color": "#E5ECF6",
              "width": 0.5
             },
             "pattern": {
              "fillmode": "overlay",
              "size": 10,
              "solidity": 0.2
             }
            },
            "type": "bar"
           }
          ],
          "barpolar": [
           {
            "marker": {
             "line": {
              "color": "#E5ECF6",
              "width": 0.5
             },
             "pattern": {
              "fillmode": "overlay",
              "size": 10,
              "solidity": 0.2
             }
            },
            "type": "barpolar"
           }
          ],
          "carpet": [
           {
            "aaxis": {
             "endlinecolor": "#2a3f5f",
             "gridcolor": "white",
             "linecolor": "white",
             "minorgridcolor": "white",
             "startlinecolor": "#2a3f5f"
            },
            "baxis": {
             "endlinecolor": "#2a3f5f",
             "gridcolor": "white",
             "linecolor": "white",
             "minorgridcolor": "white",
             "startlinecolor": "#2a3f5f"
            },
            "type": "carpet"
           }
          ],
          "choropleth": [
           {
            "colorbar": {
             "outlinewidth": 0,
             "ticks": ""
            },
            "type": "choropleth"
           }
          ],
          "contour": [
           {
            "colorbar": {
             "outlinewidth": 0,
             "ticks": ""
            },
            "colorscale": [
             [
              0,
              "#0d0887"
             ],
             [
              0.1111111111111111,
              "#46039f"
             ],
             [
              0.2222222222222222,
              "#7201a8"
             ],
             [
              0.3333333333333333,
              "#9c179e"
             ],
             [
              0.4444444444444444,
              "#bd3786"
             ],
             [
              0.5555555555555556,
              "#d8576b"
             ],
             [
              0.6666666666666666,
              "#ed7953"
             ],
             [
              0.7777777777777778,
              "#fb9f3a"
             ],
             [
              0.8888888888888888,
              "#fdca26"
             ],
             [
              1,
              "#f0f921"
             ]
            ],
            "type": "contour"
           }
          ],
          "contourcarpet": [
           {
            "colorbar": {
             "outlinewidth": 0,
             "ticks": ""
            },
            "type": "contourcarpet"
           }
          ],
          "heatmap": [
           {
            "colorbar": {
             "outlinewidth": 0,
             "ticks": ""
            },
            "colorscale": [
             [
              0,
              "#0d0887"
             ],
             [
              0.1111111111111111,
              "#46039f"
             ],
             [
              0.2222222222222222,
              "#7201a8"
             ],
             [
              0.3333333333333333,
              "#9c179e"
             ],
             [
              0.4444444444444444,
              "#bd3786"
             ],
             [
              0.5555555555555556,
              "#d8576b"
             ],
             [
              0.6666666666666666,
              "#ed7953"
             ],
             [
              0.7777777777777778,
              "#fb9f3a"
             ],
             [
              0.8888888888888888,
              "#fdca26"
             ],
             [
              1,
              "#f0f921"
             ]
            ],
            "type": "heatmap"
           }
          ],
          "heatmapgl": [
           {
            "colorbar": {
             "outlinewidth": 0,
             "ticks": ""
            },
            "colorscale": [
             [
              0,
              "#0d0887"
             ],
             [
              0.1111111111111111,
              "#46039f"
             ],
             [
              0.2222222222222222,
              "#7201a8"
             ],
             [
              0.3333333333333333,
              "#9c179e"
             ],
             [
              0.4444444444444444,
              "#bd3786"
             ],
             [
              0.5555555555555556,
              "#d8576b"
             ],
             [
              0.6666666666666666,
              "#ed7953"
             ],
             [
              0.7777777777777778,
              "#fb9f3a"
             ],
             [
              0.8888888888888888,
              "#fdca26"
             ],
             [
              1,
              "#f0f921"
             ]
            ],
            "type": "heatmapgl"
           }
          ],
          "histogram": [
           {
            "marker": {
             "pattern": {
              "fillmode": "overlay",
              "size": 10,
              "solidity": 0.2
             }
            },
            "type": "histogram"
           }
          ],
          "histogram2d": [
           {
            "colorbar": {
             "outlinewidth": 0,
             "ticks": ""
            },
            "colorscale": [
             [
              0,
              "#0d0887"
             ],
             [
              0.1111111111111111,
              "#46039f"
             ],
             [
              0.2222222222222222,
              "#7201a8"
             ],
             [
              0.3333333333333333,
              "#9c179e"
             ],
             [
              0.4444444444444444,
              "#bd3786"
             ],
             [
              0.5555555555555556,
              "#d8576b"
             ],
             [
              0.6666666666666666,
              "#ed7953"
             ],
             [
              0.7777777777777778,
              "#fb9f3a"
             ],
             [
              0.8888888888888888,
              "#fdca26"
             ],
             [
              1,
              "#f0f921"
             ]
            ],
            "type": "histogram2d"
           }
          ],
          "histogram2dcontour": [
           {
            "colorbar": {
             "outlinewidth": 0,
             "ticks": ""
            },
            "colorscale": [
             [
              0,
              "#0d0887"
             ],
             [
              0.1111111111111111,
              "#46039f"
             ],
             [
              0.2222222222222222,
              "#7201a8"
             ],
             [
              0.3333333333333333,
              "#9c179e"
             ],
             [
              0.4444444444444444,
              "#bd3786"
             ],
             [
              0.5555555555555556,
              "#d8576b"
             ],
             [
              0.6666666666666666,
              "#ed7953"
             ],
             [
              0.7777777777777778,
              "#fb9f3a"
             ],
             [
              0.8888888888888888,
              "#fdca26"
             ],
             [
              1,
              "#f0f921"
             ]
            ],
            "type": "histogram2dcontour"
           }
          ],
          "mesh3d": [
           {
            "colorbar": {
             "outlinewidth": 0,
             "ticks": ""
            },
            "type": "mesh3d"
           }
          ],
          "parcoords": [
           {
            "line": {
             "colorbar": {
              "outlinewidth": 0,
              "ticks": ""
             }
            },
            "type": "parcoords"
           }
          ],
          "pie": [
           {
            "automargin": true,
            "type": "pie"
           }
          ],
          "scatter": [
           {
            "fillpattern": {
             "fillmode": "overlay",
             "size": 10,
             "solidity": 0.2
            },
            "type": "scatter"
           }
          ],
          "scatter3d": [
           {
            "line": {
             "colorbar": {
              "outlinewidth": 0,
              "ticks": ""
             }
            },
            "marker": {
             "colorbar": {
              "outlinewidth": 0,
              "ticks": ""
             }
            },
            "type": "scatter3d"
           }
          ],
          "scattercarpet": [
           {
            "marker": {
             "colorbar": {
              "outlinewidth": 0,
              "ticks": ""
             }
            },
            "type": "scattercarpet"
           }
          ],
          "scattergeo": [
           {
            "marker": {
             "colorbar": {
              "outlinewidth": 0,
              "ticks": ""
             }
            },
            "type": "scattergeo"
           }
          ],
          "scattergl": [
           {
            "marker": {
             "colorbar": {
              "outlinewidth": 0,
              "ticks": ""
             }
            },
            "type": "scattergl"
           }
          ],
          "scattermapbox": [
           {
            "marker": {
             "colorbar": {
              "outlinewidth": 0,
              "ticks": ""
             }
            },
            "type": "scattermapbox"
           }
          ],
          "scatterpolar": [
           {
            "marker": {
             "colorbar": {
              "outlinewidth": 0,
              "ticks": ""
             }
            },
            "type": "scatterpolar"
           }
          ],
          "scatterpolargl": [
           {
            "marker": {
             "colorbar": {
              "outlinewidth": 0,
              "ticks": ""
             }
            },
            "type": "scatterpolargl"
           }
          ],
          "scatterternary": [
           {
            "marker": {
             "colorbar": {
              "outlinewidth": 0,
              "ticks": ""
             }
            },
            "type": "scatterternary"
           }
          ],
          "surface": [
           {
            "colorbar": {
             "outlinewidth": 0,
             "ticks": ""
            },
            "colorscale": [
             [
              0,
              "#0d0887"
             ],
             [
              0.1111111111111111,
              "#46039f"
             ],
             [
              0.2222222222222222,
              "#7201a8"
             ],
             [
              0.3333333333333333,
              "#9c179e"
             ],
             [
              0.4444444444444444,
              "#bd3786"
             ],
             [
              0.5555555555555556,
              "#d8576b"
             ],
             [
              0.6666666666666666,
              "#ed7953"
             ],
             [
              0.7777777777777778,
              "#fb9f3a"
             ],
             [
              0.8888888888888888,
              "#fdca26"
             ],
             [
              1,
              "#f0f921"
             ]
            ],
            "type": "surface"
           }
          ],
          "table": [
           {
            "cells": {
             "fill": {
              "color": "#EBF0F8"
             },
             "line": {
              "color": "white"
             }
            },
            "header": {
             "fill": {
              "color": "#C8D4E3"
             },
             "line": {
              "color": "white"
             }
            },
            "type": "table"
           }
          ]
         },
         "layout": {
          "annotationdefaults": {
           "arrowcolor": "#2a3f5f",
           "arrowhead": 0,
           "arrowwidth": 1
          },
          "autotypenumbers": "strict",
          "coloraxis": {
           "colorbar": {
            "outlinewidth": 0,
            "ticks": ""
           }
          },
          "colorscale": {
           "diverging": [
            [
             0,
             "#8e0152"
            ],
            [
             0.1,
             "#c51b7d"
            ],
            [
             0.2,
             "#de77ae"
            ],
            [
             0.3,
             "#f1b6da"
            ],
            [
             0.4,
             "#fde0ef"
            ],
            [
             0.5,
             "#f7f7f7"
            ],
            [
             0.6,
             "#e6f5d0"
            ],
            [
             0.7,
             "#b8e186"
            ],
            [
             0.8,
             "#7fbc41"
            ],
            [
             0.9,
             "#4d9221"
            ],
            [
             1,
             "#276419"
            ]
           ],
           "sequential": [
            [
             0,
             "#0d0887"
            ],
            [
             0.1111111111111111,
             "#46039f"
            ],
            [
             0.2222222222222222,
             "#7201a8"
            ],
            [
             0.3333333333333333,
             "#9c179e"
            ],
            [
             0.4444444444444444,
             "#bd3786"
            ],
            [
             0.5555555555555556,
             "#d8576b"
            ],
            [
             0.6666666666666666,
             "#ed7953"
            ],
            [
             0.7777777777777778,
             "#fb9f3a"
            ],
            [
             0.8888888888888888,
             "#fdca26"
            ],
            [
             1,
             "#f0f921"
            ]
           ],
           "sequentialminus": [
            [
             0,
             "#0d0887"
            ],
            [
             0.1111111111111111,
             "#46039f"
            ],
            [
             0.2222222222222222,
             "#7201a8"
            ],
            [
             0.3333333333333333,
             "#9c179e"
            ],
            [
             0.4444444444444444,
             "#bd3786"
            ],
            [
             0.5555555555555556,
             "#d8576b"
            ],
            [
             0.6666666666666666,
             "#ed7953"
            ],
            [
             0.7777777777777778,
             "#fb9f3a"
            ],
            [
             0.8888888888888888,
             "#fdca26"
            ],
            [
             1,
             "#f0f921"
            ]
           ]
          },
          "colorway": [
           "#636efa",
           "#EF553B",
           "#00cc96",
           "#ab63fa",
           "#FFA15A",
           "#19d3f3",
           "#FF6692",
           "#B6E880",
           "#FF97FF",
           "#FECB52"
          ],
          "font": {
           "color": "#2a3f5f"
          },
          "geo": {
           "bgcolor": "white",
           "lakecolor": "white",
           "landcolor": "#E5ECF6",
           "showlakes": true,
           "showland": true,
           "subunitcolor": "white"
          },
          "hoverlabel": {
           "align": "left"
          },
          "hovermode": "closest",
          "mapbox": {
           "style": "light"
          },
          "paper_bgcolor": "white",
          "plot_bgcolor": "#E5ECF6",
          "polar": {
           "angularaxis": {
            "gridcolor": "white",
            "linecolor": "white",
            "ticks": ""
           },
           "bgcolor": "#E5ECF6",
           "radialaxis": {
            "gridcolor": "white",
            "linecolor": "white",
            "ticks": ""
           }
          },
          "scene": {
           "xaxis": {
            "backgroundcolor": "#E5ECF6",
            "gridcolor": "white",
            "gridwidth": 2,
            "linecolor": "white",
            "showbackground": true,
            "ticks": "",
            "zerolinecolor": "white"
           },
           "yaxis": {
            "backgroundcolor": "#E5ECF6",
            "gridcolor": "white",
            "gridwidth": 2,
            "linecolor": "white",
            "showbackground": true,
            "ticks": "",
            "zerolinecolor": "white"
           },
           "zaxis": {
            "backgroundcolor": "#E5ECF6",
            "gridcolor": "white",
            "gridwidth": 2,
            "linecolor": "white",
            "showbackground": true,
            "ticks": "",
            "zerolinecolor": "white"
           }
          },
          "shapedefaults": {
           "line": {
            "color": "#2a3f5f"
           }
          },
          "ternary": {
           "aaxis": {
            "gridcolor": "white",
            "linecolor": "white",
            "ticks": ""
           },
           "baxis": {
            "gridcolor": "white",
            "linecolor": "white",
            "ticks": ""
           },
           "bgcolor": "#E5ECF6",
           "caxis": {
            "gridcolor": "white",
            "linecolor": "white",
            "ticks": ""
           }
          },
          "title": {
           "x": 0.05
          },
          "xaxis": {
           "automargin": true,
           "gridcolor": "white",
           "linecolor": "white",
           "ticks": "",
           "title": {
            "standoff": 15
           },
           "zerolinecolor": "white",
           "zerolinewidth": 2
          },
          "yaxis": {
           "automargin": true,
           "gridcolor": "white",
           "linecolor": "white",
           "ticks": "",
           "title": {
            "standoff": 15
           },
           "zerolinecolor": "white",
           "zerolinewidth": 2
          }
         }
        },
        "title": {
         "text": "Area Burnt (Square Root Transformation) by Season"
        },
        "width": 750,
        "xaxis": {
         "anchor": "y",
         "domain": [
          0,
          1
         ],
         "title": {
          "text": "Area Burnt (Square Root Transformation)"
         }
        },
        "yaxis": {
         "anchor": "x",
         "categoryarray": [
          "spring",
          "winter",
          "fall",
          "summer"
         ],
         "categoryorder": "array",
         "domain": [
          0,
          1
         ],
         "title": {
          "text": "Season"
         }
        }
       }
      }
     },
     "metadata": {},
     "output_type": "display_data"
    }
   ],
   "source": [
    "map_seasons = {\n",
    "    \"dec\" : \"winter\",\n",
    "    \"jan\" : \"winter\",\n",
    "    \"feb\" : \"winter\",\n",
    "    \"mar\" : \"spring\",\n",
    "    \"apr\" : \"spring\",\n",
    "    \"may\" : \"spring\",\n",
    "    \"jun\" : \"summer\",\n",
    "    \"jul\" : \"summer\", \n",
    "    \"aug\" : \"summer\",\n",
    "    \"sep\" : \"fall\",\n",
    "    \"oct\" : \"fall\",\n",
    "    \"nov\" : \"fall\"\n",
    "}\n",
    "\n",
    "train_set[\"season\"] = train_set[\"month\"].map(map_seasons)\n",
    "train_set[\"sqrt_area\"] = train_set[\"area\"].apply(np.sqrt)\n",
    "\n",
    "fig = px.box(\n",
    "    train_set,\n",
    "    x=\"sqrt_area\",\n",
    "    y=\"season\",\n",
    "    color=\"season\",\n",
    "    title=\"Area Burnt (Square Root Transformation) by Season\",\n",
    "    labels={\n",
    "        \"sqrt_area\": \"Area Burnt (Square Root Transformation)\",\n",
    "        \"season\": \"Season\"\n",
    "    }\n",
    ")\n",
    "\n",
    "# Adjust plot dimensions\n",
    "fig.update_layout(\n",
    "    width=750,\n",
    "    height=500\n",
    ")\n",
    "\n",
    "# Display the plot\n",
    "fig.show()"
   ]
  },
  {
   "cell_type": "code",
   "execution_count": 22,
   "id": "87fa7399",
   "metadata": {},
   "outputs": [
    {
     "name": "stdout",
     "output_type": "stream",
     "text": [
      "Requirement already satisfied: geopandas in c:\\users\\hp\\appdata\\roaming\\python\\python311\\site-packages (1.0.1)\n",
      "Requirement already satisfied: numpy>=1.22 in c:\\users\\hp\\anaconda3\\lib\\site-packages (from geopandas) (1.26.4)\n",
      "Requirement already satisfied: pyogrio>=0.7.2 in c:\\users\\hp\\appdata\\roaming\\python\\python311\\site-packages (from geopandas) (0.10.0)\n",
      "Requirement already satisfied: packaging in c:\\users\\hp\\anaconda3\\lib\\site-packages (from geopandas) (23.1)\n",
      "Requirement already satisfied: pandas>=1.4.0 in c:\\users\\hp\\anaconda3\\lib\\site-packages (from geopandas) (2.1.4)\n",
      "Requirement already satisfied: pyproj>=3.3.0 in c:\\users\\hp\\appdata\\roaming\\python\\python311\\site-packages (from geopandas) (3.7.0)\n",
      "Requirement already satisfied: shapely>=2.0.0 in c:\\users\\hp\\appdata\\roaming\\python\\python311\\site-packages (from geopandas) (2.0.6)\n",
      "Requirement already satisfied: python-dateutil>=2.8.2 in c:\\users\\hp\\anaconda3\\lib\\site-packages (from pandas>=1.4.0->geopandas) (2.8.2)\n",
      "Requirement already satisfied: pytz>=2020.1 in c:\\users\\hp\\anaconda3\\lib\\site-packages (from pandas>=1.4.0->geopandas) (2023.3.post1)\n",
      "Requirement already satisfied: tzdata>=2022.1 in c:\\users\\hp\\anaconda3\\lib\\site-packages (from pandas>=1.4.0->geopandas) (2023.3)\n",
      "Requirement already satisfied: certifi in c:\\users\\hp\\anaconda3\\lib\\site-packages (from pyogrio>=0.7.2->geopandas) (2024.2.2)\n",
      "Requirement already satisfied: six>=1.5 in c:\\users\\hp\\anaconda3\\lib\\site-packages (from python-dateutil>=2.8.2->pandas>=1.4.0->geopandas) (1.16.0)\n",
      "Note: you may need to restart the kernel to use updated packages.\n"
     ]
    }
   ],
   "source": [
    "%pip install geopandas --user"
   ]
  },
  {
   "cell_type": "code",
   "execution_count": 26,
   "id": "b1138d2d",
   "metadata": {},
   "outputs": [
    {
     "data": {
      "application/vnd.plotly.v1+json": {
       "config": {
        "plotlyServerURL": "https://plot.ly"
       },
       "data": [
        {
         "hovertemplate": "Burn Category=No Burn<br>X-axis Spacial Coordinate=%{x}<br>Y-axis Spacial Coordinate=%{y}<br>Burnt Area=%{marker.size}<extra></extra>",
         "legendgroup": "No Burn",
         "marker": {
          "color": "gray",
          "opacity": 0.7,
          "size": [
           0,
           0,
           0,
           0,
           0,
           0,
           0,
           0,
           0,
           0,
           0,
           0,
           0,
           0,
           0,
           0,
           0,
           0,
           0,
           0,
           0,
           0,
           0,
           0,
           0,
           0,
           0,
           0,
           0,
           0,
           0,
           0,
           0,
           0,
           0,
           0,
           0,
           0,
           0,
           0,
           0,
           0,
           0,
           0,
           0,
           0,
           0,
           0,
           0,
           0,
           0,
           0,
           0,
           0,
           0,
           0,
           0,
           0,
           0,
           0,
           0,
           0,
           0,
           0,
           0,
           0,
           0,
           0,
           0,
           0,
           0,
           0,
           0,
           0,
           0,
           0,
           0,
           0,
           0,
           0,
           0,
           0,
           0,
           0,
           0,
           0,
           0,
           0,
           0,
           0,
           0,
           0,
           0,
           0,
           0,
           0,
           0,
           0,
           0,
           0,
           0,
           0,
           0,
           0,
           0,
           0,
           0,
           0,
           0,
           0,
           0,
           0,
           0,
           0,
           0,
           0,
           0,
           0,
           0,
           0,
           0,
           0,
           0,
           0,
           0,
           0,
           0,
           0,
           0,
           0,
           0,
           0,
           0,
           0,
           0,
           0,
           0,
           0,
           0,
           0,
           0,
           0,
           0,
           0,
           0,
           0,
           0,
           0,
           0,
           0,
           0,
           0,
           0,
           0,
           0,
           0,
           0,
           0,
           0,
           0,
           0,
           0,
           0,
           0,
           0,
           0,
           0,
           0,
           0,
           0,
           0,
           0,
           0,
           0,
           0,
           0,
           0,
           0,
           0,
           0,
           0,
           0,
           0,
           0,
           0,
           0,
           0,
           0,
           0,
           0,
           0,
           0,
           0,
           0,
           0,
           0,
           0,
           0
          ],
          "sizemode": "area",
          "sizeref": 0.6817749999999999,
          "symbol": "circle"
         },
         "mode": "markers",
         "name": "No Burn",
         "orientation": "v",
         "showlegend": true,
         "type": "scatter",
         "x": [
          2,
          4,
          4,
          1,
          4,
          4,
          4,
          4,
          4,
          6,
          6,
          1,
          5,
          4,
          7,
          3,
          9,
          6,
          6,
          5,
          6,
          6,
          1,
          3,
          8,
          8,
          4,
          4,
          2,
          3,
          8,
          7,
          6,
          4,
          8,
          7,
          7,
          6,
          6,
          6,
          3,
          8,
          1,
          4,
          7,
          2,
          7,
          6,
          6,
          1,
          4,
          4,
          8,
          4,
          6,
          3,
          5,
          4,
          7,
          6,
          7,
          1,
          6,
          5,
          8,
          2,
          7,
          3,
          7,
          1,
          6,
          1,
          3,
          7,
          8,
          5,
          2,
          4,
          4,
          6,
          8,
          7,
          8,
          3,
          8,
          3,
          2,
          8,
          6,
          7,
          6,
          6,
          3,
          4,
          3,
          9,
          3,
          3,
          1,
          2,
          4,
          3,
          8,
          2,
          2,
          5,
          3,
          4,
          4,
          3,
          4,
          6,
          7,
          2,
          2,
          2,
          4,
          4,
          2,
          8,
          1,
          2,
          3,
          1,
          6,
          4,
          2,
          3,
          7,
          5,
          1,
          4,
          4,
          5,
          3,
          3,
          7,
          6,
          1,
          7,
          6,
          2,
          2,
          8,
          6,
          4,
          6,
          5,
          4,
          7,
          6,
          3,
          2,
          7,
          6,
          4,
          2,
          2,
          3,
          1,
          4,
          5,
          4,
          6,
          2,
          1,
          1,
          5,
          9,
          2,
          3,
          6,
          3,
          3,
          3,
          5,
          8,
          1,
          4,
          7,
          1,
          2,
          2,
          1,
          3,
          7,
          6,
          5,
          6,
          3,
          3,
          3,
          4,
          3,
          4,
          1,
          8,
          3
         ],
         "xaxis": "x",
         "y": [
          5,
          4,
          4,
          2,
          5,
          5,
          5,
          4,
          3,
          4,
          3,
          3,
          4,
          6,
          5,
          4,
          5,
          3,
          5,
          4,
          6,
          5,
          2,
          4,
          6,
          6,
          3,
          4,
          4,
          4,
          6,
          4,
          5,
          3,
          6,
          3,
          4,
          5,
          5,
          3,
          4,
          6,
          2,
          5,
          4,
          2,
          4,
          4,
          3,
          2,
          3,
          5,
          6,
          4,
          3,
          5,
          4,
          3,
          4,
          5,
          5,
          4,
          3,
          4,
          6,
          2,
          5,
          5,
          5,
          2,
          3,
          2,
          4,
          4,
          6,
          4,
          2,
          5,
          4,
          5,
          6,
          4,
          6,
          5,
          6,
          6,
          4,
          6,
          5,
          5,
          3,
          5,
          4,
          5,
          6,
          9,
          4,
          4,
          3,
          4,
          4,
          4,
          6,
          2,
          2,
          6,
          6,
          6,
          4,
          4,
          5,
          3,
          4,
          2,
          5,
          4,
          4,
          5,
          2,
          6,
          3,
          2,
          4,
          2,
          5,
          5,
          2,
          4,
          4,
          6,
          2,
          5,
          6,
          5,
          6,
          4,
          4,
          5,
          2,
          4,
          5,
          4,
          2,
          6,
          3,
          3,
          5,
          4,
          3,
          4,
          4,
          4,
          4,
          4,
          3,
          4,
          5,
          5,
          4,
          4,
          5,
          4,
          4,
          5,
          2,
          4,
          2,
          5,
          9,
          5,
          4,
          3,
          4,
          4,
          5,
          5,
          6,
          2,
          4,
          4,
          4,
          2,
          3,
          4,
          4,
          4,
          3,
          4,
          6,
          5,
          4,
          4,
          3,
          4,
          5,
          2,
          5,
          4
         ],
         "yaxis": "y"
        },
        {
         "hovertemplate": "Burn Category=Small Burn<br>X-axis Spacial Coordinate=%{x}<br>Y-axis Spacial Coordinate=%{y}<br>Burnt Area=%{marker.size}<extra></extra>",
         "legendgroup": "Small Burn",
         "marker": {
          "color": "blue",
          "opacity": 0.7,
          "size": [
           1.63,
           2.21,
           1.56,
           8.68,
           2.07,
           1.94,
           3.35,
           1.19,
           4.88,
           0.61,
           2.93,
           0.33,
           2.01,
           7.31,
           9.96,
           2.74,
           8.71,
           0.21,
           3.63,
           1.69,
           8.24,
           3.95,
           7.4,
           2.18,
           6.43,
           0.72,
           0.96,
           2.35,
           0.41,
           3.09,
           8.31,
           4.53,
           1.94,
           6.84,
           2.14,
           2.47,
           0.77,
           5.8,
           1.63,
           2.64,
           1.26,
           3.2,
           7.8,
           3.18,
           6.04,
           2.17,
           3.07,
           0.9,
           7.36,
           4.96,
           2.29,
           0.52,
           1.95,
           0.09,
           1.94,
           6.44,
           0.71,
           1.43,
           3.32,
           2.51,
           7.02,
           0.76,
           2.13,
           6.61,
           5.39,
           9.77,
           1.9,
           5.83,
           8.59,
           1.1,
           7.3,
           3.5,
           6.43,
           2.55,
           0.75,
           0.68,
           0.24,
           4.4,
           1.46,
           3.71,
           4.95,
           0.68,
           1.29,
           4.41,
           5.65,
           0.55,
           3.19,
           5.18,
           2.18,
           7.21,
           1.64,
           4.42,
           8.02,
           3.52,
           0.9,
           1.09,
           9.41,
           6.58,
           1.75,
           6.57,
           0.47,
           0.79,
           4.25,
           1.38,
           5.97,
           1.12,
           0.43,
           2,
           6.83,
           7.19,
           8.12,
           2.87,
           0.52,
           9.96,
           1.46,
           1.64,
           2.14,
           9.27,
           0.95,
           1.58,
           2.44,
           2.53,
           4.62,
           3.71,
           1.72,
           5.33,
           7.73,
           3.94,
           4.61,
           3.93,
           9.71,
           1.95,
           1.52,
           1.47,
           1.01,
           5.86,
           0.43
          ],
          "sizemode": "area",
          "sizeref": 0.6817749999999999,
          "symbol": "circle"
         },
         "mode": "markers",
         "name": "Small Burn",
         "orientation": "v",
         "showlegend": true,
         "type": "scatter",
         "x": [
          9,
          7,
          7,
          2,
          2,
          6,
          6,
          6,
          2,
          8,
          4,
          1,
          8,
          4,
          2,
          7,
          2,
          6,
          5,
          7,
          7,
          6,
          6,
          8,
          2,
          1,
          8,
          2,
          7,
          2,
          6,
          1,
          8,
          2,
          6,
          3,
          2,
          1,
          2,
          4,
          4,
          3,
          4,
          6,
          2,
          5,
          4,
          6,
          4,
          8,
          6,
          7,
          8,
          5,
          7,
          4,
          1,
          3,
          8,
          6,
          6,
          3,
          1,
          6,
          6,
          4,
          6,
          2,
          6,
          3,
          1,
          1,
          4,
          8,
          2,
          4,
          8,
          4,
          5,
          1,
          3,
          8,
          3,
          5,
          6,
          1,
          2,
          3,
          3,
          1,
          5,
          6,
          8,
          6,
          6,
          6,
          4,
          3,
          4,
          8,
          2,
          4,
          2,
          7,
          7,
          8,
          1,
          5,
          7,
          8,
          1,
          2,
          2,
          7,
          1,
          2,
          6,
          8,
          5,
          4,
          2,
          6,
          7,
          5,
          7,
          1,
          5,
          4,
          6,
          2,
          1,
          2,
          7,
          2,
          6,
          8,
          6
         ],
         "xaxis": "x",
         "y": [
          4,
          4,
          4,
          5,
          4,
          3,
          5,
          5,
          5,
          6,
          3,
          3,
          5,
          4,
          5,
          4,
          2,
          5,
          6,
          4,
          4,
          5,
          4,
          6,
          5,
          3,
          3,
          4,
          4,
          5,
          5,
          4,
          3,
          2,
          5,
          4,
          5,
          2,
          2,
          5,
          4,
          4,
          3,
          5,
          4,
          4,
          4,
          5,
          3,
          6,
          5,
          4,
          6,
          4,
          4,
          3,
          2,
          4,
          6,
          5,
          3,
          4,
          4,
          5,
          5,
          4,
          4,
          2,
          6,
          4,
          5,
          4,
          5,
          6,
          4,
          3,
          5,
          4,
          4,
          4,
          4,
          5,
          4,
          4,
          5,
          2,
          5,
          4,
          5,
          4,
          4,
          5,
          6,
          5,
          4,
          5,
          5,
          3,
          5,
          6,
          5,
          4,
          4,
          4,
          4,
          6,
          4,
          4,
          4,
          6,
          4,
          4,
          2,
          4,
          5,
          4,
          4,
          6,
          4,
          4,
          4,
          5,
          4,
          4,
          4,
          3,
          4,
          3,
          5,
          5,
          4,
          4,
          4,
          4,
          5,
          6,
          5
         ],
         "yaxis": "y"
        },
        {
         "hovertemplate": "Burn Category=Moderate Burn<br>X-axis Spacial Coordinate=%{x}<br>Y-axis Spacial Coordinate=%{y}<br>Burnt Area=%{marker.size}<extra></extra>",
         "legendgroup": "Moderate Burn",
         "marker": {
          "color": "orange",
          "opacity": 0.7,
          "size": [
           26,
           34.36,
           23.41,
           28.74,
           30.18,
           13.05,
           17.85,
           28.19,
           12.1,
           37.02,
           35.88,
           26.13,
           49.37,
           26.43,
           24.24,
           11.19,
           13.7,
           11.16,
           10.08,
           16.33,
           30.32,
           10.73,
           24.23,
           40.54,
           31.72,
           12.18,
           43.32,
           32.07,
           49.59,
           14.68,
           31.86,
           39.35,
           17.2,
           10.01,
           42.87,
           24.77,
           11.22,
           10.02,
           10.82,
           11.06,
           28.66,
           11.06,
           15.45,
           10.34,
           13.06,
           11.24,
           36.85,
           46.7,
           14.57,
           22.03,
           15.64,
           27.35,
           14.29,
           19.23,
           37.71,
           48.55,
           28.66,
           20.03
          ],
          "sizemode": "area",
          "sizeref": 0.6817749999999999,
          "symbol": "circle"
         },
         "mode": "markers",
         "name": "Moderate Burn",
         "orientation": "v",
         "showlegend": true,
         "type": "scatter",
         "x": [
          7,
          6,
          8,
          6,
          8,
          7,
          4,
          1,
          6,
          2,
          3,
          7,
          7,
          2,
          5,
          8,
          8,
          7,
          4,
          8,
          1,
          3,
          4,
          6,
          4,
          8,
          1,
          8,
          4,
          3,
          6,
          6,
          7,
          2,
          9,
          6,
          4,
          2,
          7,
          4,
          4,
          7,
          2,
          6,
          4,
          3,
          4,
          4,
          4,
          4,
          7,
          7,
          6,
          6,
          7,
          4,
          4,
          6
         ],
         "xaxis": "x",
         "y": [
          4,
          3,
          3,
          4,
          6,
          4,
          4,
          4,
          5,
          2,
          4,
          4,
          5,
          5,
          4,
          6,
          6,
          4,
          3,
          6,
          3,
          4,
          4,
          5,
          5,
          4,
          3,
          6,
          3,
          4,
          5,
          5,
          5,
          2,
          6,
          5,
          4,
          5,
          5,
          5,
          4,
          4,
          2,
          3,
          4,
          4,
          3,
          4,
          5,
          4,
          4,
          3,
          3,
          5,
          4,
          4,
          4,
          5
         ],
         "yaxis": "y"
        },
        {
         "hovertemplate": "Burn Category=Large Burn<br>X-axis Spacial Coordinate=%{x}<br>Y-axis Spacial Coordinate=%{y}<br>Burnt Area=%{marker.size}<extra></extra>",
         "legendgroup": "Large Burn",
         "marker": {
          "color": "red",
          "opacity": 0.7,
          "size": [
           61.13,
           58.3,
           200.94,
           95.18,
           71.3,
           56.04,
           196.48,
           278.53,
           103.39,
           86.45,
           64.1,
           746.28,
           1090.84,
           70.32,
           174.63,
           51.78,
           105.66,
           54.29,
           185.76,
           88.49
          ],
          "sizemode": "area",
          "sizeref": 0.6817749999999999,
          "symbol": "circle"
         },
         "mode": "markers",
         "name": "Large Burn",
         "orientation": "v",
         "showlegend": true,
         "type": "scatter",
         "x": [
          6,
          8,
          2,
          1,
          8,
          6,
          8,
          7,
          6,
          7,
          4,
          8,
          6,
          9,
          2,
          4,
          9,
          2,
          8,
          4
         ],
         "xaxis": "x",
         "y": [
          3,
          6,
          2,
          5,
          6,
          3,
          6,
          4,
          4,
          6,
          6,
          6,
          5,
          4,
          2,
          5,
          4,
          4,
          8,
          4
         ],
         "yaxis": "y"
        }
       ],
       "layout": {
        "legend": {
         "itemsizing": "constant",
         "title": {
          "text": "Burn Category"
         },
         "tracegroupgap": 0
        },
        "template": {
         "data": {
          "bar": [
           {
            "error_x": {
             "color": "#2a3f5f"
            },
            "error_y": {
             "color": "#2a3f5f"
            },
            "marker": {
             "line": {
              "color": "white",
              "width": 0.5
             },
             "pattern": {
              "fillmode": "overlay",
              "size": 10,
              "solidity": 0.2
             }
            },
            "type": "bar"
           }
          ],
          "barpolar": [
           {
            "marker": {
             "line": {
              "color": "white",
              "width": 0.5
             },
             "pattern": {
              "fillmode": "overlay",
              "size": 10,
              "solidity": 0.2
             }
            },
            "type": "barpolar"
           }
          ],
          "carpet": [
           {
            "aaxis": {
             "endlinecolor": "#2a3f5f",
             "gridcolor": "#C8D4E3",
             "linecolor": "#C8D4E3",
             "minorgridcolor": "#C8D4E3",
             "startlinecolor": "#2a3f5f"
            },
            "baxis": {
             "endlinecolor": "#2a3f5f",
             "gridcolor": "#C8D4E3",
             "linecolor": "#C8D4E3",
             "minorgridcolor": "#C8D4E3",
             "startlinecolor": "#2a3f5f"
            },
            "type": "carpet"
           }
          ],
          "choropleth": [
           {
            "colorbar": {
             "outlinewidth": 0,
             "ticks": ""
            },
            "type": "choropleth"
           }
          ],
          "contour": [
           {
            "colorbar": {
             "outlinewidth": 0,
             "ticks": ""
            },
            "colorscale": [
             [
              0,
              "#0d0887"
             ],
             [
              0.1111111111111111,
              "#46039f"
             ],
             [
              0.2222222222222222,
              "#7201a8"
             ],
             [
              0.3333333333333333,
              "#9c179e"
             ],
             [
              0.4444444444444444,
              "#bd3786"
             ],
             [
              0.5555555555555556,
              "#d8576b"
             ],
             [
              0.6666666666666666,
              "#ed7953"
             ],
             [
              0.7777777777777778,
              "#fb9f3a"
             ],
             [
              0.8888888888888888,
              "#fdca26"
             ],
             [
              1,
              "#f0f921"
             ]
            ],
            "type": "contour"
           }
          ],
          "contourcarpet": [
           {
            "colorbar": {
             "outlinewidth": 0,
             "ticks": ""
            },
            "type": "contourcarpet"
           }
          ],
          "heatmap": [
           {
            "colorbar": {
             "outlinewidth": 0,
             "ticks": ""
            },
            "colorscale": [
             [
              0,
              "#0d0887"
             ],
             [
              0.1111111111111111,
              "#46039f"
             ],
             [
              0.2222222222222222,
              "#7201a8"
             ],
             [
              0.3333333333333333,
              "#9c179e"
             ],
             [
              0.4444444444444444,
              "#bd3786"
             ],
             [
              0.5555555555555556,
              "#d8576b"
             ],
             [
              0.6666666666666666,
              "#ed7953"
             ],
             [
              0.7777777777777778,
              "#fb9f3a"
             ],
             [
              0.8888888888888888,
              "#fdca26"
             ],
             [
              1,
              "#f0f921"
             ]
            ],
            "type": "heatmap"
           }
          ],
          "heatmapgl": [
           {
            "colorbar": {
             "outlinewidth": 0,
             "ticks": ""
            },
            "colorscale": [
             [
              0,
              "#0d0887"
             ],
             [
              0.1111111111111111,
              "#46039f"
             ],
             [
              0.2222222222222222,
              "#7201a8"
             ],
             [
              0.3333333333333333,
              "#9c179e"
             ],
             [
              0.4444444444444444,
              "#bd3786"
             ],
             [
              0.5555555555555556,
              "#d8576b"
             ],
             [
              0.6666666666666666,
              "#ed7953"
             ],
             [
              0.7777777777777778,
              "#fb9f3a"
             ],
             [
              0.8888888888888888,
              "#fdca26"
             ],
             [
              1,
              "#f0f921"
             ]
            ],
            "type": "heatmapgl"
           }
          ],
          "histogram": [
           {
            "marker": {
             "pattern": {
              "fillmode": "overlay",
              "size": 10,
              "solidity": 0.2
             }
            },
            "type": "histogram"
           }
          ],
          "histogram2d": [
           {
            "colorbar": {
             "outlinewidth": 0,
             "ticks": ""
            },
            "colorscale": [
             [
              0,
              "#0d0887"
             ],
             [
              0.1111111111111111,
              "#46039f"
             ],
             [
              0.2222222222222222,
              "#7201a8"
             ],
             [
              0.3333333333333333,
              "#9c179e"
             ],
             [
              0.4444444444444444,
              "#bd3786"
             ],
             [
              0.5555555555555556,
              "#d8576b"
             ],
             [
              0.6666666666666666,
              "#ed7953"
             ],
             [
              0.7777777777777778,
              "#fb9f3a"
             ],
             [
              0.8888888888888888,
              "#fdca26"
             ],
             [
              1,
              "#f0f921"
             ]
            ],
            "type": "histogram2d"
           }
          ],
          "histogram2dcontour": [
           {
            "colorbar": {
             "outlinewidth": 0,
             "ticks": ""
            },
            "colorscale": [
             [
              0,
              "#0d0887"
             ],
             [
              0.1111111111111111,
              "#46039f"
             ],
             [
              0.2222222222222222,
              "#7201a8"
             ],
             [
              0.3333333333333333,
              "#9c179e"
             ],
             [
              0.4444444444444444,
              "#bd3786"
             ],
             [
              0.5555555555555556,
              "#d8576b"
             ],
             [
              0.6666666666666666,
              "#ed7953"
             ],
             [
              0.7777777777777778,
              "#fb9f3a"
             ],
             [
              0.8888888888888888,
              "#fdca26"
             ],
             [
              1,
              "#f0f921"
             ]
            ],
            "type": "histogram2dcontour"
           }
          ],
          "mesh3d": [
           {
            "colorbar": {
             "outlinewidth": 0,
             "ticks": ""
            },
            "type": "mesh3d"
           }
          ],
          "parcoords": [
           {
            "line": {
             "colorbar": {
              "outlinewidth": 0,
              "ticks": ""
             }
            },
            "type": "parcoords"
           }
          ],
          "pie": [
           {
            "automargin": true,
            "type": "pie"
           }
          ],
          "scatter": [
           {
            "fillpattern": {
             "fillmode": "overlay",
             "size": 10,
             "solidity": 0.2
            },
            "type": "scatter"
           }
          ],
          "scatter3d": [
           {
            "line": {
             "colorbar": {
              "outlinewidth": 0,
              "ticks": ""
             }
            },
            "marker": {
             "colorbar": {
              "outlinewidth": 0,
              "ticks": ""
             }
            },
            "type": "scatter3d"
           }
          ],
          "scattercarpet": [
           {
            "marker": {
             "colorbar": {
              "outlinewidth": 0,
              "ticks": ""
             }
            },
            "type": "scattercarpet"
           }
          ],
          "scattergeo": [
           {
            "marker": {
             "colorbar": {
              "outlinewidth": 0,
              "ticks": ""
             }
            },
            "type": "scattergeo"
           }
          ],
          "scattergl": [
           {
            "marker": {
             "colorbar": {
              "outlinewidth": 0,
              "ticks": ""
             }
            },
            "type": "scattergl"
           }
          ],
          "scattermapbox": [
           {
            "marker": {
             "colorbar": {
              "outlinewidth": 0,
              "ticks": ""
             }
            },
            "type": "scattermapbox"
           }
          ],
          "scatterpolar": [
           {
            "marker": {
             "colorbar": {
              "outlinewidth": 0,
              "ticks": ""
             }
            },
            "type": "scatterpolar"
           }
          ],
          "scatterpolargl": [
           {
            "marker": {
             "colorbar": {
              "outlinewidth": 0,
              "ticks": ""
             }
            },
            "type": "scatterpolargl"
           }
          ],
          "scatterternary": [
           {
            "marker": {
             "colorbar": {
              "outlinewidth": 0,
              "ticks": ""
             }
            },
            "type": "scatterternary"
           }
          ],
          "surface": [
           {
            "colorbar": {
             "outlinewidth": 0,
             "ticks": ""
            },
            "colorscale": [
             [
              0,
              "#0d0887"
             ],
             [
              0.1111111111111111,
              "#46039f"
             ],
             [
              0.2222222222222222,
              "#7201a8"
             ],
             [
              0.3333333333333333,
              "#9c179e"
             ],
             [
              0.4444444444444444,
              "#bd3786"
             ],
             [
              0.5555555555555556,
              "#d8576b"
             ],
             [
              0.6666666666666666,
              "#ed7953"
             ],
             [
              0.7777777777777778,
              "#fb9f3a"
             ],
             [
              0.8888888888888888,
              "#fdca26"
             ],
             [
              1,
              "#f0f921"
             ]
            ],
            "type": "surface"
           }
          ],
          "table": [
           {
            "cells": {
             "fill": {
              "color": "#EBF0F8"
             },
             "line": {
              "color": "white"
             }
            },
            "header": {
             "fill": {
              "color": "#C8D4E3"
             },
             "line": {
              "color": "white"
             }
            },
            "type": "table"
           }
          ]
         },
         "layout": {
          "annotationdefaults": {
           "arrowcolor": "#2a3f5f",
           "arrowhead": 0,
           "arrowwidth": 1
          },
          "autotypenumbers": "strict",
          "coloraxis": {
           "colorbar": {
            "outlinewidth": 0,
            "ticks": ""
           }
          },
          "colorscale": {
           "diverging": [
            [
             0,
             "#8e0152"
            ],
            [
             0.1,
             "#c51b7d"
            ],
            [
             0.2,
             "#de77ae"
            ],
            [
             0.3,
             "#f1b6da"
            ],
            [
             0.4,
             "#fde0ef"
            ],
            [
             0.5,
             "#f7f7f7"
            ],
            [
             0.6,
             "#e6f5d0"
            ],
            [
             0.7,
             "#b8e186"
            ],
            [
             0.8,
             "#7fbc41"
            ],
            [
             0.9,
             "#4d9221"
            ],
            [
             1,
             "#276419"
            ]
           ],
           "sequential": [
            [
             0,
             "#0d0887"
            ],
            [
             0.1111111111111111,
             "#46039f"
            ],
            [
             0.2222222222222222,
             "#7201a8"
            ],
            [
             0.3333333333333333,
             "#9c179e"
            ],
            [
             0.4444444444444444,
             "#bd3786"
            ],
            [
             0.5555555555555556,
             "#d8576b"
            ],
            [
             0.6666666666666666,
             "#ed7953"
            ],
            [
             0.7777777777777778,
             "#fb9f3a"
            ],
            [
             0.8888888888888888,
             "#fdca26"
            ],
            [
             1,
             "#f0f921"
            ]
           ],
           "sequentialminus": [
            [
             0,
             "#0d0887"
            ],
            [
             0.1111111111111111,
             "#46039f"
            ],
            [
             0.2222222222222222,
             "#7201a8"
            ],
            [
             0.3333333333333333,
             "#9c179e"
            ],
            [
             0.4444444444444444,
             "#bd3786"
            ],
            [
             0.5555555555555556,
             "#d8576b"
            ],
            [
             0.6666666666666666,
             "#ed7953"
            ],
            [
             0.7777777777777778,
             "#fb9f3a"
            ],
            [
             0.8888888888888888,
             "#fdca26"
            ],
            [
             1,
             "#f0f921"
            ]
           ]
          },
          "colorway": [
           "#636efa",
           "#EF553B",
           "#00cc96",
           "#ab63fa",
           "#FFA15A",
           "#19d3f3",
           "#FF6692",
           "#B6E880",
           "#FF97FF",
           "#FECB52"
          ],
          "font": {
           "color": "#2a3f5f"
          },
          "geo": {
           "bgcolor": "white",
           "lakecolor": "white",
           "landcolor": "white",
           "showlakes": true,
           "showland": true,
           "subunitcolor": "#C8D4E3"
          },
          "hoverlabel": {
           "align": "left"
          },
          "hovermode": "closest",
          "mapbox": {
           "style": "light"
          },
          "paper_bgcolor": "white",
          "plot_bgcolor": "white",
          "polar": {
           "angularaxis": {
            "gridcolor": "#EBF0F8",
            "linecolor": "#EBF0F8",
            "ticks": ""
           },
           "bgcolor": "white",
           "radialaxis": {
            "gridcolor": "#EBF0F8",
            "linecolor": "#EBF0F8",
            "ticks": ""
           }
          },
          "scene": {
           "xaxis": {
            "backgroundcolor": "white",
            "gridcolor": "#DFE8F3",
            "gridwidth": 2,
            "linecolor": "#EBF0F8",
            "showbackground": true,
            "ticks": "",
            "zerolinecolor": "#EBF0F8"
           },
           "yaxis": {
            "backgroundcolor": "white",
            "gridcolor": "#DFE8F3",
            "gridwidth": 2,
            "linecolor": "#EBF0F8",
            "showbackground": true,
            "ticks": "",
            "zerolinecolor": "#EBF0F8"
           },
           "zaxis": {
            "backgroundcolor": "white",
            "gridcolor": "#DFE8F3",
            "gridwidth": 2,
            "linecolor": "#EBF0F8",
            "showbackground": true,
            "ticks": "",
            "zerolinecolor": "#EBF0F8"
           }
          },
          "shapedefaults": {
           "line": {
            "color": "#2a3f5f"
           }
          },
          "ternary": {
           "aaxis": {
            "gridcolor": "#DFE8F3",
            "linecolor": "#A2B1C6",
            "ticks": ""
           },
           "baxis": {
            "gridcolor": "#DFE8F3",
            "linecolor": "#A2B1C6",
            "ticks": ""
           },
           "bgcolor": "white",
           "caxis": {
            "gridcolor": "#DFE8F3",
            "linecolor": "#A2B1C6",
            "ticks": ""
           }
          },
          "title": {
           "x": 0.05
          },
          "xaxis": {
           "automargin": true,
           "gridcolor": "#EBF0F8",
           "linecolor": "#EBF0F8",
           "ticks": "",
           "title": {
            "standoff": 15
           },
           "zerolinecolor": "#EBF0F8",
           "zerolinewidth": 2
          },
          "yaxis": {
           "automargin": true,
           "gridcolor": "#EBF0F8",
           "linecolor": "#EBF0F8",
           "ticks": "",
           "title": {
            "standoff": 15
           },
           "zerolinecolor": "#EBF0F8",
           "zerolinewidth": 2
          }
         }
        },
        "title": {
         "text": "Burnt Area by Spacial Coordinates"
        },
        "xaxis": {
         "anchor": "y",
         "domain": [
          0,
          1
         ],
         "title": {
          "text": "X-axis Spacial Coordinate"
         }
        },
        "yaxis": {
         "anchor": "x",
         "domain": [
          0,
          1
         ],
         "title": {
          "text": "Y-axis Spacial Coordinate"
         }
        }
       }
      }
     },
     "metadata": {},
     "output_type": "display_data"
    }
   ],
   "source": [
    "def classify_area(area):\n",
    "    if area == 0:\n",
    "        return \"No Burn\"\n",
    "    elif area <= 10:\n",
    "        return \"Small Burn\"\n",
    "    elif area <= 50:\n",
    "        return \"Moderate Burn\"\n",
    "    else:\n",
    "        return \"Large Burn\"\n",
    "\n",
    "train_set[\"Burn Category\"] = train_set[\"area\"].apply(classify_area)\n",
    "\n",
    "fig = px.scatter(\n",
    "    train_set,\n",
    "    x=\"X\",\n",
    "    y=\"Y\",\n",
    "    size=\"area\",\n",
    "    size_max=40,  \n",
    "    color=\"Burn Category\",  \n",
    "    color_discrete_map={\n",
    "        \"No Burn\": \"gray\",\n",
    "        \"Small Burn\": \"blue\",\n",
    "        \"Moderate Burn\": \"orange\",\n",
    "        \"Large Burn\": \"red\"\n",
    "    },\n",
    "    opacity=0.7,\n",
    "    labels={\n",
    "        \"X\": \"X-axis Spacial Coordinate\",\n",
    "        \"Y\": \"Y-axis Spacial Coordinate\",\n",
    "        \"area\": \"Burnt Area\",\n",
    "        \"Burn Category\": \"Burn Category\"\n",
    "    },\n",
    "    title=\"Burnt Area by Spacial Coordinates\"\n",
    ")\n",
    "\n",
    "# Update layout for better appearance\n",
    "fig.update_layout(\n",
    "    xaxis_title=\"X-axis Spacial Coordinate\",\n",
    "    yaxis_title=\"Y-axis Spacial Coordinate\",\n",
    "    template=\"plotly_white\",\n",
    "    legend_title=\"Burn Category\"  # Add a title to the legend\n",
    ")\n",
    "\n",
    "# Show the plot\n",
    "fig.show()\n",
    "\n"
   ]
  },
  {
   "cell_type": "code",
   "execution_count": 26,
   "id": "1b7c983c-17ad-4d8a-88a9-e5828ed2b592",
   "metadata": {},
   "outputs": [
    {
     "name": "stderr",
     "output_type": "stream",
     "text": [
      "c:\\Users\\HP\\anaconda3\\Lib\\site-packages\\altair\\utils\\core.py:395: FutureWarning: the convert_dtype parameter is deprecated and will be removed in a future version.  Do ``ser.astype(object).apply()`` instead if you want ``convert_dtype=False``.\n",
      "  col = df[col_name].apply(to_list_if_array, convert_dtype=False)\n",
      "c:\\Users\\HP\\anaconda3\\Lib\\site-packages\\altair\\utils\\core.py:395: FutureWarning: the convert_dtype parameter is deprecated and will be removed in a future version.  Do ``ser.astype(object).apply()`` instead if you want ``convert_dtype=False``.\n",
      "  col = df[col_name].apply(to_list_if_array, convert_dtype=False)\n"
     ]
    },
    {
     "data": {
      "text/html": [
       "\n",
       "<style>\n",
       "  #altair-viz-ca10da7423b343b3a3baa46d18361725.vega-embed {\n",
       "    width: 100%;\n",
       "    display: flex;\n",
       "  }\n",
       "\n",
       "  #altair-viz-ca10da7423b343b3a3baa46d18361725.vega-embed details,\n",
       "  #altair-viz-ca10da7423b343b3a3baa46d18361725.vega-embed details summary {\n",
       "    position: relative;\n",
       "  }\n",
       "</style>\n",
       "<div id=\"altair-viz-ca10da7423b343b3a3baa46d18361725\"></div>\n",
       "<script type=\"text/javascript\">\n",
       "  var VEGA_DEBUG = (typeof VEGA_DEBUG == \"undefined\") ? {} : VEGA_DEBUG;\n",
       "  (function(spec, embedOpt){\n",
       "    let outputDiv = document.currentScript.previousElementSibling;\n",
       "    if (outputDiv.id !== \"altair-viz-ca10da7423b343b3a3baa46d18361725\") {\n",
       "      outputDiv = document.getElementById(\"altair-viz-ca10da7423b343b3a3baa46d18361725\");\n",
       "    }\n",
       "    const paths = {\n",
       "      \"vega\": \"https://cdn.jsdelivr.net/npm/vega@5?noext\",\n",
       "      \"vega-lib\": \"https://cdn.jsdelivr.net/npm/vega-lib?noext\",\n",
       "      \"vega-lite\": \"https://cdn.jsdelivr.net/npm/vega-lite@5.8.0?noext\",\n",
       "      \"vega-embed\": \"https://cdn.jsdelivr.net/npm/vega-embed@6?noext\",\n",
       "    };\n",
       "\n",
       "    function maybeLoadScript(lib, version) {\n",
       "      var key = `${lib.replace(\"-\", \"\")}_version`;\n",
       "      return (VEGA_DEBUG[key] == version) ?\n",
       "        Promise.resolve(paths[lib]) :\n",
       "        new Promise(function(resolve, reject) {\n",
       "          var s = document.createElement('script');\n",
       "          document.getElementsByTagName(\"head\")[0].appendChild(s);\n",
       "          s.async = true;\n",
       "          s.onload = () => {\n",
       "            VEGA_DEBUG[key] = version;\n",
       "            return resolve(paths[lib]);\n",
       "          };\n",
       "          s.onerror = () => reject(`Error loading script: ${paths[lib]}`);\n",
       "          s.src = paths[lib];\n",
       "        });\n",
       "    }\n",
       "\n",
       "    function showError(err) {\n",
       "      outputDiv.innerHTML = `<div class=\"error\" style=\"color:red;\">${err}</div>`;\n",
       "      throw err;\n",
       "    }\n",
       "\n",
       "    function displayChart(vegaEmbed) {\n",
       "      vegaEmbed(outputDiv, spec, embedOpt)\n",
       "        .catch(err => showError(`Javascript Error: ${err.message}<br>This usually means there's a typo in your chart specification. See the javascript console for the full traceback.`));\n",
       "    }\n",
       "\n",
       "    if(typeof define === \"function\" && define.amd) {\n",
       "      requirejs.config({paths});\n",
       "      require([\"vega-embed\"], displayChart, err => showError(`Error loading script: ${err.message}`));\n",
       "    } else {\n",
       "      maybeLoadScript(\"vega\", \"5\")\n",
       "        .then(() => maybeLoadScript(\"vega-lite\", \"5.8.0\"))\n",
       "        .then(() => maybeLoadScript(\"vega-embed\", \"6\"))\n",
       "        .catch(showError)\n",
       "        .then(() => displayChart(vegaEmbed));\n",
       "    }\n",
       "  })({\"config\": {\"view\": {\"continuousWidth\": 300, \"continuousHeight\": 300}, \"mark\": {\"opacity\": 0.4}}, \"repeat\": {\"column\": [\"FFMC\", \"DMC\", \"DC\", \"ISI\", \"temp\", \"RH\", \"wind\", \"rain\"], \"row\": [\"FFMC\", \"DMC\", \"DC\", \"ISI\", \"temp\", \"RH\", \"wind\", \"rain\"]}, \"spec\": {\"data\": {\"name\": \"data-e0bda87007f42779033a993ab5a8062f\"}, \"mark\": {\"type\": \"circle\"}, \"encoding\": {\"color\": {\"field\": \"season\", \"type\": \"nominal\"}, \"x\": {\"field\": {\"repeat\": \"row\"}, \"type\": \"quantitative\"}, \"y\": {\"field\": {\"repeat\": \"column\"}, \"type\": \"quantitative\"}}, \"height\": 110, \"name\": \"view_1\", \"width\": 110}, \"params\": [{\"name\": \"param_1\", \"select\": {\"type\": \"interval\", \"encodings\": [\"x\", \"y\"]}, \"bind\": \"scales\", \"views\": [\"view_1_child__row_FFMCcolumn_FFMC\", \"view_1_child__row_FFMCcolumn_DMC\", \"view_1_child__row_FFMCcolumn_DC\", \"view_1_child__row_FFMCcolumn_ISI\", \"view_1_child__row_FFMCcolumn_temp\", \"view_1_child__row_FFMCcolumn_RH\", \"view_1_child__row_FFMCcolumn_wind\", \"view_1_child__row_FFMCcolumn_rain\", \"view_1_child__row_DMCcolumn_FFMC\", \"view_1_child__row_DMCcolumn_DMC\", \"view_1_child__row_DMCcolumn_DC\", \"view_1_child__row_DMCcolumn_ISI\", \"view_1_child__row_DMCcolumn_temp\", \"view_1_child__row_DMCcolumn_RH\", \"view_1_child__row_DMCcolumn_wind\", \"view_1_child__row_DMCcolumn_rain\", \"view_1_child__row_DCcolumn_FFMC\", \"view_1_child__row_DCcolumn_DMC\", \"view_1_child__row_DCcolumn_DC\", \"view_1_child__row_DCcolumn_ISI\", \"view_1_child__row_DCcolumn_temp\", \"view_1_child__row_DCcolumn_RH\", \"view_1_child__row_DCcolumn_wind\", \"view_1_child__row_DCcolumn_rain\", \"view_1_child__row_ISIcolumn_FFMC\", \"view_1_child__row_ISIcolumn_DMC\", \"view_1_child__row_ISIcolumn_DC\", \"view_1_child__row_ISIcolumn_ISI\", \"view_1_child__row_ISIcolumn_temp\", \"view_1_child__row_ISIcolumn_RH\", \"view_1_child__row_ISIcolumn_wind\", \"view_1_child__row_ISIcolumn_rain\", \"view_1_child__row_tempcolumn_FFMC\", \"view_1_child__row_tempcolumn_DMC\", \"view_1_child__row_tempcolumn_DC\", \"view_1_child__row_tempcolumn_ISI\", \"view_1_child__row_tempcolumn_temp\", \"view_1_child__row_tempcolumn_RH\", \"view_1_child__row_tempcolumn_wind\", \"view_1_child__row_tempcolumn_rain\", \"view_1_child__row_RHcolumn_FFMC\", \"view_1_child__row_RHcolumn_DMC\", \"view_1_child__row_RHcolumn_DC\", \"view_1_child__row_RHcolumn_ISI\", \"view_1_child__row_RHcolumn_temp\", \"view_1_child__row_RHcolumn_RH\", \"view_1_child__row_RHcolumn_wind\", \"view_1_child__row_RHcolumn_rain\", \"view_1_child__row_windcolumn_FFMC\", \"view_1_child__row_windcolumn_DMC\", \"view_1_child__row_windcolumn_DC\", \"view_1_child__row_windcolumn_ISI\", \"view_1_child__row_windcolumn_temp\", \"view_1_child__row_windcolumn_RH\", \"view_1_child__row_windcolumn_wind\", \"view_1_child__row_windcolumn_rain\", \"view_1_child__row_raincolumn_FFMC\", \"view_1_child__row_raincolumn_DMC\", \"view_1_child__row_raincolumn_DC\", \"view_1_child__row_raincolumn_ISI\", \"view_1_child__row_raincolumn_temp\", \"view_1_child__row_raincolumn_RH\", \"view_1_child__row_raincolumn_wind\", \"view_1_child__row_raincolumn_rain\"]}], \"$schema\": \"https://vega.github.io/schema/vega-lite/v5.8.0.json\", \"datasets\": {\"data-e0bda87007f42779033a993ab5a8062f\": [{\"X\": 2, \"Y\": 5, \"month\": \"jul\", \"day\": \"sun\", \"FFMC\": 93.9, \"DMC\": 169.7, \"DC\": 411.8, \"ISI\": 12.3, \"temp\": 23.4, \"RH\": 40, \"wind\": 6.3, \"rain\": 0.0, \"area\": 0.0, \"log_area\": null, \"season\": \"summer\"}, {\"X\": 4, \"Y\": 4, \"month\": \"aug\", \"day\": \"sat\", \"FFMC\": 90.2, \"DMC\": 96.9, \"DC\": 624.2, \"ISI\": 8.9, \"temp\": 18.4, \"RH\": 42, \"wind\": 6.7, \"rain\": 0.0, \"area\": 0.0, \"log_area\": null, \"season\": \"summer\"}, {\"X\": 4, \"Y\": 4, \"month\": \"aug\", \"day\": \"wed\", \"FFMC\": 95.1, \"DMC\": 141.3, \"DC\": 605.8, \"ISI\": 17.7, \"temp\": 20.6, \"RH\": 58, \"wind\": 1.3, \"rain\": 0.0, \"area\": 0.0, \"log_area\": null, \"season\": \"summer\"}, {\"X\": 1, \"Y\": 2, \"month\": \"aug\", \"day\": \"sat\", \"FFMC\": 93.7, \"DMC\": 231.1, \"DC\": 715.1, \"ISI\": 8.4, \"temp\": 25.9, \"RH\": 32, \"wind\": 3.1, \"rain\": 0.0, \"area\": 0.0, \"log_area\": null, \"season\": \"summer\"}, {\"X\": 4, \"Y\": 5, \"month\": \"aug\", \"day\": \"thu\", \"FFMC\": 89.4, \"DMC\": 266.2, \"DC\": 803.3, \"ISI\": 5.6, \"temp\": 17.4, \"RH\": 54, \"wind\": 3.1, \"rain\": 0.0, \"area\": 0.0, \"log_area\": null, \"season\": \"summer\"}, {\"X\": 4, \"Y\": 5, \"month\": \"sep\", \"day\": \"thu\", \"FFMC\": 92.4, \"DMC\": 96.2, \"DC\": 739.4, \"ISI\": 8.6, \"temp\": 18.6, \"RH\": 24, \"wind\": 5.8, \"rain\": 0.0, \"area\": 0.0, \"log_area\": null, \"season\": \"fall\"}, {\"X\": 9, \"Y\": 4, \"month\": \"jul\", \"day\": \"mon\", \"FFMC\": 92.3, \"DMC\": 92.1, \"DC\": 442.1, \"ISI\": 9.8, \"temp\": 22.8, \"RH\": 27, \"wind\": 4.5, \"rain\": 0.0, \"area\": 1.63, \"log_area\": 0.4885800148186709, \"season\": \"summer\"}, {\"X\": 7, \"Y\": 4, \"month\": \"jul\", \"day\": \"sun\", \"FFMC\": 93.7, \"DMC\": 101.3, \"DC\": 423.4, \"ISI\": 14.7, \"temp\": 18.2, \"RH\": 82, \"wind\": 4.5, \"rain\": 0.0, \"area\": 2.21, \"log_area\": 0.7929925155296614, \"season\": \"summer\"}, {\"X\": 7, \"Y\": 4, \"month\": \"aug\", \"day\": \"sat\", \"FFMC\": 93.5, \"DMC\": 139.4, \"DC\": 594.2, \"ISI\": 20.3, \"temp\": 5.1, \"RH\": 96, \"wind\": 5.8, \"rain\": 0.0, \"area\": 26.0, \"log_area\": 3.258096538021482, \"season\": \"summer\"}, {\"X\": 6, \"Y\": 3, \"month\": \"sep\", \"day\": \"thu\", \"FFMC\": 92.8, \"DMC\": 119.0, \"DC\": 783.5, \"ISI\": 7.5, \"temp\": 18.9, \"RH\": 34, \"wind\": 7.2, \"rain\": 0.0, \"area\": 34.36, \"log_area\": 3.536893097116055, \"season\": \"fall\"}, {\"X\": 4, \"Y\": 5, \"month\": \"aug\", \"day\": \"sun\", \"FFMC\": 90.2, \"DMC\": 99.6, \"DC\": 631.2, \"ISI\": 6.3, \"temp\": 21.4, \"RH\": 33, \"wind\": 3.1, \"rain\": 0.0, \"area\": 0.0, \"log_area\": null, \"season\": \"summer\"}, {\"X\": 7, \"Y\": 4, \"month\": \"aug\", \"day\": \"sun\", \"FFMC\": 94.8, \"DMC\": 108.3, \"DC\": 647.1, \"ISI\": 17.0, \"temp\": 16.4, \"RH\": 47, \"wind\": 1.3, \"rain\": 0.0, \"area\": 1.56, \"log_area\": 0.44468582126144574, \"season\": \"summer\"}, {\"X\": 8, \"Y\": 3, \"month\": \"sep\", \"day\": \"thu\", \"FFMC\": 93.7, \"DMC\": 80.9, \"DC\": 685.2, \"ISI\": 17.9, \"temp\": 23.2, \"RH\": 26, \"wind\": 4.9, \"rain\": 0.0, \"area\": 23.41, \"log_area\": 3.1531632815028194, \"season\": \"fall\"}, {\"X\": 4, \"Y\": 4, \"month\": \"sep\", \"day\": \"sun\", \"FFMC\": 89.7, \"DMC\": 90.0, \"DC\": 704.4, \"ISI\": 4.8, \"temp\": 17.8, \"RH\": 64, \"wind\": 1.3, \"rain\": 0.0, \"area\": 0.0, \"log_area\": null, \"season\": \"fall\"}, {\"X\": 4, \"Y\": 3, \"month\": \"aug\", \"day\": \"thu\", \"FFMC\": 91.7, \"DMC\": 114.3, \"DC\": 661.3, \"ISI\": 6.3, \"temp\": 17.6, \"RH\": 45, \"wind\": 3.6, \"rain\": 0.0, \"area\": 0.0, \"log_area\": null, \"season\": \"summer\"}, {\"X\": 6, \"Y\": 4, \"month\": \"sep\", \"day\": \"tue\", \"FFMC\": 91.0, \"DMC\": 129.5, \"DC\": 692.6, \"ISI\": 7.0, \"temp\": 18.3, \"RH\": 40, \"wind\": 2.7, \"rain\": 0.0, \"area\": 0.0, \"log_area\": null, \"season\": \"fall\"}, {\"X\": 6, \"Y\": 3, \"month\": \"feb\", \"day\": \"fri\", \"FFMC\": 84.1, \"DMC\": 7.3, \"DC\": 52.8, \"ISI\": 2.7, \"temp\": 14.7, \"RH\": 42, \"wind\": 2.7, \"rain\": 0.0, \"area\": 0.0, \"log_area\": null, \"season\": \"winter\"}, {\"X\": 6, \"Y\": 4, \"month\": \"aug\", \"day\": \"fri\", \"FFMC\": 94.8, \"DMC\": 227.0, \"DC\": 706.7, \"ISI\": 12.0, \"temp\": 23.3, \"RH\": 34, \"wind\": 3.1, \"rain\": 0.0, \"area\": 28.74, \"log_area\": 3.358289880650879, \"season\": \"summer\"}, {\"X\": 2, \"Y\": 5, \"month\": \"aug\", \"day\": \"thu\", \"FFMC\": 95.2, \"DMC\": 131.7, \"DC\": 578.8, \"ISI\": 10.4, \"temp\": 24.2, \"RH\": 28, \"wind\": 2.7, \"rain\": 0.0, \"area\": 8.68, \"log_area\": 2.1610215286722587, \"season\": \"summer\"}, {\"X\": 2, \"Y\": 4, \"month\": \"aug\", \"day\": \"mon\", \"FFMC\": 95.0, \"DMC\": 135.5, \"DC\": 596.3, \"ISI\": 21.3, \"temp\": 30.6, \"RH\": 28, \"wind\": 3.6, \"rain\": 0.0, \"area\": 2.07, \"log_area\": 0.7275486072772777, \"season\": \"summer\"}, {\"X\": 1, \"Y\": 3, \"month\": \"aug\", \"day\": \"fri\", \"FFMC\": 95.9, \"DMC\": 158.0, \"DC\": 633.6, \"ISI\": 11.3, \"temp\": 32.4, \"RH\": 27, \"wind\": 2.2, \"rain\": 0.0, \"area\": 0.0, \"log_area\": null, \"season\": \"summer\"}, {\"X\": 5, \"Y\": 4, \"month\": \"sep\", \"day\": \"sat\", \"FFMC\": 92.2, \"DMC\": 102.3, \"DC\": 751.5, \"ISI\": 8.4, \"temp\": 24.1, \"RH\": 27, \"wind\": 3.1, \"rain\": 0.0, \"area\": 0.0, \"log_area\": null, \"season\": \"fall\"}, {\"X\": 8, \"Y\": 6, \"month\": \"sep\", \"day\": \"fri\", \"FFMC\": 91.1, \"DMC\": 91.3, \"DC\": 738.1, \"ISI\": 7.2, \"temp\": 20.7, \"RH\": 46, \"wind\": 2.7, \"rain\": 0.0, \"area\": 30.18, \"log_area\": 3.407179453339703, \"season\": \"fall\"}, {\"X\": 4, \"Y\": 6, \"month\": \"mar\", \"day\": \"sun\", \"FFMC\": 89.3, \"DMC\": 51.3, \"DC\": 102.2, \"ISI\": 9.6, \"temp\": 10.6, \"RH\": 46, \"wind\": 4.9, \"rain\": 0.0, \"area\": 0.0, \"log_area\": null, \"season\": \"spring\"}, {\"X\": 7, \"Y\": 5, \"month\": \"mar\", \"day\": \"fri\", \"FFMC\": 86.2, \"DMC\": 26.2, \"DC\": 94.3, \"ISI\": 5.1, \"temp\": 8.2, \"RH\": 51, \"wind\": 6.7, \"rain\": 0.0, \"area\": 0.0, \"log_area\": null, \"season\": \"spring\"}, {\"X\": 6, \"Y\": 3, \"month\": \"mar\", \"day\": \"sat\", \"FFMC\": 90.6, \"DMC\": 50.1, \"DC\": 100.4, \"ISI\": 7.8, \"temp\": 15.2, \"RH\": 31, \"wind\": 8.5, \"rain\": 0.0, \"area\": 1.94, \"log_area\": 0.6626879730752367, \"season\": \"spring\"}, {\"X\": 6, \"Y\": 5, \"month\": \"apr\", \"day\": \"mon\", \"FFMC\": 87.9, \"DMC\": 24.9, \"DC\": 41.6, \"ISI\": 3.7, \"temp\": 10.9, \"RH\": 64, \"wind\": 3.1, \"rain\": 0.0, \"area\": 3.35, \"log_area\": 1.208960345836975, \"season\": \"spring\"}, {\"X\": 7, \"Y\": 4, \"month\": \"feb\", \"day\": \"sun\", \"FFMC\": 83.9, \"DMC\": 8.7, \"DC\": 32.1, \"ISI\": 2.1, \"temp\": 8.8, \"RH\": 68, \"wind\": 2.2, \"rain\": 0.0, \"area\": 13.05, \"log_area\": 2.5687881337687024, \"season\": \"winter\"}, {\"X\": 4, \"Y\": 4, \"month\": \"dec\", \"day\": \"mon\", \"FFMC\": 85.4, \"DMC\": 25.4, \"DC\": 349.7, \"ISI\": 2.6, \"temp\": 4.6, \"RH\": 21, \"wind\": 8.5, \"rain\": 0.0, \"area\": 17.85, \"log_area\": 2.8820035082256483, \"season\": \"winter\"}, {\"X\": 3, \"Y\": 4, \"month\": \"aug\", \"day\": \"mon\", \"FFMC\": 91.5, \"DMC\": 145.4, \"DC\": 608.2, \"ISI\": 10.7, \"temp\": 10.3, \"RH\": 74, \"wind\": 2.2, \"rain\": 0.0, \"area\": 0.0, \"log_area\": null, \"season\": \"summer\"}, {\"X\": 6, \"Y\": 5, \"month\": \"jun\", \"day\": \"fri\", \"FFMC\": 92.5, \"DMC\": 56.4, \"DC\": 433.3, \"ISI\": 7.1, \"temp\": 23.2, \"RH\": 39, \"wind\": 5.4, \"rain\": 0.0, \"area\": 1.19, \"log_area\": 0.17395330712343798, \"season\": \"summer\"}, {\"X\": 2, \"Y\": 5, \"month\": \"sep\", \"day\": \"wed\", \"FFMC\": 90.1, \"DMC\": 82.9, \"DC\": 735.7, \"ISI\": 6.2, \"temp\": 18.3, \"RH\": 45, \"wind\": 2.2, \"rain\": 0.0, \"area\": 4.88, \"log_area\": 1.5851452198650557, \"season\": \"fall\"}, {\"X\": 8, \"Y\": 6, \"month\": \"aug\", \"day\": \"fri\", \"FFMC\": 90.1, \"DMC\": 108.0, \"DC\": 529.8, \"ISI\": 12.5, \"temp\": 21.2, \"RH\": 51, \"wind\": 8.9, \"rain\": 0.0, \"area\": 0.61, \"log_area\": -0.4942963218147801, \"season\": \"summer\"}, {\"X\": 4, \"Y\": 3, \"month\": \"sep\", \"day\": \"tue\", \"FFMC\": 91.9, \"DMC\": 111.7, \"DC\": 770.3, \"ISI\": 6.5, \"temp\": 15.9, \"RH\": 53, \"wind\": 2.2, \"rain\": 0.0, \"area\": 2.93, \"log_area\": 1.075002423028976, \"season\": \"fall\"}, {\"X\": 1, \"Y\": 3, \"month\": \"sep\", \"day\": \"fri\", \"FFMC\": 91.1, \"DMC\": 91.3, \"DC\": 738.1, \"ISI\": 7.2, \"temp\": 19.1, \"RH\": 46, \"wind\": 2.2, \"rain\": 0.0, \"area\": 0.33, \"log_area\": -1.1086626245216111, \"season\": \"fall\"}, {\"X\": 6, \"Y\": 3, \"month\": \"apr\", \"day\": \"sun\", \"FFMC\": 91.0, \"DMC\": 14.6, \"DC\": 25.6, \"ISI\": 12.3, \"temp\": 13.7, \"RH\": 33, \"wind\": 9.4, \"rain\": 0.0, \"area\": 61.13, \"log_area\": 4.113002744040634, \"season\": \"spring\"}, {\"X\": 9, \"Y\": 5, \"month\": \"jun\", \"day\": \"wed\", \"FFMC\": 93.3, \"DMC\": 49.5, \"DC\": 297.7, \"ISI\": 14.0, \"temp\": 28.0, \"RH\": 34, \"wind\": 4.5, \"rain\": 0.0, \"area\": 0.0, \"log_area\": null, \"season\": \"summer\"}, {\"X\": 8, \"Y\": 5, \"month\": \"sep\", \"day\": \"sun\", \"FFMC\": 89.7, \"DMC\": 90.0, \"DC\": 704.4, \"ISI\": 4.8, \"temp\": 17.8, \"RH\": 67, \"wind\": 2.2, \"rain\": 0.0, \"area\": 2.01, \"log_area\": 0.6981347220709843, \"season\": \"fall\"}, {\"X\": 4, \"Y\": 4, \"month\": \"sep\", \"day\": \"fri\", \"FFMC\": 92.1, \"DMC\": 99.0, \"DC\": 745.3, \"ISI\": 9.6, \"temp\": 15.4, \"RH\": 53, \"wind\": 6.3, \"rain\": 0.0, \"area\": 7.31, \"log_area\": 1.9892432737616872, \"season\": \"fall\"}, {\"X\": 2, \"Y\": 5, \"month\": \"sep\", \"day\": \"fri\", \"FFMC\": 90.3, \"DMC\": 290.0, \"DC\": 855.3, \"ISI\": 7.4, \"temp\": 16.2, \"RH\": 58, \"wind\": 3.6, \"rain\": 0.0, \"area\": 9.96, \"log_area\": 2.298577071596507, \"season\": \"fall\"}, {\"X\": 6, \"Y\": 3, \"month\": \"sep\", \"day\": \"mon\", \"FFMC\": 88.6, \"DMC\": 91.8, \"DC\": 709.9, \"ISI\": 7.1, \"temp\": 11.2, \"RH\": 78, \"wind\": 7.6, \"rain\": 0.0, \"area\": 0.0, \"log_area\": null, \"season\": \"fall\"}, {\"X\": 6, \"Y\": 5, \"month\": \"jun\", \"day\": \"sat\", \"FFMC\": 53.4, \"DMC\": 71.0, \"DC\": 233.8, \"ISI\": 0.4, \"temp\": 10.6, \"RH\": 90, \"wind\": 2.7, \"rain\": 0.0, \"area\": 0.0, \"log_area\": null, \"season\": \"summer\"}, {\"X\": 5, \"Y\": 4, \"month\": \"sep\", \"day\": \"mon\", \"FFMC\": 91.8, \"DMC\": 78.5, \"DC\": 724.3, \"ISI\": 9.2, \"temp\": 19.1, \"RH\": 38, \"wind\": 2.7, \"rain\": 0.0, \"area\": 0.0, \"log_area\": null, \"season\": \"fall\"}, {\"X\": 6, \"Y\": 6, \"month\": \"aug\", \"day\": \"mon\", \"FFMC\": 96.2, \"DMC\": 175.5, \"DC\": 661.8, \"ISI\": 16.8, \"temp\": 23.9, \"RH\": 42, \"wind\": 2.2, \"rain\": 0.0, \"area\": 0.0, \"log_area\": null, \"season\": \"summer\"}, {\"X\": 7, \"Y\": 4, \"month\": \"aug\", \"day\": \"sun\", \"FFMC\": 91.4, \"DMC\": 142.4, \"DC\": 601.4, \"ISI\": 10.6, \"temp\": 20.1, \"RH\": 39, \"wind\": 5.4, \"rain\": 0.0, \"area\": 2.74, \"log_area\": 1.007957920399979, \"season\": \"summer\"}, {\"X\": 2, \"Y\": 2, \"month\": \"aug\", \"day\": \"tue\", \"FFMC\": 94.8, \"DMC\": 108.3, \"DC\": 647.1, \"ISI\": 17.0, \"temp\": 24.6, \"RH\": 22, \"wind\": 4.5, \"rain\": 0.0, \"area\": 8.71, \"log_area\": 2.1644717908644115, \"season\": \"summer\"}, {\"X\": 6, \"Y\": 5, \"month\": \"sep\", \"day\": \"wed\", \"FFMC\": 92.6, \"DMC\": 115.4, \"DC\": 777.1, \"ISI\": 8.8, \"temp\": 24.3, \"RH\": 27, \"wind\": 4.9, \"rain\": 0.0, \"area\": 0.0, \"log_area\": null, \"season\": \"fall\"}, {\"X\": 1, \"Y\": 2, \"month\": \"aug\", \"day\": \"tue\", \"FFMC\": 91.0, \"DMC\": 121.2, \"DC\": 561.6, \"ISI\": 7.0, \"temp\": 21.6, \"RH\": 19, \"wind\": 6.7, \"rain\": 0.0, \"area\": 0.0, \"log_area\": null, \"season\": \"summer\"}, {\"X\": 1, \"Y\": 4, \"month\": \"sep\", \"day\": \"mon\", \"FFMC\": 91.5, \"DMC\": 130.1, \"DC\": 807.1, \"ISI\": 7.5, \"temp\": 21.3, \"RH\": 35, \"wind\": 2.2, \"rain\": 0.0, \"area\": 28.19, \"log_area\": 3.338967305126021, \"season\": \"fall\"}, {\"X\": 6, \"Y\": 5, \"month\": \"aug\", \"day\": \"wed\", \"FFMC\": 93.1, \"DMC\": 157.3, \"DC\": 666.7, \"ISI\": 13.5, \"temp\": 22.1, \"RH\": 37, \"wind\": 3.6, \"rain\": 0.0, \"area\": 0.21, \"log_area\": -1.5606477482646683, \"season\": \"summer\"}, {\"X\": 3, \"Y\": 4, \"month\": \"aug\", \"day\": \"mon\", \"FFMC\": 91.5, \"DMC\": 145.4, \"DC\": 608.2, \"ISI\": 10.7, \"temp\": 17.1, \"RH\": 43, \"wind\": 5.4, \"rain\": 0.0, \"area\": 0.0, \"log_area\": null, \"season\": \"summer\"}, {\"X\": 5, \"Y\": 6, \"month\": \"aug\", \"day\": \"sun\", \"FFMC\": 91.6, \"DMC\": 181.3, \"DC\": 613.0, \"ISI\": 7.6, \"temp\": 24.3, \"RH\": 33, \"wind\": 3.6, \"rain\": 0.0, \"area\": 3.63, \"log_area\": 1.2892326482767593, \"season\": \"summer\"}, {\"X\": 8, \"Y\": 6, \"month\": \"mar\", \"day\": \"fri\", \"FFMC\": 91.7, \"DMC\": 35.8, \"DC\": 80.8, \"ISI\": 7.8, \"temp\": 17.4, \"RH\": 24, \"wind\": 5.4, \"rain\": 0.0, \"area\": 0.0, \"log_area\": null, \"season\": \"spring\"}, {\"X\": 7, \"Y\": 4, \"month\": \"sep\", \"day\": \"fri\", \"FFMC\": 92.4, \"DMC\": 117.9, \"DC\": 668.0, \"ISI\": 12.2, \"temp\": 19.0, \"RH\": 34, \"wind\": 5.8, \"rain\": 0.0, \"area\": 1.69, \"log_area\": 0.5247285289349821, \"season\": \"fall\"}, {\"X\": 6, \"Y\": 5, \"month\": \"mar\", \"day\": \"sun\", \"FFMC\": 90.1, \"DMC\": 37.6, \"DC\": 83.7, \"ISI\": 7.2, \"temp\": 12.4, \"RH\": 54, \"wind\": 3.6, \"rain\": 0.0, \"area\": 12.1, \"log_area\": 2.4932054526026954, \"season\": \"spring\"}, {\"X\": 8, \"Y\": 6, \"month\": \"aug\", \"day\": \"sun\", \"FFMC\": 94.9, \"DMC\": 130.3, \"DC\": 587.1, \"ISI\": 14.1, \"temp\": 31.0, \"RH\": 27, \"wind\": 5.4, \"rain\": 0.0, \"area\": 0.0, \"log_area\": null, \"season\": \"summer\"}, {\"X\": 2, \"Y\": 2, \"month\": \"jul\", \"day\": \"fri\", \"FFMC\": 88.3, \"DMC\": 150.3, \"DC\": 309.9, \"ISI\": 6.8, \"temp\": 13.4, \"RH\": 79, \"wind\": 3.6, \"rain\": 0.0, \"area\": 37.02, \"log_area\": 3.6114583071453517, \"season\": \"summer\"}, {\"X\": 4, \"Y\": 3, \"month\": \"aug\", \"day\": \"wed\", \"FFMC\": 92.1, \"DMC\": 111.2, \"DC\": 654.1, \"ISI\": 9.6, \"temp\": 20.4, \"RH\": 42, \"wind\": 4.9, \"rain\": 0.0, \"area\": 0.0, \"log_area\": null, \"season\": \"summer\"}, {\"X\": 7, \"Y\": 4, \"month\": \"mar\", \"day\": \"sun\", \"FFMC\": 90.7, \"DMC\": 44.0, \"DC\": 92.4, \"ISI\": 5.5, \"temp\": 11.5, \"RH\": 60, \"wind\": 4.0, \"rain\": 0.0, \"area\": 8.24, \"log_area\": 2.1090003439213802, \"season\": \"spring\"}, {\"X\": 8, \"Y\": 6, \"month\": \"aug\", \"day\": \"sat\", \"FFMC\": 92.2, \"DMC\": 81.8, \"DC\": 480.8, \"ISI\": 11.9, \"temp\": 20.1, \"RH\": 34, \"wind\": 4.5, \"rain\": 0.0, \"area\": 58.3, \"log_area\": 4.065602093356446, \"season\": \"summer\"}, {\"X\": 2, \"Y\": 2, \"month\": \"sep\", \"day\": \"sat\", \"FFMC\": 92.5, \"DMC\": 121.1, \"DC\": 674.4, \"ISI\": 8.6, \"temp\": 18.2, \"RH\": 46, \"wind\": 1.8, \"rain\": 0.0, \"area\": 200.94, \"log_area\": 5.303006356034168, \"season\": \"fall\"}, {\"X\": 4, \"Y\": 4, \"month\": \"apr\", \"day\": \"fri\", \"FFMC\": 83.0, \"DMC\": 23.3, \"DC\": 85.3, \"ISI\": 2.3, \"temp\": 16.7, \"RH\": 20, \"wind\": 3.1, \"rain\": 0.0, \"area\": 0.0, \"log_area\": null, \"season\": \"spring\"}, {\"X\": 6, \"Y\": 5, \"month\": \"sep\", \"day\": \"sat\", \"FFMC\": 87.1, \"DMC\": 291.3, \"DC\": 860.6, \"ISI\": 4.0, \"temp\": 17.0, \"RH\": 67, \"wind\": 4.9, \"rain\": 0.0, \"area\": 3.95, \"log_area\": 1.3737155789130306, \"season\": \"fall\"}, {\"X\": 2, \"Y\": 4, \"month\": \"jan\", \"day\": \"sat\", \"FFMC\": 82.1, \"DMC\": 3.7, \"DC\": 9.3, \"ISI\": 2.9, \"temp\": 5.3, \"RH\": 78, \"wind\": 3.1, \"rain\": 0.0, \"area\": 0.0, \"log_area\": null, \"season\": \"winter\"}, {\"X\": 6, \"Y\": 4, \"month\": \"mar\", \"day\": \"sat\", \"FFMC\": 90.8, \"DMC\": 41.9, \"DC\": 89.4, \"ISI\": 7.9, \"temp\": 13.3, \"RH\": 42, \"wind\": 0.9, \"rain\": 0.0, \"area\": 7.4, \"log_area\": 2.0014800002101243, \"season\": \"spring\"}, {\"X\": 8, \"Y\": 6, \"month\": \"sep\", \"day\": \"mon\", \"FFMC\": 91.5, \"DMC\": 130.1, \"DC\": 807.1, \"ISI\": 7.5, \"temp\": 15.9, \"RH\": 51, \"wind\": 4.5, \"rain\": 0.0, \"area\": 2.18, \"log_area\": 0.7793248768009977, \"season\": \"fall\"}, {\"X\": 2, \"Y\": 5, \"month\": \"aug\", \"day\": \"sat\", \"FFMC\": 93.7, \"DMC\": 231.1, \"DC\": 715.1, \"ISI\": 8.4, \"temp\": 23.6, \"RH\": 53, \"wind\": 4.0, \"rain\": 0.0, \"area\": 6.43, \"log_area\": 1.860974538249528, \"season\": \"summer\"}, {\"X\": 1, \"Y\": 3, \"month\": \"sep\", \"day\": \"sat\", \"FFMC\": 91.2, \"DMC\": 94.3, \"DC\": 744.4, \"ISI\": 8.4, \"temp\": 22.3, \"RH\": 48, \"wind\": 4.0, \"rain\": 0.0, \"area\": 0.72, \"log_area\": -0.3285040669720361, \"season\": \"fall\"}, {\"X\": 3, \"Y\": 4, \"month\": \"sep\", \"day\": \"fri\", \"FFMC\": 93.3, \"DMC\": 141.2, \"DC\": 713.9, \"ISI\": 13.9, \"temp\": 18.6, \"RH\": 49, \"wind\": 3.6, \"rain\": 0.0, \"area\": 35.88, \"log_area\": 3.5801800371905954, \"season\": \"fall\"}, {\"X\": 7, \"Y\": 4, \"month\": \"sep\", \"day\": \"fri\", \"FFMC\": 94.3, \"DMC\": 85.1, \"DC\": 692.3, \"ISI\": 15.9, \"temp\": 20.1, \"RH\": 47, \"wind\": 4.9, \"rain\": 0.0, \"area\": 26.13, \"log_area\": 3.263084079532521, \"season\": \"fall\"}, {\"X\": 7, \"Y\": 5, \"month\": \"oct\", \"day\": \"mon\", \"FFMC\": 91.7, \"DMC\": 48.5, \"DC\": 696.1, \"ISI\": 11.1, \"temp\": 16.1, \"RH\": 44, \"wind\": 4.0, \"rain\": 0.0, \"area\": 49.37, \"log_area\": 3.8993429522707714, \"season\": \"fall\"}, {\"X\": 3, \"Y\": 4, \"month\": \"aug\", \"day\": \"thu\", \"FFMC\": 91.6, \"DMC\": 248.4, \"DC\": 753.8, \"ISI\": 6.3, \"temp\": 16.8, \"RH\": 56, \"wind\": 3.1, \"rain\": 0.0, \"area\": 0.0, \"log_area\": null, \"season\": \"summer\"}, {\"X\": 8, \"Y\": 6, \"month\": \"aug\", \"day\": \"mon\", \"FFMC\": 92.3, \"DMC\": 88.9, \"DC\": 495.6, \"ISI\": 8.5, \"temp\": 24.1, \"RH\": 27, \"wind\": 3.1, \"rain\": 0.0, \"area\": 0.0, \"log_area\": null, \"season\": \"summer\"}, {\"X\": 8, \"Y\": 3, \"month\": \"sep\", \"day\": \"tue\", \"FFMC\": 84.4, \"DMC\": 73.4, \"DC\": 671.9, \"ISI\": 3.2, \"temp\": 24.2, \"RH\": 28, \"wind\": 3.6, \"rain\": 0.0, \"area\": 0.96, \"log_area\": -0.040821994520255166, \"season\": \"fall\"}, {\"X\": 2, \"Y\": 4, \"month\": \"aug\", \"day\": \"mon\", \"FFMC\": 92.1, \"DMC\": 207.0, \"DC\": 672.6, \"ISI\": 8.2, \"temp\": 27.9, \"RH\": 33, \"wind\": 2.2, \"rain\": 0.0, \"area\": 2.35, \"log_area\": 0.8544153281560676, \"season\": \"summer\"}, {\"X\": 2, \"Y\": 5, \"month\": \"aug\", \"day\": \"sun\", \"FFMC\": 94.9, \"DMC\": 130.3, \"DC\": 587.1, \"ISI\": 14.1, \"temp\": 33.1, \"RH\": 25, \"wind\": 4.0, \"rain\": 0.0, \"area\": 26.43, \"log_area\": 3.2744997286161976, \"season\": \"summer\"}, {\"X\": 7, \"Y\": 4, \"month\": \"aug\", \"day\": \"mon\", \"FFMC\": 91.5, \"DMC\": 238.2, \"DC\": 730.6, \"ISI\": 7.5, \"temp\": 17.7, \"RH\": 65, \"wind\": 4.0, \"rain\": 0.0, \"area\": 0.0, \"log_area\": null, \"season\": \"summer\"}, {\"X\": 7, \"Y\": 4, \"month\": \"sep\", \"day\": \"sun\", \"FFMC\": 89.6, \"DMC\": 84.1, \"DC\": 714.3, \"ISI\": 5.7, \"temp\": 17.1, \"RH\": 53, \"wind\": 5.4, \"rain\": 0.0, \"area\": 0.41, \"log_area\": -0.8915981192837836, \"season\": \"fall\"}, {\"X\": 2, \"Y\": 5, \"month\": \"aug\", \"day\": \"tue\", \"FFMC\": 92.1, \"DMC\": 152.6, \"DC\": 658.2, \"ISI\": 14.3, \"temp\": 20.2, \"RH\": 47, \"wind\": 4.0, \"rain\": 0.0, \"area\": 3.09, \"log_area\": 1.128171090909654, \"season\": \"summer\"}, {\"X\": 6, \"Y\": 5, \"month\": \"mar\", \"day\": \"fri\", \"FFMC\": 91.2, \"DMC\": 48.3, \"DC\": 97.8, \"ISI\": 12.5, \"temp\": 11.7, \"RH\": 33, \"wind\": 4.0, \"rain\": 0.0, \"area\": 8.31, \"log_area\": 2.1174596088673567, \"season\": \"spring\"}, {\"X\": 6, \"Y\": 5, \"month\": \"sep\", \"day\": \"sat\", \"FFMC\": 92.2, \"DMC\": 102.3, \"DC\": 751.5, \"ISI\": 8.4, \"temp\": 19.7, \"RH\": 35, \"wind\": 1.8, \"rain\": 0.0, \"area\": 0.0, \"log_area\": null, \"season\": \"fall\"}, {\"X\": 1, \"Y\": 4, \"month\": \"aug\", \"day\": \"sat\", \"FFMC\": 90.2, \"DMC\": 96.9, \"DC\": 624.2, \"ISI\": 8.9, \"temp\": 20.3, \"RH\": 39, \"wind\": 4.9, \"rain\": 0.0, \"area\": 4.53, \"log_area\": 1.5107219394949427, \"season\": \"summer\"}, {\"X\": 8, \"Y\": 3, \"month\": \"jun\", \"day\": \"mon\", \"FFMC\": 88.2, \"DMC\": 96.2, \"DC\": 229.0, \"ISI\": 4.7, \"temp\": 14.3, \"RH\": 79, \"wind\": 4.0, \"rain\": 0.0, \"area\": 1.94, \"log_area\": 0.6626879730752367, \"season\": \"summer\"}, {\"X\": 4, \"Y\": 3, \"month\": \"sep\", \"day\": \"mon\", \"FFMC\": 91.6, \"DMC\": 108.4, \"DC\": 764.0, \"ISI\": 6.2, \"temp\": 9.8, \"RH\": 86, \"wind\": 1.8, \"rain\": 0.0, \"area\": 0.0, \"log_area\": null, \"season\": \"fall\"}, {\"X\": 1, \"Y\": 5, \"month\": \"sep\", \"day\": \"sun\", \"FFMC\": 93.5, \"DMC\": 149.3, \"DC\": 728.6, \"ISI\": 8.1, \"temp\": 27.8, \"RH\": 27, \"wind\": 3.1, \"rain\": 0.0, \"area\": 95.18, \"log_area\": 4.555769835692964, \"season\": \"fall\"}, {\"X\": 8, \"Y\": 6, \"month\": \"aug\", \"day\": \"sat\", \"FFMC\": 92.2, \"DMC\": 81.8, \"DC\": 480.8, \"ISI\": 11.9, \"temp\": 16.4, \"RH\": 43, \"wind\": 4.0, \"rain\": 0.0, \"area\": 71.3, \"log_area\": 4.26689632742025, \"season\": \"summer\"}, {\"X\": 2, \"Y\": 2, \"month\": \"feb\", \"day\": \"sat\", \"FFMC\": 79.5, \"DMC\": 3.6, \"DC\": 15.3, \"ISI\": 1.8, \"temp\": 4.6, \"RH\": 59, \"wind\": 0.9, \"rain\": 0.0, \"area\": 6.84, \"log_area\": 1.922787731634459, \"season\": \"winter\"}, {\"X\": 6, \"Y\": 5, \"month\": \"mar\", \"day\": \"thu\", \"FFMC\": 84.9, \"DMC\": 18.2, \"DC\": 55.0, \"ISI\": 3.0, \"temp\": 5.3, \"RH\": 70, \"wind\": 4.5, \"rain\": 0.0, \"area\": 2.14, \"log_area\": 0.7608058290337602, \"season\": \"spring\"}, {\"X\": 8, \"Y\": 6, \"month\": \"aug\", \"day\": \"wed\", \"FFMC\": 93.1, \"DMC\": 157.3, \"DC\": 666.7, \"ISI\": 13.5, \"temp\": 28.7, \"RH\": 28, \"wind\": 2.7, \"rain\": 0.0, \"area\": 0.0, \"log_area\": null, \"season\": \"summer\"}, {\"X\": 5, \"Y\": 4, \"month\": \"feb\", \"day\": \"fri\", \"FFMC\": 85.2, \"DMC\": 4.9, \"DC\": 15.8, \"ISI\": 6.3, \"temp\": 7.5, \"RH\": 46, \"wind\": 8.0, \"rain\": 0.0, \"area\": 24.24, \"log_area\": 3.1880041612011136, \"season\": \"winter\"}, {\"X\": 3, \"Y\": 4, \"month\": \"aug\", \"day\": \"wed\", \"FFMC\": 93.1, \"DMC\": 157.3, \"DC\": 666.7, \"ISI\": 13.5, \"temp\": 21.7, \"RH\": 40, \"wind\": 0.4, \"rain\": 0.0, \"area\": 2.47, \"log_area\": 0.9042181506398859, \"season\": \"summer\"}, {\"X\": 7, \"Y\": 3, \"month\": \"oct\", \"day\": \"sat\", \"FFMC\": 90.6, \"DMC\": 43.7, \"DC\": 686.9, \"ISI\": 6.7, \"temp\": 17.8, \"RH\": 27, \"wind\": 4.0, \"rain\": 0.0, \"area\": 0.0, \"log_area\": null, \"season\": \"fall\"}, {\"X\": 8, \"Y\": 6, \"month\": \"dec\", \"day\": \"wed\", \"FFMC\": 84.0, \"DMC\": 27.8, \"DC\": 354.6, \"ISI\": 5.3, \"temp\": 5.1, \"RH\": 61, \"wind\": 8.0, \"rain\": 0.0, \"area\": 11.19, \"log_area\": 2.4150205223238337, \"season\": \"winter\"}, {\"X\": 8, \"Y\": 6, \"month\": \"oct\", \"day\": \"wed\", \"FFMC\": 91.4, \"DMC\": 37.9, \"DC\": 673.8, \"ISI\": 5.2, \"temp\": 20.2, \"RH\": 37, \"wind\": 2.7, \"rain\": 0.0, \"area\": 13.7, \"log_area\": 2.617395832834079, \"season\": \"fall\"}, {\"X\": 7, \"Y\": 4, \"month\": \"jul\", \"day\": \"sat\", \"FFMC\": 91.6, \"DMC\": 104.2, \"DC\": 474.9, \"ISI\": 9.0, \"temp\": 24.2, \"RH\": 32, \"wind\": 1.8, \"rain\": 0.0, \"area\": 0.0, \"log_area\": null, \"season\": \"summer\"}, {\"X\": 6, \"Y\": 5, \"month\": \"aug\", \"day\": \"fri\", \"FFMC\": 63.5, \"DMC\": 70.8, \"DC\": 665.3, \"ISI\": 0.8, \"temp\": 17.0, \"RH\": 72, \"wind\": 6.7, \"rain\": 0.0, \"area\": 0.0, \"log_area\": null, \"season\": \"summer\"}, {\"X\": 6, \"Y\": 5, \"month\": \"aug\", \"day\": \"sun\", \"FFMC\": 92.0, \"DMC\": 203.2, \"DC\": 664.5, \"ISI\": 8.1, \"temp\": 19.1, \"RH\": 70, \"wind\": 2.2, \"rain\": 0.0, \"area\": 0.0, \"log_area\": null, \"season\": \"summer\"}, {\"X\": 7, \"Y\": 4, \"month\": \"aug\", \"day\": \"sun\", \"FFMC\": 81.6, \"DMC\": 56.7, \"DC\": 665.6, \"ISI\": 1.9, \"temp\": 21.2, \"RH\": 70, \"wind\": 6.7, \"rain\": 0.0, \"area\": 11.16, \"log_area\": 2.412335956953165, \"season\": \"summer\"}, {\"X\": 6, \"Y\": 3, \"month\": \"sep\", \"day\": \"fri\", \"FFMC\": 94.3, \"DMC\": 85.1, \"DC\": 692.3, \"ISI\": 15.9, \"temp\": 25.4, \"RH\": 24, \"wind\": 3.6, \"rain\": 0.0, \"area\": 0.0, \"log_area\": null, \"season\": \"fall\"}, {\"X\": 2, \"Y\": 5, \"month\": \"aug\", \"day\": \"wed\", \"FFMC\": 95.5, \"DMC\": 99.9, \"DC\": 513.3, \"ISI\": 13.2, \"temp\": 23.8, \"RH\": 32, \"wind\": 5.4, \"rain\": 0.0, \"area\": 0.77, \"log_area\": -0.2613647641344075, \"season\": \"summer\"}, {\"X\": 3, \"Y\": 4, \"month\": \"mar\", \"day\": \"wed\", \"FFMC\": 93.4, \"DMC\": 17.3, \"DC\": 28.3, \"ISI\": 9.9, \"temp\": 8.9, \"RH\": 35, \"wind\": 8.0, \"rain\": 0.0, \"area\": 0.0, \"log_area\": null, \"season\": \"spring\"}, {\"X\": 1, \"Y\": 2, \"month\": \"aug\", \"day\": \"thu\", \"FFMC\": 91.0, \"DMC\": 163.2, \"DC\": 744.4, \"ISI\": 10.1, \"temp\": 26.7, \"RH\": 35, \"wind\": 1.8, \"rain\": 0.0, \"area\": 5.8, \"log_area\": 1.7578579175523736, \"season\": \"summer\"}, {\"X\": 2, \"Y\": 2, \"month\": \"aug\", \"day\": \"wed\", \"FFMC\": 92.1, \"DMC\": 111.2, \"DC\": 654.1, \"ISI\": 9.6, \"temp\": 18.4, \"RH\": 45, \"wind\": 3.6, \"rain\": 0.0, \"area\": 1.63, \"log_area\": 0.4885800148186709, \"season\": \"summer\"}, {\"X\": 4, \"Y\": 5, \"month\": \"jul\", \"day\": \"fri\", \"FFMC\": 91.6, \"DMC\": 100.2, \"DC\": 466.3, \"ISI\": 6.3, \"temp\": 22.9, \"RH\": 40, \"wind\": 1.3, \"rain\": 0.0, \"area\": 2.64, \"log_area\": 0.9707789171582248, \"season\": \"summer\"}, {\"X\": 4, \"Y\": 4, \"month\": \"sep\", \"day\": \"fri\", \"FFMC\": 92.1, \"DMC\": 99.0, \"DC\": 745.3, \"ISI\": 9.6, \"temp\": 20.8, \"RH\": 35, \"wind\": 4.9, \"rain\": 0.0, \"area\": 1.26, \"log_area\": 0.23111172096338664, \"season\": \"fall\"}, {\"X\": 8, \"Y\": 6, \"month\": \"aug\", \"day\": \"sat\", \"FFMC\": 89.4, \"DMC\": 253.6, \"DC\": 768.4, \"ISI\": 9.7, \"temp\": 14.2, \"RH\": 73, \"wind\": 2.7, \"rain\": 0.0, \"area\": 0.0, \"log_area\": null, \"season\": \"summer\"}, {\"X\": 6, \"Y\": 3, \"month\": \"sep\", \"day\": \"mon\", \"FFMC\": 91.6, \"DMC\": 108.4, \"DC\": 764.0, \"ISI\": 6.2, \"temp\": 23.0, \"RH\": 34, \"wind\": 2.2, \"rain\": 0.0, \"area\": 56.04, \"log_area\": 4.0260657214688065, \"season\": \"fall\"}, {\"X\": 3, \"Y\": 4, \"month\": \"aug\", \"day\": \"sun\", \"FFMC\": 91.6, \"DMC\": 181.3, \"DC\": 613.0, \"ISI\": 7.6, \"temp\": 24.6, \"RH\": 44, \"wind\": 4.0, \"rain\": 0.0, \"area\": 3.2, \"log_area\": 1.1631508098056809, \"season\": \"summer\"}, {\"X\": 4, \"Y\": 3, \"month\": \"jun\", \"day\": \"thu\", \"FFMC\": 93.0, \"DMC\": 103.8, \"DC\": 316.7, \"ISI\": 10.8, \"temp\": 26.4, \"RH\": 35, \"wind\": 2.7, \"rain\": 0.0, \"area\": 10.08, \"log_area\": 2.3105532626432224, \"season\": \"summer\"}, {\"X\": 4, \"Y\": 3, \"month\": \"sep\", \"day\": \"fri\", \"FFMC\": 90.3, \"DMC\": 290.0, \"DC\": 855.3, \"ISI\": 7.4, \"temp\": 19.9, \"RH\": 44, \"wind\": 3.1, \"rain\": 0.0, \"area\": 7.8, \"log_area\": 2.0541237336955462, \"season\": \"fall\"}, {\"X\": 1, \"Y\": 2, \"month\": \"aug\", \"day\": \"sun\", \"FFMC\": 90.2, \"DMC\": 99.6, \"DC\": 631.2, \"ISI\": 6.3, \"temp\": 17.9, \"RH\": 44, \"wind\": 2.2, \"rain\": 0.0, \"area\": 0.0, \"log_area\": null, \"season\": \"summer\"}, {\"X\": 4, \"Y\": 5, \"month\": \"mar\", \"day\": \"fri\", \"FFMC\": 85.9, \"DMC\": 19.5, \"DC\": 57.3, \"ISI\": 2.8, \"temp\": 12.7, \"RH\": 52, \"wind\": 6.3, \"rain\": 0.0, \"area\": 0.0, \"log_area\": null, \"season\": \"spring\"}, {\"X\": 7, \"Y\": 4, \"month\": \"aug\", \"day\": \"fri\", \"FFMC\": 94.8, \"DMC\": 227.0, \"DC\": 706.7, \"ISI\": 12.0, \"temp\": 23.3, \"RH\": 34, \"wind\": 3.1, \"rain\": 0.0, \"area\": 0.0, \"log_area\": null, \"season\": \"summer\"}, {\"X\": 2, \"Y\": 2, \"month\": \"aug\", \"day\": \"tue\", \"FFMC\": 94.6, \"DMC\": 212.1, \"DC\": 680.9, \"ISI\": 9.5, \"temp\": 27.9, \"RH\": 27, \"wind\": 2.2, \"rain\": 0.0, \"area\": 0.0, \"log_area\": null, \"season\": \"summer\"}, {\"X\": 7, \"Y\": 4, \"month\": \"oct\", \"day\": \"fri\", \"FFMC\": 90.0, \"DMC\": 41.5, \"DC\": 682.6, \"ISI\": 8.7, \"temp\": 11.3, \"RH\": 60, \"wind\": 5.4, \"rain\": 0.0, \"area\": 0.0, \"log_area\": null, \"season\": \"fall\"}, {\"X\": 6, \"Y\": 4, \"month\": \"apr\", \"day\": \"sat\", \"FFMC\": 86.3, \"DMC\": 27.4, \"DC\": 97.1, \"ISI\": 5.1, \"temp\": 9.3, \"RH\": 44, \"wind\": 4.5, \"rain\": 0.0, \"area\": 0.0, \"log_area\": null, \"season\": \"spring\"}, {\"X\": 6, \"Y\": 3, \"month\": \"sep\", \"day\": \"sun\", \"FFMC\": 93.5, \"DMC\": 149.3, \"DC\": 728.6, \"ISI\": 8.1, \"temp\": 22.8, \"RH\": 39, \"wind\": 3.6, \"rain\": 0.0, \"area\": 0.0, \"log_area\": null, \"season\": \"fall\"}, {\"X\": 1, \"Y\": 2, \"month\": \"aug\", \"day\": \"fri\", \"FFMC\": 90.1, \"DMC\": 108.0, \"DC\": 529.8, \"ISI\": 12.5, \"temp\": 14.7, \"RH\": 66, \"wind\": 2.7, \"rain\": 0.0, \"area\": 0.0, \"log_area\": null, \"season\": \"summer\"}, {\"X\": 6, \"Y\": 5, \"month\": \"mar\", \"day\": \"mon\", \"FFMC\": 87.2, \"DMC\": 15.1, \"DC\": 36.9, \"ISI\": 7.1, \"temp\": 10.2, \"RH\": 45, \"wind\": 5.8, \"rain\": 0.0, \"area\": 3.18, \"log_area\": 1.1568811967920856, \"season\": \"spring\"}, {\"X\": 8, \"Y\": 6, \"month\": \"aug\", \"day\": \"thu\", \"FFMC\": 90.7, \"DMC\": 194.1, \"DC\": 643.0, \"ISI\": 6.8, \"temp\": 16.2, \"RH\": 63, \"wind\": 2.7, \"rain\": 0.0, \"area\": 16.33, \"log_area\": 2.7930039069823738, \"season\": \"summer\"}, {\"X\": 2, \"Y\": 4, \"month\": \"sep\", \"day\": \"wed\", \"FFMC\": 87.9, \"DMC\": 84.8, \"DC\": 725.1, \"ISI\": 3.7, \"temp\": 21.8, \"RH\": 34, \"wind\": 2.2, \"rain\": 0.0, \"area\": 6.04, \"log_area\": 1.7984040119467235, \"season\": \"fall\"}, {\"X\": 4, \"Y\": 3, \"month\": \"jul\", \"day\": \"thu\", \"FFMC\": 93.2, \"DMC\": 114.4, \"DC\": 560.0, \"ISI\": 9.5, \"temp\": 30.2, \"RH\": 22, \"wind\": 4.9, \"rain\": 0.0, \"area\": 0.0, \"log_area\": null, \"season\": \"summer\"}, {\"X\": 4, \"Y\": 5, \"month\": \"sep\", \"day\": \"fri\", \"FFMC\": 94.3, \"DMC\": 85.1, \"DC\": 692.3, \"ISI\": 15.9, \"temp\": 17.7, \"RH\": 37, \"wind\": 3.6, \"rain\": 0.0, \"area\": 0.0, \"log_area\": null, \"season\": \"fall\"}, {\"X\": 8, \"Y\": 6, \"month\": \"aug\", \"day\": \"mon\", \"FFMC\": 91.1, \"DMC\": 103.2, \"DC\": 638.8, \"ISI\": 5.8, \"temp\": 23.4, \"RH\": 22, \"wind\": 2.7, \"rain\": 0.0, \"area\": 0.0, \"log_area\": null, \"season\": \"summer\"}, {\"X\": 5, \"Y\": 4, \"month\": \"aug\", \"day\": \"fri\", \"FFMC\": 91.0, \"DMC\": 166.9, \"DC\": 752.6, \"ISI\": 7.1, \"temp\": 21.1, \"RH\": 71, \"wind\": 7.6, \"rain\": 1.4, \"area\": 2.17, \"log_area\": 0.7747271675523681, \"season\": \"summer\"}, {\"X\": 4, \"Y\": 4, \"month\": \"aug\", \"day\": \"tue\", \"FFMC\": 96.1, \"DMC\": 181.1, \"DC\": 671.2, \"ISI\": 14.3, \"temp\": 20.7, \"RH\": 69, \"wind\": 4.9, \"rain\": 0.4, \"area\": 0.0, \"log_area\": null, \"season\": \"summer\"}, {\"X\": 6, \"Y\": 3, \"month\": \"sep\", \"day\": \"tue\", \"FFMC\": 90.3, \"DMC\": 80.7, \"DC\": 730.2, \"ISI\": 6.3, \"temp\": 18.2, \"RH\": 62, \"wind\": 4.5, \"rain\": 0.0, \"area\": 0.0, \"log_area\": null, \"season\": \"fall\"}, {\"X\": 3, \"Y\": 5, \"month\": \"oct\", \"day\": \"wed\", \"FFMC\": 91.4, \"DMC\": 37.9, \"DC\": 673.8, \"ISI\": 5.2, \"temp\": 15.9, \"RH\": 46, \"wind\": 3.6, \"rain\": 0.0, \"area\": 0.0, \"log_area\": null, \"season\": \"fall\"}, {\"X\": 5, \"Y\": 4, \"month\": \"sep\", \"day\": \"fri\", \"FFMC\": 93.3, \"DMC\": 141.2, \"DC\": 713.9, \"ISI\": 13.9, \"temp\": 27.6, \"RH\": 30, \"wind\": 1.3, \"rain\": 0.0, \"area\": 0.0, \"log_area\": null, \"season\": \"fall\"}, {\"X\": 1, \"Y\": 3, \"month\": \"sep\", \"day\": \"mon\", \"FFMC\": 88.6, \"DMC\": 91.8, \"DC\": 709.9, \"ISI\": 7.1, \"temp\": 12.4, \"RH\": 73, \"wind\": 6.3, \"rain\": 0.0, \"area\": 30.32, \"log_area\": 3.411807560774171, \"season\": \"fall\"}, {\"X\": 4, \"Y\": 3, \"month\": \"aug\", \"day\": \"wed\", \"FFMC\": 92.1, \"DMC\": 111.2, \"DC\": 654.1, \"ISI\": 9.6, \"temp\": 20.4, \"RH\": 42, \"wind\": 4.9, \"rain\": 0.0, \"area\": 0.0, \"log_area\": null, \"season\": \"summer\"}, {\"X\": 7, \"Y\": 4, \"month\": \"jun\", \"day\": \"sun\", \"FFMC\": 94.3, \"DMC\": 96.3, \"DC\": 200.0, \"ISI\": 56.1, \"temp\": 21.0, \"RH\": 44, \"wind\": 4.5, \"rain\": 0.0, \"area\": 0.0, \"log_area\": null, \"season\": \"summer\"}, {\"X\": 4, \"Y\": 4, \"month\": \"sep\", \"day\": \"mon\", \"FFMC\": 90.9, \"DMC\": 126.5, \"DC\": 686.5, \"ISI\": 7.0, \"temp\": 17.7, \"RH\": 39, \"wind\": 2.2, \"rain\": 0.0, \"area\": 3.07, \"log_area\": 1.1216775615991057, \"season\": \"fall\"}, {\"X\": 6, \"Y\": 5, \"month\": \"aug\", \"day\": \"thu\", \"FFMC\": 95.2, \"DMC\": 131.7, \"DC\": 578.8, \"ISI\": 10.4, \"temp\": 27.4, \"RH\": 22, \"wind\": 4.0, \"rain\": 0.0, \"area\": 0.9, \"log_area\": -0.10536051565782628, \"season\": \"summer\"}, {\"X\": 4, \"Y\": 3, \"month\": \"jul\", \"day\": \"sun\", \"FFMC\": 93.7, \"DMC\": 101.3, \"DC\": 423.4, \"ISI\": 14.7, \"temp\": 26.1, \"RH\": 45, \"wind\": 4.0, \"rain\": 0.0, \"area\": 7.36, \"log_area\": 1.9960599327407849, \"season\": \"summer\"}, {\"X\": 3, \"Y\": 4, \"month\": \"dec\", \"day\": \"mon\", \"FFMC\": 85.4, \"DMC\": 25.4, \"DC\": 349.7, \"ISI\": 2.6, \"temp\": 4.6, \"RH\": 21, \"wind\": 8.5, \"rain\": 0.0, \"area\": 10.73, \"log_area\": 2.373043556642607, \"season\": \"winter\"}, {\"X\": 8, \"Y\": 6, \"month\": \"aug\", \"day\": \"sat\", \"FFMC\": 93.7, \"DMC\": 231.1, \"DC\": 715.1, \"ISI\": 8.4, \"temp\": 26.9, \"RH\": 31, \"wind\": 3.6, \"rain\": 0.0, \"area\": 4.96, \"log_area\": 1.601405740736836, \"season\": \"summer\"}, {\"X\": 6, \"Y\": 5, \"month\": \"aug\", \"day\": \"wed\", \"FFMC\": 92.1, \"DMC\": 111.2, \"DC\": 654.1, \"ISI\": 9.6, \"temp\": 16.6, \"RH\": 47, \"wind\": 0.9, \"rain\": 0.0, \"area\": 2.29, \"log_area\": 0.8285518175661483, \"season\": \"summer\"}, {\"X\": 7, \"Y\": 4, \"month\": \"sep\", \"day\": \"fri\", \"FFMC\": 88.2, \"DMC\": 55.2, \"DC\": 732.3, \"ISI\": 11.6, \"temp\": 15.2, \"RH\": 64, \"wind\": 3.1, \"rain\": 0.0, \"area\": 0.52, \"log_area\": -0.6539264674066639, \"season\": \"fall\"}, {\"X\": 8, \"Y\": 6, \"month\": \"sep\", \"day\": \"sat\", \"FFMC\": 92.5, \"DMC\": 121.1, \"DC\": 674.4, \"ISI\": 8.6, \"temp\": 17.8, \"RH\": 56, \"wind\": 1.8, \"rain\": 0.0, \"area\": 1.95, \"log_area\": 0.6678293725756554, \"season\": \"fall\"}, {\"X\": 5, \"Y\": 4, \"month\": \"aug\", \"day\": \"sun\", \"FFMC\": 91.8, \"DMC\": 175.1, \"DC\": 700.7, \"ISI\": 13.8, \"temp\": 25.7, \"RH\": 39, \"wind\": 5.4, \"rain\": 0.0, \"area\": 0.09, \"log_area\": -2.4079456086518722, \"season\": \"summer\"}, {\"X\": 6, \"Y\": 5, \"month\": \"aug\", \"day\": \"sat\", \"FFMC\": 90.2, \"DMC\": 96.9, \"DC\": 624.2, \"ISI\": 8.9, \"temp\": 14.7, \"RH\": 59, \"wind\": 5.8, \"rain\": 0.0, \"area\": 0.0, \"log_area\": null, \"season\": \"summer\"}, {\"X\": 7, \"Y\": 5, \"month\": \"aug\", \"day\": \"sat\", \"FFMC\": 93.7, \"DMC\": 231.1, \"DC\": 715.1, \"ISI\": 8.4, \"temp\": 26.4, \"RH\": 33, \"wind\": 3.6, \"rain\": 0.0, \"area\": 0.0, \"log_area\": null, \"season\": \"summer\"}, {\"X\": 4, \"Y\": 4, \"month\": \"oct\", \"day\": \"sat\", \"FFMC\": 90.6, \"DMC\": 43.7, \"DC\": 686.9, \"ISI\": 6.7, \"temp\": 18.4, \"RH\": 25, \"wind\": 3.1, \"rain\": 0.0, \"area\": 24.23, \"log_area\": 3.1875915348284343, \"season\": \"fall\"}, {\"X\": 7, \"Y\": 4, \"month\": \"aug\", \"day\": \"sat\", \"FFMC\": 91.6, \"DMC\": 273.8, \"DC\": 819.1, \"ISI\": 7.7, \"temp\": 15.5, \"RH\": 72, \"wind\": 8.0, \"rain\": 0.0, \"area\": 1.94, \"log_area\": 0.6626879730752367, \"season\": \"summer\"}, {\"X\": 4, \"Y\": 3, \"month\": \"aug\", \"day\": \"sun\", \"FFMC\": 81.6, \"DMC\": 56.7, \"DC\": 665.6, \"ISI\": 1.9, \"temp\": 27.8, \"RH\": 32, \"wind\": 2.7, \"rain\": 0.0, \"area\": 6.44, \"log_area\": 1.8625285401162623, \"season\": \"summer\"}, {\"X\": 1, \"Y\": 4, \"month\": \"aug\", \"day\": \"fri\", \"FFMC\": 90.6, \"DMC\": 269.8, \"DC\": 811.2, \"ISI\": 5.5, \"temp\": 22.2, \"RH\": 45, \"wind\": 3.6, \"rain\": 0.0, \"area\": 0.0, \"log_area\": null, \"season\": \"summer\"}, {\"X\": 6, \"Y\": 3, \"month\": \"feb\", \"day\": \"sun\", \"FFMC\": 84.9, \"DMC\": 27.5, \"DC\": 353.5, \"ISI\": 3.4, \"temp\": 4.2, \"RH\": 51, \"wind\": 4.0, \"rain\": 0.0, \"area\": 0.0, \"log_area\": null, \"season\": \"winter\"}, {\"X\": 6, \"Y\": 5, \"month\": \"aug\", \"day\": \"tue\", \"FFMC\": 96.1, \"DMC\": 181.1, \"DC\": 671.2, \"ISI\": 14.3, \"temp\": 33.3, \"RH\": 26, \"wind\": 2.7, \"rain\": 0.0, \"area\": 40.54, \"log_area\": 3.702289141023854, \"season\": \"summer\"}, {\"X\": 5, \"Y\": 4, \"month\": \"aug\", \"day\": \"sun\", \"FFMC\": 93.6, \"DMC\": 235.1, \"DC\": 723.1, \"ISI\": 10.1, \"temp\": 24.1, \"RH\": 50, \"wind\": 4.0, \"rain\": 0.0, \"area\": 0.0, \"log_area\": null, \"season\": \"summer\"}, {\"X\": 8, \"Y\": 6, \"month\": \"mar\", \"day\": \"sun\", \"FFMC\": 89.3, \"DMC\": 51.3, \"DC\": 102.2, \"ISI\": 9.6, \"temp\": 11.4, \"RH\": 99, \"wind\": 1.8, \"rain\": 0.0, \"area\": 0.0, \"log_area\": null, \"season\": \"spring\"}, {\"X\": 2, \"Y\": 2, \"month\": \"aug\", \"day\": \"tue\", \"FFMC\": 92.1, \"DMC\": 152.6, \"DC\": 658.2, \"ISI\": 14.3, \"temp\": 23.7, \"RH\": 24, \"wind\": 3.1, \"rain\": 0.0, \"area\": 0.0, \"log_area\": null, \"season\": \"summer\"}, {\"X\": 4, \"Y\": 5, \"month\": \"sep\", \"day\": \"wed\", \"FFMC\": 92.9, \"DMC\": 133.3, \"DC\": 699.6, \"ISI\": 9.2, \"temp\": 19.4, \"RH\": 19, \"wind\": 1.3, \"rain\": 0.0, \"area\": 31.72, \"log_area\": 3.456947396766647, \"season\": \"fall\"}, {\"X\": 7, \"Y\": 5, \"month\": \"apr\", \"day\": \"sun\", \"FFMC\": 81.9, \"DMC\": 3.0, \"DC\": 7.9, \"ISI\": 3.5, \"temp\": 13.4, \"RH\": 75, \"wind\": 1.8, \"rain\": 0.0, \"area\": 0.0, \"log_area\": null, \"season\": \"spring\"}, {\"X\": 8, \"Y\": 6, \"month\": \"aug\", \"day\": \"sun\", \"FFMC\": 91.4, \"DMC\": 142.4, \"DC\": 601.4, \"ISI\": 10.6, \"temp\": 19.6, \"RH\": 41, \"wind\": 5.8, \"rain\": 0.0, \"area\": 196.48, \"log_area\": 5.280560644958777, \"season\": \"summer\"}, {\"X\": 7, \"Y\": 4, \"month\": \"jul\", \"day\": \"mon\", \"FFMC\": 89.2, \"DMC\": 103.9, \"DC\": 431.6, \"ISI\": 6.4, \"temp\": 22.6, \"RH\": 57, \"wind\": 4.9, \"rain\": 0.0, \"area\": 278.53, \"log_area\": 5.629525773494151, \"season\": \"summer\"}, {\"X\": 3, \"Y\": 5, \"month\": \"sep\", \"day\": \"fri\", \"FFMC\": 93.5, \"DMC\": 149.3, \"DC\": 728.6, \"ISI\": 8.1, \"temp\": 17.2, \"RH\": 43, \"wind\": 3.1, \"rain\": 0.0, \"area\": 0.0, \"log_area\": null, \"season\": \"fall\"}, {\"X\": 1, \"Y\": 2, \"month\": \"jul\", \"day\": \"sat\", \"FFMC\": 90.0, \"DMC\": 51.3, \"DC\": 296.3, \"ISI\": 8.7, \"temp\": 16.6, \"RH\": 53, \"wind\": 5.4, \"rain\": 0.0, \"area\": 0.71, \"log_area\": -0.342490308946776, \"season\": \"summer\"}, {\"X\": 7, \"Y\": 5, \"month\": \"aug\", \"day\": \"tue\", \"FFMC\": 96.1, \"DMC\": 181.1, \"DC\": 671.2, \"ISI\": 14.3, \"temp\": 21.6, \"RH\": 65, \"wind\": 4.9, \"rain\": 0.8, \"area\": 0.0, \"log_area\": null, \"season\": \"summer\"}, {\"X\": 3, \"Y\": 4, \"month\": \"jul\", \"day\": \"sat\", \"FFMC\": 90.1, \"DMC\": 51.2, \"DC\": 424.1, \"ISI\": 6.2, \"temp\": 24.6, \"RH\": 43, \"wind\": 1.8, \"rain\": 0.0, \"area\": 1.43, \"log_area\": 0.3576744442718159, \"season\": \"summer\"}, {\"X\": 1, \"Y\": 2, \"month\": \"jul\", \"day\": \"fri\", \"FFMC\": 90.7, \"DMC\": 80.9, \"DC\": 368.3, \"ISI\": 16.8, \"temp\": 14.8, \"RH\": 78, \"wind\": 8.0, \"rain\": 0.0, \"area\": 0.0, \"log_area\": null, \"season\": \"summer\"}, {\"X\": 6, \"Y\": 3, \"month\": \"apr\", \"day\": \"wed\", \"FFMC\": 88.0, \"DMC\": 17.2, \"DC\": 43.5, \"ISI\": 3.8, \"temp\": 15.2, \"RH\": 51, \"wind\": 2.7, \"rain\": 0.0, \"area\": 0.0, \"log_area\": null, \"season\": \"spring\"}, {\"X\": 1, \"Y\": 2, \"month\": \"aug\", \"day\": \"sun\", \"FFMC\": 91.4, \"DMC\": 142.4, \"DC\": 601.4, \"ISI\": 10.6, \"temp\": 19.5, \"RH\": 39, \"wind\": 6.3, \"rain\": 0.0, \"area\": 0.0, \"log_area\": null, \"season\": \"summer\"}, {\"X\": 3, \"Y\": 4, \"month\": \"mar\", \"day\": \"sat\", \"FFMC\": 91.7, \"DMC\": 35.8, \"DC\": 80.8, \"ISI\": 7.8, \"temp\": 15.2, \"RH\": 27, \"wind\": 4.9, \"rain\": 0.0, \"area\": 0.0, \"log_area\": null, \"season\": \"spring\"}, {\"X\": 7, \"Y\": 4, \"month\": \"aug\", \"day\": \"sat\", \"FFMC\": 90.2, \"DMC\": 110.9, \"DC\": 537.4, \"ISI\": 6.2, \"temp\": 19.5, \"RH\": 43, \"wind\": 5.8, \"rain\": 0.0, \"area\": 0.0, \"log_area\": null, \"season\": \"summer\"}, {\"X\": 8, \"Y\": 6, \"month\": \"aug\", \"day\": \"thu\", \"FFMC\": 90.7, \"DMC\": 194.1, \"DC\": 643.0, \"ISI\": 6.8, \"temp\": 21.3, \"RH\": 41, \"wind\": 3.6, \"rain\": 0.0, \"area\": 0.0, \"log_area\": null, \"season\": \"summer\"}, {\"X\": 8, \"Y\": 4, \"month\": \"aug\", \"day\": \"sat\", \"FFMC\": 91.6, \"DMC\": 273.8, \"DC\": 819.1, \"ISI\": 7.7, \"temp\": 21.3, \"RH\": 44, \"wind\": 4.5, \"rain\": 0.0, \"area\": 12.18, \"log_area\": 2.4997952622817508, \"season\": \"summer\"}, {\"X\": 5, \"Y\": 4, \"month\": \"sep\", \"day\": \"fri\", \"FFMC\": 92.1, \"DMC\": 99.0, \"DC\": 745.3, \"ISI\": 9.6, \"temp\": 10.1, \"RH\": 75, \"wind\": 3.6, \"rain\": 0.0, \"area\": 0.0, \"log_area\": null, \"season\": \"fall\"}, {\"X\": 2, \"Y\": 2, \"month\": \"mar\", \"day\": \"sun\", \"FFMC\": 89.3, \"DMC\": 51.3, \"DC\": 102.2, \"ISI\": 9.6, \"temp\": 5.5, \"RH\": 59, \"wind\": 6.3, \"rain\": 0.0, \"area\": 0.0, \"log_area\": null, \"season\": \"spring\"}, {\"X\": 4, \"Y\": 5, \"month\": \"sep\", \"day\": \"sat\", \"FFMC\": 92.5, \"DMC\": 88.0, \"DC\": 698.6, \"ISI\": 7.1, \"temp\": 20.3, \"RH\": 45, \"wind\": 3.1, \"rain\": 0.0, \"area\": 0.0, \"log_area\": null, \"season\": \"fall\"}, {\"X\": 8, \"Y\": 6, \"month\": \"aug\", \"day\": \"sat\", \"FFMC\": 93.7, \"DMC\": 231.1, \"DC\": 715.1, \"ISI\": 8.4, \"temp\": 18.9, \"RH\": 64, \"wind\": 4.9, \"rain\": 0.0, \"area\": 3.32, \"log_area\": 1.199964782928397, \"season\": \"summer\"}, {\"X\": 4, \"Y\": 4, \"month\": \"sep\", \"day\": \"wed\", \"FFMC\": 90.1, \"DMC\": 82.9, \"DC\": 735.7, \"ISI\": 6.2, \"temp\": 12.9, \"RH\": 74, \"wind\": 4.9, \"rain\": 0.0, \"area\": 0.0, \"log_area\": null, \"season\": \"fall\"}, {\"X\": 6, \"Y\": 5, \"month\": \"mar\", \"day\": \"sat\", \"FFMC\": 91.7, \"DMC\": 35.8, \"DC\": 80.8, \"ISI\": 7.8, \"temp\": 17.4, \"RH\": 25, \"wind\": 4.9, \"rain\": 0.0, \"area\": 0.0, \"log_area\": null, \"season\": \"spring\"}, {\"X\": 6, \"Y\": 4, \"month\": \"sep\", \"day\": \"tue\", \"FFMC\": 91.0, \"DMC\": 129.5, \"DC\": 692.6, \"ISI\": 7.0, \"temp\": 18.7, \"RH\": 43, \"wind\": 2.7, \"rain\": 0.0, \"area\": 103.39, \"log_area\": 4.638508245598602, \"season\": \"fall\"}, {\"X\": 1, \"Y\": 3, \"month\": \"aug\", \"day\": \"fri\", \"FFMC\": 95.9, \"DMC\": 158.0, \"DC\": 633.6, \"ISI\": 11.3, \"temp\": 27.5, \"RH\": 29, \"wind\": 4.5, \"rain\": 0.0, \"area\": 43.32, \"log_area\": 3.76861442213279, \"season\": \"summer\"}, {\"X\": 8, \"Y\": 6, \"month\": \"aug\", \"day\": \"sat\", \"FFMC\": 93.7, \"DMC\": 231.1, \"DC\": 715.1, \"ISI\": 8.4, \"temp\": 18.9, \"RH\": 64, \"wind\": 4.9, \"rain\": 0.0, \"area\": 0.0, \"log_area\": null, \"season\": \"summer\"}, {\"X\": 7, \"Y\": 4, \"month\": \"sep\", \"day\": \"sun\", \"FFMC\": 92.4, \"DMC\": 105.8, \"DC\": 758.1, \"ISI\": 9.9, \"temp\": 25.3, \"RH\": 27, \"wind\": 2.7, \"rain\": 0.0, \"area\": 0.0, \"log_area\": null, \"season\": \"fall\"}, {\"X\": 8, \"Y\": 6, \"month\": \"aug\", \"day\": \"sun\", \"FFMC\": 90.2, \"DMC\": 99.6, \"DC\": 631.2, \"ISI\": 6.3, \"temp\": 16.2, \"RH\": 59, \"wind\": 3.1, \"rain\": 0.0, \"area\": 32.07, \"log_area\": 3.4679210137050633, \"season\": \"summer\"}, {\"X\": 6, \"Y\": 5, \"month\": \"aug\", \"day\": \"wed\", \"FFMC\": 96.0, \"DMC\": 127.1, \"DC\": 570.5, \"ISI\": 16.5, \"temp\": 23.4, \"RH\": 33, \"wind\": 4.5, \"rain\": 0.0, \"area\": 2.51, \"log_area\": 0.9202827531436925, \"season\": \"summer\"}, {\"X\": 4, \"Y\": 3, \"month\": \"aug\", \"day\": \"wed\", \"FFMC\": 94.5, \"DMC\": 139.4, \"DC\": 689.1, \"ISI\": 20.0, \"temp\": 28.9, \"RH\": 29, \"wind\": 4.9, \"rain\": 0.0, \"area\": 49.59, \"log_area\": 3.9037892005010426, \"season\": \"summer\"}, {\"X\": 8, \"Y\": 6, \"month\": \"aug\", \"day\": \"mon\", \"FFMC\": 91.5, \"DMC\": 145.4, \"DC\": 608.2, \"ISI\": 10.7, \"temp\": 8.0, \"RH\": 86, \"wind\": 2.2, \"rain\": 0.0, \"area\": 0.0, \"log_area\": null, \"season\": \"summer\"}, {\"X\": 3, \"Y\": 5, \"month\": \"mar\", \"day\": \"tue\", \"FFMC\": 88.1, \"DMC\": 25.7, \"DC\": 67.6, \"ISI\": 3.8, \"temp\": 15.5, \"RH\": 27, \"wind\": 6.3, \"rain\": 0.0, \"area\": 0.0, \"log_area\": null, \"season\": \"spring\"}, {\"X\": 6, \"Y\": 3, \"month\": \"jul\", \"day\": \"tue\", \"FFMC\": 92.7, \"DMC\": 164.1, \"DC\": 575.8, \"ISI\": 8.9, \"temp\": 26.3, \"RH\": 39, \"wind\": 3.1, \"rain\": 0.0, \"area\": 7.02, \"log_area\": 1.9487632180377197, \"season\": \"summer\"}, {\"X\": 8, \"Y\": 6, \"month\": \"aug\", \"day\": \"mon\", \"FFMC\": 92.1, \"DMC\": 207.0, \"DC\": 672.6, \"ISI\": 8.2, \"temp\": 21.1, \"RH\": 54, \"wind\": 2.2, \"rain\": 0.0, \"area\": 0.0, \"log_area\": null, \"season\": \"summer\"}, {\"X\": 3, \"Y\": 4, \"month\": \"aug\", \"day\": \"sun\", \"FFMC\": 91.8, \"DMC\": 175.1, \"DC\": 700.7, \"ISI\": 13.8, \"temp\": 26.8, \"RH\": 38, \"wind\": 6.3, \"rain\": 0.0, \"area\": 0.76, \"log_area\": -0.2744368457017603, \"season\": \"summer\"}, {\"X\": 3, \"Y\": 6, \"month\": \"sep\", \"day\": \"sun\", \"FFMC\": 92.4, \"DMC\": 124.1, \"DC\": 680.7, \"ISI\": 8.5, \"temp\": 17.2, \"RH\": 58, \"wind\": 1.3, \"rain\": 0.0, \"area\": 0.0, \"log_area\": null, \"season\": \"fall\"}, {\"X\": 1, \"Y\": 4, \"month\": \"sep\", \"day\": \"mon\", \"FFMC\": 92.1, \"DMC\": 87.7, \"DC\": 721.1, \"ISI\": 9.5, \"temp\": 18.1, \"RH\": 54, \"wind\": 3.1, \"rain\": 0.0, \"area\": 2.13, \"log_area\": 0.7561219797213337, \"season\": \"fall\"}, {\"X\": 2, \"Y\": 4, \"month\": \"sep\", \"day\": \"sun\", \"FFMC\": 92.4, \"DMC\": 105.8, \"DC\": 758.1, \"ISI\": 9.9, \"temp\": 24.9, \"RH\": 27, \"wind\": 2.2, \"rain\": 0.0, \"area\": 0.0, \"log_area\": null, \"season\": \"fall\"}, {\"X\": 8, \"Y\": 6, \"month\": \"aug\", \"day\": \"thu\", \"FFMC\": 94.8, \"DMC\": 222.4, \"DC\": 698.6, \"ISI\": 13.9, \"temp\": 23.9, \"RH\": 38, \"wind\": 6.7, \"rain\": 0.0, \"area\": 0.0, \"log_area\": null, \"season\": \"summer\"}, {\"X\": 6, \"Y\": 5, \"month\": \"mar\", \"day\": \"thu\", \"FFMC\": 91.3, \"DMC\": 20.6, \"DC\": 43.5, \"ISI\": 8.5, \"temp\": 13.3, \"RH\": 27, \"wind\": 3.6, \"rain\": 0.0, \"area\": 6.61, \"log_area\": 1.888583653863595, \"season\": \"spring\"}, {\"X\": 7, \"Y\": 6, \"month\": \"jul\", \"day\": \"tue\", \"FFMC\": 93.1, \"DMC\": 180.4, \"DC\": 430.8, \"ISI\": 11.0, \"temp\": 26.9, \"RH\": 28, \"wind\": 5.4, \"rain\": 0.0, \"area\": 86.45, \"log_area\": 4.4595662121293, \"season\": \"summer\"}, {\"X\": 6, \"Y\": 5, \"month\": \"feb\", \"day\": \"tue\", \"FFMC\": 75.1, \"DMC\": 4.4, \"DC\": 16.2, \"ISI\": 1.9, \"temp\": 4.6, \"RH\": 82, \"wind\": 6.3, \"rain\": 0.0, \"area\": 5.39, \"log_area\": 1.6845453849209058, \"season\": \"winter\"}, {\"X\": 3, \"Y\": 4, \"month\": \"aug\", \"day\": \"tue\", \"FFMC\": 96.1, \"DMC\": 181.1, \"DC\": 671.2, \"ISI\": 14.3, \"temp\": 32.3, \"RH\": 27, \"wind\": 2.2, \"rain\": 0.0, \"area\": 14.68, \"log_area\": 2.6864860231863696, \"season\": \"summer\"}, {\"X\": 6, \"Y\": 5, \"month\": \"mar\", \"day\": \"mon\", \"FFMC\": 90.1, \"DMC\": 39.7, \"DC\": 86.6, \"ISI\": 6.2, \"temp\": 15.2, \"RH\": 27, \"wind\": 3.1, \"rain\": 0.0, \"area\": 31.86, \"log_area\": 3.4613513044819024, \"season\": \"spring\"}, {\"X\": 4, \"Y\": 4, \"month\": \"dec\", \"day\": \"mon\", \"FFMC\": 85.4, \"DMC\": 25.4, \"DC\": 349.7, \"ISI\": 2.6, \"temp\": 4.6, \"RH\": 21, \"wind\": 8.5, \"rain\": 0.0, \"area\": 9.77, \"log_area\": 2.2793164660546914, \"season\": \"winter\"}, {\"X\": 6, \"Y\": 5, \"month\": \"sep\", \"day\": \"sat\", \"FFMC\": 91.2, \"DMC\": 94.3, \"DC\": 744.4, \"ISI\": 8.4, \"temp\": 15.4, \"RH\": 57, \"wind\": 4.9, \"rain\": 0.0, \"area\": 39.35, \"log_area\": 3.6724959748634123, \"season\": \"fall\"}, {\"X\": 6, \"Y\": 5, \"month\": \"sep\", \"day\": \"thu\", \"FFMC\": 92.8, \"DMC\": 119.0, \"DC\": 783.5, \"ISI\": 7.5, \"temp\": 21.6, \"RH\": 27, \"wind\": 2.2, \"rain\": 0.0, \"area\": 0.0, \"log_area\": null, \"season\": \"fall\"}, {\"X\": 4, \"Y\": 6, \"month\": \"sep\", \"day\": \"sun\", \"FFMC\": 93.5, \"DMC\": 149.3, \"DC\": 728.6, \"ISI\": 8.1, \"temp\": 28.3, \"RH\": 26, \"wind\": 3.1, \"rain\": 0.0, \"area\": 64.1, \"log_area\": 4.160444363926624, \"season\": \"fall\"}, {\"X\": 7, \"Y\": 5, \"month\": \"sep\", \"day\": \"sat\", \"FFMC\": 92.5, \"DMC\": 88.0, \"DC\": 698.6, \"ISI\": 7.1, \"temp\": 17.8, \"RH\": 51, \"wind\": 7.2, \"rain\": 0.0, \"area\": 0.0, \"log_area\": null, \"season\": \"fall\"}, {\"X\": 6, \"Y\": 3, \"month\": \"sep\", \"day\": \"sat\", \"FFMC\": 93.4, \"DMC\": 145.4, \"DC\": 721.4, \"ISI\": 8.1, \"temp\": 30.2, \"RH\": 24, \"wind\": 2.7, \"rain\": 0.0, \"area\": 0.0, \"log_area\": null, \"season\": \"fall\"}, {\"X\": 6, \"Y\": 5, \"month\": \"mar\", \"day\": \"thu\", \"FFMC\": 90.9, \"DMC\": 18.9, \"DC\": 30.6, \"ISI\": 8.0, \"temp\": 8.7, \"RH\": 51, \"wind\": 5.8, \"rain\": 0.0, \"area\": 0.0, \"log_area\": null, \"season\": \"spring\"}, {\"X\": 7, \"Y\": 5, \"month\": \"sep\", \"day\": \"tue\", \"FFMC\": 91.0, \"DMC\": 129.5, \"DC\": 692.6, \"ISI\": 7.0, \"temp\": 20.7, \"RH\": 37, \"wind\": 2.2, \"rain\": 0.0, \"area\": 17.2, \"log_area\": 2.8449093838194073, \"season\": \"fall\"}, {\"X\": 3, \"Y\": 4, \"month\": \"sep\", \"day\": \"fri\", \"FFMC\": 94.3, \"DMC\": 85.1, \"DC\": 692.3, \"ISI\": 15.9, \"temp\": 19.8, \"RH\": 50, \"wind\": 5.4, \"rain\": 0.0, \"area\": 0.0, \"log_area\": null, \"season\": \"fall\"}, {\"X\": 4, \"Y\": 5, \"month\": \"mar\", \"day\": \"fri\", \"FFMC\": 91.7, \"DMC\": 33.3, \"DC\": 77.5, \"ISI\": 9.0, \"temp\": 17.2, \"RH\": 26, \"wind\": 4.5, \"rain\": 0.0, \"area\": 0.0, \"log_area\": null, \"season\": \"spring\"}, {\"X\": 6, \"Y\": 4, \"month\": \"aug\", \"day\": \"thu\", \"FFMC\": 95.2, \"DMC\": 131.7, \"DC\": 578.8, \"ISI\": 10.4, \"temp\": 20.3, \"RH\": 41, \"wind\": 4.0, \"rain\": 0.0, \"area\": 1.9, \"log_area\": 0.6418538861723947, \"season\": \"summer\"}, {\"X\": 2, \"Y\": 2, \"month\": \"aug\", \"day\": \"tue\", \"FFMC\": 94.8, \"DMC\": 108.3, \"DC\": 647.1, \"ISI\": 17.0, \"temp\": 24.6, \"RH\": 22, \"wind\": 4.5, \"rain\": 0.0, \"area\": 10.01, \"log_area\": 2.303584593327129, \"season\": \"summer\"}, {\"X\": 3, \"Y\": 6, \"month\": \"sep\", \"day\": \"mon\", \"FFMC\": 90.9, \"DMC\": 126.5, \"DC\": 686.5, \"ISI\": 7.0, \"temp\": 15.6, \"RH\": 66, \"wind\": 3.1, \"rain\": 0.0, \"area\": 0.0, \"log_area\": null, \"season\": \"fall\"}, {\"X\": 9, \"Y\": 9, \"month\": \"aug\", \"day\": \"fri\", \"FFMC\": 94.8, \"DMC\": 227.0, \"DC\": 706.7, \"ISI\": 12.0, \"temp\": 25.0, \"RH\": 36, \"wind\": 4.0, \"rain\": 0.0, \"area\": 0.0, \"log_area\": null, \"season\": \"summer\"}, {\"X\": 9, \"Y\": 6, \"month\": \"aug\", \"day\": \"thu\", \"FFMC\": 91.6, \"DMC\": 248.4, \"DC\": 753.8, \"ISI\": 6.3, \"temp\": 20.5, \"RH\": 58, \"wind\": 2.7, \"rain\": 0.0, \"area\": 42.87, \"log_area\": 3.7581722806098856, \"season\": \"summer\"}, {\"X\": 3, \"Y\": 4, \"month\": \"sep\", \"day\": \"sun\", \"FFMC\": 89.7, \"DMC\": 90.0, \"DC\": 704.4, \"ISI\": 4.8, \"temp\": 22.8, \"RH\": 39, \"wind\": 3.6, \"rain\": 0.0, \"area\": 0.0, \"log_area\": null, \"season\": \"fall\"}, {\"X\": 3, \"Y\": 4, \"month\": \"aug\", \"day\": \"sun\", \"FFMC\": 91.4, \"DMC\": 142.4, \"DC\": 601.4, \"ISI\": 10.6, \"temp\": 19.8, \"RH\": 39, \"wind\": 5.4, \"rain\": 0.0, \"area\": 0.0, \"log_area\": null, \"season\": \"summer\"}, {\"X\": 1, \"Y\": 3, \"month\": \"aug\", \"day\": \"thu\", \"FFMC\": 94.8, \"DMC\": 222.4, \"DC\": 698.6, \"ISI\": 13.9, \"temp\": 26.2, \"RH\": 34, \"wind\": 5.8, \"rain\": 0.0, \"area\": 0.0, \"log_area\": null, \"season\": \"summer\"}, {\"X\": 2, \"Y\": 2, \"month\": \"sep\", \"day\": \"mon\", \"FFMC\": 91.5, \"DMC\": 130.1, \"DC\": 807.1, \"ISI\": 7.5, \"temp\": 16.8, \"RH\": 43, \"wind\": 3.1, \"rain\": 0.0, \"area\": 5.83, \"log_area\": 1.763017000362401, \"season\": \"fall\"}, {\"X\": 2, \"Y\": 4, \"month\": \"mar\", \"day\": \"tue\", \"FFMC\": 93.4, \"DMC\": 15.0, \"DC\": 25.6, \"ISI\": 11.4, \"temp\": 15.2, \"RH\": 19, \"wind\": 7.6, \"rain\": 0.0, \"area\": 0.0, \"log_area\": null, \"season\": \"spring\"}, {\"X\": 6, \"Y\": 6, \"month\": \"aug\", \"day\": \"sat\", \"FFMC\": 96.0, \"DMC\": 164.0, \"DC\": 643.0, \"ISI\": 14.0, \"temp\": 30.8, \"RH\": 30, \"wind\": 4.9, \"rain\": 0.0, \"area\": 8.59, \"log_area\": 2.150598735996164, \"season\": \"summer\"}, {\"X\": 4, \"Y\": 4, \"month\": \"mar\", \"day\": \"fri\", \"FFMC\": 85.9, \"DMC\": 19.5, \"DC\": 57.3, \"ISI\": 2.8, \"temp\": 13.7, \"RH\": 43, \"wind\": 5.8, \"rain\": 0.0, \"area\": 0.0, \"log_area\": null, \"season\": \"spring\"}, {\"X\": 3, \"Y\": 4, \"month\": \"feb\", \"day\": \"wed\", \"FFMC\": 86.9, \"DMC\": 6.6, \"DC\": 18.7, \"ISI\": 3.2, \"temp\": 8.8, \"RH\": 35, \"wind\": 3.1, \"rain\": 0.0, \"area\": 1.1, \"log_area\": 0.09531017980432493, \"season\": \"winter\"}, {\"X\": 6, \"Y\": 5, \"month\": \"dec\", \"day\": \"tue\", \"FFMC\": 85.4, \"DMC\": 25.4, \"DC\": 349.7, \"ISI\": 2.6, \"temp\": 5.1, \"RH\": 24, \"wind\": 8.5, \"rain\": 0.0, \"area\": 24.77, \"log_area\": 3.209633243501268, \"season\": \"winter\"}, {\"X\": 1, \"Y\": 5, \"month\": \"sep\", \"day\": \"mon\", \"FFMC\": 90.9, \"DMC\": 126.5, \"DC\": 686.5, \"ISI\": 7.0, \"temp\": 21.0, \"RH\": 42, \"wind\": 2.2, \"rain\": 0.0, \"area\": 7.3, \"log_area\": 1.9878743481543455, \"season\": \"fall\"}, {\"X\": 3, \"Y\": 4, \"month\": \"sep\", \"day\": \"sun\", \"FFMC\": 92.4, \"DMC\": 124.1, \"DC\": 680.7, \"ISI\": 8.5, \"temp\": 22.5, \"RH\": 42, \"wind\": 5.4, \"rain\": 0.0, \"area\": 0.0, \"log_area\": null, \"season\": \"fall\"}, {\"X\": 4, \"Y\": 4, \"month\": \"sep\", \"day\": \"sat\", \"FFMC\": 91.2, \"DMC\": 124.4, \"DC\": 795.3, \"ISI\": 8.5, \"temp\": 17.1, \"RH\": 41, \"wind\": 2.2, \"rain\": 0.0, \"area\": 11.22, \"log_area\": 2.4176979000945504, \"season\": \"fall\"}, {\"X\": 8, \"Y\": 6, \"month\": \"aug\", \"day\": \"sun\", \"FFMC\": 92.3, \"DMC\": 85.3, \"DC\": 488.0, \"ISI\": 14.7, \"temp\": 20.8, \"RH\": 32, \"wind\": 6.3, \"rain\": 0.0, \"area\": 0.0, \"log_area\": null, \"season\": \"summer\"}, {\"X\": 8, \"Y\": 6, \"month\": \"aug\", \"day\": \"thu\", \"FFMC\": 94.8, \"DMC\": 222.4, \"DC\": 698.6, \"ISI\": 13.9, \"temp\": 27.5, \"RH\": 27, \"wind\": 4.9, \"rain\": 0.0, \"area\": 746.28, \"log_area\": 6.615100864903798, \"season\": \"summer\"}, {\"X\": 2, \"Y\": 5, \"month\": \"aug\", \"day\": \"fri\", \"FFMC\": 93.9, \"DMC\": 135.7, \"DC\": 586.7, \"ISI\": 15.1, \"temp\": 23.5, \"RH\": 36, \"wind\": 5.4, \"rain\": 0.0, \"area\": 10.02, \"log_area\": 2.3045830956567186, \"season\": \"summer\"}, {\"X\": 2, \"Y\": 2, \"month\": \"aug\", \"day\": \"thu\", \"FFMC\": 93.0, \"DMC\": 75.3, \"DC\": 466.6, \"ISI\": 7.7, \"temp\": 18.8, \"RH\": 35, \"wind\": 4.9, \"rain\": 0.0, \"area\": 0.0, \"log_area\": null, \"season\": \"summer\"}, {\"X\": 7, \"Y\": 5, \"month\": \"aug\", \"day\": \"tue\", \"FFMC\": 96.1, \"DMC\": 181.1, \"DC\": 671.2, \"ISI\": 14.3, \"temp\": 27.3, \"RH\": 63, \"wind\": 4.9, \"rain\": 6.4, \"area\": 10.82, \"log_area\": 2.3813962734183356, \"season\": \"summer\"}, {\"X\": 1, \"Y\": 4, \"month\": \"aug\", \"day\": \"sat\", \"FFMC\": 90.2, \"DMC\": 96.9, \"DC\": 624.2, \"ISI\": 8.9, \"temp\": 14.2, \"RH\": 53, \"wind\": 1.8, \"rain\": 0.0, \"area\": 3.5, \"log_area\": 1.252762968495368, \"season\": \"summer\"}, {\"X\": 2, \"Y\": 2, \"month\": \"aug\", \"day\": \"thu\", \"FFMC\": 91.6, \"DMC\": 248.4, \"DC\": 753.8, \"ISI\": 6.3, \"temp\": 20.4, \"RH\": 56, \"wind\": 2.2, \"rain\": 0.0, \"area\": 0.0, \"log_area\": null, \"season\": \"summer\"}, {\"X\": 5, \"Y\": 6, \"month\": \"sep\", \"day\": \"wed\", \"FFMC\": 94.3, \"DMC\": 85.1, \"DC\": 692.3, \"ISI\": 15.9, \"temp\": 25.9, \"RH\": 24, \"wind\": 4.0, \"rain\": 0.0, \"area\": 0.0, \"log_area\": null, \"season\": \"fall\"}, {\"X\": 3, \"Y\": 6, \"month\": \"jun\", \"day\": \"fri\", \"FFMC\": 91.1, \"DMC\": 94.1, \"DC\": 232.1, \"ISI\": 7.1, \"temp\": 19.2, \"RH\": 38, \"wind\": 4.5, \"rain\": 0.0, \"area\": 0.0, \"log_area\": null, \"season\": \"summer\"}, {\"X\": 4, \"Y\": 5, \"month\": \"aug\", \"day\": \"wed\", \"FFMC\": 95.2, \"DMC\": 217.7, \"DC\": 690.0, \"ISI\": 18.0, \"temp\": 23.4, \"RH\": 49, \"wind\": 5.4, \"rain\": 0.0, \"area\": 6.43, \"log_area\": 1.860974538249528, \"season\": \"summer\"}, {\"X\": 4, \"Y\": 6, \"month\": \"feb\", \"day\": \"sat\", \"FFMC\": 68.2, \"DMC\": 21.5, \"DC\": 87.2, \"ISI\": 0.8, \"temp\": 15.4, \"RH\": 40, \"wind\": 2.7, \"rain\": 0.0, \"area\": 0.0, \"log_area\": null, \"season\": \"winter\"}, {\"X\": 4, \"Y\": 4, \"month\": \"sep\", \"day\": \"thu\", \"FFMC\": 92.9, \"DMC\": 137.0, \"DC\": 706.4, \"ISI\": 9.2, \"temp\": 20.8, \"RH\": 17, \"wind\": 1.3, \"rain\": 0.0, \"area\": 0.0, \"log_area\": null, \"season\": \"fall\"}, {\"X\": 3, \"Y\": 4, \"month\": \"mar\", \"day\": \"sat\", \"FFMC\": 69.0, \"DMC\": 2.4, \"DC\": 15.5, \"ISI\": 0.7, \"temp\": 17.4, \"RH\": 24, \"wind\": 5.4, \"rain\": 0.0, \"area\": 0.0, \"log_area\": null, \"season\": \"spring\"}, {\"X\": 4, \"Y\": 5, \"month\": \"sep\", \"day\": \"thu\", \"FFMC\": 92.9, \"DMC\": 137.0, \"DC\": 706.4, \"ISI\": 9.2, \"temp\": 21.5, \"RH\": 15, \"wind\": 0.9, \"rain\": 0.0, \"area\": 11.06, \"log_area\": 2.403334996094189, \"season\": \"fall\"}, {\"X\": 4, \"Y\": 4, \"month\": \"mar\", \"day\": \"sat\", \"FFMC\": 91.7, \"DMC\": 35.8, \"DC\": 80.8, \"ISI\": 7.8, \"temp\": 17.0, \"RH\": 27, \"wind\": 4.9, \"rain\": 0.0, \"area\": 28.66, \"log_area\": 3.3555024224000256, \"season\": \"spring\"}, {\"X\": 6, \"Y\": 5, \"month\": \"sep\", \"day\": \"sat\", \"FFMC\": 92.5, \"DMC\": 121.1, \"DC\": 674.4, \"ISI\": 8.6, \"temp\": 25.1, \"RH\": 27, \"wind\": 4.0, \"rain\": 0.0, \"area\": 1090.84, \"log_area\": 6.9947033206327935, \"season\": \"fall\"}, {\"X\": 4, \"Y\": 5, \"month\": \"sep\", \"day\": \"sun\", \"FFMC\": 91.0, \"DMC\": 276.3, \"DC\": 825.1, \"ISI\": 7.1, \"temp\": 13.8, \"RH\": 77, \"wind\": 7.6, \"rain\": 0.0, \"area\": 0.0, \"log_area\": null, \"season\": \"fall\"}, {\"X\": 6, \"Y\": 3, \"month\": \"nov\", \"day\": \"tue\", \"FFMC\": 79.5, \"DMC\": 3.0, \"DC\": 106.7, \"ISI\": 1.1, \"temp\": 11.8, \"RH\": 31, \"wind\": 4.5, \"rain\": 0.0, \"area\": 0.0, \"log_area\": null, \"season\": \"fall\"}, {\"X\": 7, \"Y\": 4, \"month\": \"sep\", \"day\": \"wed\", \"FFMC\": 89.7, \"DMC\": 284.9, \"DC\": 844.0, \"ISI\": 10.1, \"temp\": 10.5, \"RH\": 77, \"wind\": 4.0, \"rain\": 0.0, \"area\": 0.0, \"log_area\": null, \"season\": \"fall\"}, {\"X\": 2, \"Y\": 2, \"month\": \"aug\", \"day\": \"sun\", \"FFMC\": 90.2, \"DMC\": 99.6, \"DC\": 631.2, \"ISI\": 6.3, \"temp\": 20.8, \"RH\": 33, \"wind\": 2.7, \"rain\": 0.0, \"area\": 0.0, \"log_area\": null, \"season\": \"summer\"}, {\"X\": 2, \"Y\": 5, \"month\": \"jul\", \"day\": \"sat\", \"FFMC\": 90.8, \"DMC\": 84.7, \"DC\": 376.6, \"ISI\": 5.6, \"temp\": 23.8, \"RH\": 51, \"wind\": 1.8, \"rain\": 0.0, \"area\": 0.0, \"log_area\": null, \"season\": \"summer\"}, {\"X\": 8, \"Y\": 6, \"month\": \"aug\", \"day\": \"thu\", \"FFMC\": 95.2, \"DMC\": 131.7, \"DC\": 578.8, \"ISI\": 10.4, \"temp\": 20.7, \"RH\": 45, \"wind\": 2.2, \"rain\": 0.0, \"area\": 2.55, \"log_area\": 0.9360933591703348, \"season\": \"summer\"}, {\"X\": 2, \"Y\": 4, \"month\": \"aug\", \"day\": \"wed\", \"FFMC\": 92.2, \"DMC\": 91.6, \"DC\": 503.6, \"ISI\": 9.6, \"temp\": 20.7, \"RH\": 70, \"wind\": 2.2, \"rain\": 0.0, \"area\": 0.75, \"log_area\": -0.2876820724517809, \"season\": \"summer\"}, {\"X\": 4, \"Y\": 3, \"month\": \"aug\", \"day\": \"sat\", \"FFMC\": 94.2, \"DMC\": 117.2, \"DC\": 581.1, \"ISI\": 11.0, \"temp\": 21.4, \"RH\": 44, \"wind\": 2.7, \"rain\": 0.0, \"area\": 0.68, \"log_area\": -0.3856624808119846, \"season\": \"summer\"}, {\"X\": 8, \"Y\": 5, \"month\": \"aug\", \"day\": \"wed\", \"FFMC\": 93.1, \"DMC\": 157.3, \"DC\": 666.7, \"ISI\": 13.5, \"temp\": 24.0, \"RH\": 36, \"wind\": 3.1, \"rain\": 0.0, \"area\": 0.24, \"log_area\": -1.4271163556401458, \"season\": \"summer\"}, {\"X\": 4, \"Y\": 4, \"month\": \"aug\", \"day\": \"tue\", \"FFMC\": 92.1, \"DMC\": 152.6, \"DC\": 658.2, \"ISI\": 14.3, \"temp\": 19.1, \"RH\": 53, \"wind\": 2.7, \"rain\": 0.0, \"area\": 4.4, \"log_area\": 1.4816045409242156, \"season\": \"summer\"}, {\"X\": 7, \"Y\": 4, \"month\": \"sep\", \"day\": \"sun\", \"FFMC\": 91.0, \"DMC\": 276.3, \"DC\": 825.1, \"ISI\": 7.1, \"temp\": 13.8, \"RH\": 77, \"wind\": 7.6, \"rain\": 0.0, \"area\": 11.06, \"log_area\": 2.403334996094189, \"season\": \"fall\"}, {\"X\": 2, \"Y\": 4, \"month\": \"aug\", \"day\": \"fri\", \"FFMC\": 91.0, \"DMC\": 166.9, \"DC\": 752.6, \"ISI\": 7.1, \"temp\": 25.9, \"RH\": 41, \"wind\": 3.6, \"rain\": 0.0, \"area\": 0.0, \"log_area\": null, \"season\": \"summer\"}, {\"X\": 5, \"Y\": 4, \"month\": \"sep\", \"day\": \"fri\", \"FFMC\": 94.3, \"DMC\": 85.1, \"DC\": 692.3, \"ISI\": 15.9, \"temp\": 20.1, \"RH\": 47, \"wind\": 4.9, \"rain\": 0.0, \"area\": 1.46, \"log_area\": 0.37843643572024505, \"season\": \"fall\"}, {\"X\": 1, \"Y\": 4, \"month\": \"sep\", \"day\": \"sun\", \"FFMC\": 91.0, \"DMC\": 276.3, \"DC\": 825.1, \"ISI\": 7.1, \"temp\": 14.5, \"RH\": 76, \"wind\": 7.6, \"rain\": 0.0, \"area\": 3.71, \"log_area\": 1.3110318766193438, \"season\": \"fall\"}, {\"X\": 4, \"Y\": 4, \"month\": \"jul\", \"day\": \"tue\", \"FFMC\": 79.5, \"DMC\": 60.6, \"DC\": 366.7, \"ISI\": 1.5, \"temp\": 23.3, \"RH\": 37, \"wind\": 3.1, \"rain\": 0.0, \"area\": 0.0, \"log_area\": null, \"season\": \"summer\"}, {\"X\": 3, \"Y\": 4, \"month\": \"sep\", \"day\": \"thu\", \"FFMC\": 91.1, \"DMC\": 88.2, \"DC\": 731.7, \"ISI\": 8.3, \"temp\": 22.8, \"RH\": 46, \"wind\": 4.0, \"rain\": 0.0, \"area\": 4.95, \"log_area\": 1.599387576580599, \"season\": \"fall\"}, {\"X\": 4, \"Y\": 5, \"month\": \"feb\", \"day\": \"sat\", \"FFMC\": 84.7, \"DMC\": 8.2, \"DC\": 55.0, \"ISI\": 2.9, \"temp\": 14.2, \"RH\": 46, \"wind\": 4.0, \"rain\": 0.0, \"area\": 0.0, \"log_area\": null, \"season\": \"winter\"}, {\"X\": 2, \"Y\": 2, \"month\": \"aug\", \"day\": \"thu\", \"FFMC\": 91.7, \"DMC\": 114.3, \"DC\": 661.3, \"ISI\": 6.3, \"temp\": 18.6, \"RH\": 44, \"wind\": 4.5, \"rain\": 0.0, \"area\": 0.0, \"log_area\": null, \"season\": \"summer\"}, {\"X\": 2, \"Y\": 2, \"month\": \"aug\", \"day\": \"sat\", \"FFMC\": 93.5, \"DMC\": 139.4, \"DC\": 594.2, \"ISI\": 20.3, \"temp\": 22.9, \"RH\": 31, \"wind\": 7.2, \"rain\": 0.0, \"area\": 15.45, \"log_area\": 2.7376090033437546, \"season\": \"summer\"}, {\"X\": 8, \"Y\": 6, \"month\": \"sep\", \"day\": \"tue\", \"FFMC\": 91.0, \"DMC\": 129.5, \"DC\": 692.6, \"ISI\": 7.0, \"temp\": 13.1, \"RH\": 63, \"wind\": 5.4, \"rain\": 0.0, \"area\": 0.0, \"log_area\": null, \"season\": \"fall\"}, {\"X\": 1, \"Y\": 3, \"month\": \"mar\", \"day\": \"mon\", \"FFMC\": 87.6, \"DMC\": 52.2, \"DC\": 103.8, \"ISI\": 5.0, \"temp\": 8.3, \"RH\": 72, \"wind\": 3.1, \"rain\": 0.0, \"area\": 0.0, \"log_area\": null, \"season\": \"spring\"}, {\"X\": 2, \"Y\": 2, \"month\": \"feb\", \"day\": \"mon\", \"FFMC\": 84.0, \"DMC\": 9.3, \"DC\": 34.0, \"ISI\": 2.1, \"temp\": 13.9, \"RH\": 40, \"wind\": 5.4, \"rain\": 0.0, \"area\": 0.0, \"log_area\": null, \"season\": \"winter\"}, {\"X\": 8, \"Y\": 5, \"month\": \"aug\", \"day\": \"wed\", \"FFMC\": 93.1, \"DMC\": 157.3, \"DC\": 666.7, \"ISI\": 13.5, \"temp\": 26.8, \"RH\": 25, \"wind\": 3.1, \"rain\": 0.0, \"area\": 0.68, \"log_area\": -0.3856624808119846, \"season\": \"summer\"}, {\"X\": 3, \"Y\": 4, \"month\": \"aug\", \"day\": \"thu\", \"FFMC\": 93.0, \"DMC\": 75.3, \"DC\": 466.6, \"ISI\": 7.7, \"temp\": 19.6, \"RH\": 36, \"wind\": 3.1, \"rain\": 0.0, \"area\": 0.0, \"log_area\": null, \"season\": \"summer\"}, {\"X\": 3, \"Y\": 4, \"month\": \"aug\", \"day\": \"sun\", \"FFMC\": 94.9, \"DMC\": 130.3, \"DC\": 587.1, \"ISI\": 14.1, \"temp\": 23.4, \"RH\": 40, \"wind\": 5.8, \"rain\": 0.0, \"area\": 1.29, \"log_area\": 0.25464221837358075, \"season\": \"summer\"}, {\"X\": 5, \"Y\": 4, \"month\": \"sep\", \"day\": \"thu\", \"FFMC\": 92.8, \"DMC\": 119.0, \"DC\": 783.5, \"ISI\": 7.5, \"temp\": 21.6, \"RH\": 28, \"wind\": 6.3, \"rain\": 0.0, \"area\": 4.41, \"log_area\": 1.4838746894587547, \"season\": \"fall\"}, {\"X\": 6, \"Y\": 5, \"month\": \"sep\", \"day\": \"tue\", \"FFMC\": 91.9, \"DMC\": 111.7, \"DC\": 770.3, \"ISI\": 6.5, \"temp\": 21.1, \"RH\": 35, \"wind\": 2.7, \"rain\": 0.0, \"area\": 5.65, \"log_area\": 1.7316555451583497, \"season\": \"fall\"}, {\"X\": 1, \"Y\": 2, \"month\": \"aug\", \"day\": \"wed\", \"FFMC\": 95.5, \"DMC\": 99.9, \"DC\": 513.3, \"ISI\": 13.2, \"temp\": 23.3, \"RH\": 31, \"wind\": 4.5, \"rain\": 0.0, \"area\": 0.55, \"log_area\": -0.5978370007556204, \"season\": \"summer\"}, {\"X\": 1, \"Y\": 2, \"month\": \"sep\", \"day\": \"sun\", \"FFMC\": 93.5, \"DMC\": 149.3, \"DC\": 728.6, \"ISI\": 8.1, \"temp\": 25.3, \"RH\": 36, \"wind\": 3.6, \"rain\": 0.0, \"area\": 0.0, \"log_area\": null, \"season\": \"fall\"}, {\"X\": 2, \"Y\": 5, \"month\": \"jun\", \"day\": \"thu\", \"FFMC\": 93.7, \"DMC\": 121.7, \"DC\": 350.2, \"ISI\": 18.0, \"temp\": 22.7, \"RH\": 40, \"wind\": 9.4, \"rain\": 0.0, \"area\": 3.19, \"log_area\": 1.1600209167967532, \"season\": \"summer\"}, {\"X\": 3, \"Y\": 4, \"month\": \"sep\", \"day\": \"sun\", \"FFMC\": 89.6, \"DMC\": 84.1, \"DC\": 714.3, \"ISI\": 5.7, \"temp\": 23.8, \"RH\": 35, \"wind\": 3.6, \"rain\": 0.0, \"area\": 5.18, \"log_area\": 1.6448050562713916, \"season\": \"fall\"}, {\"X\": 6, \"Y\": 5, \"month\": \"jun\", \"day\": \"mon\", \"FFMC\": 90.4, \"DMC\": 93.3, \"DC\": 298.1, \"ISI\": 7.5, \"temp\": 20.7, \"RH\": 25, \"wind\": 4.9, \"rain\": 0.0, \"area\": 0.0, \"log_area\": null, \"season\": \"summer\"}, {\"X\": 3, \"Y\": 5, \"month\": \"sep\", \"day\": \"thu\", \"FFMC\": 90.7, \"DMC\": 136.9, \"DC\": 822.8, \"ISI\": 6.8, \"temp\": 12.9, \"RH\": 39, \"wind\": 2.7, \"rain\": 0.0, \"area\": 2.18, \"log_area\": 0.7793248768009977, \"season\": \"fall\"}, {\"X\": 6, \"Y\": 3, \"month\": \"aug\", \"day\": \"thu\", \"FFMC\": 91.6, \"DMC\": 138.1, \"DC\": 621.7, \"ISI\": 6.3, \"temp\": 18.9, \"RH\": 41, \"wind\": 3.1, \"rain\": 0.0, \"area\": 10.34, \"log_area\": 2.336019869080283, \"season\": \"summer\"}, {\"X\": 4, \"Y\": 5, \"month\": \"aug\", \"day\": \"sun\", \"FFMC\": 92.0, \"DMC\": 203.2, \"DC\": 664.5, \"ISI\": 8.1, \"temp\": 10.4, \"RH\": 75, \"wind\": 0.9, \"rain\": 0.0, \"area\": 0.0, \"log_area\": null, \"season\": \"summer\"}, {\"X\": 1, \"Y\": 4, \"month\": \"sep\", \"day\": \"thu\", \"FFMC\": 92.8, \"DMC\": 119.0, \"DC\": 783.5, \"ISI\": 7.5, \"temp\": 16.8, \"RH\": 28, \"wind\": 4.0, \"rain\": 0.0, \"area\": 7.21, \"log_area\": 1.9754689512968577, \"season\": \"fall\"}, {\"X\": 2, \"Y\": 2, \"month\": \"mar\", \"day\": \"sun\", \"FFMC\": 89.3, \"DMC\": 51.3, \"DC\": 102.2, \"ISI\": 9.6, \"temp\": 11.5, \"RH\": 39, \"wind\": 5.8, \"rain\": 0.0, \"area\": 0.0, \"log_area\": null, \"season\": \"spring\"}, {\"X\": 5, \"Y\": 4, \"month\": \"sep\", \"day\": \"fri\", \"FFMC\": 92.1, \"DMC\": 99.0, \"DC\": 745.3, \"ISI\": 9.6, \"temp\": 12.8, \"RH\": 64, \"wind\": 3.6, \"rain\": 0.0, \"area\": 1.64, \"log_area\": 0.494696241836107, \"season\": \"fall\"}, {\"X\": 6, \"Y\": 5, \"month\": \"sep\", \"day\": \"thu\", \"FFMC\": 88.1, \"DMC\": 53.3, \"DC\": 726.9, \"ISI\": 5.4, \"temp\": 13.7, \"RH\": 56, \"wind\": 1.8, \"rain\": 0.0, \"area\": 4.42, \"log_area\": 1.4861396960896067, \"season\": \"fall\"}, {\"X\": 8, \"Y\": 6, \"month\": \"aug\", \"day\": \"sat\", \"FFMC\": 94.2, \"DMC\": 117.2, \"DC\": 581.1, \"ISI\": 11.0, \"temp\": 23.9, \"RH\": 41, \"wind\": 2.2, \"rain\": 0.0, \"area\": 8.02, \"log_area\": 2.081938421878423, \"season\": \"summer\"}, {\"X\": 6, \"Y\": 5, \"month\": \"jun\", \"day\": \"mon\", \"FFMC\": 90.4, \"DMC\": 93.3, \"DC\": 298.1, \"ISI\": 7.5, \"temp\": 19.1, \"RH\": 39, \"wind\": 5.4, \"rain\": 0.0, \"area\": 3.52, \"log_area\": 1.2584609896100056, \"season\": \"summer\"}, {\"X\": 6, \"Y\": 4, \"month\": \"jun\", \"day\": \"sun\", \"FFMC\": 90.4, \"DMC\": 89.5, \"DC\": 290.8, \"ISI\": 6.4, \"temp\": 14.3, \"RH\": 46, \"wind\": 1.8, \"rain\": 0.0, \"area\": 0.9, \"log_area\": -0.10536051565782628, \"season\": \"summer\"}, {\"X\": 3, \"Y\": 4, \"month\": \"sep\", \"day\": \"wed\", \"FFMC\": 91.2, \"DMC\": 134.7, \"DC\": 817.5, \"ISI\": 7.2, \"temp\": 18.5, \"RH\": 30, \"wind\": 2.7, \"rain\": 0.0, \"area\": 0.0, \"log_area\": null, \"season\": \"fall\"}, {\"X\": 7, \"Y\": 4, \"month\": \"aug\", \"day\": \"sun\", \"FFMC\": 91.6, \"DMC\": 181.3, \"DC\": 613.0, \"ISI\": 7.6, \"temp\": 19.3, \"RH\": 61, \"wind\": 4.9, \"rain\": 0.0, \"area\": 0.0, \"log_area\": null, \"season\": \"summer\"}, {\"X\": 5, \"Y\": 6, \"month\": \"sep\", \"day\": \"mon\", \"FFMC\": 90.9, \"DMC\": 126.5, \"DC\": 686.5, \"ISI\": 7.0, \"temp\": 14.7, \"RH\": 70, \"wind\": 3.6, \"rain\": 0.0, \"area\": 0.0, \"log_area\": null, \"season\": \"fall\"}, {\"X\": 1, \"Y\": 2, \"month\": \"sep\", \"day\": \"thu\", \"FFMC\": 92.9, \"DMC\": 137.0, \"DC\": 706.4, \"ISI\": 9.2, \"temp\": 25.4, \"RH\": 27, \"wind\": 2.2, \"rain\": 0.0, \"area\": 0.0, \"log_area\": null, \"season\": \"fall\"}, {\"X\": 4, \"Y\": 5, \"month\": \"sep\", \"day\": \"mon\", \"FFMC\": 88.6, \"DMC\": 91.8, \"DC\": 709.9, \"ISI\": 7.1, \"temp\": 17.4, \"RH\": 56, \"wind\": 5.4, \"rain\": 0.0, \"area\": 0.0, \"log_area\": null, \"season\": \"fall\"}, {\"X\": 6, \"Y\": 5, \"month\": \"sep\", \"day\": \"fri\", \"FFMC\": 92.5, \"DMC\": 122.0, \"DC\": 789.7, \"ISI\": 10.2, \"temp\": 18.4, \"RH\": 42, \"wind\": 2.2, \"rain\": 0.0, \"area\": 1.09, \"log_area\": 0.08617769624105241, \"season\": \"fall\"}, {\"X\": 4, \"Y\": 6, \"month\": \"sep\", \"day\": \"thu\", \"FFMC\": 93.7, \"DMC\": 80.9, \"DC\": 685.2, \"ISI\": 17.9, \"temp\": 17.6, \"RH\": 42, \"wind\": 3.1, \"rain\": 0.0, \"area\": 0.0, \"log_area\": null, \"season\": \"fall\"}, {\"X\": 5, \"Y\": 5, \"month\": \"mar\", \"day\": \"sat\", \"FFMC\": 91.7, \"DMC\": 35.8, \"DC\": 80.8, \"ISI\": 7.8, \"temp\": 15.1, \"RH\": 27, \"wind\": 5.4, \"rain\": 0.0, \"area\": 0.0, \"log_area\": null, \"season\": \"spring\"}, {\"X\": 3, \"Y\": 6, \"month\": \"jun\", \"day\": \"fri\", \"FFMC\": 91.1, \"DMC\": 94.1, \"DC\": 232.1, \"ISI\": 7.1, \"temp\": 19.2, \"RH\": 38, \"wind\": 4.5, \"rain\": 0.0, \"area\": 0.0, \"log_area\": null, \"season\": \"summer\"}, {\"X\": 4, \"Y\": 5, \"month\": \"sep\", \"day\": \"wed\", \"FFMC\": 92.9, \"DMC\": 133.3, \"DC\": 699.6, \"ISI\": 9.2, \"temp\": 24.3, \"RH\": 25, \"wind\": 4.0, \"rain\": 0.0, \"area\": 9.41, \"log_area\": 2.2417729535972883, \"season\": \"fall\"}, {\"X\": 9, \"Y\": 4, \"month\": \"jun\", \"day\": \"sat\", \"FFMC\": 90.5, \"DMC\": 61.1, \"DC\": 252.6, \"ISI\": 9.4, \"temp\": 24.5, \"RH\": 50, \"wind\": 3.1, \"rain\": 0.0, \"area\": 70.32, \"log_area\": 4.253056253376921, \"season\": \"summer\"}, {\"X\": 3, \"Y\": 4, \"month\": \"mar\", \"day\": \"sat\", \"FFMC\": 91.7, \"DMC\": 35.8, \"DC\": 80.8, \"ISI\": 7.8, \"temp\": 11.6, \"RH\": 30, \"wind\": 6.3, \"rain\": 0.0, \"area\": 0.0, \"log_area\": null, \"season\": \"spring\"}, {\"X\": 4, \"Y\": 4, \"month\": \"sep\", \"day\": \"fri\", \"FFMC\": 92.1, \"DMC\": 99.0, \"DC\": 745.3, \"ISI\": 9.6, \"temp\": 20.8, \"RH\": 35, \"wind\": 4.9, \"rain\": 0.0, \"area\": 13.06, \"log_area\": 2.569554123848285, \"season\": \"fall\"}, {\"X\": 3, \"Y\": 3, \"month\": \"sep\", \"day\": \"sat\", \"FFMC\": 92.2, \"DMC\": 102.3, \"DC\": 751.5, \"ISI\": 8.4, \"temp\": 24.2, \"RH\": 27, \"wind\": 3.1, \"rain\": 0.0, \"area\": 6.58, \"log_area\": 1.884034745337226, \"season\": \"fall\"}, {\"X\": 4, \"Y\": 5, \"month\": \"sep\", \"day\": \"tue\", \"FFMC\": 91.1, \"DMC\": 132.3, \"DC\": 812.1, \"ISI\": 12.5, \"temp\": 15.9, \"RH\": 38, \"wind\": 5.4, \"rain\": 0.0, \"area\": 1.75, \"log_area\": 0.5596157879354227, \"season\": \"fall\"}, {\"X\": 8, \"Y\": 6, \"month\": \"jul\", \"day\": \"tue\", \"FFMC\": 92.3, \"DMC\": 88.8, \"DC\": 440.9, \"ISI\": 8.5, \"temp\": 17.1, \"RH\": 67, \"wind\": 3.6, \"rain\": 0.0, \"area\": 6.57, \"log_area\": 1.8825138324965192, \"season\": \"summer\"}, {\"X\": 7, \"Y\": 4, \"month\": \"sep\", \"day\": \"mon\", \"FFMC\": 90.9, \"DMC\": 126.5, \"DC\": 686.5, \"ISI\": 7.0, \"temp\": 19.4, \"RH\": 48, \"wind\": 1.3, \"rain\": 0.0, \"area\": 0.0, \"log_area\": null, \"season\": \"fall\"}, {\"X\": 2, \"Y\": 5, \"month\": \"sep\", \"day\": \"mon\", \"FFMC\": 90.9, \"DMC\": 126.5, \"DC\": 686.5, \"ISI\": 7.0, \"temp\": 21.9, \"RH\": 39, \"wind\": 1.8, \"rain\": 0.0, \"area\": 0.47, \"log_area\": -0.7550225842780328, \"season\": \"fall\"}, {\"X\": 3, \"Y\": 4, \"month\": \"sep\", \"day\": \"tue\", \"FFMC\": 91.0, \"DMC\": 129.5, \"DC\": 692.6, \"ISI\": 7.0, \"temp\": 13.9, \"RH\": 59, \"wind\": 6.3, \"rain\": 0.0, \"area\": 11.24, \"log_area\": 2.419478844465545, \"season\": \"fall\"}, {\"X\": 2, \"Y\": 2, \"month\": \"aug\", \"day\": \"sat\", \"FFMC\": 93.7, \"DMC\": 231.1, \"DC\": 715.1, \"ISI\": 8.4, \"temp\": 21.9, \"RH\": 42, \"wind\": 2.2, \"rain\": 0.0, \"area\": 174.63, \"log_area\": 5.162669449951753, \"season\": \"summer\"}, {\"X\": 6, \"Y\": 5, \"month\": \"sep\", \"day\": \"wed\", \"FFMC\": 92.9, \"DMC\": 133.3, \"DC\": 699.6, \"ISI\": 9.2, \"temp\": 26.4, \"RH\": 21, \"wind\": 4.5, \"rain\": 0.0, \"area\": 0.0, \"log_area\": null, \"season\": \"fall\"}, {\"X\": 1, \"Y\": 2, \"month\": \"sep\", \"day\": \"thu\", \"FFMC\": 92.9, \"DMC\": 137.0, \"DC\": 706.4, \"ISI\": 9.2, \"temp\": 22.4, \"RH\": 34, \"wind\": 2.2, \"rain\": 0.0, \"area\": 0.0, \"log_area\": null, \"season\": \"fall\"}, {\"X\": 4, \"Y\": 4, \"month\": \"aug\", \"day\": \"tue\", \"FFMC\": 93.7, \"DMC\": 102.2, \"DC\": 550.3, \"ISI\": 14.6, \"temp\": 22.1, \"RH\": 54, \"wind\": 7.6, \"rain\": 0.0, \"area\": 0.79, \"log_area\": -0.23572233352106983, \"season\": \"summer\"}, {\"X\": 2, \"Y\": 4, \"month\": \"aug\", \"day\": \"fri\", \"FFMC\": 91.6, \"DMC\": 112.4, \"DC\": 573.0, \"ISI\": 8.9, \"temp\": 21.4, \"RH\": 42, \"wind\": 3.1, \"rain\": 0.0, \"area\": 4.25, \"log_area\": 1.4469189829363254, \"season\": \"summer\"}, {\"X\": 4, \"Y\": 3, \"month\": \"mar\", \"day\": \"mon\", \"FFMC\": 87.6, \"DMC\": 52.2, \"DC\": 103.8, \"ISI\": 5.0, \"temp\": 11.0, \"RH\": 46, \"wind\": 5.8, \"rain\": 0.0, \"area\": 36.85, \"log_area\": 3.6068556186353455, \"season\": \"spring\"}, {\"X\": 7, \"Y\": 4, \"month\": \"aug\", \"day\": \"sun\", \"FFMC\": 91.8, \"DMC\": 175.1, \"DC\": 700.7, \"ISI\": 13.8, \"temp\": 21.9, \"RH\": 73, \"wind\": 7.6, \"rain\": 1.0, \"area\": 0.0, \"log_area\": null, \"season\": \"summer\"}, {\"X\": 7, \"Y\": 4, \"month\": \"aug\", \"day\": \"sat\", \"FFMC\": 91.8, \"DMC\": 170.9, \"DC\": 692.3, \"ISI\": 13.7, \"temp\": 23.7, \"RH\": 40, \"wind\": 1.8, \"rain\": 0.0, \"area\": 1.38, \"log_area\": 0.3220834991691132, \"season\": \"summer\"}, {\"X\": 4, \"Y\": 5, \"month\": \"feb\", \"day\": \"sun\", \"FFMC\": 85.0, \"DMC\": 9.0, \"DC\": 56.9, \"ISI\": 3.5, \"temp\": 10.1, \"RH\": 62, \"wind\": 1.8, \"rain\": 0.0, \"area\": 51.78, \"log_area\": 3.947003974323392, \"season\": \"winter\"}, {\"X\": 6, \"Y\": 5, \"month\": \"mar\", \"day\": \"wed\", \"FFMC\": 93.4, \"DMC\": 17.3, \"DC\": 28.3, \"ISI\": 9.9, \"temp\": 13.8, \"RH\": 24, \"wind\": 5.8, \"rain\": 0.0, \"area\": 0.0, \"log_area\": null, \"season\": \"spring\"}, {\"X\": 7, \"Y\": 4, \"month\": \"sep\", \"day\": \"fri\", \"FFMC\": 92.1, \"DMC\": 99.0, \"DC\": 745.3, \"ISI\": 9.6, \"temp\": 18.7, \"RH\": 50, \"wind\": 2.2, \"rain\": 0.0, \"area\": 5.97, \"log_area\": 1.7867469274045107, \"season\": \"fall\"}, {\"X\": 2, \"Y\": 4, \"month\": \"sep\", \"day\": \"sat\", \"FFMC\": 92.5, \"DMC\": 121.1, \"DC\": 674.4, \"ISI\": 8.6, \"temp\": 24.1, \"RH\": 29, \"wind\": 4.5, \"rain\": 0.0, \"area\": 0.0, \"log_area\": null, \"season\": \"fall\"}, {\"X\": 8, \"Y\": 6, \"month\": \"sep\", \"day\": \"thu\", \"FFMC\": 93.7, \"DMC\": 80.9, \"DC\": 685.2, \"ISI\": 17.9, \"temp\": 23.7, \"RH\": 25, \"wind\": 4.5, \"rain\": 0.0, \"area\": 1.12, \"log_area\": 0.11332868530700327, \"season\": \"fall\"}, {\"X\": 1, \"Y\": 4, \"month\": \"sep\", \"day\": \"tue\", \"FFMC\": 91.0, \"DMC\": 129.5, \"DC\": 692.6, \"ISI\": 7.0, \"temp\": 21.7, \"RH\": 38, \"wind\": 2.2, \"rain\": 0.0, \"area\": 0.43, \"log_area\": -0.843970070294529, \"season\": \"fall\"}, {\"X\": 2, \"Y\": 2, \"month\": \"sep\", \"day\": \"fri\", \"FFMC\": 92.4, \"DMC\": 117.9, \"DC\": 668.0, \"ISI\": 12.2, \"temp\": 19.6, \"RH\": 33, \"wind\": 5.4, \"rain\": 0.0, \"area\": 0.0, \"log_area\": null, \"season\": \"fall\"}, {\"X\": 8, \"Y\": 6, \"month\": \"mar\", \"day\": \"fri\", \"FFMC\": 91.7, \"DMC\": 33.3, \"DC\": 77.5, \"ISI\": 9.0, \"temp\": 8.3, \"RH\": 97, \"wind\": 4.0, \"rain\": 0.2, \"area\": 0.0, \"log_area\": null, \"season\": \"spring\"}, {\"X\": 6, \"Y\": 3, \"month\": \"sep\", \"day\": \"mon\", \"FFMC\": 91.5, \"DMC\": 130.1, \"DC\": 807.1, \"ISI\": 7.5, \"temp\": 20.6, \"RH\": 37, \"wind\": 1.8, \"rain\": 0.0, \"area\": 0.0, \"log_area\": null, \"season\": \"fall\"}, {\"X\": 4, \"Y\": 3, \"month\": \"sep\", \"day\": \"tue\", \"FFMC\": 90.3, \"DMC\": 80.7, \"DC\": 730.2, \"ISI\": 6.3, \"temp\": 17.8, \"RH\": 63, \"wind\": 4.9, \"rain\": 0.0, \"area\": 0.0, \"log_area\": null, \"season\": \"fall\"}, {\"X\": 6, \"Y\": 5, \"month\": \"may\", \"day\": \"sat\", \"FFMC\": 85.1, \"DMC\": 28.0, \"DC\": 113.8, \"ISI\": 3.5, \"temp\": 11.3, \"RH\": 94, \"wind\": 4.9, \"rain\": 0.0, \"area\": 0.0, \"log_area\": null, \"season\": \"spring\"}, {\"X\": 9, \"Y\": 4, \"month\": \"sep\", \"day\": \"tue\", \"FFMC\": 84.4, \"DMC\": 73.4, \"DC\": 671.9, \"ISI\": 3.2, \"temp\": 24.3, \"RH\": 36, \"wind\": 3.1, \"rain\": 0.0, \"area\": 105.66, \"log_area\": 4.6602263917361695, \"season\": \"fall\"}, {\"X\": 5, \"Y\": 4, \"month\": \"aug\", \"day\": \"thu\", \"FFMC\": 94.8, \"DMC\": 222.4, \"DC\": 698.6, \"ISI\": 13.9, \"temp\": 20.3, \"RH\": 42, \"wind\": 2.7, \"rain\": 0.0, \"area\": 0.0, \"log_area\": null, \"season\": \"summer\"}, {\"X\": 4, \"Y\": 3, \"month\": \"aug\", \"day\": \"sun\", \"FFMC\": 90.2, \"DMC\": 99.6, \"DC\": 631.2, \"ISI\": 6.3, \"temp\": 21.5, \"RH\": 34, \"wind\": 2.2, \"rain\": 0.0, \"area\": 0.0, \"log_area\": null, \"season\": \"summer\"}, {\"X\": 7, \"Y\": 4, \"month\": \"oct\", \"day\": \"tue\", \"FFMC\": 90.6, \"DMC\": 35.4, \"DC\": 669.1, \"ISI\": 6.7, \"temp\": 18.0, \"RH\": 33, \"wind\": 0.9, \"rain\": 0.0, \"area\": 0.0, \"log_area\": null, \"season\": \"fall\"}, {\"X\": 6, \"Y\": 4, \"month\": \"mar\", \"day\": \"wed\", \"FFMC\": 89.2, \"DMC\": 27.9, \"DC\": 70.8, \"ISI\": 6.3, \"temp\": 15.9, \"RH\": 35, \"wind\": 4.0, \"rain\": 0.0, \"area\": 0.0, \"log_area\": null, \"season\": \"spring\"}, {\"X\": 3, \"Y\": 4, \"month\": \"aug\", \"day\": \"tue\", \"FFMC\": 92.1, \"DMC\": 152.6, \"DC\": 658.2, \"ISI\": 14.3, \"temp\": 21.0, \"RH\": 32, \"wind\": 3.1, \"rain\": 0.0, \"area\": 0.0, \"log_area\": null, \"season\": \"summer\"}, {\"X\": 5, \"Y\": 4, \"month\": \"aug\", \"day\": \"tue\", \"FFMC\": 95.1, \"DMC\": 141.3, \"DC\": 605.8, \"ISI\": 17.7, \"temp\": 24.1, \"RH\": 43, \"wind\": 6.3, \"rain\": 0.0, \"area\": 2.0, \"log_area\": 0.6931471805599453, \"season\": \"summer\"}, {\"X\": 2, \"Y\": 4, \"month\": \"sep\", \"day\": \"sun\", \"FFMC\": 50.4, \"DMC\": 46.2, \"DC\": 706.6, \"ISI\": 0.4, \"temp\": 12.2, \"RH\": 78, \"wind\": 6.3, \"rain\": 0.0, \"area\": 0.0, \"log_area\": null, \"season\": \"fall\"}, {\"X\": 7, \"Y\": 4, \"month\": \"aug\", \"day\": \"sun\", \"FFMC\": 91.4, \"DMC\": 142.4, \"DC\": 601.4, \"ISI\": 10.6, \"temp\": 16.3, \"RH\": 60, \"wind\": 5.4, \"rain\": 0.0, \"area\": 0.0, \"log_area\": null, \"season\": \"summer\"}, {\"X\": 7, \"Y\": 4, \"month\": \"oct\", \"day\": \"mon\", \"FFMC\": 91.7, \"DMC\": 48.5, \"DC\": 696.1, \"ISI\": 11.1, \"temp\": 16.8, \"RH\": 45, \"wind\": 4.5, \"rain\": 0.0, \"area\": 6.83, \"log_area\": 1.9213246735826988, \"season\": \"fall\"}, {\"X\": 6, \"Y\": 3, \"month\": \"sep\", \"day\": \"fri\", \"FFMC\": 92.5, \"DMC\": 122.0, \"DC\": 789.7, \"ISI\": 10.2, \"temp\": 15.9, \"RH\": 55, \"wind\": 3.6, \"rain\": 0.0, \"area\": 0.0, \"log_area\": null, \"season\": \"fall\"}, {\"X\": 8, \"Y\": 6, \"month\": \"mar\", \"day\": \"sun\", \"FFMC\": 89.3, \"DMC\": 51.3, \"DC\": 102.2, \"ISI\": 9.6, \"temp\": 11.5, \"RH\": 39, \"wind\": 5.8, \"rain\": 0.0, \"area\": 7.19, \"log_area\": 1.9726911717329554, \"season\": \"spring\"}, {\"X\": 4, \"Y\": 4, \"month\": \"sep\", \"day\": \"sat\", \"FFMC\": 92.5, \"DMC\": 88.0, \"DC\": 698.6, \"ISI\": 7.1, \"temp\": 19.6, \"RH\": 48, \"wind\": 2.7, \"rain\": 0.0, \"area\": 0.0, \"log_area\": null, \"season\": \"fall\"}, {\"X\": 2, \"Y\": 5, \"month\": \"oct\", \"day\": \"sun\", \"FFMC\": 92.6, \"DMC\": 46.5, \"DC\": 691.8, \"ISI\": 8.8, \"temp\": 15.4, \"RH\": 35, \"wind\": 0.9, \"rain\": 0.0, \"area\": 0.0, \"log_area\": null, \"season\": \"fall\"}, {\"X\": 1, \"Y\": 4, \"month\": \"sep\", \"day\": \"fri\", \"FFMC\": 92.5, \"DMC\": 122.0, \"DC\": 789.7, \"ISI\": 10.2, \"temp\": 21.1, \"RH\": 39, \"wind\": 2.2, \"rain\": 0.0, \"area\": 8.12, \"log_area\": 2.0943301541735866, \"season\": \"fall\"}, {\"X\": 2, \"Y\": 4, \"month\": \"aug\", \"day\": \"sun\", \"FFMC\": 91.8, \"DMC\": 175.1, \"DC\": 700.7, \"ISI\": 13.8, \"temp\": 22.4, \"RH\": 54, \"wind\": 7.6, \"rain\": 0.0, \"area\": 2.87, \"log_area\": 1.0543120297715298, \"season\": \"summer\"}, {\"X\": 2, \"Y\": 5, \"month\": \"aug\", \"day\": \"thu\", \"FFMC\": 87.5, \"DMC\": 77.0, \"DC\": 694.8, \"ISI\": 5.0, \"temp\": 22.3, \"RH\": 46, \"wind\": 4.0, \"rain\": 0.0, \"area\": 0.0, \"log_area\": null, \"season\": \"summer\"}, {\"X\": 2, \"Y\": 2, \"month\": \"aug\", \"day\": \"tue\", \"FFMC\": 92.1, \"DMC\": 152.6, \"DC\": 658.2, \"ISI\": 14.3, \"temp\": 21.8, \"RH\": 56, \"wind\": 3.1, \"rain\": 0.0, \"area\": 0.52, \"log_area\": -0.6539264674066639, \"season\": \"summer\"}, {\"X\": 7, \"Y\": 4, \"month\": \"feb\", \"day\": \"mon\", \"FFMC\": 84.7, \"DMC\": 9.5, \"DC\": 58.3, \"ISI\": 4.1, \"temp\": 7.5, \"RH\": 71, \"wind\": 6.3, \"rain\": 0.0, \"area\": 9.96, \"log_area\": 2.298577071596507, \"season\": \"winter\"}, {\"X\": 4, \"Y\": 4, \"month\": \"aug\", \"day\": \"tue\", \"FFMC\": 95.1, \"DMC\": 141.3, \"DC\": 605.8, \"ISI\": 17.7, \"temp\": 19.4, \"RH\": 71, \"wind\": 7.6, \"rain\": 0.0, \"area\": 46.7, \"log_area\": 3.8437441646748516, \"season\": \"summer\"}, {\"X\": 1, \"Y\": 5, \"month\": \"sep\", \"day\": \"sat\", \"FFMC\": 93.4, \"DMC\": 145.4, \"DC\": 721.4, \"ISI\": 8.1, \"temp\": 29.6, \"RH\": 27, \"wind\": 2.7, \"rain\": 0.0, \"area\": 1.46, \"log_area\": 0.37843643572024505, \"season\": \"fall\"}, {\"X\": 3, \"Y\": 4, \"month\": \"jul\", \"day\": \"wed\", \"FFMC\": 91.9, \"DMC\": 133.6, \"DC\": 520.5, \"ISI\": 8.0, \"temp\": 14.2, \"RH\": 58, \"wind\": 4.0, \"rain\": 0.0, \"area\": 0.0, \"log_area\": null, \"season\": \"summer\"}, {\"X\": 1, \"Y\": 4, \"month\": \"aug\", \"day\": \"sat\", \"FFMC\": 94.4, \"DMC\": 146.0, \"DC\": 614.7, \"ISI\": 11.3, \"temp\": 25.6, \"RH\": 42, \"wind\": 4.0, \"rain\": 0.0, \"area\": 0.0, \"log_area\": null, \"season\": \"summer\"}, {\"X\": 4, \"Y\": 5, \"month\": \"mar\", \"day\": \"fri\", \"FFMC\": 91.2, \"DMC\": 48.3, \"DC\": 97.8, \"ISI\": 12.5, \"temp\": 15.8, \"RH\": 27, \"wind\": 7.6, \"rain\": 0.0, \"area\": 0.0, \"log_area\": null, \"season\": \"spring\"}, {\"X\": 5, \"Y\": 4, \"month\": \"apr\", \"day\": \"sun\", \"FFMC\": 91.0, \"DMC\": 14.6, \"DC\": 25.6, \"ISI\": 12.3, \"temp\": 17.6, \"RH\": 27, \"wind\": 5.8, \"rain\": 0.0, \"area\": 0.0, \"log_area\": null, \"season\": \"spring\"}, {\"X\": 2, \"Y\": 4, \"month\": \"aug\", \"day\": \"wed\", \"FFMC\": 92.1, \"DMC\": 111.2, \"DC\": 654.1, \"ISI\": 9.6, \"temp\": 20.5, \"RH\": 35, \"wind\": 4.0, \"rain\": 0.0, \"area\": 1.64, \"log_area\": 0.494696241836107, \"season\": \"summer\"}, {\"X\": 4, \"Y\": 4, \"month\": \"aug\", \"day\": \"thu\", \"FFMC\": 95.8, \"DMC\": 152.0, \"DC\": 624.1, \"ISI\": 13.8, \"temp\": 32.4, \"RH\": 21, \"wind\": 4.5, \"rain\": 0.0, \"area\": 0.0, \"log_area\": null, \"season\": \"summer\"}, {\"X\": 6, \"Y\": 4, \"month\": \"feb\", \"day\": \"tue\", \"FFMC\": 75.1, \"DMC\": 4.4, \"DC\": 16.2, \"ISI\": 1.9, \"temp\": 5.1, \"RH\": 77, \"wind\": 5.4, \"rain\": 0.0, \"area\": 2.14, \"log_area\": 0.7608058290337602, \"season\": \"winter\"}, {\"X\": 8, \"Y\": 6, \"month\": \"aug\", \"day\": \"tue\", \"FFMC\": 92.1, \"DMC\": 152.6, \"DC\": 658.2, \"ISI\": 14.3, \"temp\": 20.1, \"RH\": 58, \"wind\": 4.5, \"rain\": 0.0, \"area\": 9.27, \"log_area\": 2.2267833795777636, \"season\": \"summer\"}, {\"X\": 5, \"Y\": 4, \"month\": \"mar\", \"day\": \"mon\", \"FFMC\": 90.1, \"DMC\": 39.7, \"DC\": 86.6, \"ISI\": 6.2, \"temp\": 13.2, \"RH\": 40, \"wind\": 5.4, \"rain\": 0.0, \"area\": 0.95, \"log_area\": -0.05129329438755058, \"season\": \"spring\"}, {\"X\": 4, \"Y\": 5, \"month\": \"sep\", \"day\": \"thu\", \"FFMC\": 92.9, \"DMC\": 137.0, \"DC\": 706.4, \"ISI\": 9.2, \"temp\": 22.1, \"RH\": 34, \"wind\": 1.8, \"rain\": 0.0, \"area\": 14.57, \"log_area\": 2.6789646202071133, \"season\": \"fall\"}, {\"X\": 4, \"Y\": 4, \"month\": \"dec\", \"day\": \"mon\", \"FFMC\": 85.4, \"DMC\": 25.4, \"DC\": 349.7, \"ISI\": 2.6, \"temp\": 4.6, \"RH\": 21, \"wind\": 8.5, \"rain\": 0.0, \"area\": 22.03, \"log_area\": 3.092405160814252, \"season\": \"winter\"}, {\"X\": 6, \"Y\": 5, \"month\": \"feb\", \"day\": \"mon\", \"FFMC\": 84.1, \"DMC\": 4.6, \"DC\": 46.7, \"ISI\": 2.2, \"temp\": 5.3, \"RH\": 68, \"wind\": 1.8, \"rain\": 0.0, \"area\": 0.0, \"log_area\": null, \"season\": \"winter\"}, {\"X\": 4, \"Y\": 4, \"month\": \"sep\", \"day\": \"wed\", \"FFMC\": 92.6, \"DMC\": 115.4, \"DC\": 777.1, \"ISI\": 8.8, \"temp\": 19.7, \"RH\": 41, \"wind\": 1.8, \"rain\": 0.0, \"area\": 1.58, \"log_area\": 0.4574248470388755, \"season\": \"fall\"}, {\"X\": 2, \"Y\": 4, \"month\": \"aug\", \"day\": \"sun\", \"FFMC\": 92.0, \"DMC\": 203.2, \"DC\": 664.5, \"ISI\": 8.1, \"temp\": 24.9, \"RH\": 42, \"wind\": 5.4, \"rain\": 0.0, \"area\": 2.44, \"log_area\": 0.8919980393051105, \"season\": \"summer\"}, {\"X\": 7, \"Y\": 4, \"month\": \"sep\", \"day\": \"sat\", \"FFMC\": 91.2, \"DMC\": 124.4, \"DC\": 795.3, \"ISI\": 8.5, \"temp\": 21.5, \"RH\": 28, \"wind\": 4.5, \"rain\": 0.0, \"area\": 15.64, \"log_area\": 2.7498317351171653, \"season\": \"fall\"}, {\"X\": 2, \"Y\": 2, \"month\": \"aug\", \"day\": \"mon\", \"FFMC\": 91.1, \"DMC\": 103.2, \"DC\": 638.8, \"ISI\": 5.8, \"temp\": 23.1, \"RH\": 31, \"wind\": 3.1, \"rain\": 0.0, \"area\": 0.0, \"log_area\": null, \"season\": \"summer\"}, {\"X\": 1, \"Y\": 4, \"month\": \"sep\", \"day\": \"sat\", \"FFMC\": 92.2, \"DMC\": 102.3, \"DC\": 751.5, \"ISI\": 8.4, \"temp\": 24.2, \"RH\": 27, \"wind\": 3.1, \"rain\": 0.0, \"area\": 0.0, \"log_area\": null, \"season\": \"fall\"}, {\"X\": 1, \"Y\": 2, \"month\": \"aug\", \"day\": \"fri\", \"FFMC\": 91.0, \"DMC\": 166.9, \"DC\": 752.6, \"ISI\": 7.1, \"temp\": 25.9, \"RH\": 41, \"wind\": 3.6, \"rain\": 0.0, \"area\": 0.0, \"log_area\": null, \"season\": \"summer\"}, {\"X\": 5, \"Y\": 5, \"month\": \"mar\", \"day\": \"thu\", \"FFMC\": 90.9, \"DMC\": 18.9, \"DC\": 30.6, \"ISI\": 8.0, \"temp\": 11.6, \"RH\": 48, \"wind\": 5.4, \"rain\": 0.0, \"area\": 0.0, \"log_area\": null, \"season\": \"spring\"}, {\"X\": 6, \"Y\": 5, \"month\": \"mar\", \"day\": \"fri\", \"FFMC\": 91.2, \"DMC\": 48.3, \"DC\": 97.8, \"ISI\": 12.5, \"temp\": 14.6, \"RH\": 26, \"wind\": 9.4, \"rain\": 0.0, \"area\": 2.53, \"log_area\": 0.9282193027394288, \"season\": \"spring\"}, {\"X\": 9, \"Y\": 9, \"month\": \"feb\", \"day\": \"fri\", \"FFMC\": 86.6, \"DMC\": 13.2, \"DC\": 43.0, \"ISI\": 5.3, \"temp\": 15.7, \"RH\": 43, \"wind\": 3.1, \"rain\": 0.0, \"area\": 0.0, \"log_area\": null, \"season\": \"winter\"}, {\"X\": 2, \"Y\": 5, \"month\": \"jul\", \"day\": \"sat\", \"FFMC\": 91.6, \"DMC\": 104.2, \"DC\": 474.9, \"ISI\": 9.0, \"temp\": 18.7, \"RH\": 53, \"wind\": 1.8, \"rain\": 0.0, \"area\": 0.0, \"log_area\": null, \"season\": \"summer\"}, {\"X\": 7, \"Y\": 4, \"month\": \"feb\", \"day\": \"fri\", \"FFMC\": 84.6, \"DMC\": 3.2, \"DC\": 43.6, \"ISI\": 3.3, \"temp\": 8.2, \"RH\": 53, \"wind\": 9.4, \"rain\": 0.0, \"area\": 4.62, \"log_area\": 1.5303947050936475, \"season\": \"winter\"}, {\"X\": 5, \"Y\": 4, \"month\": \"sep\", \"day\": \"fri\", \"FFMC\": 92.1, \"DMC\": 99.0, \"DC\": 745.3, \"ISI\": 9.6, \"temp\": 10.1, \"RH\": 75, \"wind\": 3.6, \"rain\": 0.0, \"area\": 3.71, \"log_area\": 1.3110318766193438, \"season\": \"fall\"}, {\"X\": 3, \"Y\": 4, \"month\": \"mar\", \"day\": \"mon\", \"FFMC\": 90.1, \"DMC\": 39.7, \"DC\": 86.6, \"ISI\": 6.2, \"temp\": 10.6, \"RH\": 30, \"wind\": 4.0, \"rain\": 0.0, \"area\": 0.0, \"log_area\": null, \"season\": \"spring\"}, {\"X\": 7, \"Y\": 3, \"month\": \"mar\", \"day\": \"mon\", \"FFMC\": 87.6, \"DMC\": 52.2, \"DC\": 103.8, \"ISI\": 5.0, \"temp\": 11.0, \"RH\": 46, \"wind\": 5.8, \"rain\": 0.0, \"area\": 27.35, \"log_area\": 3.3087165288679903, \"season\": \"spring\"}, {\"X\": 7, \"Y\": 4, \"month\": \"sep\", \"day\": \"fri\", \"FFMC\": 92.1, \"DMC\": 99.0, \"DC\": 745.3, \"ISI\": 9.6, \"temp\": 19.8, \"RH\": 47, \"wind\": 2.7, \"rain\": 0.0, \"area\": 1.72, \"log_area\": 0.5423242908253617, \"season\": \"fall\"}, {\"X\": 6, \"Y\": 3, \"month\": \"sep\", \"day\": \"fri\", \"FFMC\": 92.5, \"DMC\": 122.0, \"DC\": 789.7, \"ISI\": 10.2, \"temp\": 19.7, \"RH\": 39, \"wind\": 2.7, \"rain\": 0.0, \"area\": 0.0, \"log_area\": null, \"season\": \"fall\"}, {\"X\": 1, \"Y\": 3, \"month\": \"sep\", \"day\": \"sun\", \"FFMC\": 92.4, \"DMC\": 124.1, \"DC\": 680.7, \"ISI\": 8.5, \"temp\": 23.9, \"RH\": 32, \"wind\": 6.7, \"rain\": 0.0, \"area\": 5.33, \"log_area\": 1.673351238177753, \"season\": \"fall\"}, {\"X\": 3, \"Y\": 4, \"month\": \"sep\", \"day\": \"fri\", \"FFMC\": 92.1, \"DMC\": 99.0, \"DC\": 745.3, \"ISI\": 9.6, \"temp\": 17.4, \"RH\": 57, \"wind\": 4.5, \"rain\": 0.0, \"area\": 0.0, \"log_area\": null, \"season\": \"fall\"}, {\"X\": 5, \"Y\": 4, \"month\": \"jul\", \"day\": \"wed\", \"FFMC\": 93.7, \"DMC\": 101.3, \"DC\": 458.8, \"ISI\": 11.9, \"temp\": 19.3, \"RH\": 39, \"wind\": 7.2, \"rain\": 0.0, \"area\": 7.73, \"log_area\": 2.0451088625993306, \"season\": \"summer\"}, {\"X\": 3, \"Y\": 4, \"month\": \"aug\", \"day\": \"sun\", \"FFMC\": 91.4, \"DMC\": 142.4, \"DC\": 601.4, \"ISI\": 10.6, \"temp\": 19.8, \"RH\": 39, \"wind\": 5.4, \"rain\": 0.0, \"area\": 0.0, \"log_area\": null, \"season\": \"summer\"}, {\"X\": 4, \"Y\": 3, \"month\": \"sep\", \"day\": \"fri\", \"FFMC\": 92.5, \"DMC\": 122.0, \"DC\": 789.7, \"ISI\": 10.2, \"temp\": 17.3, \"RH\": 45, \"wind\": 4.0, \"rain\": 0.0, \"area\": 3.94, \"log_area\": 1.3711807233098425, \"season\": \"fall\"}, {\"X\": 3, \"Y\": 5, \"month\": \"aug\", \"day\": \"sat\", \"FFMC\": 93.5, \"DMC\": 139.4, \"DC\": 594.2, \"ISI\": 20.3, \"temp\": 17.6, \"RH\": 52, \"wind\": 5.8, \"rain\": 0.0, \"area\": 0.0, \"log_area\": null, \"season\": \"summer\"}, {\"X\": 6, \"Y\": 5, \"month\": \"apr\", \"day\": \"thu\", \"FFMC\": 81.5, \"DMC\": 9.1, \"DC\": 55.2, \"ISI\": 2.7, \"temp\": 5.8, \"RH\": 54, \"wind\": 5.8, \"rain\": 0.0, \"area\": 4.61, \"log_area\": 1.5282278570085572, \"season\": \"spring\"}, {\"X\": 5, \"Y\": 5, \"month\": \"aug\", \"day\": \"sun\", \"FFMC\": 94.0, \"DMC\": 47.9, \"DC\": 100.7, \"ISI\": 10.7, \"temp\": 17.3, \"RH\": 80, \"wind\": 4.5, \"rain\": 0.0, \"area\": 0.0, \"log_area\": null, \"season\": \"summer\"}, {\"X\": 8, \"Y\": 6, \"month\": \"aug\", \"day\": \"tue\", \"FFMC\": 96.1, \"DMC\": 181.1, \"DC\": 671.2, \"ISI\": 14.3, \"temp\": 21.6, \"RH\": 65, \"wind\": 4.9, \"rain\": 0.8, \"area\": 0.0, \"log_area\": null, \"season\": \"summer\"}, {\"X\": 1, \"Y\": 2, \"month\": \"aug\", \"day\": \"thu\", \"FFMC\": 91.7, \"DMC\": 114.3, \"DC\": 661.3, \"ISI\": 6.3, \"temp\": 20.2, \"RH\": 45, \"wind\": 3.6, \"rain\": 0.0, \"area\": 0.0, \"log_area\": null, \"season\": \"summer\"}, {\"X\": 2, \"Y\": 4, \"month\": \"aug\", \"day\": \"sun\", \"FFMC\": 81.6, \"DMC\": 56.7, \"DC\": 665.6, \"ISI\": 1.9, \"temp\": 21.9, \"RH\": 71, \"wind\": 5.8, \"rain\": 0.0, \"area\": 54.29, \"log_area\": 3.9943400479173596, \"season\": \"summer\"}, {\"X\": 4, \"Y\": 4, \"month\": \"mar\", \"day\": \"tue\", \"FFMC\": 88.1, \"DMC\": 25.7, \"DC\": 67.6, \"ISI\": 3.8, \"temp\": 14.1, \"RH\": 43, \"wind\": 2.7, \"rain\": 0.0, \"area\": 0.0, \"log_area\": null, \"season\": \"spring\"}, {\"X\": 2, \"Y\": 5, \"month\": \"sep\", \"day\": \"mon\", \"FFMC\": 91.6, \"DMC\": 108.4, \"DC\": 764.0, \"ISI\": 6.2, \"temp\": 19.3, \"RH\": 44, \"wind\": 2.2, \"rain\": 0.0, \"area\": 3.93, \"log_area\": 1.3686394258811698, \"season\": \"fall\"}, {\"X\": 7, \"Y\": 4, \"month\": \"oct\", \"day\": \"sat\", \"FFMC\": 90.6, \"DMC\": 43.7, \"DC\": 686.9, \"ISI\": 6.7, \"temp\": 14.6, \"RH\": 33, \"wind\": 1.3, \"rain\": 0.0, \"area\": 0.0, \"log_area\": null, \"season\": \"fall\"}, {\"X\": 1, \"Y\": 4, \"month\": \"aug\", \"day\": \"fri\", \"FFMC\": 90.5, \"DMC\": 196.8, \"DC\": 649.9, \"ISI\": 16.3, \"temp\": 11.8, \"RH\": 88, \"wind\": 4.9, \"rain\": 0.0, \"area\": 9.71, \"log_area\": 2.2731562823032334, \"season\": \"summer\"}, {\"X\": 6, \"Y\": 3, \"month\": \"sep\", \"day\": \"sun\", \"FFMC\": 92.4, \"DMC\": 105.8, \"DC\": 758.1, \"ISI\": 9.9, \"temp\": 24.8, \"RH\": 28, \"wind\": 1.8, \"rain\": 0.0, \"area\": 14.29, \"log_area\": 2.659559991941776, \"season\": \"fall\"}, {\"X\": 1, \"Y\": 4, \"month\": \"sep\", \"day\": \"sun\", \"FFMC\": 89.6, \"DMC\": 84.1, \"DC\": 714.3, \"ISI\": 5.7, \"temp\": 19.0, \"RH\": 52, \"wind\": 2.2, \"rain\": 0.0, \"area\": 0.0, \"log_area\": null, \"season\": \"fall\"}, {\"X\": 2, \"Y\": 2, \"month\": \"sep\", \"day\": \"fri\", \"FFMC\": 92.4, \"DMC\": 117.9, \"DC\": 668.0, \"ISI\": 12.2, \"temp\": 19.6, \"RH\": 33, \"wind\": 6.3, \"rain\": 0.0, \"area\": 0.0, \"log_area\": null, \"season\": \"fall\"}, {\"X\": 6, \"Y\": 5, \"month\": \"sep\", \"day\": \"fri\", \"FFMC\": 92.4, \"DMC\": 117.9, \"DC\": 668.0, \"ISI\": 12.2, \"temp\": 19.6, \"RH\": 33, \"wind\": 6.3, \"rain\": 0.0, \"area\": 19.23, \"log_area\": 2.9564715596006885, \"season\": \"fall\"}, {\"X\": 2, \"Y\": 4, \"month\": \"aug\", \"day\": \"wed\", \"FFMC\": 94.5, \"DMC\": 139.4, \"DC\": 689.1, \"ISI\": 20.0, \"temp\": 29.2, \"RH\": 30, \"wind\": 4.9, \"rain\": 0.0, \"area\": 1.95, \"log_area\": 0.6678293725756554, \"season\": \"summer\"}, {\"X\": 8, \"Y\": 8, \"month\": \"aug\", \"day\": \"wed\", \"FFMC\": 91.7, \"DMC\": 191.4, \"DC\": 635.9, \"ISI\": 7.8, \"temp\": 26.2, \"RH\": 36, \"wind\": 4.5, \"rain\": 0.0, \"area\": 185.76, \"log_area\": 5.224455517949582, \"season\": \"summer\"}, {\"X\": 7, \"Y\": 4, \"month\": \"aug\", \"day\": \"thu\", \"FFMC\": 91.9, \"DMC\": 109.2, \"DC\": 565.5, \"ISI\": 8.0, \"temp\": 21.4, \"RH\": 38, \"wind\": 2.7, \"rain\": 0.0, \"area\": 1.52, \"log_area\": 0.41871033485818504, \"season\": \"summer\"}, {\"X\": 2, \"Y\": 3, \"month\": \"sep\", \"day\": \"mon\", \"FFMC\": 91.6, \"DMC\": 108.4, \"DC\": 764.0, \"ISI\": 6.2, \"temp\": 18.0, \"RH\": 51, \"wind\": 5.4, \"rain\": 0.0, \"area\": 0.0, \"log_area\": null, \"season\": \"fall\"}, {\"X\": 2, \"Y\": 4, \"month\": \"sep\", \"day\": \"mon\", \"FFMC\": 91.6, \"DMC\": 108.4, \"DC\": 764.0, \"ISI\": 6.2, \"temp\": 20.4, \"RH\": 41, \"wind\": 1.8, \"rain\": 0.0, \"area\": 1.47, \"log_area\": 0.3852624007906449, \"season\": \"fall\"}, {\"X\": 1, \"Y\": 4, \"month\": \"jul\", \"day\": \"tue\", \"FFMC\": 92.3, \"DMC\": 96.2, \"DC\": 450.2, \"ISI\": 12.1, \"temp\": 23.4, \"RH\": 31, \"wind\": 5.4, \"rain\": 0.0, \"area\": 0.0, \"log_area\": null, \"season\": \"summer\"}, {\"X\": 3, \"Y\": 4, \"month\": \"mar\", \"day\": \"fri\", \"FFMC\": 91.7, \"DMC\": 33.3, \"DC\": 77.5, \"ISI\": 9.0, \"temp\": 18.8, \"RH\": 18, \"wind\": 4.5, \"rain\": 0.0, \"area\": 0.0, \"log_area\": null, \"season\": \"spring\"}, {\"X\": 7, \"Y\": 4, \"month\": \"sep\", \"day\": \"wed\", \"FFMC\": 90.1, \"DMC\": 82.9, \"DC\": 735.7, \"ISI\": 6.2, \"temp\": 15.4, \"RH\": 57, \"wind\": 4.5, \"rain\": 0.0, \"area\": 37.71, \"log_area\": 3.6299253112702656, \"season\": \"fall\"}, {\"X\": 7, \"Y\": 4, \"month\": \"sep\", \"day\": \"thu\", \"FFMC\": 89.7, \"DMC\": 287.2, \"DC\": 849.3, \"ISI\": 6.8, \"temp\": 19.4, \"RH\": 45, \"wind\": 3.6, \"rain\": 0.0, \"area\": 0.0, \"log_area\": null, \"season\": \"fall\"}, {\"X\": 6, \"Y\": 3, \"month\": \"sep\", \"day\": \"fri\", \"FFMC\": 88.6, \"DMC\": 69.7, \"DC\": 706.8, \"ISI\": 5.8, \"temp\": 20.6, \"RH\": 37, \"wind\": 1.8, \"rain\": 0.0, \"area\": 0.0, \"log_area\": null, \"season\": \"fall\"}, {\"X\": 5, \"Y\": 4, \"month\": \"aug\", \"day\": \"tue\", \"FFMC\": 88.8, \"DMC\": 147.3, \"DC\": 614.5, \"ISI\": 9.0, \"temp\": 17.3, \"RH\": 43, \"wind\": 4.5, \"rain\": 0.0, \"area\": 0.0, \"log_area\": null, \"season\": \"summer\"}, {\"X\": 6, \"Y\": 6, \"month\": \"jul\", \"day\": \"mon\", \"FFMC\": 94.2, \"DMC\": 62.3, \"DC\": 442.9, \"ISI\": 11.0, \"temp\": 23.0, \"RH\": 36, \"wind\": 3.1, \"rain\": 0.0, \"area\": 0.0, \"log_area\": null, \"season\": \"summer\"}, {\"X\": 3, \"Y\": 5, \"month\": \"mar\", \"day\": \"mon\", \"FFMC\": 87.6, \"DMC\": 52.2, \"DC\": 103.8, \"ISI\": 5.0, \"temp\": 9.0, \"RH\": 49, \"wind\": 2.2, \"rain\": 0.0, \"area\": 0.0, \"log_area\": null, \"season\": \"spring\"}, {\"X\": 3, \"Y\": 4, \"month\": \"sep\", \"day\": \"mon\", \"FFMC\": 91.8, \"DMC\": 78.5, \"DC\": 724.3, \"ISI\": 9.2, \"temp\": 18.9, \"RH\": 35, \"wind\": 2.7, \"rain\": 0.0, \"area\": 0.0, \"log_area\": null, \"season\": \"fall\"}, {\"X\": 3, \"Y\": 4, \"month\": \"feb\", \"day\": \"sat\", \"FFMC\": 83.9, \"DMC\": 8.0, \"DC\": 30.2, \"ISI\": 2.6, \"temp\": 12.7, \"RH\": 48, \"wind\": 1.8, \"rain\": 0.0, \"area\": 0.0, \"log_area\": null, \"season\": \"winter\"}, {\"X\": 4, \"Y\": 4, \"month\": \"sep\", \"day\": \"sun\", \"FFMC\": 93.5, \"DMC\": 149.3, \"DC\": 728.6, \"ISI\": 8.1, \"temp\": 22.9, \"RH\": 39, \"wind\": 4.9, \"rain\": 0.0, \"area\": 48.55, \"log_area\": 3.882594194737334, \"season\": \"fall\"}, {\"X\": 4, \"Y\": 4, \"month\": \"mar\", \"day\": \"sat\", \"FFMC\": 91.7, \"DMC\": 35.8, \"DC\": 80.8, \"ISI\": 7.8, \"temp\": 17.0, \"RH\": 27, \"wind\": 4.9, \"rain\": 0.0, \"area\": 28.66, \"log_area\": 3.3555024224000256, \"season\": \"spring\"}, {\"X\": 4, \"Y\": 3, \"month\": \"oct\", \"day\": \"sun\", \"FFMC\": 92.6, \"DMC\": 46.5, \"DC\": 691.8, \"ISI\": 8.8, \"temp\": 13.8, \"RH\": 50, \"wind\": 2.7, \"rain\": 0.0, \"area\": 0.0, \"log_area\": null, \"season\": \"fall\"}, {\"X\": 3, \"Y\": 4, \"month\": \"sep\", \"day\": \"tue\", \"FFMC\": 84.4, \"DMC\": 73.4, \"DC\": 671.9, \"ISI\": 3.2, \"temp\": 17.9, \"RH\": 45, \"wind\": 3.1, \"rain\": 0.0, \"area\": 0.0, \"log_area\": null, \"season\": \"fall\"}, {\"X\": 4, \"Y\": 5, \"month\": \"mar\", \"day\": \"thu\", \"FFMC\": 91.4, \"DMC\": 30.7, \"DC\": 74.3, \"ISI\": 7.5, \"temp\": 18.2, \"RH\": 29, \"wind\": 3.1, \"rain\": 0.0, \"area\": 0.0, \"log_area\": null, \"season\": \"spring\"}, {\"X\": 1, \"Y\": 2, \"month\": \"aug\", \"day\": \"wed\", \"FFMC\": 92.1, \"DMC\": 111.2, \"DC\": 654.1, \"ISI\": 9.6, \"temp\": 16.6, \"RH\": 47, \"wind\": 0.9, \"rain\": 0.0, \"area\": 0.0, \"log_area\": null, \"season\": \"summer\"}, {\"X\": 8, \"Y\": 5, \"month\": \"oct\", \"day\": \"mon\", \"FFMC\": 84.9, \"DMC\": 32.8, \"DC\": 664.2, \"ISI\": 3.0, \"temp\": 16.7, \"RH\": 47, \"wind\": 4.9, \"rain\": 0.0, \"area\": 0.0, \"log_area\": null, \"season\": \"fall\"}, {\"X\": 4, \"Y\": 4, \"month\": \"sep\", \"day\": \"wed\", \"FFMC\": 92.9, \"DMC\": 133.3, \"DC\": 699.6, \"ISI\": 9.2, \"temp\": 26.4, \"RH\": 21, \"wind\": 4.5, \"rain\": 0.0, \"area\": 88.49, \"log_area\": 4.482889551279259, \"season\": \"fall\"}, {\"X\": 3, \"Y\": 4, \"month\": \"aug\", \"day\": \"sun\", \"FFMC\": 91.4, \"DMC\": 142.4, \"DC\": 601.4, \"ISI\": 10.6, \"temp\": 11.6, \"RH\": 87, \"wind\": 4.5, \"rain\": 0.0, \"area\": 0.0, \"log_area\": null, \"season\": \"summer\"}, {\"X\": 6, \"Y\": 5, \"month\": \"sep\", \"day\": \"thu\", \"FFMC\": 92.8, \"DMC\": 119.0, \"DC\": 783.5, \"ISI\": 7.5, \"temp\": 16.8, \"RH\": 28, \"wind\": 4.0, \"rain\": 0.0, \"area\": 1.01, \"log_area\": 0.009950330853168092, \"season\": \"fall\"}, {\"X\": 8, \"Y\": 6, \"month\": \"aug\", \"day\": \"wed\", \"FFMC\": 95.2, \"DMC\": 217.7, \"DC\": 690.0, \"ISI\": 18.0, \"temp\": 28.2, \"RH\": 29, \"wind\": 1.8, \"rain\": 0.0, \"area\": 5.86, \"log_area\": 1.7681496035889213, \"season\": \"summer\"}, {\"X\": 6, \"Y\": 5, \"month\": \"sep\", \"day\": \"tue\", \"FFMC\": 91.9, \"DMC\": 111.7, \"DC\": 770.3, \"ISI\": 6.5, \"temp\": 19.6, \"RH\": 45, \"wind\": 3.1, \"rain\": 0.0, \"area\": 20.03, \"log_area\": 2.997231149677727, \"season\": \"fall\"}, {\"X\": 6, \"Y\": 5, \"month\": \"aug\", \"day\": \"fri\", \"FFMC\": 91.0, \"DMC\": 166.9, \"DC\": 752.6, \"ISI\": 7.1, \"temp\": 18.2, \"RH\": 62, \"wind\": 5.4, \"rain\": 0.0, \"area\": 0.43, \"log_area\": -0.843970070294529, \"season\": \"summer\"}]}}, {\"mode\": \"vega-lite\"});\n",
       "</script>"
      ],
      "text/plain": [
       "alt.RepeatChart(...)"
      ]
     },
     "execution_count": 26,
     "metadata": {},
     "output_type": "execute_result"
    }
   ],
   "source": [
    "alt.Chart(train_set).mark_circle().encode(\n",
    "    x = alt.X(alt.repeat(\"row\"), type = \"quantitative\"),\n",
    "    y = alt.Y(alt.repeat(\"column\"), type = \"quantitative\"),\n",
    "    color = \"season\"\n",
    ").properties(\n",
    "    width = 110,\n",
    "    height = 110\n",
    ").repeat(\n",
    "    column = [\"FFMC\", \"DMC\", \"DC\", \"ISI\", \"temp\", \"RH\", \"wind\", \"rain\"],\n",
    "    row = [\"FFMC\", \"DMC\", \"DC\", \"ISI\", \"temp\", \"RH\", \"wind\", \"rain\"]\n",
    ").configure_mark(\n",
    "    opacity = 0.4\n",
    ").interactive()\n"
   ]
  },
  {
   "cell_type": "code",
   "execution_count": 31,
   "id": "373a2605",
   "metadata": {},
   "outputs": [
    {
     "data": {
      "application/vnd.plotly.v1+json": {
       "config": {
        "plotlyServerURL": "https://plot.ly"
       },
       "data": [
        {
         "hovertemplate": "Variables=%{y}<br>Absolute Correlation=%{marker.size}<br>Correlation=%{marker.color}<extra></extra>",
         "legendgroup": "",
         "marker": {
          "color": [
           0,
           0.5230173174256535,
           0.25754668477237236,
           0.7760409370486243,
           0.6130436222608857,
           -0.3309598153739892,
           -0.049078857436050664,
           0.12179442421220076,
           0.058036899672987,
           0.5230173174256535,
           0,
           0.5664078296684737,
           0.4298827309518926,
           0.5359738279175987,
           0.017811911520780987,
           -0.12101832148933012,
           0.12104658104913393,
           0.08235939772620247,
           0.25754668477237236,
           0.5664078296684737,
           0,
           0.09494291589590623,
           0.31672837400486,
           0.04163111288262561,
           -0.2317833500814268,
           0.023027825591571224,
           0.07454125584775967,
           0.7760409370486243,
           0.4298827309518926,
           0.09494291589590623,
           0,
           0.4264358073583467,
           -0.19088285740780964,
           0.11326213416230724,
           0.12275505860199981,
           0.05109864967700077,
           0.6130436222608857,
           0.5359738279175987,
           0.31672837400486,
           0.4264358073583467,
           0,
           -0.4961524832897509,
           -0.16437962376189025,
           0.054984968307756364,
           0.09162735086085716,
           -0.3309598153739892,
           0.017811911520780987,
           0.04163111288262561,
           -0.19088285740780964,
           -0.4961524832897509,
           0,
           0.01183208102274358,
           0.1827810478273311,
           -0.05082643365776,
           -0.049078857436050664,
           -0.12101832148933012,
           -0.2317833500814268,
           0.11326213416230724,
           -0.16437962376189025,
           0.01183208102274358,
           0,
           0.11001229602309776,
           0.05217958833559864,
           0.12179442421220076,
           0.12104658104913393,
           0.023027825591571224,
           0.12275505860199981,
           0.054984968307756364,
           0.1827810478273311,
           0.11001229602309776,
           0,
           -0.05811943996974246,
           0.058036899672987,
           0.08235939772620247,
           0.07454125584775967,
           0.05109864967700077,
           0.09162735086085716,
           -0.05082643365776,
           0.05217958833559864,
           -0.05811943996974246,
           0
          ],
          "coloraxis": "coloraxis",
          "size": [
           0,
           0.5230173174256535,
           0.25754668477237236,
           0.7760409370486243,
           0.6130436222608857,
           0.3309598153739892,
           0.049078857436050664,
           0.12179442421220076,
           0.058036899672987,
           0.5230173174256535,
           0,
           0.5664078296684737,
           0.4298827309518926,
           0.5359738279175987,
           0.017811911520780987,
           0.12101832148933012,
           0.12104658104913393,
           0.08235939772620247,
           0.25754668477237236,
           0.5664078296684737,
           0,
           0.09494291589590623,
           0.31672837400486,
           0.04163111288262561,
           0.2317833500814268,
           0.023027825591571224,
           0.07454125584775967,
           0.7760409370486243,
           0.4298827309518926,
           0.09494291589590623,
           0,
           0.4264358073583467,
           0.19088285740780964,
           0.11326213416230724,
           0.12275505860199981,
           0.05109864967700077,
           0.6130436222608857,
           0.5359738279175987,
           0.31672837400486,
           0.4264358073583467,
           0,
           0.4961524832897509,
           0.16437962376189025,
           0.054984968307756364,
           0.09162735086085716,
           0.3309598153739892,
           0.017811911520780987,
           0.04163111288262561,
           0.19088285740780964,
           0.4961524832897509,
           0,
           0.01183208102274358,
           0.1827810478273311,
           0.05082643365776,
           0.049078857436050664,
           0.12101832148933012,
           0.2317833500814268,
           0.11326213416230724,
           0.16437962376189025,
           0.01183208102274358,
           0,
           0.11001229602309776,
           0.05217958833559864,
           0.12179442421220076,
           0.12104658104913393,
           0.023027825591571224,
           0.12275505860199981,
           0.054984968307756364,
           0.1827810478273311,
           0.11001229602309776,
           0,
           0.05811943996974246,
           0.058036899672987,
           0.08235939772620247,
           0.07454125584775967,
           0.05109864967700077,
           0.09162735086085716,
           0.05082643365776,
           0.05217958833559864,
           0.05811943996974246,
           0
          ],
          "sizemode": "area",
          "sizeref": 0.0019401023426215609,
          "symbol": "circle"
         },
         "mode": "markers",
         "name": "",
         "orientation": "v",
         "showlegend": false,
         "type": "scatter",
         "x": [
          "FFMC",
          "FFMC",
          "FFMC",
          "FFMC",
          "FFMC",
          "FFMC",
          "FFMC",
          "FFMC",
          "FFMC",
          "DMC",
          "DMC",
          "DMC",
          "DMC",
          "DMC",
          "DMC",
          "DMC",
          "DMC",
          "DMC",
          "DC",
          "DC",
          "DC",
          "DC",
          "DC",
          "DC",
          "DC",
          "DC",
          "DC",
          "ISI",
          "ISI",
          "ISI",
          "ISI",
          "ISI",
          "ISI",
          "ISI",
          "ISI",
          "ISI",
          "temp",
          "temp",
          "temp",
          "temp",
          "temp",
          "temp",
          "temp",
          "temp",
          "temp",
          "RH",
          "RH",
          "RH",
          "RH",
          "RH",
          "RH",
          "RH",
          "RH",
          "RH",
          "wind",
          "wind",
          "wind",
          "wind",
          "wind",
          "wind",
          "wind",
          "wind",
          "wind",
          "rain",
          "rain",
          "rain",
          "rain",
          "rain",
          "rain",
          "rain",
          "rain",
          "rain",
          "area",
          "area",
          "area",
          "area",
          "area",
          "area",
          "area",
          "area",
          "area"
         ],
         "xaxis": "x",
         "y": [
          "FFMC",
          "DMC",
          "DC",
          "ISI",
          "temp",
          "RH",
          "wind",
          "rain",
          "area",
          "FFMC",
          "DMC",
          "DC",
          "ISI",
          "temp",
          "RH",
          "wind",
          "rain",
          "area",
          "FFMC",
          "DMC",
          "DC",
          "ISI",
          "temp",
          "RH",
          "wind",
          "rain",
          "area",
          "FFMC",
          "DMC",
          "DC",
          "ISI",
          "temp",
          "RH",
          "wind",
          "rain",
          "area",
          "FFMC",
          "DMC",
          "DC",
          "ISI",
          "temp",
          "RH",
          "wind",
          "rain",
          "area",
          "FFMC",
          "DMC",
          "DC",
          "ISI",
          "temp",
          "RH",
          "wind",
          "rain",
          "area",
          "FFMC",
          "DMC",
          "DC",
          "ISI",
          "temp",
          "RH",
          "wind",
          "rain",
          "area",
          "FFMC",
          "DMC",
          "DC",
          "ISI",
          "temp",
          "RH",
          "wind",
          "rain",
          "area",
          "FFMC",
          "DMC",
          "DC",
          "ISI",
          "temp",
          "RH",
          "wind",
          "rain",
          "area"
         ],
         "yaxis": "y"
        }
       ],
       "layout": {
        "coloraxis": {
         "cmax": 1,
         "cmin": -1,
         "colorbar": {
          "title": {
           "text": "Correlation"
          }
         },
         "colorscale": [
          [
           0,
           "rgb(103,0,31)"
          ],
          [
           0.1,
           "rgb(178,24,43)"
          ],
          [
           0.2,
           "rgb(214,96,77)"
          ],
          [
           0.3,
           "rgb(244,165,130)"
          ],
          [
           0.4,
           "rgb(253,219,199)"
          ],
          [
           0.5,
           "rgb(247,247,247)"
          ],
          [
           0.6,
           "rgb(209,229,240)"
          ],
          [
           0.7,
           "rgb(146,197,222)"
          ],
          [
           0.8,
           "rgb(67,147,195)"
          ],
          [
           0.9,
           "rgb(33,102,172)"
          ],
          [
           1,
           "rgb(5,48,97)"
          ]
         ]
        },
        "height": 500,
        "legend": {
         "itemsizing": "constant",
         "title": {
          "text": "Absolute Correlation"
         },
         "tracegroupgap": 0
        },
        "template": {
         "data": {
          "bar": [
           {
            "error_x": {
             "color": "#2a3f5f"
            },
            "error_y": {
             "color": "#2a3f5f"
            },
            "marker": {
             "line": {
              "color": "white",
              "width": 0.5
             },
             "pattern": {
              "fillmode": "overlay",
              "size": 10,
              "solidity": 0.2
             }
            },
            "type": "bar"
           }
          ],
          "barpolar": [
           {
            "marker": {
             "line": {
              "color": "white",
              "width": 0.5
             },
             "pattern": {
              "fillmode": "overlay",
              "size": 10,
              "solidity": 0.2
             }
            },
            "type": "barpolar"
           }
          ],
          "carpet": [
           {
            "aaxis": {
             "endlinecolor": "#2a3f5f",
             "gridcolor": "#C8D4E3",
             "linecolor": "#C8D4E3",
             "minorgridcolor": "#C8D4E3",
             "startlinecolor": "#2a3f5f"
            },
            "baxis": {
             "endlinecolor": "#2a3f5f",
             "gridcolor": "#C8D4E3",
             "linecolor": "#C8D4E3",
             "minorgridcolor": "#C8D4E3",
             "startlinecolor": "#2a3f5f"
            },
            "type": "carpet"
           }
          ],
          "choropleth": [
           {
            "colorbar": {
             "outlinewidth": 0,
             "ticks": ""
            },
            "type": "choropleth"
           }
          ],
          "contour": [
           {
            "colorbar": {
             "outlinewidth": 0,
             "ticks": ""
            },
            "colorscale": [
             [
              0,
              "#0d0887"
             ],
             [
              0.1111111111111111,
              "#46039f"
             ],
             [
              0.2222222222222222,
              "#7201a8"
             ],
             [
              0.3333333333333333,
              "#9c179e"
             ],
             [
              0.4444444444444444,
              "#bd3786"
             ],
             [
              0.5555555555555556,
              "#d8576b"
             ],
             [
              0.6666666666666666,
              "#ed7953"
             ],
             [
              0.7777777777777778,
              "#fb9f3a"
             ],
             [
              0.8888888888888888,
              "#fdca26"
             ],
             [
              1,
              "#f0f921"
             ]
            ],
            "type": "contour"
           }
          ],
          "contourcarpet": [
           {
            "colorbar": {
             "outlinewidth": 0,
             "ticks": ""
            },
            "type": "contourcarpet"
           }
          ],
          "heatmap": [
           {
            "colorbar": {
             "outlinewidth": 0,
             "ticks": ""
            },
            "colorscale": [
             [
              0,
              "#0d0887"
             ],
             [
              0.1111111111111111,
              "#46039f"
             ],
             [
              0.2222222222222222,
              "#7201a8"
             ],
             [
              0.3333333333333333,
              "#9c179e"
             ],
             [
              0.4444444444444444,
              "#bd3786"
             ],
             [
              0.5555555555555556,
              "#d8576b"
             ],
             [
              0.6666666666666666,
              "#ed7953"
             ],
             [
              0.7777777777777778,
              "#fb9f3a"
             ],
             [
              0.8888888888888888,
              "#fdca26"
             ],
             [
              1,
              "#f0f921"
             ]
            ],
            "type": "heatmap"
           }
          ],
          "heatmapgl": [
           {
            "colorbar": {
             "outlinewidth": 0,
             "ticks": ""
            },
            "colorscale": [
             [
              0,
              "#0d0887"
             ],
             [
              0.1111111111111111,
              "#46039f"
             ],
             [
              0.2222222222222222,
              "#7201a8"
             ],
             [
              0.3333333333333333,
              "#9c179e"
             ],
             [
              0.4444444444444444,
              "#bd3786"
             ],
             [
              0.5555555555555556,
              "#d8576b"
             ],
             [
              0.6666666666666666,
              "#ed7953"
             ],
             [
              0.7777777777777778,
              "#fb9f3a"
             ],
             [
              0.8888888888888888,
              "#fdca26"
             ],
             [
              1,
              "#f0f921"
             ]
            ],
            "type": "heatmapgl"
           }
          ],
          "histogram": [
           {
            "marker": {
             "pattern": {
              "fillmode": "overlay",
              "size": 10,
              "solidity": 0.2
             }
            },
            "type": "histogram"
           }
          ],
          "histogram2d": [
           {
            "colorbar": {
             "outlinewidth": 0,
             "ticks": ""
            },
            "colorscale": [
             [
              0,
              "#0d0887"
             ],
             [
              0.1111111111111111,
              "#46039f"
             ],
             [
              0.2222222222222222,
              "#7201a8"
             ],
             [
              0.3333333333333333,
              "#9c179e"
             ],
             [
              0.4444444444444444,
              "#bd3786"
             ],
             [
              0.5555555555555556,
              "#d8576b"
             ],
             [
              0.6666666666666666,
              "#ed7953"
             ],
             [
              0.7777777777777778,
              "#fb9f3a"
             ],
             [
              0.8888888888888888,
              "#fdca26"
             ],
             [
              1,
              "#f0f921"
             ]
            ],
            "type": "histogram2d"
           }
          ],
          "histogram2dcontour": [
           {
            "colorbar": {
             "outlinewidth": 0,
             "ticks": ""
            },
            "colorscale": [
             [
              0,
              "#0d0887"
             ],
             [
              0.1111111111111111,
              "#46039f"
             ],
             [
              0.2222222222222222,
              "#7201a8"
             ],
             [
              0.3333333333333333,
              "#9c179e"
             ],
             [
              0.4444444444444444,
              "#bd3786"
             ],
             [
              0.5555555555555556,
              "#d8576b"
             ],
             [
              0.6666666666666666,
              "#ed7953"
             ],
             [
              0.7777777777777778,
              "#fb9f3a"
             ],
             [
              0.8888888888888888,
              "#fdca26"
             ],
             [
              1,
              "#f0f921"
             ]
            ],
            "type": "histogram2dcontour"
           }
          ],
          "mesh3d": [
           {
            "colorbar": {
             "outlinewidth": 0,
             "ticks": ""
            },
            "type": "mesh3d"
           }
          ],
          "parcoords": [
           {
            "line": {
             "colorbar": {
              "outlinewidth": 0,
              "ticks": ""
             }
            },
            "type": "parcoords"
           }
          ],
          "pie": [
           {
            "automargin": true,
            "type": "pie"
           }
          ],
          "scatter": [
           {
            "fillpattern": {
             "fillmode": "overlay",
             "size": 10,
             "solidity": 0.2
            },
            "type": "scatter"
           }
          ],
          "scatter3d": [
           {
            "line": {
             "colorbar": {
              "outlinewidth": 0,
              "ticks": ""
             }
            },
            "marker": {
             "colorbar": {
              "outlinewidth": 0,
              "ticks": ""
             }
            },
            "type": "scatter3d"
           }
          ],
          "scattercarpet": [
           {
            "marker": {
             "colorbar": {
              "outlinewidth": 0,
              "ticks": ""
             }
            },
            "type": "scattercarpet"
           }
          ],
          "scattergeo": [
           {
            "marker": {
             "colorbar": {
              "outlinewidth": 0,
              "ticks": ""
             }
            },
            "type": "scattergeo"
           }
          ],
          "scattergl": [
           {
            "marker": {
             "colorbar": {
              "outlinewidth": 0,
              "ticks": ""
             }
            },
            "type": "scattergl"
           }
          ],
          "scattermapbox": [
           {
            "marker": {
             "colorbar": {
              "outlinewidth": 0,
              "ticks": ""
             }
            },
            "type": "scattermapbox"
           }
          ],
          "scatterpolar": [
           {
            "marker": {
             "colorbar": {
              "outlinewidth": 0,
              "ticks": ""
             }
            },
            "type": "scatterpolar"
           }
          ],
          "scatterpolargl": [
           {
            "marker": {
             "colorbar": {
              "outlinewidth": 0,
              "ticks": ""
             }
            },
            "type": "scatterpolargl"
           }
          ],
          "scatterternary": [
           {
            "marker": {
             "colorbar": {
              "outlinewidth": 0,
              "ticks": ""
             }
            },
            "type": "scatterternary"
           }
          ],
          "surface": [
           {
            "colorbar": {
             "outlinewidth": 0,
             "ticks": ""
            },
            "colorscale": [
             [
              0,
              "#0d0887"
             ],
             [
              0.1111111111111111,
              "#46039f"
             ],
             [
              0.2222222222222222,
              "#7201a8"
             ],
             [
              0.3333333333333333,
              "#9c179e"
             ],
             [
              0.4444444444444444,
              "#bd3786"
             ],
             [
              0.5555555555555556,
              "#d8576b"
             ],
             [
              0.6666666666666666,
              "#ed7953"
             ],
             [
              0.7777777777777778,
              "#fb9f3a"
             ],
             [
              0.8888888888888888,
              "#fdca26"
             ],
             [
              1,
              "#f0f921"
             ]
            ],
            "type": "surface"
           }
          ],
          "table": [
           {
            "cells": {
             "fill": {
              "color": "#EBF0F8"
             },
             "line": {
              "color": "white"
             }
            },
            "header": {
             "fill": {
              "color": "#C8D4E3"
             },
             "line": {
              "color": "white"
             }
            },
            "type": "table"
           }
          ]
         },
         "layout": {
          "annotationdefaults": {
           "arrowcolor": "#2a3f5f",
           "arrowhead": 0,
           "arrowwidth": 1
          },
          "autotypenumbers": "strict",
          "coloraxis": {
           "colorbar": {
            "outlinewidth": 0,
            "ticks": ""
           }
          },
          "colorscale": {
           "diverging": [
            [
             0,
             "#8e0152"
            ],
            [
             0.1,
             "#c51b7d"
            ],
            [
             0.2,
             "#de77ae"
            ],
            [
             0.3,
             "#f1b6da"
            ],
            [
             0.4,
             "#fde0ef"
            ],
            [
             0.5,
             "#f7f7f7"
            ],
            [
             0.6,
             "#e6f5d0"
            ],
            [
             0.7,
             "#b8e186"
            ],
            [
             0.8,
             "#7fbc41"
            ],
            [
             0.9,
             "#4d9221"
            ],
            [
             1,
             "#276419"
            ]
           ],
           "sequential": [
            [
             0,
             "#0d0887"
            ],
            [
             0.1111111111111111,
             "#46039f"
            ],
            [
             0.2222222222222222,
             "#7201a8"
            ],
            [
             0.3333333333333333,
             "#9c179e"
            ],
            [
             0.4444444444444444,
             "#bd3786"
            ],
            [
             0.5555555555555556,
             "#d8576b"
            ],
            [
             0.6666666666666666,
             "#ed7953"
            ],
            [
             0.7777777777777778,
             "#fb9f3a"
            ],
            [
             0.8888888888888888,
             "#fdca26"
            ],
            [
             1,
             "#f0f921"
            ]
           ],
           "sequentialminus": [
            [
             0,
             "#0d0887"
            ],
            [
             0.1111111111111111,
             "#46039f"
            ],
            [
             0.2222222222222222,
             "#7201a8"
            ],
            [
             0.3333333333333333,
             "#9c179e"
            ],
            [
             0.4444444444444444,
             "#bd3786"
            ],
            [
             0.5555555555555556,
             "#d8576b"
            ],
            [
             0.6666666666666666,
             "#ed7953"
            ],
            [
             0.7777777777777778,
             "#fb9f3a"
            ],
            [
             0.8888888888888888,
             "#fdca26"
            ],
            [
             1,
             "#f0f921"
            ]
           ]
          },
          "colorway": [
           "#636efa",
           "#EF553B",
           "#00cc96",
           "#ab63fa",
           "#FFA15A",
           "#19d3f3",
           "#FF6692",
           "#B6E880",
           "#FF97FF",
           "#FECB52"
          ],
          "font": {
           "color": "#2a3f5f"
          },
          "geo": {
           "bgcolor": "white",
           "lakecolor": "white",
           "landcolor": "white",
           "showlakes": true,
           "showland": true,
           "subunitcolor": "#C8D4E3"
          },
          "hoverlabel": {
           "align": "left"
          },
          "hovermode": "closest",
          "mapbox": {
           "style": "light"
          },
          "paper_bgcolor": "white",
          "plot_bgcolor": "white",
          "polar": {
           "angularaxis": {
            "gridcolor": "#EBF0F8",
            "linecolor": "#EBF0F8",
            "ticks": ""
           },
           "bgcolor": "white",
           "radialaxis": {
            "gridcolor": "#EBF0F8",
            "linecolor": "#EBF0F8",
            "ticks": ""
           }
          },
          "scene": {
           "xaxis": {
            "backgroundcolor": "white",
            "gridcolor": "#DFE8F3",
            "gridwidth": 2,
            "linecolor": "#EBF0F8",
            "showbackground": true,
            "ticks": "",
            "zerolinecolor": "#EBF0F8"
           },
           "yaxis": {
            "backgroundcolor": "white",
            "gridcolor": "#DFE8F3",
            "gridwidth": 2,
            "linecolor": "#EBF0F8",
            "showbackground": true,
            "ticks": "",
            "zerolinecolor": "#EBF0F8"
           },
           "zaxis": {
            "backgroundcolor": "white",
            "gridcolor": "#DFE8F3",
            "gridwidth": 2,
            "linecolor": "#EBF0F8",
            "showbackground": true,
            "ticks": "",
            "zerolinecolor": "#EBF0F8"
           }
          },
          "shapedefaults": {
           "line": {
            "color": "#2a3f5f"
           }
          },
          "ternary": {
           "aaxis": {
            "gridcolor": "#DFE8F3",
            "linecolor": "#A2B1C6",
            "ticks": ""
           },
           "baxis": {
            "gridcolor": "#DFE8F3",
            "linecolor": "#A2B1C6",
            "ticks": ""
           },
           "bgcolor": "white",
           "caxis": {
            "gridcolor": "#DFE8F3",
            "linecolor": "#A2B1C6",
            "ticks": ""
           }
          },
          "title": {
           "x": 0.05
          },
          "xaxis": {
           "automargin": true,
           "gridcolor": "#EBF0F8",
           "linecolor": "#EBF0F8",
           "ticks": "",
           "title": {
            "standoff": 15
           },
           "zerolinecolor": "#EBF0F8",
           "zerolinewidth": 2
          },
          "yaxis": {
           "automargin": true,
           "gridcolor": "#EBF0F8",
           "linecolor": "#EBF0F8",
           "ticks": "",
           "title": {
            "standoff": 15
           },
           "zerolinecolor": "#EBF0F8",
           "zerolinewidth": 2
          }
         }
        },
        "title": {
         "text": "Correlation Matrix"
        },
        "width": 700,
        "xaxis": {
         "anchor": "y",
         "domain": [
          0,
          1
         ],
         "title": {
          "text": "Variables"
         }
        },
        "yaxis": {
         "anchor": "x",
         "domain": [
          0,
          1
         ],
         "title": {
          "text": "Variables"
         }
        }
       }
      }
     },
     "metadata": {},
     "output_type": "display_data"
    }
   ],
   "source": [
    "train_df_numeric = train_set.drop([\"X\", \"Y\", \"month\", \"day\", \"season\", \"Burn Category\", \"sqrt_area\", \"log_area\"], axis=1)\n",
    "\n",
    "corr_df = train_df_numeric.corr(\"spearman\").stack().reset_index(name=\"corr\")\n",
    "corr_df.loc[corr_df[\"corr\"] == 1, \"corr\"] = 0  \n",
    "corr_df[\"abs\"] = corr_df[\"corr\"].abs()\n",
    "\n",
    "fig = px.scatter(\n",
    "    corr_df,\n",
    "    x=\"level_0\",\n",
    "    y=\"level_1\",\n",
    "    size=\"abs\",  \n",
    "    color=\"corr\",  \n",
    "    color_continuous_scale=\"RdBu\", \n",
    "    range_color=(-1, 1),  \n",
    "    labels={\n",
    "        \"level_0\": \"Variables\",\n",
    "        \"level_1\": \"Variables\",\n",
    "        \"corr\": \"Correlation\",\n",
    "        \"abs\": \"Absolute Correlation\"\n",
    "    },\n",
    "    title=\"Correlation Matrix\",\n",
    ")\n",
    "\n",
    "fig.update_layout(\n",
    "    width=700,\n",
    "    height=500,\n",
    "    legend_title=\"Absolute Correlation\",\n",
    "    xaxis_title=\"Variables\",\n",
    "    yaxis_title=\"Variables\",\n",
    "    template=\"plotly_white\"\n",
    ")\n",
    "\n",
    "fig.show()\n"
   ]
  }
 ],
 "metadata": {
  "kernelspec": {
   "display_name": "Python 3 (ipykernel)",
   "language": "python",
   "name": "python3"
  },
  "language_info": {
   "codemirror_mode": {
    "name": "ipython",
    "version": 3
   },
   "file_extension": ".py",
   "mimetype": "text/x-python",
   "name": "python",
   "nbconvert_exporter": "python",
   "pygments_lexer": "ipython3",
   "version": "3.11.7"
  }
 },
 "nbformat": 4,
 "nbformat_minor": 5
}
